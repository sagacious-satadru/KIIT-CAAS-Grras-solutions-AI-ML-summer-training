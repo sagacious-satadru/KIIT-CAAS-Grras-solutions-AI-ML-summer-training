{
 "cells": [
  {
   "cell_type": "code",
   "execution_count": 1,
   "id": "38a5f09c",
   "metadata": {},
   "outputs": [
    {
     "name": "stdout",
     "output_type": "stream",
     "text": [
      "Hello World!\n"
     ]
    }
   ],
   "source": [
    "print(\"Hello World!\")"
   ]
  },
  {
   "cell_type": "markdown",
   "id": "67ee76a8",
   "metadata": {},
   "source": [
    "    python >= 3.6"
   ]
  },
  {
   "cell_type": "markdown",
   "id": "66265260",
   "metadata": {},
   "source": [
    "# I/O Operations\n",
    "\n",
    "    a program is set instruction to complete a task \n",
    "    \n",
    "    in sample language statements we generate desired output give by specific output"
   ]
  },
  {
   "cell_type": "markdown",
   "id": "379442c0",
   "metadata": {},
   "source": [
    "    IP -> [logic] -> OUTPUT"
   ]
  },
  {
   "cell_type": "markdown",
   "id": "dcec3c8a",
   "metadata": {},
   "source": [
    "    13 -> even odd program -> odd number\n",
    "\n",
    "    12 -> even odd program -> even number"
   ]
  },
  {
   "cell_type": "markdown",
   "id": "7417fe67",
   "metadata": {},
   "source": [
    "    function -> a predefine program to do a specif task "
   ]
  },
  {
   "cell_type": "code",
   "execution_count": 2,
   "id": "79e291f3",
   "metadata": {},
   "outputs": [
    {
     "ename": "ModuleNotFoundError",
     "evalue": "No module named 'sachin'",
     "output_type": "error",
     "traceback": [
      "\u001b[1;31m---------------------------------------------------------------------------\u001b[0m",
      "\u001b[1;31mModuleNotFoundError\u001b[0m                       Traceback (most recent call last)",
      "\u001b[1;32m<ipython-input-2-2ad2de0e338d>\u001b[0m in \u001b[0;36m<module>\u001b[1;34m\u001b[0m\n\u001b[1;32m----> 1\u001b[1;33m \u001b[1;32mimport\u001b[0m \u001b[0msachin\u001b[0m\u001b[1;33m\u001b[0m\u001b[1;33m\u001b[0m\u001b[0m\n\u001b[0m",
      "\u001b[1;31mModuleNotFoundError\u001b[0m: No module named 'sachin'"
     ]
    }
   ],
   "source": [
    "import sachin"
   ]
  },
  {
   "cell_type": "code",
   "execution_count": 5,
   "id": "6e507034",
   "metadata": {},
   "outputs": [
    {
     "name": "stdout",
     "output_type": "stream",
     "text": [
      "11\n"
     ]
    }
   ],
   "source": [
    "ans = 5 + 6\n",
    "print(ans)"
   ]
  },
  {
   "cell_type": "code",
   "execution_count": 4,
   "id": "d594e3fe",
   "metadata": {},
   "outputs": [
    {
     "name": "stdout",
     "output_type": "stream",
     "text": [
      "56\n"
     ]
    }
   ],
   "source": [
    "ans = \"5\" + \"6\"\n",
    "# concatenation / merge\n",
    "print(ans)"
   ]
  },
  {
   "cell_type": "code",
   "execution_count": 3,
   "id": "bc5a7185",
   "metadata": {},
   "outputs": [
    {
     "ename": "TypeError",
     "evalue": "unsupported operand type(s) for +: 'int' and 'str'",
     "output_type": "error",
     "traceback": [
      "\u001b[1;31m---------------------------------------------------------------------------\u001b[0m",
      "\u001b[1;31mTypeError\u001b[0m                                 Traceback (most recent call last)",
      "\u001b[1;32m<ipython-input-3-3e38fac8a3c2>\u001b[0m in \u001b[0;36m<module>\u001b[1;34m\u001b[0m\n\u001b[1;32m----> 1\u001b[1;33m \u001b[1;36m4\u001b[0m \u001b[1;33m+\u001b[0m \u001b[1;34m\"5\"\u001b[0m\u001b[1;33m\u001b[0m\u001b[1;33m\u001b[0m\u001b[0m\n\u001b[0m",
      "\u001b[1;31mTypeError\u001b[0m: unsupported operand type(s) for +: 'int' and 'str'"
     ]
    }
   ],
   "source": [
    "4 + \"5\""
   ]
  },
  {
   "cell_type": "code",
   "execution_count": 1,
   "id": "31cca8f9",
   "metadata": {},
   "outputs": [
    {
     "name": "stdout",
     "output_type": "stream",
     "text": [
      "['ArithmeticError', 'AssertionError', 'AttributeError', 'BaseException', 'BlockingIOError', 'BrokenPipeError', 'BufferError', 'BytesWarning', 'ChildProcessError', 'ConnectionAbortedError', 'ConnectionError', 'ConnectionRefusedError', 'ConnectionResetError', 'DeprecationWarning', 'EOFError', 'Ellipsis', 'EnvironmentError', 'Exception', 'False', 'FileExistsError', 'FileNotFoundError', 'FloatingPointError', 'FutureWarning', 'GeneratorExit', 'IOError', 'ImportError', 'ImportWarning', 'IndentationError', 'IndexError', 'InterruptedError', 'IsADirectoryError', 'KeyError', 'KeyboardInterrupt', 'LookupError', 'MemoryError', 'ModuleNotFoundError', 'NameError', 'None', 'NotADirectoryError', 'NotImplemented', 'NotImplementedError', 'OSError', 'OverflowError', 'PendingDeprecationWarning', 'PermissionError', 'ProcessLookupError', 'RecursionError', 'ReferenceError', 'ResourceWarning', 'RuntimeError', 'RuntimeWarning', 'StopAsyncIteration', 'StopIteration', 'SyntaxError', 'SyntaxWarning', 'SystemError', 'SystemExit', 'TabError', 'TimeoutError', 'True', 'TypeError', 'UnboundLocalError', 'UnicodeDecodeError', 'UnicodeEncodeError', 'UnicodeError', 'UnicodeTranslateError', 'UnicodeWarning', 'UserWarning', 'ValueError', 'Warning', 'WindowsError', 'ZeroDivisionError', '__IPYTHON__', '__build_class__', '__debug__', '__doc__', '__import__', '__loader__', '__name__', '__package__', '__spec__', 'abs', 'all', 'any', 'ascii', 'bin', 'bool', 'breakpoint', 'bytearray', 'bytes', 'callable', 'chr', 'classmethod', 'compile', 'complex', 'copyright', 'credits', 'delattr', 'dict', 'dir', 'display', 'divmod', 'enumerate', 'eval', 'exec', 'filter', 'float', 'format', 'frozenset', 'get_ipython', 'getattr', 'globals', 'hasattr', 'hash', 'help', 'hex', 'id', 'input', 'int', 'isinstance', 'issubclass', 'iter', 'len', 'license', 'list', 'locals', 'map', 'max', 'memoryview', 'min', 'next', 'object', 'oct', 'open', 'ord', 'pow', 'print', 'property', 'range', 'repr', 'reversed', 'round', 'set', 'setattr', 'slice', 'sorted', 'staticmethod', 'str', 'sum', 'super', 'tuple', 'type', 'vars', 'zip']\n"
     ]
    }
   ],
   "source": [
    "import builtins\n",
    "print(dir(builtins))"
   ]
  },
  {
   "cell_type": "code",
   "execution_count": 6,
   "id": "f955df6f",
   "metadata": {},
   "outputs": [
    {
     "name": "stdout",
     "output_type": "stream",
     "text": [
      "73\n"
     ]
    }
   ],
   "source": [
    "func = ['abs', 'all', 'any',\n",
    "        'ascii', 'bin', 'bool', \n",
    "        'breakpoint', 'bytearray', 'bytes', \n",
    "        'callable', 'chr', 'classmethod', 'compile',\n",
    "        'complex', 'copyright', 'credits', 'delattr', \n",
    "        'dict', 'dir', 'display', 'divmod', 'enumerate',\n",
    "        'eval', 'exec', 'filter', 'float', 'format',\n",
    "        'frozenset', 'get_ipython', 'getattr', 'globals', \n",
    "        'hasattr', 'hash', 'help', 'hex', 'id', 'input',\n",
    "        'int', 'isinstance', 'issubclass', 'iter', 'len',\n",
    "        'license', 'list', 'locals', 'map', 'max', 'memoryview',\n",
    "        'min', 'next', 'object', 'oct', 'open', 'ord',\n",
    "        'pow', 'print', 'property', 'range', 'repr',\n",
    "        'reversed', 'round', 'set', 'setattr', \n",
    "        'slice', 'sorted', 'staticmethod', 'str',\n",
    "        'sum', 'super', 'tuple', 'type', 'vars', 'zip'\n",
    "       ]\n",
    "print(len(func))"
   ]
  },
  {
   "cell_type": "markdown",
   "id": "1ceb83ad",
   "metadata": {},
   "source": [
    "            return a value\n",
    "    func \n",
    "            return None"
   ]
  },
  {
   "cell_type": "code",
   "execution_count": 7,
   "id": "03fa40b6",
   "metadata": {},
   "outputs": [
    {
     "name": "stdout",
     "output_type": "stream",
     "text": [
      "81\n"
     ]
    }
   ],
   "source": [
    "a = 3\n",
    "b = 4\n",
    "# a^b\n",
    "ans = pow(a, b) \n",
    "# argument / parameter -> input\n",
    "# returns a value in place of calling\n",
    "print(ans)"
   ]
  },
  {
   "cell_type": "code",
   "execution_count": 8,
   "id": "50b0ea6d",
   "metadata": {},
   "outputs": [
    {
     "name": "stdout",
     "output_type": "stream",
     "text": [
      "hello world!\n",
      "None\n"
     ]
    }
   ],
   "source": [
    "x = print(\"hello world!\")\n",
    "print(x)"
   ]
  },
  {
   "cell_type": "code",
   "execution_count": null,
   "id": "638bec01",
   "metadata": {},
   "outputs": [],
   "source": []
  },
  {
   "cell_type": "markdown",
   "id": "d6d94f99",
   "metadata": {},
   "source": [
    "### I/O"
   ]
  },
  {
   "cell_type": "code",
   "execution_count": 10,
   "id": "4fc816b5",
   "metadata": {},
   "outputs": [],
   "source": [
    "class A:\n",
    "    def __str__(self):\n",
    "        return 'ha ha ha do you get it ?'"
   ]
  },
  {
   "cell_type": "code",
   "execution_count": 11,
   "id": "24094d5c",
   "metadata": {},
   "outputs": [],
   "source": [
    "a = A()"
   ]
  },
  {
   "cell_type": "code",
   "execution_count": 12,
   "id": "33160232",
   "metadata": {},
   "outputs": [
    {
     "name": "stdout",
     "output_type": "stream",
     "text": [
      "ha ha ha do you get it ?\n"
     ]
    }
   ],
   "source": [
    "print(a) # a ? A.__str__(a)"
   ]
  },
  {
   "cell_type": "markdown",
   "id": "27ed224f",
   "metadata": {},
   "source": [
    "    printf(\"%d is %f\", (11, 11.00000001));"
   ]
  },
  {
   "cell_type": "markdown",
   "id": "276d4f66",
   "metadata": {},
   "source": [
    "    dir, builtin, function, return value, print "
   ]
  },
  {
   "cell_type": "markdown",
   "id": "58df0e44",
   "metadata": {},
   "source": [
    "          \\ -> special symbol -> escape\n",
    "          \n",
    "          \"n\" -> n\n",
    "          \n",
    "          \"\\n\" -> new line"
   ]
  },
  {
   "cell_type": "code",
   "execution_count": 25,
   "id": "130ac0e8",
   "metadata": {},
   "outputs": [
    {
     "name": "stdout",
     "output_type": "stream",
     "text": [
      "he said, \"she is beautiful.\"\n"
     ]
    }
   ],
   "source": [
    "s = \"he said, \\\"she is beautiful.\\\"\"\n",
    "\n",
    "print(s)"
   ]
  },
  {
   "cell_type": "markdown",
   "id": "9979c119",
   "metadata": {},
   "source": [
    "    encoding\n",
    "    \n",
    "        unicodes are more often\n",
    "        \n",
    "        ascii\n",
    "        \n",
    "        utf-8  character set"
   ]
  },
  {
   "cell_type": "code",
   "execution_count": 44,
   "id": "a1582753",
   "metadata": {},
   "outputs": [
    {
     "name": "stdout",
     "output_type": "stream",
     "text": [
      "☺\n"
     ]
    }
   ],
   "source": [
    "print(\"\\u263A\")"
   ]
  },
  {
   "cell_type": "code",
   "execution_count": 38,
   "id": "28016c2e",
   "metadata": {},
   "outputs": [
    {
     "name": "stdout",
     "output_type": "stream",
     "text": [
      "Í\n"
     ]
    }
   ],
   "source": [
    "print(\"\\u00CD\")"
   ]
  },
  {
   "cell_type": "code",
   "execution_count": 30,
   "id": "b4ef18aa",
   "metadata": {},
   "outputs": [
    {
     "name": "stdout",
     "output_type": "stream",
     "text": [
      "₹\n"
     ]
    }
   ],
   "source": [
    "print(\"\\u20B9\")"
   ]
  },
  {
   "cell_type": "markdown",
   "id": "5b1c0c42",
   "metadata": {},
   "source": [
    "    \\n -> new line\n",
    "    \\t -> indent / tab space\n",
    "    \\\" -> enclosed \" in a string\n",
    "    \\' -> enclsed ' in string\n",
    "    \\\\ -> enclosed \\ in string"
   ]
  },
  {
   "cell_type": "code",
   "execution_count": 29,
   "id": "268faba0",
   "metadata": {},
   "outputs": [
    {
     "name": "stdout",
     "output_type": "stream",
     "text": [
      "1\\2\\3\\4\n"
     ]
    }
   ],
   "source": [
    "print(1, 2, 3, 4, sep='\\\\')"
   ]
  },
  {
   "cell_type": "code",
   "execution_count": null,
   "id": "2a370fa7",
   "metadata": {},
   "outputs": [],
   "source": []
  },
  {
   "cell_type": "code",
   "execution_count": 22,
   "id": "257a4ca4",
   "metadata": {},
   "outputs": [],
   "source": [
    "s = \"\\u20B9\""
   ]
  },
  {
   "cell_type": "code",
   "execution_count": 23,
   "id": "51f5f7f9",
   "metadata": {},
   "outputs": [
    {
     "name": "stdout",
     "output_type": "stream",
     "text": [
      "₹\n"
     ]
    }
   ],
   "source": [
    "print(s)"
   ]
  },
  {
   "cell_type": "code",
   "execution_count": 21,
   "id": "01341c79",
   "metadata": {},
   "outputs": [
    {
     "name": "stdout",
     "output_type": "stream",
     "text": [
      "\\\n"
     ]
    }
   ],
   "source": [
    "s = \"\\\\\"\n",
    "print(s)"
   ]
  },
  {
   "cell_type": "code",
   "execution_count": 20,
   "id": "3f9a3ec8",
   "metadata": {},
   "outputs": [
    {
     "name": "stdout",
     "output_type": "stream",
     "text": [
      "\"\n"
     ]
    }
   ],
   "source": [
    "s = \"\\\"\"\n",
    "print(s)"
   ]
  },
  {
   "cell_type": "code",
   "execution_count": 18,
   "id": "666a6dba",
   "metadata": {},
   "outputs": [
    {
     "name": "stdout",
     "output_type": "stream",
     "text": [
      "Hello World!\n"
     ]
    }
   ],
   "source": [
    "print(\"Hello\", end=\" \") # \"Hello World!\"\n",
    "print(\"World!\") #"
   ]
  },
  {
   "cell_type": "code",
   "execution_count": 16,
   "id": "d351d0be",
   "metadata": {},
   "outputs": [
    {
     "name": "stdout",
     "output_type": "stream",
     "text": [
      "Hello\n",
      "World!\n"
     ]
    }
   ],
   "source": [
    "print(\"Hello\") # \"Hello\\n\"\n",
    "print(\"World!\") # \"World!\\n\""
   ]
  },
  {
   "cell_type": "code",
   "execution_count": 15,
   "id": "bdd1ad42",
   "metadata": {},
   "outputs": [
    {
     "name": "stdout",
     "output_type": "stream",
     "text": [
      "1\n",
      "2\n",
      "3\n",
      "4\n"
     ]
    }
   ],
   "source": [
    "print(1, 2, 3, 4, sep='\\n')\n",
    "# \"1\\n2\\n3\\n4\\n\""
   ]
  },
  {
   "cell_type": "code",
   "execution_count": 14,
   "id": "0b7b54c8",
   "metadata": {},
   "outputs": [
    {
     "name": "stdout",
     "output_type": "stream",
     "text": [
      "1 2 3 4\n"
     ]
    }
   ],
   "source": [
    "print(1, 2, 3, 4)\n",
    "# \"1 2 3 4\\n\" # sep=\" \", end=\"\\n\""
   ]
  },
  {
   "cell_type": "code",
   "execution_count": 13,
   "id": "fce59d06",
   "metadata": {},
   "outputs": [
    {
     "name": "stdout",
     "output_type": "stream",
     "text": [
      "Hello World!\n",
      "okay!\n"
     ]
    }
   ],
   "source": [
    "print(\"Hello\", \"World!\")\n",
    "# \"Hello \"\n",
    "print('okay!')"
   ]
  },
  {
   "cell_type": "code",
   "execution_count": 9,
   "id": "93e0bb1f",
   "metadata": {},
   "outputs": [
    {
     "name": "stdout",
     "output_type": "stream",
     "text": [
      "Hello World!\n",
      "1234\n",
      "okay i can print 1 2 3 4\n"
     ]
    }
   ],
   "source": [
    "print(\"Hello World!\")\n",
    "# \n",
    "print(1234) # print -? 1234 -> int.__str__(1234) -> \"1234\"\n",
    "\n",
    "print('okay', 'i can print', 1, 2, 3, 4)"
   ]
  },
  {
   "cell_type": "code",
   "execution_count": null,
   "id": "b79b0402",
   "metadata": {},
   "outputs": [],
   "source": []
  },
  {
   "cell_type": "markdown",
   "id": "43eba532",
   "metadata": {},
   "source": [
    "    input() -> string"
   ]
  },
  {
   "cell_type": "code",
   "execution_count": null,
   "id": "990057e0",
   "metadata": {},
   "outputs": [],
   "source": []
  },
  {
   "cell_type": "code",
   "execution_count": 2,
   "id": "7f9bcfe9",
   "metadata": {},
   "outputs": [
    {
     "name": "stdout",
     "output_type": "stream",
     "text": [
      "4\n",
      "5\n",
      "4 + 5 = 9\n"
     ]
    }
   ],
   "source": [
    "a = int(input())\n",
    "b = int(input())\n",
    "# shift + Enter\n",
    "print(f\"{a} + {b} = {a+b}\") # f-string\n",
    "# printf(\"%d + %d = %d\", (x, y, z)) string formatting"
   ]
  },
  {
   "cell_type": "code",
   "execution_count": 1,
   "id": "5d208dbe",
   "metadata": {},
   "outputs": [
    {
     "name": "stdout",
     "output_type": "stream",
     "text": [
      "enter your name: sk\n"
     ]
    }
   ],
   "source": [
    "name = input(\"enter your name: \")"
   ]
  },
  {
   "cell_type": "code",
   "execution_count": 2,
   "id": "30ff0185",
   "metadata": {},
   "outputs": [
    {
     "name": "stdout",
     "output_type": "stream",
     "text": [
      "4\n",
      "5\n",
      "4 + 5 = 9\n"
     ]
    }
   ],
   "source": [
    "a = int(input())\n",
    "b = int(input())\n",
    "# shift + Enter\n",
    "print(f\"{a} + {b} = {a+b}\") # f-string\n",
    "# printf(\"%d + %d = %d\", (x, y, z)) string formatting"
   ]
  },
  {
   "cell_type": "code",
   "execution_count": 50,
   "id": "588ba6be",
   "metadata": {},
   "outputs": [
    {
     "name": "stdout",
     "output_type": "stream",
     "text": [
      "10 + 20 = 30\n",
      "10 + 20 = 30\n",
      "10 + 20 = 30\n"
     ]
    }
   ],
   "source": [
    "x = 10\n",
    "y = 20\n",
    "r = x + y\n",
    "# string formatting\n",
    "print(\"%d + %d = %d\"%(x, y, r))\n",
    "# old school method\n",
    "print(\"{} + {} = {}\".format(x, y, r))\n",
    "# f-string python >= 3.6\n",
    "print(f\"{x} + {y} = {r}\")"
   ]
  },
  {
   "cell_type": "code",
   "execution_count": null,
   "id": "dbaffc3e",
   "metadata": {},
   "outputs": [],
   "source": []
  },
  {
   "cell_type": "markdown",
   "id": "ae32119b",
   "metadata": {},
   "source": [
    "    0x1200 -> utf-8 -> G"
   ]
  },
  {
   "cell_type": "markdown",
   "id": "7ac51454",
   "metadata": {},
   "source": [
    "    unicode\n",
    "    \n",
    "        code/ bytes ->   map dict (character sets / encodings)  -> character\n",
    "        \n",
    "        \n",
    "        ascii -> 0-9 a-z A-Z !!@#%^&*(\n",
    "        \n",
    "        utf-8 -> hindi, "
   ]
  },
  {
   "cell_type": "code",
   "execution_count": 55,
   "id": "f9a1b039",
   "metadata": {},
   "outputs": [
    {
     "data": {
      "text/plain": [
       "'ठ'"
      ]
     },
     "execution_count": 55,
     "metadata": {},
     "output_type": "execute_result"
    }
   ],
   "source": [
    "chr(2336)"
   ]
  },
  {
   "cell_type": "code",
   "execution_count": null,
   "id": "b005937f",
   "metadata": {},
   "outputs": [],
   "source": []
  },
  {
   "cell_type": "code",
   "execution_count": 52,
   "id": "1c5425b0",
   "metadata": {},
   "outputs": [
    {
     "name": "stdout",
     "output_type": "stream",
     "text": [
      "enter your name: rajat\n",
      "enter your age: 34\n",
      "Hello rajat, you are 34 years old.\n"
     ]
    }
   ],
   "source": [
    "name = input(\"enter your name: \")\n",
    "age = int(input(\"enter your age: \"))\n",
    "\n",
    "message = f\"Hello {name}, you are {age} years old.\"\n",
    "# f-string\n",
    "print(message)"
   ]
  },
  {
   "cell_type": "markdown",
   "id": "35a54c0a",
   "metadata": {},
   "source": [
    "#### Class, Object\n",
    "\n",
    "#### OOPs"
   ]
  },
  {
   "cell_type": "code",
   "execution_count": null,
   "id": "e65b85ea",
   "metadata": {},
   "outputs": [],
   "source": []
  }
 ],
 "metadata": {
  "kernelspec": {
   "display_name": "Python 3 (ipykernel)",
   "language": "python",
   "name": "python3"
  },
  "language_info": {
   "codemirror_mode": {
    "name": "ipython",
    "version": 3
   },
   "file_extension": ".py",
   "mimetype": "text/x-python",
   "name": "python",
   "nbconvert_exporter": "python",
   "pygments_lexer": "ipython3",
   "version": "3.9.12"
  }
 },
 "nbformat": 4,
 "nbformat_minor": 5
}

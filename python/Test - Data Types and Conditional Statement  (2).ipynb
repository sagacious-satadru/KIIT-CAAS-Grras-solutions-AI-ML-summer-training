{
 "cells": [
  {
   "cell_type": "code",
   "execution_count": null,
   "id": "1bfc3f5c",
   "metadata": {},
   "outputs": [],
   "source": [
    "### Ques 1 : Do right circulation (rotation) on two element in list without using any function or loop\n",
    "#### lst = [1,2,3,4,5,6,7,8]\n",
    "#### output : [7,8,1,2,3,4,5,6]"
   ]
  },
  {
   "cell_type": "code",
   "execution_count": 2,
   "id": "a37d0a8b",
   "metadata": {},
   "outputs": [],
   "source": [
    "# Ans 1:\n",
    "lst = [1,2,3,4,5,6,7,8]\n",
    "\n",
    "lit1 = lst[6:]\n",
    "lit2 = lst[:6]\n",
    "\n",
    "new_lst = lit1+lit2\n",
    "print(new_lst)\n",
    "\n"
   ]
  },
  {
   "cell_type": "code",
   "execution_count": null,
   "id": "09240f95",
   "metadata": {},
   "outputs": [],
   "source": [
    "### Ques:2\n",
    "dic = {'id': 'tt0169102',\n",
    " 'title': 'Lagaan: Once Upon a Time in India\\xa0',\n",
    " 'year': '2001',\n",
    " 'length': '3h 44min',\n",
    " 'rating': '8.1',\n",
    " 'rating_votes': '97014',\n",
    " 'poster': 'https://m.media-amazon.com/images/M/MV5BNDYxNWUzZmYtOGQxMC00MTdkLTkxOTctYzkyOGIwNWQxZjhmXkEyXkFqcGdeQXVyNjU0OTQ0OTY@.jpg',\n",
    " 'plot': 'The people of a small village in Victorian India stake their future on a game of cricket against their ruthless British rulers.',\n",
    " 'trailer': {'id': 'vi1486160153',\n",
    "  'link': 'https://www.imdb.com/videoplayer/vi1486160153'},\n",
    " 'cast': [{'actor': 'Aamir Khan',\n",
    "   'actor_id': 'nm0451148',\n",
    "   'character': 'Bhuvan'},\n",
    "  {'actor': 'Gracy Singh', 'actor_id': 'nm0961737', 'character': 'Gauri'},\n",
    "  {'actor': 'Rachel Shelley',\n",
    "   'actor_id': 'nm0791226',\n",
    "   'character': 'Elizabeth Russell'},\n",
    "  {'actor': 'Paul Blackthorne',\n",
    "   'actor_id': 'nm0085860',\n",
    "   'character': 'Captain Andrew Russell'},\n",
    "  {'actor': 'Suhasini Mulay',\n",
    "   'actor_id': 'nm0611663',\n",
    "   'character': 'Yashodamai'},\n",
    "  {'actor': 'Kulbhushan Kharbanda',\n",
    "   'actor_id': 'nm0451425',\n",
    "   'character': 'Rajah Puran Singh'},\n",
    "  {'actor': 'Raghuvir Yadav', 'actor_id': 'nm0944834', 'character': 'Bhura'},\n",
    "  {'actor': 'Rajendra Gupta', 'actor_id': 'nm0348490', 'character': 'Mukhiya'},\n",
    "  {'actor': 'Rajesh Vivek', 'actor_id': 'nm0900267', 'character': 'Guran'},\n",
    "  {'actor': 'Shri Vallabh Vyas',\n",
    "   'actor_id': 'nm0904503',\n",
    "   'character': 'Ishwar'},\n",
    "  {'actor': 'Javed Khan', 'actor_id': 'nm0451242', 'character': 'Ram Singh'},\n",
    "  {'actor': 'Raj Zutshi', 'actor_id': 'nm0958861', 'character': 'Ismail'},\n",
    "  {'actor': 'Akhilendra Mishra',\n",
    "   'actor_id': 'nm0592782',\n",
    "   'character': 'Arjan'},\n",
    "  {'actor': 'Daya Shankar Pandey',\n",
    "   'actor_id': 'nm1004804',\n",
    "   'character': 'Goli'},\n",
    "  {'actor': 'Yashpal Sharma', 'actor_id': 'nm1004985', 'character': 'Lakha'}],\n",
    " 'technical_specs': [['Runtime', '3 hr 44 min (224 min)'],\n",
    "  ['Sound Mix', 'DTS | Dolby Digital'],\n",
    "  ['Color', 'Color'],\n",
    "  ['Aspect Ratio', '2.35 : 1'],\n",
    "  ['Camera', 'Arriflex 535, Arriscope Lenses'],\n",
    "  ['Laboratory', 'Rainbow Colour Lab, Ramoj Film City, India'],\n",
    "  ['Film Length', '6,132 m (Germany)'],\n",
    "  ['Negative Format', '35 mm (Kodak)'],\n",
    "  ['Cinematographic Process', 'Arriscope (anamorphic)'],\n",
    "  ['Printed Film Format', '35 mm']]}\n",
    "\n",
    "\n",
    "1. Store all actor's character name in a list.\n",
    "    Output :['Bhuvan','Gauri','Elizabeth Russell','Captain Andrew Russell','Yashodamai','Rajah Puran Singh','Bhura','Mukhiya','Guran','Ishwar','Ram Singh','Ismail','Arjan','Goli','Lakha'] "
   ]
  },
  {
   "cell_type": "code",
   "execution_count": null,
   "id": "688ff4a0",
   "metadata": {},
   "outputs": [],
   "source": [
    "b=[]\n",
    "for a in dic['cast']:\n",
    "  b.append(a.get('actor'))\n",
    "print(b)"
   ]
  },
  {
   "cell_type": "code",
   "execution_count": 46,
   "id": "0f83ebc8",
   "metadata": {},
   "outputs": [],
   "source": [
    "# que 3:\n",
    "data = {'suggestedFilters': {'header': 'Tap to show:',\n",
    "  'filters': [{'name': 'Open now', 'key': 'openNow'}]},\n",
    " 'warning': {'text': 'There aren\\'t a lot of results for \"coffee.\" Try something more general, reset your filters, or expand the search area.'},\n",
    " 'suggestedRadius': 5080,\n",
    " 'headerLocation': 'Jaipur',\n",
    " 'headerFullLocation': 'Jaipur',\n",
    " 'headerLocationGranularity': 'city',\n",
    " 'query': 'coffee',\n",
    " 'totalResults': 44,\n",
    " 'suggestedBounds': {'ne': {'lat': 26.916257025565272,\n",
    "   'lng': 75.78949419248843},\n",
    "  'sw': {'lat': 26.90351824282866, 'lng': 75.80267041297915}},\n",
    " 'groups': [{'type': 'Recommended Places',\n",
    "   'name': 'recommended',\n",
    "   'items': [{'reasons': {'count': 0,\n",
    "      'items': [{'summary': 'This spot is popular',\n",
    "        'type': 'general',\n",
    "        'reasonName': 'globalInteractionReason'}]},\n",
    "     'venue': {'id': '50081e28e4b05eac5b27a1e9',\n",
    "      'name': 'NIBS- The Chocolate Workshop',\n",
    "      'contact': {},\n",
    "      'location': {'lat': 26.915677989986335,\n",
    "       'lng': 75.79504340769059,\n",
    "       'labeledLatLngs': [{'label': 'display',\n",
    "         'lat': 26.915677989986335,\n",
    "         'lng': 75.79504340769059}],\n",
    "       'distance': 850,\n",
    "       'cc': 'IN',\n",
    "       'country': 'India',\n",
    "       'formattedAddress': ['India']},\n",
    "      'categories': [{'id': '4bf58dd8d48988d16d941735',\n",
    "        'name': 'Café',\n",
    "        'pluralName': 'Cafés',\n",
    "        'shortName': 'Café',\n",
    "        'icon': {'prefix': 'https://ss3.4sqi.net/img/categories_v2/food/cafe_',\n",
    "         'suffix': '.png'},\n",
    "        'primary': True}],\n",
    "      'verified': False,\n",
    "      'stats': {'tipCount': 0,\n",
    "       'usersCount': 0,\n",
    "       'checkinsCount': 0,\n",
    "       'visitsCount': 0},\n",
    "      'beenHere': {'count': 0,\n",
    "       'lastCheckinExpiredAt': 0,\n",
    "       'marked': False,\n",
    "       'unconfirmedCount': 0},\n",
    "      'photos': {'count': 0, 'groups': []},\n",
    "      'hereNow': {'count': 0, 'summary': 'Nobody here', 'groups': []}},\n",
    "     'referralId': 'e-0-50081e28e4b05eac5b27a1e9-0'},\n",
    "    {'reasons': {'count': 0,\n",
    "      'items': [{'summary': 'This spot is popular',\n",
    "        'type': 'general',\n",
    "        'reasonName': 'globalInteractionReason'}]},\n",
    "     'venue': {'id': '5623621e498e8ec2b86fc810',\n",
    "      'name': 'Curious Life Coffee Roasters',\n",
    "      'contact': {},\n",
    "      'location': {'address': 'P 25, Yudhisthir Marg,',\n",
    "       'crossStreet': 'C Scheme',\n",
    "       'lat': 26.904097278407598,\n",
    "       'lng': 75.79712119777699,\n",
    "       'labeledLatLngs': [{'label': 'display',\n",
    "         'lat': 26.904097278407598,\n",
    "         'lng': 75.79712119777699}],\n",
    "       'distance': 1343,\n",
    "       'cc': 'IN',\n",
    "       'city': 'Jaipur',\n",
    "       'state': 'Rājasthān',\n",
    "       'country': 'India',\n",
    "       'formattedAddress': ['P 25, Yudhisthir Marg, (C Scheme)',\n",
    "        'Jaipur',\n",
    "        'Rājasthān',\n",
    "        'India']},\n",
    "      'categories': [{'id': '4bf58dd8d48988d16d941735',\n",
    "        'name': 'Café',\n",
    "        'pluralName': 'Cafés',\n",
    "        'shortName': 'Café',\n",
    "        'icon': {'prefix': 'https://ss3.4sqi.net/img/categories_v2/food/cafe_',\n",
    "         'suffix': '.png'},\n",
    "        'primary': True}],\n",
    "      'verified': False,\n",
    "      'stats': {'tipCount': 0,\n",
    "       'usersCount': 0,\n",
    "       'checkinsCount': 0,\n",
    "       'visitsCount': 0},\n",
    "      'beenHere': {'count': 0,\n",
    "       'lastCheckinExpiredAt': 0,\n",
    "       'marked': False,\n",
    "       'unconfirmedCount': 0},\n",
    "      'photos': {'count': 0, 'groups': []},\n",
    "      'hereNow': {'count': 0, 'summary': 'Nobody here', 'groups': []}},\n",
    "     'referralId': 'e-0-5623621e498e8ec2b86fc810-1'}]}]}\n",
    "\n",
    "1. find the string in above dictionary: \n",
    "                                        'This spot is popular'"
   ]
  },
  {
   "cell_type": "code",
   "execution_count": null,
   "id": "a4487cae",
   "metadata": {},
   "outputs": [],
   "source": []
  },
  {
   "cell_type": "code",
   "execution_count": null,
   "id": "cd4d8727",
   "metadata": {},
   "outputs": [],
   "source": [
    "# que 4:\n",
    "### Input: a string of comma separated numbers. The numbers 5 and 8 are present in the listAssume that 8 always comes after 5.\n",
    "### Case 1: num1 = add all numbers which do not lie between 5 and 8 in the input.\n",
    "### Case 2: num2= numbers formed by concatenating all numbers from 5 to 8.\n",
    "### Output: sum of num1 and num2\n",
    "\n",
    "### Example: 1) 3,2,6,5,1,4,8,9\n",
    "### Num2: 5148\n",
    "### output: 5248+20 = 5168\n",
    "# use below statement for comma seperated input\n",
    "    # inp_ = list(map(int, input().split(',')))"
   ]
  },
  {
   "cell_type": "code",
   "execution_count": null,
   "id": "fdc8206f",
   "metadata": {},
   "outputs": [],
   "source": []
  },
  {
   "cell_type": "code",
   "execution_count": null,
   "id": "18421166",
   "metadata": {},
   "outputs": [],
   "source": [
    "# que 5:\n",
    "# take single alphabet input from user and print that the alphabet is vowel or consonant\n",
    "# ex: input -> f\n",
    "# output : f is consonant"
   ]
  },
  {
   "cell_type": "code",
   "execution_count": null,
   "id": "b44ce46a",
   "metadata": {},
   "outputs": [],
   "source": [
    "ch = input(\"Enter a character: \")\n",
    "\n",
    "if(ch=='A' or ch=='a' or ch=='E' or ch =='e' or ch=='I'\n",
    " or ch=='i' or ch=='O' or ch=='o' or ch=='U' or ch=='u'):\n",
    "    print(ch, \"is a Vowel\")\n",
    "else:\n",
    "    print(ch, \"is a Consonant\")"
   ]
  },
  {
   "cell_type": "code",
   "execution_count": null,
   "id": "a38ffe24",
   "metadata": {},
   "outputs": [],
   "source": [
    "# que 6:\n",
    "# take single character input from user and print it is in upper case or lower case\n"
   ]
  },
  {
   "cell_type": "code",
   "execution_count": null,
   "id": "72740130",
   "metadata": {},
   "outputs": [],
   "source": [
    "def check(ch):\n",
    "    if (ch >= 'A' and ch <= 'Z'):\n",
    "        print(ch, \"is an UpperCase character\");\n",
    "\n",
    "    elif (ch >= 'a' and ch <= 'z'):\n",
    "        print(ch, \"is an LowerCase character\");\n",
    "    else:\n",
    "        print(ch, \"is not an aplhabetic character\");\n",
    "ch = 'A';\n",
    "check(ch);\n",
    "ch = 'a';\n",
    "check(ch);\n",
    "ch = '0';\n",
    "check(ch);"
   ]
  },
  {
   "cell_type": "code",
   "execution_count": null,
   "id": "b10a2aea",
   "metadata": {},
   "outputs": [],
   "source": [
    "# que 7:\n",
    "# write a program to find out that the entered string is alphabet, digit, alphanumeric, special character"
   ]
  },
  {
   "cell_type": "code",
   "execution_count": null,
   "id": "984bfc77",
   "metadata": {},
   "outputs": [],
   "source": [
    "def charCheck(input_char):\n",
    "    if ((int(ord(input_char)) >= 65 and\n",
    "         int(ord(input_char)) <= 90) or\n",
    "            (int(ord(input_char)) >= 97 and\n",
    "             int(ord(input_char)) <= 122)):\n",
    "        print(\" Alphabet \")\n",
    "    elif (int(ord(input_char)) >= 48 and\n",
    "          int(ord(input_char)) <= 57):\n",
    "        print(\" Digit \")\n",
    "    else:\n",
    "        print(\" Special Character \")\n",
    "input_char = '$'\n",
    "charCheck(input_char)"
   ]
  },
  {
   "cell_type": "code",
   "execution_count": null,
   "id": "4f9ea67b",
   "metadata": {},
   "outputs": [],
   "source": [
    "# que 8:\n",
    "# \"[1,2,3,4,5,6]\" convert this string into list data type"
   ]
  },
  {
   "cell_type": "code",
   "execution_count": null,
   "id": "21474417",
   "metadata": {},
   "outputs": [],
   "source": [
    "str=\"[1,2,3,4,5,6]\"\n",
    "li=list(str[1:12].split(\",\"))\n",
    "print(li);"
   ]
  },
  {
   "cell_type": "code",
   "execution_count": null,
   "id": "5267ceaa",
   "metadata": {},
   "outputs": [],
   "source": [
    "# que 9:\n",
    "# s = 'python is awesome'\n",
    "# output : 'awesome is python'\n"
   ]
  },
  {
   "cell_type": "code",
   "execution_count": null,
   "id": "fda86d6e",
   "metadata": {},
   "outputs": [],
   "source": [
    "string=\"python is awesome\"\n",
    "s=string.split()[::-1]\n",
    "\n",
    "l=[]\n",
    "for i in s :\n",
    "  l.append(i)\n",
    "print(\" \".join(l));\n",
    "\n"
   ]
  },
  {
   "cell_type": "code",
   "execution_count": null,
   "id": "b70c403c",
   "metadata": {},
   "outputs": [],
   "source": [
    "# que 10:\n",
    "# Write a program to check whether the last digit of a number( entered by user ) is divisible by 3 or not."
   ]
  },
  {
   "cell_type": "code",
   "execution_count": null,
   "id": "22209a6e",
   "metadata": {},
   "outputs": [],
   "source": [
    "num=input('Enter the number:- ')\n",
    "n=int(str(num)[-1:-2:-1])\n",
    "\n",
    "if n%3==0: \n",
    "    print('Divisible by 3')\n",
    "else: \n",
    "    print('Not Divisible by 3')"
   ]
  },
  {
   "cell_type": "code",
   "execution_count": null,
   "id": "f623a5a2",
   "metadata": {},
   "outputs": [],
   "source": [
    "# que 11:\n",
    "# Accept the age of 4 people and display the youngest one?"
   ]
  },
  {
   "cell_type": "code",
   "execution_count": null,
   "id": "ec240271",
   "metadata": {},
   "outputs": [],
   "source": [
    "a=input('Enter age of  a:')\n",
    "b=input('Enter age of b:')\n",
    "c=input('Enter age of  c:')\n",
    "d=input('Enter  age of d:')\n",
    "n=min([a,b,c,d])\n",
    "print(n)"
   ]
  },
  {
   "cell_type": "code",
   "execution_count": null,
   "id": "e2f8a22b",
   "metadata": {},
   "outputs": [],
   "source": [
    "# que 12: Accept the marked price from the user and  calculate the Net amount as(Marked Price –    Discount) to pay according to following criteria:\n",
    "\n",
    "# Marked Price          Discount\n",
    "# >10000                  20%\n",
    "# >7000 and <=10000       15%\n",
    "# <=7000                  10%"
   ]
  },
  {
   "cell_type": "code",
   "execution_count": null,
   "id": "456c6246",
   "metadata": {},
   "outputs": [],
   "source": [
    "val=int(input(\"Enter marked price:\"));\n",
    "if(val>10000):\n",
    "  price=val-val*0.02\n",
    "else:\n",
    "  if(val>7000 and val<=10000):\n",
    "    price=val-val*0.15\n",
    "  else:\n",
    "    price=val-val*0.10\n",
    "print(price) "
   ]
  },
  {
   "cell_type": "code",
   "execution_count": 52,
   "id": "078ade42",
   "metadata": {},
   "outputs": [],
   "source": [
    "# que 13:\n",
    "# Accept the number of days from the user and calculate the charge for library according to following :\n",
    "\n",
    "# Till five days : Rs 2/day.\n",
    "\n",
    "# Six to ten days  : Rs 3/day.\n",
    "\n",
    "# 11 to 15 days  : Rs 4/day\n",
    "\n",
    "# After 15 days    : Rs 5/day"
   ]
  },
  {
   "cell_type": "code",
   "execution_count": null,
   "id": "ba11881f",
   "metadata": {},
   "outputs": [],
   "source": [
    "num=int(input(\"Enter no of days\"))\n",
    "cost=0\n",
    "if(num<=5):\n",
    " cost=num*2\n",
    "elif(num<=10):\n",
    "    cost=5*2+(num-5)*3\n",
    "elif(num<=15):\n",
    "    cost=5*2+5*3+(num-10)*4\n",
    "elif(num>15):\n",
    "    cost = 5 * 2 + 5 * 3 + (num - 10) * 4\n",
    "    print(cost)"
   ]
  },
  {
   "cell_type": "code",
   "execution_count": null,
   "id": "e16f051f",
   "metadata": {},
   "outputs": [],
   "source": [
    "# que 14:\n",
    "# Ask user to enter age, sex ( M or F ), marital status ( Y or N ) and then using following rules print their place of service.\n",
    "# if employee is female, then she will work only in urban areas.\n",
    "\n",
    "# if employee is a male and age is in between 20 to 40 then he may work in anywhere\n",
    "\n",
    "# if employee is male and age is in between 40 t0 60 then he will work in urban areas only.\n",
    "\n",
    "# And any other input of age should print \"ERROR\".\n"
   ]
  },
  {
   "cell_type": "code",
   "execution_count": null,
   "id": "6e4d493e",
   "metadata": {},
   "outputs": [],
   "source": [
    "a=int(input('Enter age: '))\n",
    "s=input('Sex: ')\n",
    "m=input('Marital Status: ')\n",
    "\n",
    "if s.strip()=='F':\n",
    "    if a>=20 and a<=60: \n",
    "        print('will work in urban areas.')\n",
    "elif s.strip()=='M':  \n",
    "    if  a>=20 and a<40:\n",
    "        print('will work in anywhere.')\n",
    "    elif a>=40 and a<=60:\n",
    "        print('will work in urban areas.')\n",
    "else :\n",
    "    print('ERROR')"
   ]
  },
  {
   "cell_type": "code",
   "execution_count": null,
   "id": "792e11bc",
   "metadata": {},
   "outputs": [],
   "source": [
    "# que 15:\n",
    "# A 4 digit number is entered through keyboard. Write a program to print a new number with digits reversed as of orignal one. E.g.-\n",
    "# INPUT : 1234        OUTPUT : 4321\n",
    "# INPUT : 5982        OUTPUT : 2895\n"
   ]
  },
  {
   "cell_type": "code",
   "execution_count": null,
   "id": "6c97c495",
   "metadata": {},
   "outputs": [],
   "source": [
    "num = int(input())\n",
    "print(list(num)[::-1])"
   ]
  },
  {
   "cell_type": "code",
   "execution_count": null,
   "id": "cf1fd812",
   "metadata": {},
   "outputs": [],
   "source": []
  },
  {
   "cell_type": "code",
   "execution_count": null,
   "id": "4ad18566",
   "metadata": {},
   "outputs": [],
   "source": []
  },
  {
   "cell_type": "code",
   "execution_count": null,
   "id": "503ec4c7",
   "metadata": {},
   "outputs": [],
   "source": []
  }
 ],
 "metadata": {
  "kernelspec": {
   "display_name": "Python 3",
   "language": "python",
   "name": "python3"
  },
  "language_info": {
   "codemirror_mode": {
    "name": "ipython",
    "version": 3
   },
   "file_extension": ".py",
   "mimetype": "text/x-python",
   "name": "python",
   "nbconvert_exporter": "python",
   "pygments_lexer": "ipython3",
   "version": "3.8.8"
  }
 },
 "nbformat": 4,
 "nbformat_minor": 5
}

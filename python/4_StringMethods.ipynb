{
 "cells": [
  {
   "cell_type": "code",
   "execution_count": 1,
   "metadata": {
    "colab": {
     "base_uri": "https://localhost:8080/"
    },
    "id": "7ylq9id5W96o",
    "outputId": "7d9e4297-16bd-41ad-e90a-4920c80544bf"
   },
   "outputs": [
    {
     "name": "stdout",
     "output_type": "stream",
     "text": [
      "Hello world!\n"
     ]
    }
   ],
   "source": [
    "print(\"Hello world!\")"
   ]
  },
  {
   "cell_type": "code",
   "execution_count": 3,
   "metadata": {
    "colab": {
     "base_uri": "https://localhost:8080/"
    },
    "id": "ifmesckVXI4i",
    "outputId": "9b80e14a-bcaa-42fe-a271-ae0ae30ece18"
   },
   "outputs": [
    {
     "name": "stdout",
     "output_type": "stream",
     "text": [
      "['__add__',\n",
      " '__class__',\n",
      " '__contains__',\n",
      " '__delattr__',\n",
      " '__dir__',\n",
      " '__doc__',\n",
      " '__eq__',\n",
      " '__format__',\n",
      " '__ge__',\n",
      " '__getattribute__',\n",
      " '__getitem__',\n",
      " '__getnewargs__',\n",
      " '__gt__',\n",
      " '__hash__',\n",
      " '__init__',\n",
      " '__init_subclass__',\n",
      " '__iter__',\n",
      " '__le__',\n",
      " '__len__',\n",
      " '__lt__',\n",
      " '__mod__',\n",
      " '__mul__',\n",
      " '__ne__',\n",
      " '__new__',\n",
      " '__reduce__',\n",
      " '__reduce_ex__',\n",
      " '__repr__',\n",
      " '__rmod__',\n",
      " '__rmul__',\n",
      " '__setattr__',\n",
      " '__sizeof__',\n",
      " '__str__',\n",
      " '__subclasshook__',\n",
      " 'capitalize',\n",
      " 'casefold',\n",
      " 'center',\n",
      " 'count',\n",
      " 'encode',\n",
      " 'endswith',\n",
      " 'expandtabs',\n",
      " 'find',\n",
      " 'format',\n",
      " 'format_map',\n",
      " 'index',\n",
      " 'isalnum',\n",
      " 'isalpha',\n",
      " 'isascii',\n",
      " 'isdecimal',\n",
      " 'isdigit',\n",
      " 'isidentifier',\n",
      " 'islower',\n",
      " 'isnumeric',\n",
      " 'isprintable',\n",
      " 'isspace',\n",
      " 'istitle',\n",
      " 'isupper',\n",
      " 'join',\n",
      " 'ljust',\n",
      " 'lower',\n",
      " 'lstrip',\n",
      " 'maketrans',\n",
      " 'partition',\n",
      " 'replace',\n",
      " 'rfind',\n",
      " 'rindex',\n",
      " 'rjust',\n",
      " 'rpartition',\n",
      " 'rsplit',\n",
      " 'rstrip',\n",
      " 'split',\n",
      " 'splitlines',\n",
      " 'startswith',\n",
      " 'strip',\n",
      " 'swapcase',\n",
      " 'title',\n",
      " 'translate',\n",
      " 'upper',\n",
      " 'zfill']\n"
     ]
    }
   ],
   "source": [
    "### Methods of String\n",
    "from pprint import pprint \n",
    "pprint(dir(str)) # str"
   ]
  },
  {
   "cell_type": "code",
   "execution_count": 4,
   "metadata": {
    "id": "hO8CE2MMXBBb"
   },
   "outputs": [],
   "source": [
    "### Important Methods of String"
   ]
  },
  {
   "cell_type": "markdown",
   "metadata": {
    "id": "LQw2Os2WYnrn"
   },
   "source": []
  },
  {
   "cell_type": "markdown",
   "metadata": {
    "id": "Pkwy_bldYnqD"
   },
   "source": [
    "# strip \n",
    "\n",
    "          it is used to remove leading or traling whitespaces or any other character"
   ]
  },
  {
   "cell_type": "code",
   "execution_count": 6,
   "metadata": {
    "id": "f1fst8EJYT8g"
   },
   "outputs": [],
   "source": [
    "s = 'Hello World!'"
   ]
  },
  {
   "cell_type": "code",
   "execution_count": 8,
   "metadata": {
    "colab": {
     "base_uri": "https://localhost:8080/"
    },
    "id": "Y3vFK164YoWY",
    "outputId": "7eb53d83-b945-46f3-f20c-9fe2910be21a"
   },
   "outputs": [
    {
     "name": "stdout",
     "output_type": "stream",
     "text": [
      "hello world!\n",
      "Hello World!\n"
     ]
    }
   ],
   "source": [
    "n = s.lower() # immutable\n",
    "print(n)\n",
    "print(s)"
   ]
  },
  {
   "cell_type": "markdown",
   "metadata": {
    "id": "_8xBCQjKZSJW"
   },
   "source": [
    "by default strip removes white spaces\n",
    "\n",
    "               white space includes \" \", \"\\n\", \"\\t\" \"\\r\""
   ]
  },
  {
   "cell_type": "code",
   "execution_count": 9,
   "metadata": {
    "id": "vLWjM2OVY92w"
   },
   "outputs": [],
   "source": [
    "s = \"    \\n   \\t hello world!    \\t   \\n    \""
   ]
  },
  {
   "cell_type": "code",
   "execution_count": 14,
   "metadata": {
    "colab": {
     "base_uri": "https://localhost:8080/"
    },
    "id": "B1xBWNrjavjP",
    "outputId": "d161cf87-5251-42cf-a549-544bab9499eb"
   },
   "outputs": [
    {
     "name": "stdout",
     "output_type": "stream",
     "text": [
      "    \n",
      "   \t hello world!    \t   \n",
      "    \n",
      "'    \\n   \\t hello world!    \\t   \\n    '\n"
     ]
    }
   ],
   "source": [
    "print(s) # standard output # users to see\n",
    "# as it as raw string -> we are not going to consider special character special \n",
    "print(repr(s)) # repr"
   ]
  },
  {
   "cell_type": "code",
   "execution_count": 16,
   "metadata": {
    "id": "s7zO1FdcbgT4"
   },
   "outputs": [],
   "source": [
    "m = \"\"\"\n",
    "      hello world!\n",
    "\n",
    "ha ha ha ha!\n",
    "\n",
    "  so much fun \n",
    "  \n",
    "\"\"\""
   ]
  },
  {
   "cell_type": "code",
   "execution_count": 17,
   "metadata": {
    "colab": {
     "base_uri": "https://localhost:8080/"
    },
    "id": "VI6RmFc_bplx",
    "outputId": "e1816e82-8a8e-497a-af32-80985e1ecf8a"
   },
   "outputs": [
    {
     "name": "stdout",
     "output_type": "stream",
     "text": [
      "'\\n      hello world!\\n\\nha ha ha ha!\\n\\n  so much fun \\n  \\n'\n"
     ]
    }
   ],
   "source": [
    "print(repr(m))"
   ]
  },
  {
   "cell_type": "code",
   "execution_count": 15,
   "metadata": {
    "colab": {
     "base_uri": "https://localhost:8080/"
    },
    "id": "B2KDae9IaqOV",
    "outputId": "59783cf1-f029-4aa6-829c-5a2c42f75245"
   },
   "outputs": [
    {
     "name": "stdout",
     "output_type": "stream",
     "text": [
      "'    \\n   \\t hello world!    \\t   \\n    '\n",
      "'hello world!'\n"
     ]
    }
   ],
   "source": [
    "ns = s.strip()\n",
    "print(repr(s))\n",
    "print(repr(ns))"
   ]
  },
  {
   "cell_type": "code",
   "execution_count": 10,
   "metadata": {
    "colab": {
     "base_uri": "https://localhost:8080/"
    },
    "id": "xYLiRfcSZ61k",
    "outputId": "ecc9baf1-201b-4afd-c74f-5fd072a83b48"
   },
   "outputs": [
    {
     "name": "stdout",
     "output_type": "stream",
     "text": [
      "    \n",
      "   \t hello world!    \t   \n",
      "    \n"
     ]
    }
   ],
   "source": [
    "print(s) # ? standard ouput"
   ]
  },
  {
   "cell_type": "code",
   "execution_count": 11,
   "metadata": {
    "colab": {
     "base_uri": "https://localhost:8080/"
    },
    "id": "KQOw1SeuaHZG",
    "outputId": "a22d4c34-c256-48aa-d77b-b3405c870e7f"
   },
   "outputs": [
    {
     "name": "stdout",
     "output_type": "stream",
     "text": [
      "Hello World!\n"
     ]
    }
   ],
   "source": [
    "print(\"Hello World!\")"
   ]
  },
  {
   "cell_type": "code",
   "execution_count": 18,
   "metadata": {
    "colab": {
     "base_uri": "https://localhost:8080/"
    },
    "id": "Hx247tONaeP5",
    "outputId": "10c16018-30f5-4956-bd7e-d48736b2e8c6"
   },
   "outputs": [
    {
     "name": "stdout",
     "output_type": "stream",
     "text": [
      "'         \\n\\t\\t   Hello World!   \\n\\n       '\n",
      "'\\n\\t\\t   Hello World!   \\n\\n'\n"
     ]
    }
   ],
   "source": [
    "s = \"         \\n\\t\\t   Hello World!   \\n\\n       \"\n",
    "ns = s.strip(\" \")\n",
    "\n",
    "\n",
    "print(repr(s))\n",
    "print(repr(ns))"
   ]
  },
  {
   "cell_type": "code",
   "execution_count": 30,
   "metadata": {
    "colab": {
     "base_uri": "https://localhost:8080/"
    },
    "id": "G7LsEmBcchTq",
    "outputId": "160edb06-5853-40a5-d4ae-798b24ca87f9"
   },
   "outputs": [
    {
     "name": "stdout",
     "output_type": "stream",
     "text": [
      "-.....------....-----.....||||||||||Hello World!||||||||.........-----------........._\n"
     ]
    }
   ],
   "source": [
    "s = \"-.....------....-----.....||||||||||Hello World!||||||||.........-----------........._\"\n",
    "print(s)"
   ]
  },
  {
   "cell_type": "code",
   "execution_count": null,
   "metadata": {
    "id": "bfH_tEdmeJji"
   },
   "outputs": [],
   "source": [
    "s = \"$$$$$$$$$$$$$$$$$$$$#############Hello World#################$$$$$$$$$$$$$$$$$$$$$\""
   ]
  },
  {
   "cell_type": "code",
   "execution_count": 25,
   "metadata": {
    "colab": {
     "base_uri": "https://localhost:8080/"
    },
    "id": "qxqNVMg0d8BL",
    "outputId": "3c284fd0-edce-4dbc-feb4-dcaa55fe0c76"
   },
   "outputs": [
    {
     "name": "stdout",
     "output_type": "stream",
     "text": [
      "Hello World!\n"
     ]
    }
   ],
   "source": [
    "ns = s.strip(\"_.|-\")\n",
    "print(ns)"
   ]
  },
  {
   "cell_type": "code",
   "execution_count": 26,
   "metadata": {
    "id": "83FwjKRzckQs"
   },
   "outputs": [],
   "source": [
    "chars = \"_|.-\"\n",
    "ns = s.strip(chars)"
   ]
  },
  {
   "cell_type": "code",
   "execution_count": 27,
   "metadata": {
    "colab": {
     "base_uri": "https://localhost:8080/"
    },
    "id": "ly4mDuYId0R6",
    "outputId": "93321ad3-9622-4d12-eabb-7c6d28526deb"
   },
   "outputs": [
    {
     "name": "stdout",
     "output_type": "stream",
     "text": [
      "Hello World!\n"
     ]
    }
   ],
   "source": [
    "print(ns)"
   ]
  },
  {
   "cell_type": "code",
   "execution_count": 28,
   "metadata": {
    "id": "rDIJ3ykxd1DS"
   },
   "outputs": [],
   "source": [
    "s = \"---------------hello------------world----------------this is good-----------\""
   ]
  },
  {
   "cell_type": "code",
   "execution_count": 29,
   "metadata": {
    "colab": {
     "base_uri": "https://localhost:8080/"
    },
    "id": "1mZPbzVwe82J",
    "outputId": "7f22e187-71e4-4d83-89c4-0ded0f7bb637"
   },
   "outputs": [
    {
     "name": "stdout",
     "output_type": "stream",
     "text": [
      "hello------------world----------------this is good\n"
     ]
    }
   ],
   "source": [
    "ns = s.strip('-')\n",
    "print(ns)"
   ]
  },
  {
   "cell_type": "markdown",
   "metadata": {
    "id": "AomXf2X9fRkh"
   },
   "source": [
    "`str.split(pat)` it will remove characters and split your string into list of words"
   ]
  },
  {
   "cell_type": "code",
   "execution_count": 50,
   "metadata": {
    "colab": {
     "base_uri": "https://localhost:8080/"
    },
    "id": "jdktpu34fQDh",
    "outputId": "59b11a7c-144e-49aa-f7e6-042da546b884"
   },
   "outputs": [
    {
     "name": "stdout",
     "output_type": "stream",
     "text": [
      "hello world this is good\n"
     ]
    }
   ],
   "source": [
    "s = \"---------------hello ------------world ----------------this is good-----------\"\n",
    "words = s.split('-')\n",
    "ns = \"\".join(words)\n",
    "print(ns)"
   ]
  },
  {
   "cell_type": "code",
   "execution_count": 37,
   "metadata": {
    "colab": {
     "base_uri": "https://localhost:8080/"
    },
    "id": "DkfjRkaCf4VI",
    "outputId": "807ffa27-9a46-47c4-981e-5dc579135b2d"
   },
   "outputs": [
    {
     "name": "stdout",
     "output_type": "stream",
     "text": [
      "['', 'abcd', '', '', '', '', '', '', '', '', '', '', '', '', '', 'hello', '', '', '', '', '', '', '', '', '', '', '', 'world', '', '', '', '', '', '', '', '', '', '', '', '', '', '', '', 'this is good', '', '', '', '', '', '', '', '', '', '', '']\n"
     ]
    }
   ],
   "source": [
    "print(words)"
   ]
  },
  {
   "cell_type": "code",
   "execution_count": 38,
   "metadata": {
    "id": "wcjehQzSfDJf"
   },
   "outputs": [],
   "source": [
    "seq = [ 'hello', 'world', 'this is awesome']"
   ]
  },
  {
   "cell_type": "markdown",
   "metadata": {
    "id": "t5H6jGYXgexH"
   },
   "source": [
    "`char.join(seq)` - it returns string by joining each string/words from sequenc using char as a sepration character"
   ]
  },
  {
   "cell_type": "code",
   "execution_count": 40,
   "metadata": {
    "colab": {
     "base_uri": "https://localhost:8080/"
    },
    "id": "StESQasWgb6v",
    "outputId": "33cc1f59-6828-4460-d967-6dbb1b22f725"
   },
   "outputs": [
    {
     "name": "stdout",
     "output_type": "stream",
     "text": [
      "hello world this is awesome\n"
     ]
    }
   ],
   "source": [
    "r = \" \".join(seq)\n",
    "print(r)"
   ]
  },
  {
   "cell_type": "code",
   "execution_count": 41,
   "metadata": {
    "id": "HITMARCAgyxk"
   },
   "outputs": [],
   "source": [
    "s = \"this is how split works.\\nokay\\twe got it?\"\n",
    "wl = s.split() # white space \" \", \"\\n\", \"\\t\""
   ]
  },
  {
   "cell_type": "code",
   "execution_count": 42,
   "metadata": {
    "colab": {
     "base_uri": "https://localhost:8080/"
    },
    "id": "54C0SESYhCZc",
    "outputId": "221f3cb8-bc6e-40dc-8a7d-1efd0f836699"
   },
   "outputs": [
    {
     "name": "stdout",
     "output_type": "stream",
     "text": [
      "['this', 'is', 'how', 'split', 'works.', 'okay', 'we', 'got', 'it?']\n"
     ]
    }
   ],
   "source": [
    "print(wl)"
   ]
  },
  {
   "cell_type": "code",
   "execution_count": 43,
   "metadata": {
    "id": "rfKYJFWIhDIp"
   },
   "outputs": [],
   "source": [
    "ns = \"->\".join(wl)"
   ]
  },
  {
   "cell_type": "code",
   "execution_count": 44,
   "metadata": {
    "colab": {
     "base_uri": "https://localhost:8080/"
    },
    "id": "8I-1LIk8hPsO",
    "outputId": "ab4d9a80-b2ae-4bdf-c850-3a1a3e4239f1"
   },
   "outputs": [
    {
     "name": "stdout",
     "output_type": "stream",
     "text": [
      "this->is->how->split->works.->okay->we->got->it?\n"
     ]
    }
   ],
   "source": [
    "print(ns)"
   ]
  },
  {
   "cell_type": "code",
   "execution_count": 51,
   "metadata": {
    "id": "BANzPjfQhQVG"
   },
   "outputs": [],
   "source": [
    "s = \"hello python world! python this is python awesome! python\"\n",
    "\n",
    "w = s.split('python')\n",
    "\n",
    "ns = \"\".join(w)"
   ]
  },
  {
   "cell_type": "code",
   "execution_count": 52,
   "metadata": {
    "colab": {
     "base_uri": "https://localhost:8080/"
    },
    "id": "LYVFcntZh2w3",
    "outputId": "e7c2a260-614d-45f2-d270-5a05e41d45c7"
   },
   "outputs": [
    {
     "name": "stdout",
     "output_type": "stream",
     "text": [
      "['hello ', ' world! ', ' this is ', ' awesome! ', '']\n",
      "hello  world!  this is  awesome! \n"
     ]
    }
   ],
   "source": [
    "print(w) # [ \"hello \", \" world! \", \" this is \", \" awesome! \"]\n",
    "print(ns) # \"hello  world!  this is  awesome! \"\n"
   ]
  },
  {
   "cell_type": "code",
   "execution_count": 53,
   "metadata": {
    "colab": {
     "base_uri": "https://localhost:8080/",
     "height": 35
    },
    "id": "-EcWZvm8i092",
    "outputId": "9f2f4ce4-5975-47d5-ecc3-4e08f59a4cf1"
   },
   "outputs": [
    {
     "data": {
      "application/vnd.google.colaboratory.intrinsic+json": {
       "type": "string"
      },
      "text/plain": [
       "'!'"
      ]
     },
     "execution_count": 53,
     "metadata": {},
     "output_type": "execute_result"
    }
   ],
   "source": [
    "x = \"hello world!\"\n",
    "x[-1]"
   ]
  },
  {
   "cell_type": "markdown",
   "metadata": {
    "id": "roszWirei-gU"
   },
   "source": [
    "`str.replace('pat', 'sub', count=-1)`\n",
    "\n",
    "\n",
    "`str.replace('old', 'new')`  \n",
    "\n",
    "\n",
    "    it replaces old pattern with new pattern  "
   ]
  },
  {
   "cell_type": "code",
   "execution_count": 54,
   "metadata": {
    "id": "8aILs1lPiU8i"
   },
   "outputs": [],
   "source": [
    "s = \"Sachin is a good cricket player. Sachin has played so long for India.\""
   ]
  },
  {
   "cell_type": "code",
   "execution_count": 55,
   "metadata": {
    "colab": {
     "base_uri": "https://localhost:8080/"
    },
    "id": "fLADuOjkjN0H",
    "outputId": "e1720484-4bd2-4828-e149-1caf467bc8e8"
   },
   "outputs": [
    {
     "name": "stdout",
     "output_type": "stream",
     "text": [
      "Sachin is a good cricket player. Sachin has played so long for India.\n"
     ]
    }
   ],
   "source": [
    "print(s)"
   ]
  },
  {
   "cell_type": "code",
   "execution_count": 56,
   "metadata": {
    "colab": {
     "base_uri": "https://localhost:8080/"
    },
    "id": "NuKnrhgBjOTO",
    "outputId": "c7c56d25-496f-424a-da1d-7abf6a97c4f3"
   },
   "outputs": [
    {
     "name": "stdout",
     "output_type": "stream",
     "text": [
      "MS Dhoni is a good cricket player. MS Dhoni has played so long for India.\n"
     ]
    }
   ],
   "source": [
    "ns = s.replace(\"Sachin\", \"MS Dhoni\")\n",
    "print(ns)"
   ]
  },
  {
   "cell_type": "code",
   "execution_count": 57,
   "metadata": {
    "colab": {
     "base_uri": "https://localhost:8080/"
    },
    "id": "obY4cRyzjmsU",
    "outputId": "bc2b09e4-8659-4097-f9dc-05d1527a6ae5"
   },
   "outputs": [
    {
     "name": "stdout",
     "output_type": "stream",
     "text": [
      "MS Dhoni is a good cricket player. Sachin has played so long for India.\n"
     ]
    }
   ],
   "source": [
    "ns = s.replace(\"Sachin\", \"MS Dhoni\", 1)\n",
    "print(ns)\n"
   ]
  },
  {
   "cell_type": "code",
   "execution_count": 58,
   "metadata": {
    "colab": {
     "base_uri": "https://localhost:8080/"
    },
    "id": "lLN2hJQpj4ur",
    "outputId": "40aca7de-cb3b-4bc7-cb1f-1a016025395f"
   },
   "outputs": [
    {
     "name": "stdout",
     "output_type": "stream",
     "text": [
      "Help on method_descriptor:\n",
      "\n",
      "replace(self, old, new, count=-1, /)\n",
      "    Return a copy with all occurrences of substring old replaced by new.\n",
      "    \n",
      "      count\n",
      "        Maximum number of occurrences to replace.\n",
      "        -1 (the default value) means replace all occurrences.\n",
      "    \n",
      "    If the optional argument count is given, only the first count occurrences are\n",
      "    replaced.\n",
      "\n"
     ]
    }
   ],
   "source": [
    "help(str.replace)"
   ]
  },
  {
   "cell_type": "code",
   "execution_count": 61,
   "metadata": {
    "id": "1PkbRVYBkFHG"
   },
   "outputs": [],
   "source": [
    "s = \"-.-.-hello -.-.--.-.--.-.--.-.--.-.--.--.-.-.--.-.--.-.-world!-.-.--.-.--.-.--.-.--.-.--.-.-\""
   ]
  },
  {
   "cell_type": "code",
   "execution_count": 68,
   "metadata": {
    "colab": {
     "base_uri": "https://localhost:8080/"
    },
    "id": "_PV97TmQlGUM",
    "outputId": "2d0f4975-b858-4dc2-8caa-793dafb6f434"
   },
   "outputs": [
    {
     "name": "stdout",
     "output_type": "stream",
     "text": [
      "hello world!\n"
     ]
    }
   ],
   "source": [
    "\n",
    "ns = s.replace(\"-\", \"\")\n",
    "ns = ns.replace(\".\", \"\")\n",
    "print(ns)"
   ]
  },
  {
   "cell_type": "code",
   "execution_count": 66,
   "metadata": {
    "colab": {
     "base_uri": "https://localhost:8080/"
    },
    "id": "IIUqmoOgkXq7",
    "outputId": "1f0be147-25c7-4fb9-d2fd-b4b2c350f13b"
   },
   "outputs": [
    {
     "name": "stdout",
     "output_type": "stream",
     "text": [
      "hello -.-.-world!\n"
     ]
    }
   ],
   "source": [
    "ns = s.replace('-.-.-', \"\")\n",
    "print(ns)"
   ]
  },
  {
   "cell_type": "markdown",
   "metadata": {
    "id": "_v2hP6YNki1r"
   },
   "source": [
    "    islower, isupper, isdigit, isalpha, isalnum, isidentifier, isspace\n",
    "\n",
    "    lower, upper, swapcase, title, capitalize\n",
    "\n",
    "    "
   ]
  },
  {
   "cell_type": "markdown",
   "metadata": {
    "id": "vT3bsN50lmX6"
   },
   "source": [
    "  center, rjust, ljust"
   ]
  },
  {
   "cell_type": "markdown",
   "metadata": {
    "id": "XA7Mx8frl_Qx"
   },
   "source": [
    "    list, nested list -> append, insert, pop, remove\n",
    "    dict, nested dict\n",
    "    operators, set\n",
    "    conditional if-else\n",
    "    loops while\n",
    "    loops for\n",
    "    functions basic\n",
    "    fucntions scope recursion\n",
    "    oops \n",
    "    exception handling"
   ]
  },
  {
   "cell_type": "code",
   "execution_count": 69,
   "metadata": {
    "colab": {
     "base_uri": "https://localhost:8080/"
    },
    "id": "iPhtY25ukhWC",
    "outputId": "6ef98abd-f51a-4b3a-ff77-7a5d1154261b"
   },
   "outputs": [
    {
     "name": "stdout",
     "output_type": "stream",
     "text": [
      "hello 140151285162864\n",
      "hello 140151285162864\n"
     ]
    }
   ],
   "source": [
    "s1 = \"hello\"\n",
    "s2 = \"hello\"\n",
    "\n",
    "print(s1, id(s1))\n",
    "print(s2, id(s2))"
   ]
  },
  {
   "cell_type": "code",
   "execution_count": 70,
   "metadata": {
    "colab": {
     "base_uri": "https://localhost:8080/"
    },
    "id": "ZLaP77lrmzFw",
    "outputId": "e1acbd00-b7aa-4d40-8410-96ac2435a168"
   },
   "outputs": [
    {
     "name": "stdout",
     "output_type": "stream",
     "text": [
      "hello world! 140151075175920\n",
      "hello world! 140151075172528\n"
     ]
    }
   ],
   "source": [
    "s1 = \"hello world!\"\n",
    "s2 = \"hello world!\"\n",
    "\n",
    "print(s1, id(s1))\n",
    "print(s2, id(s2))"
   ]
  },
  {
   "cell_type": "code",
   "execution_count": 71,
   "metadata": {
    "id": "hzd4dqr9m24W"
   },
   "outputs": [],
   "source": [
    "s = \"Hello\"\n"
   ]
  },
  {
   "cell_type": "code",
   "execution_count": 73,
   "metadata": {
    "colab": {
     "base_uri": "https://localhost:8080/",
     "height": 171
    },
    "id": "WuY4h1o5nRMw",
    "outputId": "0007157b-6b04-4a90-e6a4-fd14923b4f89"
   },
   "outputs": [
    {
     "ename": "TypeError",
     "evalue": "ignored",
     "output_type": "error",
     "traceback": [
      "\u001b[0;31m---------------------------------------------------------------------------\u001b[0m",
      "\u001b[0;31mTypeError\u001b[0m                                 Traceback (most recent call last)",
      "\u001b[0;32m<ipython-input-73-e68a27fb3758>\u001b[0m in \u001b[0;36m<module>\u001b[0;34m()\u001b[0m\n\u001b[0;32m----> 1\u001b[0;31m \u001b[0ms\u001b[0m\u001b[0;34m[\u001b[0m\u001b[0;36m1\u001b[0m\u001b[0;34m]\u001b[0m \u001b[0;34m=\u001b[0m \u001b[0;34m\"H\"\u001b[0m\u001b[0;34m\u001b[0m\u001b[0;34m\u001b[0m\u001b[0m\n\u001b[0m",
      "\u001b[0;31mTypeError\u001b[0m: 'str' object does not support item assignment"
     ]
    }
   ],
   "source": [
    "s[1] = \"H\""
   ]
  },
  {
   "cell_type": "code",
   "execution_count": null,
   "metadata": {
    "id": "7hcQAnldnSRJ"
   },
   "outputs": [],
   "source": []
  }
 ],
 "metadata": {
  "colab": {
   "name": "StringMethods.ipynb",
   "provenance": []
  },
  "kernelspec": {
   "display_name": "Python 3 (ipykernel)",
   "language": "python",
   "name": "python3"
  },
  "language_info": {
   "codemirror_mode": {
    "name": "ipython",
    "version": 3
   },
   "file_extension": ".py",
   "mimetype": "text/x-python",
   "name": "python",
   "nbconvert_exporter": "python",
   "pygments_lexer": "ipython3",
   "version": "3.9.12"
  }
 },
 "nbformat": 4,
 "nbformat_minor": 1
}

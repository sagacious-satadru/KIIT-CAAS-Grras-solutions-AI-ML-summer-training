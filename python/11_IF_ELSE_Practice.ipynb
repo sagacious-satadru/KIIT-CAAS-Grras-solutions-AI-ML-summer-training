{
 "cells": [
  {
   "cell_type": "markdown",
   "id": "fe936d0a",
   "metadata": {},
   "source": [
    "any doubt any query till now ? "
   ]
  },
  {
   "cell_type": "markdown",
   "id": "c5203f82",
   "metadata": {},
   "source": [
    "#### write a python code to check whether a given year is leap year or not ?"
   ]
  },
  {
   "cell_type": "markdown",
   "id": "676c26be",
   "metadata": {},
   "source": [
    " a year is consider a leap if it is divisible by 4 if it is not a century year\n",
    " if year is century year than if it is divsible by 400 it is leap year"
   ]
  },
  {
   "cell_type": "markdown",
   "id": "2ab42bca",
   "metadata": {},
   "source": [
    "    2016 -> leap year -> divisible by 4, not a century year\n",
    "\n",
    "    1900 -> leap year -> divisble by 4, a century year, it is not divisible by 400"
   ]
  },
  {
   "cell_type": "markdown",
   "id": "23cc4d9d",
   "metadata": {},
   "source": [
    "## Nested if-else"
   ]
  },
  {
   "cell_type": "code",
   "execution_count": 5,
   "id": "4e4a938b",
   "metadata": {},
   "outputs": [
    {
     "name": "stdout",
     "output_type": "stream",
     "text": [
      "year: 2013\n",
      "2013 is Not a Leap Year\n"
     ]
    }
   ],
   "source": [
    "year = int(input(\"year: \"))\n",
    "\n",
    "if year % 100 == 0:\n",
    "    # year is century year\n",
    "    if year % 400 == 0:\n",
    "        print(f\"{year} is a Leap Year\")\n",
    "    else:\n",
    "        print(f\"{year} is not a Leap Year\")\n",
    "else:\n",
    "    # year is not century year\n",
    "    if year % 4 == 0:\n",
    "        print(f\"{year} is a Leap Year\")\n",
    "    else:\n",
    "        print(f\"{year} is Not a Leap Year\")\n"
   ]
  },
  {
   "cell_type": "code",
   "execution_count": 9,
   "id": "3f5c0e5b",
   "metadata": {},
   "outputs": [
    {
     "name": "stdout",
     "output_type": "stream",
     "text": [
      "year: 2900\n",
      "2900 is not a leap year.\n"
     ]
    }
   ],
   "source": [
    "year = int(input(\"year: \"))\n",
    "flag = False\n",
    "if year % 100 == 0:\n",
    "    if year % 400 == 0:\n",
    "        flag = True\n",
    "else:\n",
    "    if year % 4 == 0:\n",
    "        flag = True\n",
    "        \n",
    "if flag:\n",
    "    print(f\"{year} is a leap year.\")\n",
    "else:\n",
    "    print(f\"{year} is not a leap year.\")"
   ]
  },
  {
   "cell_type": "markdown",
   "id": "56089325",
   "metadata": {},
   "source": [
    "    and operator is used to check multiple conditions all together\n",
    "    \n",
    "    if both conditions are True than it return True otherwise returns False"
   ]
  },
  {
   "cell_type": "code",
   "execution_count": 10,
   "id": "9a7b0bfb",
   "metadata": {},
   "outputs": [
    {
     "name": "stdout",
     "output_type": "stream",
     "text": [
      "True\n"
     ]
    }
   ],
   "source": [
    "r = True and True\n",
    "print(r)"
   ]
  },
  {
   "cell_type": "code",
   "execution_count": 11,
   "id": "f7e95994",
   "metadata": {},
   "outputs": [
    {
     "name": "stdout",
     "output_type": "stream",
     "text": [
      "False\n"
     ]
    }
   ],
   "source": [
    "r = False and True\n",
    "print(r)"
   ]
  },
  {
   "cell_type": "code",
   "execution_count": 12,
   "id": "7811d648",
   "metadata": {},
   "outputs": [
    {
     "name": "stdout",
     "output_type": "stream",
     "text": [
      "False\n"
     ]
    }
   ],
   "source": [
    "r = True and False\n",
    "print(r)"
   ]
  },
  {
   "cell_type": "code",
   "execution_count": 13,
   "id": "5ec6b0ec",
   "metadata": {},
   "outputs": [
    {
     "name": "stdout",
     "output_type": "stream",
     "text": [
      "False\n"
     ]
    }
   ],
   "source": [
    "r = False and False\n",
    "print(r)"
   ]
  },
  {
   "cell_type": "markdown",
   "id": "9cd7fb53",
   "metadata": {},
   "source": [
    "    condition -> can be any valid python statement which can represent a boolean state (True, False)\n",
    "    \n",
    "    \n",
    "    False -> 0, None, empty objects"
   ]
  },
  {
   "cell_type": "code",
   "execution_count": 14,
   "id": "11eb1e22",
   "metadata": {},
   "outputs": [
    {
     "name": "stdout",
     "output_type": "stream",
     "text": [
      "False\n"
     ]
    }
   ],
   "source": [
    "a = bool(4 > 5 and 1)\n",
    "print(a)"
   ]
  },
  {
   "cell_type": "code",
   "execution_count": 16,
   "id": "ffdc8b76",
   "metadata": {},
   "outputs": [
    {
     "name": "stdout",
     "output_type": "stream",
     "text": [
      "False\n"
     ]
    }
   ],
   "source": [
    "a = bool(5 and 0)\n",
    "print(a)"
   ]
  },
  {
   "cell_type": "code",
   "execution_count": 17,
   "id": "7a3ea709",
   "metadata": {},
   "outputs": [
    {
     "name": "stdout",
     "output_type": "stream",
     "text": [
      "False\n"
     ]
    }
   ],
   "source": [
    "a = bool(0 and print('hello'))\n",
    "print(a)"
   ]
  },
  {
   "cell_type": "code",
   "execution_count": 18,
   "id": "1155f55e",
   "metadata": {},
   "outputs": [
    {
     "name": "stdout",
     "output_type": "stream",
     "text": [
      "hello\n",
      "False\n"
     ]
    }
   ],
   "source": [
    "a = bool(print('hello') and print('bye'))\n",
    "print(a) # hello, False"
   ]
  },
  {
   "cell_type": "code",
   "execution_count": 20,
   "id": "2c600a8d",
   "metadata": {},
   "outputs": [
    {
     "name": "stdout",
     "output_type": "stream",
     "text": [
      "True\n"
     ]
    }
   ],
   "source": [
    "a = True or print(\"Hello World!\")\n",
    "print(a)"
   ]
  },
  {
   "cell_type": "code",
   "execution_count": 22,
   "id": "837debda",
   "metadata": {},
   "outputs": [
    {
     "name": "stdout",
     "output_type": "stream",
     "text": [
      "Hello World!\n",
      "False\n"
     ]
    }
   ],
   "source": [
    "a = bool(0 or print(\"Hello World!\"))\n",
    "print(a)"
   ]
  },
  {
   "cell_type": "markdown",
   "id": "02fcaad2",
   "metadata": {},
   "source": [
    "#### Logical Operators\n",
    "\n",
    "    and\n",
    "    \n",
    "    or\n",
    "    \n",
    "    not"
   ]
  },
  {
   "cell_type": "markdown",
   "id": "45a83f5d",
   "metadata": {},
   "source": [
    "    if a year is not divisible by 4 it means it is not a leap year"
   ]
  },
  {
   "cell_type": "code",
   "execution_count": 35,
   "id": "640c537c",
   "metadata": {},
   "outputs": [
    {
     "name": "stdout",
     "output_type": "stream",
     "text": [
      "year: 2013\n",
      "year 2013 is not a Leap Year.\n"
     ]
    }
   ],
   "source": [
    "year = int(input(\"year: \"))\n",
    "\n",
    "if (year % 4 == 0) and (year % 100 != 0 or year % 400 == 0):\n",
    "    print(f\"year {year} is a Leap Year.\")\n",
    "else:\n",
    "    print(f\"year {year} is not a Leap Year.\")"
   ]
  },
  {
   "cell_type": "code",
   "execution_count": 36,
   "id": "1d937720",
   "metadata": {},
   "outputs": [
    {
     "name": "stderr",
     "output_type": "stream",
     "text": [
      "100%|████████████████████████████████████████████████████████████████████████████████| 180/180 [03:01<00:00,  1.01s/it]\n"
     ]
    }
   ],
   "source": [
    "from time import sleep\n",
    "from tqdm import tqdm\n",
    "\n",
    "for _ in tqdm(range(180)):\n",
    "    sleep(1)"
   ]
  },
  {
   "attachments": {
    "image.png": {
     "image/png": "[encoded data removed]"
    }
   },
   "cell_type": "markdown",
   "id": "4f70e834",
   "metadata": {},
   "source": [
    "![image.png](attachment:image.png)"
   ]
  },
  {
   "cell_type": "markdown",
   "id": "849971a7",
   "metadata": {},
   "source": [
    "    in operator \n",
    "    \n",
    "        membership"
   ]
  },
  {
   "cell_type": "markdown",
   "id": "710f0e87",
   "metadata": {},
   "source": [
    "    item in iterable\n",
    "    \n",
    "        True if iterable consists item otherwise False"
   ]
  },
  {
   "cell_type": "code",
   "execution_count": 37,
   "id": "e22e7528",
   "metadata": {},
   "outputs": [],
   "source": [
    "names = [ 'simran', 'ravi', 'yadvendra', 'bahadur']"
   ]
  },
  {
   "cell_type": "code",
   "execution_count": 38,
   "id": "f368e0ba",
   "metadata": {},
   "outputs": [
    {
     "data": {
      "text/plain": [
       "False"
      ]
     },
     "execution_count": 38,
     "metadata": {},
     "output_type": "execute_result"
    }
   ],
   "source": [
    "\"sachin\" in names"
   ]
  },
  {
   "cell_type": "code",
   "execution_count": 39,
   "id": "938a8071",
   "metadata": {},
   "outputs": [
    {
     "data": {
      "text/plain": [
       "True"
      ]
     },
     "execution_count": 39,
     "metadata": {},
     "output_type": "execute_result"
    }
   ],
   "source": [
    "\"ravi\" in names"
   ]
  },
  {
   "cell_type": "code",
   "execution_count": 40,
   "id": "bd2e3a0b",
   "metadata": {},
   "outputs": [
    {
     "data": {
      "text/plain": [
       "True"
      ]
     },
     "execution_count": 40,
     "metadata": {},
     "output_type": "execute_result"
    }
   ],
   "source": [
    "\"sachin\" not in names"
   ]
  },
  {
   "cell_type": "markdown",
   "id": "c59241cf",
   "metadata": {},
   "source": [
    "    14.\tWrite a Python Program to input electricity unit charges and calculate total electricity bill according to the given condition: \n",
    "\n",
    "        For first 50 units Rs. 0.50/unit\n",
    "        For next 100 units Rs. 0.75/unit\n",
    "        For next 100 units Rs. 1.20/unit\n",
    "        For unit above 250 Rs. 1.50/unit\n",
    "        An additional surcharge of 20% is added to the bill\n"
   ]
  },
  {
   "cell_type": "code",
   "execution_count": 42,
   "id": "d7daac68",
   "metadata": {},
   "outputs": [
    {
     "name": "stdout",
     "output_type": "stream",
     "text": [
      "2\n",
      "Not Weird\n"
     ]
    }
   ],
   "source": [
    "#!/bin/python3\n",
    "\n",
    "import math\n",
    "import os\n",
    "import random\n",
    "import re\n",
    "import sys\n",
    "\n",
    "\n",
    "\n",
    "if __name__ == '__main__':\n",
    "    n = int(input().strip())\n",
    "    if n % 2 != 0:\n",
    "        print(\"Weird\")\n",
    "    elif n in [2, 4]:\n",
    "        print(\"Not Weird\")\n",
    "    elif n <= 20:\n",
    "        print(\"Weird\")\n",
    "    else:\n",
    "        print(\"Not Weird\")\n",
    "        "
   ]
  },
  {
   "cell_type": "markdown",
   "id": "2223327f",
   "metadata": {},
   "source": [
    "    14.\tWrite a Python Program to input electricity unit charges and calculate total electricity bill according to the given condition: \n",
    "\n",
    "        For first 50 units Rs. 0.50/unit\n",
    "        For next 100 units Rs. 0.75/unit\n",
    "        For next 100 units Rs. 1.20/unit\n",
    "        For unit above 250 Rs. 1.50/unit\n",
    "        An additional surcharge of 20% is added to the bill\n"
   ]
  },
  {
   "cell_type": "markdown",
   "id": "a1792830",
   "metadata": {},
   "source": [
    "    Test Case\n",
    "    \n",
    "        50 units \n",
    "        \n",
    "        100 units\n",
    "        \n",
    "        150 units\n",
    "        \n",
    "        200 units\n",
    "        \n",
    "        250 units\n",
    "        \n",
    "        300 uints"
   ]
  },
  {
   "cell_type": "code",
   "execution_count": 49,
   "id": "468d9d4e",
   "metadata": {},
   "outputs": [
    {
     "data": {
      "text/plain": [
       "192.0"
      ]
     },
     "execution_count": 49,
     "metadata": {},
     "output_type": "execute_result"
    }
   ],
   "source": [
    "( (50*0.5)+(100*0.75)+(50*1.20) )*(1+.20)"
   ]
  },
  {
   "cell_type": "code",
   "execution_count": 51,
   "id": "a7f38a54",
   "metadata": {},
   "outputs": [
    {
     "data": {
      "text/plain": [
       "192.0"
      ]
     },
     "execution_count": 51,
     "metadata": {},
     "output_type": "execute_result"
    }
   ],
   "source": [
    "160+(160 * 0.2)"
   ]
  },
  {
   "cell_type": "code",
   "execution_count": 45,
   "id": "5e489301",
   "metadata": {},
   "outputs": [
    {
     "data": {
      "text/plain": [
       "62.5"
      ]
     },
     "execution_count": 45,
     "metadata": {},
     "output_type": "execute_result"
    }
   ],
   "source": [
    "(50*0.5) + (50)*0.75"
   ]
  },
  {
   "cell_type": "code",
   "execution_count": 46,
   "id": "0675ca39",
   "metadata": {},
   "outputs": [
    {
     "name": "stdout",
     "output_type": "stream",
     "text": [
      "75.0\n"
     ]
    }
   ],
   "source": [
    "amount = 62.5 * (1+0.20)\n",
    "print(amount)"
   ]
  },
  {
   "cell_type": "code",
   "execution_count": 43,
   "id": "c3b0dd6a",
   "metadata": {},
   "outputs": [],
   "source": [
    "def break_time(minutes):\n",
    "    seconds = minutes*60\n",
    "    for _ in tqdm(range(seconds)):\n",
    "        sleep(1)"
   ]
  },
  {
   "cell_type": "code",
   "execution_count": 44,
   "id": "f216fb05",
   "metadata": {},
   "outputs": [
    {
     "name": "stderr",
     "output_type": "stream",
     "text": [
      "100%|████████████████████████████████████████████████████████████████████████████████| 600/600 [10:05<00:00,  1.01s/it]\n"
     ]
    }
   ],
   "source": [
    "break_time(10)"
   ]
  },
  {
   "cell_type": "markdown",
   "id": "d7f22900",
   "metadata": {},
   "source": [
    "### While Loop"
   ]
  },
  {
   "cell_type": "code",
   "execution_count": 62,
   "id": "6db6ff3f",
   "metadata": {},
   "outputs": [
    {
     "data": {
      "text/plain": [
       "False"
      ]
     },
     "execution_count": 62,
     "metadata": {},
     "output_type": "execute_result"
    }
   ],
   "source": [
    "False and print('hello')"
   ]
  },
  {
   "cell_type": "code",
   "execution_count": 61,
   "id": "a082e5cb",
   "metadata": {},
   "outputs": [
    {
     "name": "stdout",
     "output_type": "stream",
     "text": [
      "no of units: 80\n",
      "you have to pay total 57.00 ₹.\n"
     ]
    }
   ],
   "source": [
    "units = int(input(\"no of units: \"))\n",
    "\n",
    "if units <= 50:\n",
    "    charge = units*0.5\n",
    "elif units <= 150:\n",
    "    charge = (50*0.5)+(units-50)*0.75\n",
    "elif units <= 250:\n",
    "    charge = (50*0.5)+(100*0.75)+(units-150)*1.20\n",
    "else:\n",
    "    charge = (50*0.5)+(100*0.75)+(100*1.20)+(units-250)*1.50\n",
    "    \n",
    "total_bill = 1.20*charge\n",
    "print(f\"you have to pay total {total_bill:.2f} \\u20B9.\")"
   ]
  },
  {
   "cell_type": "code",
   "execution_count": null,
   "id": "6d050b4d",
   "metadata": {},
   "outputs": [],
   "source": []
  }
 ],
 "metadata": {
  "kernelspec": {
   "display_name": "Python 3",
   "language": "python",
   "name": "python3"
  },
  "language_info": {
   "codemirror_mode": {
    "name": "ipython",
    "version": 3
   },
   "file_extension": ".py",
   "mimetype": "text/x-python",
   "name": "python",
   "nbconvert_exporter": "python",
   "pygments_lexer": "ipython3",
   "version": "3.8.8"
  }
 },
 "nbformat": 4,
 "nbformat_minor": 5
}

{
 "cells": [
  {
   "cell_type": "markdown",
   "id": "19bcb66b",
   "metadata": {},
   "source": [
    "if you have any doubt let me know ?"
   ]
  },
  {
   "cell_type": "markdown",
   "id": "d6d61337",
   "metadata": {},
   "source": [
    "### while loop\n",
    "\n",
    "    while break continue else"
   ]
  },
  {
   "cell_type": "markdown",
   "id": "1a0a6e46",
   "metadata": {},
   "source": [
    "    jupyter (web based) -> kernel (python server) -> python interterpreter (multithreading)\n",
    "                        <-                         <-"
   ]
  },
  {
   "cell_type": "raw",
   "id": "7063f7cf",
   "metadata": {},
   "source": [
    "!python script.py\n",
    "\n",
    "# script -> python interpreter -> execution"
   ]
  },
  {
   "cell_type": "code",
   "execution_count": 3,
   "id": "b13a8f61",
   "metadata": {},
   "outputs": [
    {
     "name": "stdout",
     "output_type": "stream",
     "text": [
      "hello world!\n"
     ]
    }
   ],
   "source": [
    "while True:\n",
    "    print('hello world!')\n",
    "    break"
   ]
  },
  {
   "cell_type": "code",
   "execution_count": 1,
   "id": "eaed3152",
   "metadata": {},
   "outputs": [
    {
     "name": "stdout",
     "output_type": "stream",
     "text": [
      "hello world!\n",
      "bye world!\n"
     ]
    }
   ],
   "source": [
    "print(\"hello world!\")\n",
    "exit() # kernel\n",
    "print(\"bye world!\")"
   ]
  },
  {
   "cell_type": "code",
   "execution_count": 1,
   "id": "a0535a4d",
   "metadata": {},
   "outputs": [
    {
     "name": "stdout",
     "output_type": "stream",
     "text": [
      "Overwriting hello.py\n"
     ]
    }
   ],
   "source": [
    "%%writefile hello.py\n",
    "\n",
    "print(\"hello world!\")\n",
    "exit(0) # here your program will \n",
    "print(\"bye world!\")"
   ]
  },
  {
   "cell_type": "code",
   "execution_count": 2,
   "id": "fcec1a01",
   "metadata": {},
   "outputs": [
    {
     "name": "stdout",
     "output_type": "stream",
     "text": [
      "hello world!\n"
     ]
    }
   ],
   "source": [
    "!python hello.py"
   ]
  },
  {
   "cell_type": "markdown",
   "id": "4fd2bf6b",
   "metadata": {},
   "source": [
    "### For Loop \n",
    "\n",
    "    Iteration / Traversing ?"
   ]
  },
  {
   "cell_type": "markdown",
   "id": "5313f362",
   "metadata": {},
   "source": [
    "    collection / sequential / map / array"
   ]
  },
  {
   "cell_type": "markdown",
   "id": "f3f44f5c",
   "metadata": {},
   "source": [
    "    collection -> iterable "
   ]
  },
  {
   "cell_type": "code",
   "execution_count": 11,
   "id": "616f2134",
   "metadata": {},
   "outputs": [
    {
     "name": "stdout",
     "output_type": "stream",
     "text": [
      "['SACHIN', 'RAJAT', 'NIDHI']\n"
     ]
    }
   ],
   "source": [
    "names = ['sachin', 'rajat', 'nidhi']\n",
    "\n",
    "# traversal of an list\n",
    "i = 0\n",
    "while i < len(names):\n",
    "    item = names[i]\n",
    "    names[i] = item.upper()\n",
    "    i += 1\n",
    "else:\n",
    "    print(names)\n",
    "    "
   ]
  },
  {
   "cell_type": "code",
   "execution_count": 5,
   "id": "50933d75",
   "metadata": {},
   "outputs": [
    {
     "name": "stdout",
     "output_type": "stream",
     "text": [
      "sachin\n"
     ]
    }
   ],
   "source": [
    "print(names[0])"
   ]
  },
  {
   "cell_type": "code",
   "execution_count": 6,
   "id": "2e086ac5",
   "metadata": {},
   "outputs": [
    {
     "name": "stdout",
     "output_type": "stream",
     "text": [
      "rajat\n"
     ]
    }
   ],
   "source": [
    "print(names[1])"
   ]
  },
  {
   "cell_type": "code",
   "execution_count": 7,
   "id": "962326cd",
   "metadata": {},
   "outputs": [
    {
     "name": "stdout",
     "output_type": "stream",
     "text": [
      "nidhi\n"
     ]
    }
   ],
   "source": [
    "print(names[2])"
   ]
  },
  {
   "cell_type": "markdown",
   "id": "51ff3bac",
   "metadata": {},
   "source": [
    "data types\n",
    "\n",
    "    int, float, complex\n",
    "    string, list, tuple\n",
    "    dict, set, frozenset\n",
    "    None, True, False\n",
    "    \n",
    "\n",
    "**Iterable** - \n",
    "\n",
    "    string, list, tuple, dict, set, frozenset \n",
    "\n",
    "    \n",
    "    "
   ]
  },
  {
   "cell_type": "code",
   "execution_count": 18,
   "id": "1965e12e",
   "metadata": {},
   "outputs": [
    {
     "ename": "TypeError",
     "evalue": "print() argument after * must be an iterable, not float",
     "output_type": "error",
     "traceback": [
      "\u001b[1;31m---------------------------------------------------------------------------\u001b[0m",
      "\u001b[1;31mTypeError\u001b[0m                                 Traceback (most recent call last)",
      "\u001b[1;32m<ipython-input-18-cc326890f085>\u001b[0m in \u001b[0;36m<module>\u001b[1;34m\u001b[0m\n\u001b[0;32m      1\u001b[0m \u001b[0mx\u001b[0m \u001b[1;33m=\u001b[0m \u001b[1;36m6.02\u001b[0m\u001b[1;33m\u001b[0m\u001b[1;33m\u001b[0m\u001b[0m\n\u001b[1;32m----> 2\u001b[1;33m \u001b[0mprint\u001b[0m\u001b[1;33m(\u001b[0m\u001b[1;33m*\u001b[0m\u001b[0mx\u001b[0m\u001b[1;33m)\u001b[0m\u001b[1;33m\u001b[0m\u001b[1;33m\u001b[0m\u001b[0m\n\u001b[0m",
      "\u001b[1;31mTypeError\u001b[0m: print() argument after * must be an iterable, not float"
     ]
    }
   ],
   "source": [
    "x = 6.02\n",
    "print(*x)"
   ]
  },
  {
   "cell_type": "code",
   "execution_count": 20,
   "id": "1107fcfc",
   "metadata": {},
   "outputs": [
    {
     "name": "stdout",
     "output_type": "stream",
     "text": [
      "hello\n",
      "h e l l o\n",
      "h e l l o\n"
     ]
    }
   ],
   "source": [
    "s = \"hello\"\n",
    "\n",
    "print(s) # no iteration -> single unit\n",
    "print(*s) # iteration\n",
    "print(\"h\", \"e\", \"l\", \"l\", \"o\")"
   ]
  },
  {
   "cell_type": "code",
   "execution_count": 22,
   "id": "b7840b01",
   "metadata": {},
   "outputs": [
    {
     "name": "stdout",
     "output_type": "stream",
     "text": [
      "[1, 2, 3, 4]\n",
      "1 2 3 4\n",
      "1 2 3 4\n"
     ]
    }
   ],
   "source": [
    "a = [ 1, 2, 3 , 4]\n",
    "print(a) # list\n",
    "print(*a) # iterating a list inside print\n",
    "print(1, 2, 3, 4)"
   ]
  },
  {
   "cell_type": "code",
   "execution_count": 23,
   "id": "9a1ca9bf",
   "metadata": {},
   "outputs": [],
   "source": [
    "t = ('hello world!', \"this is awesome\", 'it is called iteration', 'do you get it guys?' )"
   ]
  },
  {
   "cell_type": "code",
   "execution_count": 24,
   "id": "baece0fe",
   "metadata": {},
   "outputs": [
    {
     "name": "stdout",
     "output_type": "stream",
     "text": [
      "hello world!\n",
      "this is awesome\n",
      "it is called iteration\n",
      "do you get it guys?\n"
     ]
    }
   ],
   "source": [
    "# iterating and printing a tuple\n",
    "print(*t, sep=\"\\n\")"
   ]
  },
  {
   "cell_type": "code",
   "execution_count": 30,
   "id": "28662c21",
   "metadata": {},
   "outputs": [],
   "source": [
    "from pprint import pprint"
   ]
  },
  {
   "cell_type": "code",
   "execution_count": 33,
   "id": "7c86e010",
   "metadata": {},
   "outputs": [
    {
     "name": "stdout",
     "output_type": "stream",
     "text": [
      "keys:  ['name', 'type', 'birth', 'father', 'website']\n",
      "values:  ['python', 'programming langauge', 1994, 'Guido Van Rossum', 'www.python.org']\n",
      "items: \n",
      "[('name', 'python'),\n",
      " ('type', 'programming langauge'),\n",
      " ('birth', 1994),\n",
      " ('father', 'Guido Van Rossum'),\n",
      " ('website', 'www.python.org')]\n"
     ]
    }
   ],
   "source": [
    "d = {\n",
    "    \"name\": \"python\",\n",
    "    \"type\": \"programming langauge\",\n",
    "    \"birth\": 1994,\n",
    "    \"father\": \"Guido Van Rossum\",\n",
    "    \"website\": \"www.python.org\"\n",
    "}\n",
    "\n",
    "keys = list(d.keys())\n",
    "print(\"keys: \", keys)\n",
    "values = list(d.values())\n",
    "print(\"values: \", values)\n",
    "items = list(d.items())\n",
    "print(\"items: \")\n",
    "pprint(items)"
   ]
  },
  {
   "cell_type": "markdown",
   "id": "61da96af",
   "metadata": {},
   "source": [
    "    Dictionaries\n",
    "    \n",
    "        keys  ?\n",
    "        \n",
    "        values ?\n",
    "        \n",
    "        items ? key-values ? \n",
    "        \n",
    "    \n",
    "    we iterate only keys from dictionary by Default"
   ]
  },
  {
   "cell_type": "markdown",
   "id": "24dd2d23",
   "metadata": {},
   "source": [
    "    d.keys()    -> returns a list like object containing all keys from dictionary\n",
    "    d.vlaues()  -> returns a list like object containing all values from dictionary\n",
    "    d.items()   -> returns a list like object containing all key-value from dictionary"
   ]
  },
  {
   "cell_type": "code",
   "execution_count": 26,
   "id": "254d2fff",
   "metadata": {},
   "outputs": [
    {
     "name": "stdout",
     "output_type": "stream",
     "text": [
      "name\n",
      "type\n",
      "birth\n",
      "father\n",
      "website\n"
     ]
    }
   ],
   "source": [
    "d = {\n",
    "    \"name\": \"python\",\n",
    "    \"type\": \"programming langauge\",\n",
    "    \"birth\": 1994,\n",
    "    \"father\": \"Guido Van Rossum\",\n",
    "    \"website\": \"www.python.org\"\n",
    "}\n",
    "print(*d, sep=\"\\n\")"
   ]
  },
  {
   "cell_type": "code",
   "execution_count": 34,
   "id": "1a553c72",
   "metadata": {},
   "outputs": [
    {
     "name": "stdout",
     "output_type": "stream",
     "text": [
      "name, type, birth, father, website\n"
     ]
    }
   ],
   "source": [
    "d = {\n",
    "    \"name\": \"python\",\n",
    "    \"type\": \"programming langauge\",\n",
    "    \"birth\": 1994,\n",
    "    \"father\": \"Guido Van Rossum\",\n",
    "    \"website\": \"www.python.org\"\n",
    "}\n",
    "\n",
    "print(*d.keys(), sep=\", \")"
   ]
  },
  {
   "cell_type": "code",
   "execution_count": 35,
   "id": "a6aff542",
   "metadata": {},
   "outputs": [
    {
     "name": "stdout",
     "output_type": "stream",
     "text": [
      "python, programming langauge, 1994, Guido Van Rossum, www.python.org\n"
     ]
    }
   ],
   "source": [
    "print(*d.values(), sep=', ')"
   ]
  },
  {
   "cell_type": "code",
   "execution_count": 36,
   "id": "805052e3",
   "metadata": {},
   "outputs": [
    {
     "name": "stdout",
     "output_type": "stream",
     "text": [
      "('name', 'python')\n",
      "('type', 'programming langauge')\n",
      "('birth', 1994)\n",
      "('father', 'Guido Van Rossum')\n",
      "('website', 'www.python.org')\n"
     ]
    }
   ],
   "source": [
    "print(*d.items(), sep=\"\\n\")"
   ]
  },
  {
   "cell_type": "code",
   "execution_count": 37,
   "id": "f6e49187",
   "metadata": {},
   "outputs": [],
   "source": [
    "s = {1, 2, 3, 1, 2, 3, 3, 4, 5, 6, 3, 4, 5 }"
   ]
  },
  {
   "cell_type": "code",
   "execution_count": 38,
   "id": "46992787",
   "metadata": {},
   "outputs": [
    {
     "name": "stdout",
     "output_type": "stream",
     "text": [
      "{1, 2, 3, 4, 5, 6}\n"
     ]
    }
   ],
   "source": [
    "print(s)"
   ]
  },
  {
   "cell_type": "code",
   "execution_count": 39,
   "id": "ba0d6f09",
   "metadata": {},
   "outputs": [
    {
     "name": "stdout",
     "output_type": "stream",
     "text": [
      "1\n",
      "2\n",
      "3\n",
      "4\n",
      "5\n",
      "6\n"
     ]
    }
   ],
   "source": [
    "print(*s, sep='\\n')"
   ]
  },
  {
   "cell_type": "markdown",
   "id": "ba516f08",
   "metadata": {},
   "source": [
    "### For Loop\n",
    "\n",
    "    ment for iteration in python\n",
    "    \n",
    "    used to iterate iterable objects"
   ]
  },
  {
   "cell_type": "markdown",
   "id": "d39ad45b",
   "metadata": {},
   "source": [
    "Syntax\n",
    "    \n",
    "    for item in iterable:\n",
    "        st-1\n",
    "        st-2\n",
    "        st-3\n",
    "        ....\n",
    "        st-n"
   ]
  },
  {
   "cell_type": "code",
   "execution_count": 40,
   "id": "a68f639f",
   "metadata": {},
   "outputs": [
    {
     "ename": "TypeError",
     "evalue": "'int' object is not iterable",
     "output_type": "error",
     "traceback": [
      "\u001b[1;31m---------------------------------------------------------------------------\u001b[0m",
      "\u001b[1;31mTypeError\u001b[0m                                 Traceback (most recent call last)",
      "\u001b[1;32m<ipython-input-40-e9782ac9e055>\u001b[0m in \u001b[0;36m<module>\u001b[1;34m\u001b[0m\n\u001b[1;32m----> 1\u001b[1;33m \u001b[1;32mfor\u001b[0m \u001b[0mvar\u001b[0m \u001b[1;32min\u001b[0m \u001b[1;36m12345\u001b[0m\u001b[1;33m:\u001b[0m\u001b[1;33m\u001b[0m\u001b[1;33m\u001b[0m\u001b[0m\n\u001b[0m\u001b[0;32m      2\u001b[0m     \u001b[0mprint\u001b[0m\u001b[1;33m(\u001b[0m\u001b[0mvar\u001b[0m\u001b[1;33m)\u001b[0m\u001b[1;33m\u001b[0m\u001b[1;33m\u001b[0m\u001b[0m\n",
      "\u001b[1;31mTypeError\u001b[0m: 'int' object is not iterable"
     ]
    }
   ],
   "source": [
    "for var in 12345:\n",
    "    print(var)"
   ]
  },
  {
   "cell_type": "code",
   "execution_count": 42,
   "id": "0010ac8d",
   "metadata": {},
   "outputs": [
    {
     "name": "stdout",
     "output_type": "stream",
     "text": [
      "RAM RAM RAM RAM RAM RAM RAM RAM RAM RAM RAM RAM RAM RAM RAM RAM RAM RAM RAM RAM RAM RAM RAM RAM RAM RAM RAM RAM RAM RAM RAM RAM RAM RAM RAM RAM RAM RAM RAM RAM RAM RAM RAM RAM RAM RAM RAM RAM RAM RAM RAM RAM RAM RAM RAM RAM RAM RAM RAM RAM RAM RAM RAM RAM RAM RAM RAM RAM RAM RAM RAM RAM RAM RAM RAM RAM RAM RAM RAM RAM RAM RAM RAM RAM RAM RAM RAM RAM RAM RAM RAM RAM RAM RAM RAM RAM RAM RAM RAM RAM RAM RAM RAM RAM RAM RAM RAM RAM \n"
     ]
    }
   ],
   "source": [
    "s = \"RAM \"\n",
    "\n",
    "ns = s*108\n",
    "print(ns)"
   ]
  },
  {
   "cell_type": "code",
   "execution_count": 43,
   "id": "fcf7d97f",
   "metadata": {},
   "outputs": [
    {
     "name": "stdout",
     "output_type": "stream",
     "text": [
      "*\n",
      "**\n",
      "***\n",
      "****\n",
      "*****\n",
      "******\n",
      "*******\n",
      "********\n",
      "*********\n"
     ]
    }
   ],
   "source": [
    "for i in \"123456789\":\n",
    "    print(\"*\"*(int(i)))"
   ]
  },
  {
   "cell_type": "code",
   "execution_count": 45,
   "id": "b26466bb",
   "metadata": {},
   "outputs": [
    {
     "name": "stdout",
     "output_type": "stream",
     "text": [
      "Help on built-in function print in module builtins:\n",
      "\n",
      "print(...)\n",
      "    print(value, ..., sep=' ', end='\\n', file=sys.stdout, flush=False)\n",
      "    \n",
      "    Prints the values to a stream, or to sys.stdout by default.\n",
      "    Optional keyword arguments:\n",
      "    file:  a file-like object (stream); defaults to the current sys.stdout.\n",
      "    sep:   string inserted between values, default a space.\n",
      "    end:   string appended after the last value, default a newline.\n",
      "    flush: whether to forcibly flush the stream.\n",
      "\n"
     ]
    }
   ],
   "source": [
    "help(print)"
   ]
  },
  {
   "cell_type": "code",
   "execution_count": 46,
   "id": "7bd41193",
   "metadata": {},
   "outputs": [
    {
     "name": "stdout",
     "output_type": "stream",
     "text": [
      "Hello\n",
      "world!\n"
     ]
    }
   ],
   "source": [
    "print(\"Hello\") # \"Hello\\n\" , end=\"\\n\"\n",
    "print(\"world!\")"
   ]
  },
  {
   "cell_type": "code",
   "execution_count": 47,
   "id": "3232b4bc",
   "metadata": {},
   "outputs": [
    {
     "name": "stdout",
     "output_type": "stream",
     "text": [
      "Hello<-->world!\n"
     ]
    }
   ],
   "source": [
    "print(\"Hello\", end=\"<-->\") # \"Hello\\n\"\n",
    "print(\"world!\")"
   ]
  },
  {
   "cell_type": "code",
   "execution_count": 44,
   "id": "f30eef59",
   "metadata": {},
   "outputs": [
    {
     "name": "stdout",
     "output_type": "stream",
     "text": [
      "H\n",
      "e\n",
      "l\n",
      "l\n",
      "o\n",
      " \n",
      "W\n",
      "o\n",
      "r\n",
      "l\n",
      "d\n",
      "!\n"
     ]
    }
   ],
   "source": [
    "for c in \"Hello World!\":\n",
    "    print(c)"
   ]
  },
  {
   "cell_type": "code",
   "execution_count": 48,
   "id": "78a3d585",
   "metadata": {},
   "outputs": [
    {
     "name": "stdout",
     "output_type": "stream",
     "text": [
      "H\te\tl\tl\to\t \tW\to\tr\tl\td\t!\t"
     ]
    }
   ],
   "source": [
    "for c in \"Hello World!\":\n",
    "    print(c, end=\"\\t\")"
   ]
  },
  {
   "cell_type": "code",
   "execution_count": null,
   "id": "38e33ba3",
   "metadata": {},
   "outputs": [],
   "source": []
  },
  {
   "cell_type": "markdown",
   "id": "4bcc1d0c",
   "metadata": {},
   "source": [
    "to check whether given character is vowel or not"
   ]
  },
  {
   "cell_type": "code",
   "execution_count": 54,
   "id": "c5380449",
   "metadata": {},
   "outputs": [
    {
     "name": "stdout",
     "output_type": "stream",
     "text": [
      "r\n",
      "it is not vowel\n"
     ]
    }
   ],
   "source": [
    "c = input().strip().lower()\n",
    "\n",
    "if (c==\"a\") or (c==\"e\") or (c==\"i\") or (c==\"o\") or (c==\"u\"):\n",
    "    print(\"it is vowel\")\n",
    "else:\n",
    "    print(\"it is not vowel\")"
   ]
  },
  {
   "cell_type": "code",
   "execution_count": 56,
   "id": "1c9cc636",
   "metadata": {},
   "outputs": [
    {
     "name": "stdout",
     "output_type": "stream",
     "text": [
      "4\n",
      "it is not vowel\n"
     ]
    }
   ],
   "source": [
    "c = input().strip().lower()\n",
    "\n",
    "cond = [\n",
    "    (c==\"a\"),\n",
    "    (c==\"e\"),\n",
    "    (c==\"i\"),\n",
    "    (c==\"o\"),\n",
    "    (c==\"u\")\n",
    "]\n",
    "\n",
    "if any(cond):\n",
    "    print(\"it is vowel\")\n",
    "else:\n",
    "    print(\"it is not vowel\")"
   ]
  },
  {
   "cell_type": "markdown",
   "id": "eda63c4b",
   "metadata": {},
   "source": [
    "`membership operator`"
   ]
  },
  {
   "cell_type": "code",
   "execution_count": null,
   "id": "ed7c5fba",
   "metadata": {},
   "outputs": [],
   "source": []
  },
  {
   "cell_type": "code",
   "execution_count": 63,
   "id": "059f2215",
   "metadata": {},
   "outputs": [
    {
     "name": "stdout",
     "output_type": "stream",
     "text": [
      "k\n",
      "not vowel\n"
     ]
    }
   ],
   "source": [
    "c = input().strip().lower()\n",
    "\n",
    "if c in \"aeiou\":\n",
    "    print(\"vowel\")\n",
    "else:\n",
    "    print(\"not vowel\")"
   ]
  },
  {
   "cell_type": "code",
   "execution_count": 59,
   "id": "3f4e6335",
   "metadata": {},
   "outputs": [
    {
     "data": {
      "text/plain": [
       "True"
      ]
     },
     "execution_count": 59,
     "metadata": {},
     "output_type": "execute_result"
    }
   ],
   "source": [
    "\"rajat\" in [\"rajat\", \"nidhi\", \"simran\"]"
   ]
  },
  {
   "cell_type": "code",
   "execution_count": 58,
   "id": "431a2fa0",
   "metadata": {},
   "outputs": [
    {
     "data": {
      "text/plain": [
       "False"
      ]
     },
     "execution_count": 58,
     "metadata": {},
     "output_type": "execute_result"
    }
   ],
   "source": [
    "\"a\" in \"yeeee yoooo\""
   ]
  },
  {
   "cell_type": "markdown",
   "id": "bff70879",
   "metadata": {},
   "source": [
    "write a python code to count no of vowels in a given string ? \n",
    "\n",
    "    vowels = [\"a\", \"e\", \"i\", \"o\", \"u\"]\n",
    "    \n",
    "    eg.\n",
    "    \n",
    "    INPUT\n",
    "    \n",
    "        s = \"Hello World! Python is Awesome\"\n",
    "        \n",
    "    OUTPUT\n",
    "    \n",
    "        there are 9 vowels in given string"
   ]
  },
  {
   "cell_type": "code",
   "execution_count": 65,
   "id": "643a01f3",
   "metadata": {},
   "outputs": [
    {
     "name": "stdout",
     "output_type": "stream",
     "text": [
      "ha ha ha this is good\n",
      "There are 7 vowels in given string\n"
     ]
    }
   ],
   "source": [
    "count = 0\n",
    "string = input()\n",
    "\n",
    "for char in string:\n",
    "    if char in \"aeiouAEIOU\":\n",
    "        count += 1\n",
    "else:\n",
    "    print(f\"There are {count} vowels in given string\")\n",
    "    "
   ]
  },
  {
   "cell_type": "markdown",
   "id": "bb79b77d",
   "metadata": {},
   "source": [
    "    each vowel frequency\n",
    "    \n",
    "        a - 3\n",
    "        e - 0\n",
    "        i - 2\n",
    "        o - 2\n",
    "        u - 0\n",
    "    Total - 7"
   ]
  },
  {
   "cell_type": "code",
   "execution_count": 66,
   "id": "05ea6216",
   "metadata": {},
   "outputs": [],
   "source": [
    "names = [ 'sachin', 'rajat', 'nidhi', 'simran', 'shivani', 'ravi']"
   ]
  },
  {
   "cell_type": "code",
   "execution_count": 67,
   "id": "e2d5b6e2",
   "metadata": {},
   "outputs": [
    {
     "name": "stdout",
     "output_type": "stream",
     "text": [
      "sachin\n",
      "rajat\n",
      "nidhi\n",
      "simran\n",
      "shivani\n",
      "ravi\n"
     ]
    }
   ],
   "source": [
    "for item in names:\n",
    "    print(item)"
   ]
  },
  {
   "cell_type": "code",
   "execution_count": 71,
   "id": "1e705c75",
   "metadata": {},
   "outputs": [
    {
     "data": {
      "text/plain": [
       "71.33333333333333"
      ]
     },
     "execution_count": 71,
     "metadata": {},
     "output_type": "execute_result"
    }
   ],
   "source": [
    "sum([80, 56, 78])/3"
   ]
  },
  {
   "cell_type": "code",
   "execution_count": 68,
   "id": "47498998",
   "metadata": {},
   "outputs": [],
   "source": [
    "data = [\n",
    "    [\"sachin\", 70, 60, 80],\n",
    "    [\"rajat\", 80, 90, 80],\n",
    "    [\"simran\", 80, 56, 78]\n",
    "]"
   ]
  },
  {
   "cell_type": "markdown",
   "id": "f25b05c9",
   "metadata": {},
   "source": [
    "Output: \n",
    "\n",
    "    sachin has got 70.00 % marks\n",
    "    rajat has got 83.33 % marks\n",
    "    simran has got 71.33 % marks"
   ]
  },
  {
   "cell_type": "code",
   "execution_count": 73,
   "id": "33b88faa",
   "metadata": {},
   "outputs": [
    {
     "name": "stdout",
     "output_type": "stream",
     "text": [
      "sachin has got 70.00 % marks\n",
      "rajat has got 83.33 % marks\n",
      "simran has got 71.33 % marks\n"
     ]
    }
   ],
   "source": [
    "data = [\n",
    "    [\"sachin\", 70, 60, 80],\n",
    "    [\"rajat\", 80, 90, 80],\n",
    "    [\"simran\", 80, 56, 78]\n",
    "]\n",
    "\n",
    "for student in data:\n",
    "    #  item = [\"sachin\", 70, 60, 80]\n",
    "    name = student[0]\n",
    "    per = sum(student[1:])/3\n",
    "    print(f\"{name} has got {per:.2f} % marks\")"
   ]
  },
  {
   "cell_type": "markdown",
   "id": "8cf7a88b",
   "metadata": {},
   "source": [
    "### Tuple Unpacking\n",
    "\n",
    "\n",
    "    a, b = ('hi', 'hello')"
   ]
  },
  {
   "cell_type": "code",
   "execution_count": 77,
   "id": "218a77f1",
   "metadata": {},
   "outputs": [
    {
     "name": "stdout",
     "output_type": "stream",
     "text": [
      "hi hello\n"
     ]
    }
   ],
   "source": [
    "t = (\"hi\", \"hello\")\n",
    "a, b = t\n",
    "\n",
    "print(a, b)"
   ]
  },
  {
   "cell_type": "code",
   "execution_count": 83,
   "id": "c4033a63",
   "metadata": {},
   "outputs": [],
   "source": [
    "product = [\n",
    "    (\"apple iphone 12\", 50000),\n",
    "    (\"samsung s22\", 70000),\n",
    "    (\"one plus 10 pro\", 50000),\n",
    "    (\"moto g5\", 15000)\n",
    "]"
   ]
  },
  {
   "cell_type": "code",
   "execution_count": 84,
   "id": "bf5366aa",
   "metadata": {},
   "outputs": [
    {
     "name": "stdout",
     "output_type": "stream",
     "text": [
      "('apple iphone 12', 50000)\n",
      "('samsung s22', 70000)\n",
      "('one plus 10 pro', 50000)\n",
      "('moto g5', 15000)\n"
     ]
    }
   ],
   "source": [
    "for item in product:\n",
    "    print(item)"
   ]
  },
  {
   "cell_type": "code",
   "execution_count": 86,
   "id": "365baa90",
   "metadata": {},
   "outputs": [],
   "source": [
    "def print_table(data):\n",
    "    print(\"_\"*63)\n",
    "    print(f\"|{'Name':^30}|{'Price':^30}|\")\n",
    "    print(\"_\"*63)\n",
    "    for name, price in data:\n",
    "        print(f\"|{name:^30}|{price:^30}|\")\n",
    "        print(\"-\"*63)"
   ]
  },
  {
   "cell_type": "code",
   "execution_count": 87,
   "id": "0f8cc750",
   "metadata": {},
   "outputs": [
    {
     "name": "stdout",
     "output_type": "stream",
     "text": [
      "_______________________________________________________________\n",
      "|             Name             |            Price             |\n",
      "_______________________________________________________________\n",
      "|       apple iphone 12        |            50000             |\n",
      "---------------------------------------------------------------\n",
      "|         samsung s22          |            70000             |\n",
      "---------------------------------------------------------------\n",
      "|       one plus 10 pro        |            50000             |\n",
      "---------------------------------------------------------------\n",
      "|           moto g5            |            15000             |\n",
      "---------------------------------------------------------------\n"
     ]
    }
   ],
   "source": [
    "print_table(product)"
   ]
  },
  {
   "cell_type": "markdown",
   "id": "538b5087",
   "metadata": {},
   "source": [
    "    range, enumerate, zip, iterable objects"
   ]
  },
  {
   "cell_type": "code",
   "execution_count": null,
   "id": "da886812",
   "metadata": {},
   "outputs": [],
   "source": []
  }
 ],
 "metadata": {
  "kernelspec": {
   "display_name": "Python 3",
   "language": "python",
   "name": "python3"
  },
  "language_info": {
   "codemirror_mode": {
    "name": "ipython",
    "version": 3
   },
   "file_extension": ".py",
   "mimetype": "text/x-python",
   "name": "python",
   "nbconvert_exporter": "python",
   "pygments_lexer": "ipython3",
   "version": "3.8.8"
  }
 },
 "nbformat": 4,
 "nbformat_minor": 5
}

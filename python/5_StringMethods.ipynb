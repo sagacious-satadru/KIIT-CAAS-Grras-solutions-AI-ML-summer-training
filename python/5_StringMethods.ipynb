{
 "cells": [
  {
   "cell_type": "code",
   "execution_count": 1,
   "id": "5c80fbfd",
   "metadata": {},
   "outputs": [
    {
     "data": {
      "text/plain": [
       "True"
      ]
     },
     "execution_count": 1,
     "metadata": {},
     "output_type": "execute_result"
    }
   ],
   "source": [
    "\"    \".isspace()"
   ]
  },
  {
   "cell_type": "code",
   "execution_count": 3,
   "id": "92253dd0",
   "metadata": {},
   "outputs": [
    {
     "data": {
      "text/plain": [
       "True"
      ]
     },
     "execution_count": 3,
     "metadata": {},
     "output_type": "execute_result"
    }
   ],
   "source": [
    "'  \\n\\t\\t\\n   \\n\\t  '.isspace()\n",
    "\n",
    "# white space -> \"\\n\", \"\\t\", \" \""
   ]
  },
  {
   "cell_type": "code",
   "execution_count": 4,
   "id": "56871817",
   "metadata": {},
   "outputs": [
    {
     "data": {
      "text/plain": [
       "True"
      ]
     },
     "execution_count": 4,
     "metadata": {},
     "output_type": "execute_result"
    }
   ],
   "source": [
    "\"9873248734\".isdigit()"
   ]
  },
  {
   "cell_type": "code",
   "execution_count": 15,
   "id": "4469c117",
   "metadata": {},
   "outputs": [
    {
     "data": {
      "text/plain": [
       "'ट'"
      ]
     },
     "execution_count": 15,
     "metadata": {},
     "output_type": "execute_result"
    }
   ],
   "source": [
    "chr(2335)"
   ]
  },
  {
   "cell_type": "markdown",
   "id": "640da8af",
   "metadata": {},
   "source": [
    "    __method__ -> magic method"
   ]
  },
  {
   "cell_type": "markdown",
   "id": "0c74b031",
   "metadata": {},
   "source": [
    "#### PEP-8\n",
    "\n",
    "    peps.python.org\n",
    "    Python Enhancement Proposals\n",
    "    \n",
    "        PEP-8 - Guideline for Python Standard Coding Style"
   ]
  },
  {
   "cell_type": "markdown",
   "id": "fda08839",
   "metadata": {},
   "source": [
    "    \\ at the end of line denots line continuation"
   ]
  },
  {
   "cell_type": "markdown",
   "id": "916dc656",
   "metadata": {},
   "source": [
    "    Limit all lines to a maximum of 79 characters"
   ]
  },
  {
   "cell_type": "markdown",
   "id": "3a64a6fe",
   "metadata": {},
   "source": [
    "    lynting tools are used to check code quality according to standard coding style of langauge\n",
    "    \n",
    "    in python pylint is used to check code quality according to PEP-8"
   ]
  },
  {
   "cell_type": "code",
   "execution_count": 20,
   "id": "b61b4994",
   "metadata": {},
   "outputs": [
    {
     "data": {
      "text/plain": [
       "'C:\\\\Users\\\\sachin\\\\Grras Solution Pvt. Ltd\\\\KIIT_AI_ML_JUN_2022 - Live Class 📺\\\\Code'"
      ]
     },
     "execution_count": 20,
     "metadata": {},
     "output_type": "execute_result"
    }
   ],
   "source": [
    "pwd"
   ]
  },
  {
   "cell_type": "code",
   "execution_count": 23,
   "id": "9e6fb7cc",
   "metadata": {},
   "outputs": [
    {
     "name": "stdout",
     "output_type": "stream",
     "text": [
      "Overwriting hello.py\n"
     ]
    }
   ],
   "source": [
    "%%writefile hello.py\n",
    "\"\"\"\n",
    "    this a very simple python script to greet user.\n",
    "\"\"\"\n",
    "\n",
    "name = input('enter your name: ')\n",
    "\n",
    "print(f\"Hello, user {name} welcome to python.\")\n"
   ]
  },
  {
   "cell_type": "code",
   "execution_count": null,
   "id": "b86b03d3",
   "metadata": {},
   "outputs": [],
   "source": []
  },
  {
   "cell_type": "code",
   "execution_count": null,
   "id": "71104a93",
   "metadata": {},
   "outputs": [],
   "source": []
  },
  {
   "cell_type": "code",
   "execution_count": 18,
   "id": "c4bba918",
   "metadata": {},
   "outputs": [
    {
     "name": "stdout",
     "output_type": "stream",
     "text": [
      "hello this is a very very long string i am writing to demonstrate what we mean by line width guidline\n"
     ]
    }
   ],
   "source": [
    "s = \"hello this is a very very \\\n",
    "long string i am writing to \\\n",
    "demonstrate what we mean by \\\n",
    "line width guidline\"\n",
    "\n",
    "print(s)"
   ]
  },
  {
   "cell_type": "markdown",
   "id": "28ea03aa",
   "metadata": {},
   "source": [
    "#### Over-riding \n",
    "    \n",
    "    "
   ]
  },
  {
   "cell_type": "markdown",
   "id": "1d19ace8",
   "metadata": {},
   "source": [
    "    print -> reference -> built-in -> print"
   ]
  },
  {
   "cell_type": "code",
   "execution_count": 27,
   "id": "a75c7625",
   "metadata": {},
   "outputs": [
    {
     "ename": "TypeError",
     "evalue": "'int' object is not callable",
     "output_type": "error",
     "traceback": [
      "\u001b[1;31m---------------------------------------------------------------------------\u001b[0m",
      "\u001b[1;31mTypeError\u001b[0m                                 Traceback (most recent call last)",
      "Input \u001b[1;32mIn [27]\u001b[0m, in \u001b[0;36m<cell line: 2>\u001b[1;34m()\u001b[0m\n\u001b[0;32m      1\u001b[0m x \u001b[38;5;241m=\u001b[39m \u001b[38;5;241m5\u001b[39m\n\u001b[1;32m----> 2\u001b[0m \u001b[43mx\u001b[49m\u001b[43m(\u001b[49m\u001b[38;5;241;43m10\u001b[39;49m\u001b[43m)\u001b[49m\n",
      "\u001b[1;31mTypeError\u001b[0m: 'int' object is not callable"
     ]
    }
   ],
   "source": [
    "x = 5\n",
    "x(10)"
   ]
  },
  {
   "cell_type": "code",
   "execution_count": 2,
   "id": "ebe5550f",
   "metadata": {},
   "outputs": [
    {
     "data": {
      "text/plain": [
       "32"
      ]
     },
     "execution_count": 2,
     "metadata": {},
     "output_type": "execute_result"
    }
   ],
   "source": [
    "pow(2, 5)"
   ]
  },
  {
   "cell_type": "code",
   "execution_count": null,
   "id": "199a59f1",
   "metadata": {},
   "outputs": [],
   "source": [
    "pow"
   ]
  },
  {
   "cell_type": "code",
   "execution_count": 3,
   "id": "800bd768",
   "metadata": {},
   "outputs": [
    {
     "data": {
      "text/plain": [
       "4"
      ]
     },
     "execution_count": 3,
     "metadata": {},
     "output_type": "execute_result"
    }
   ],
   "source": [
    "max([1, 2, 3, 4, 3])"
   ]
  },
  {
   "cell_type": "code",
   "execution_count": 5,
   "id": "92caf361",
   "metadata": {},
   "outputs": [
    {
     "data": {
      "text/plain": [
       "4"
      ]
     },
     "execution_count": 5,
     "metadata": {},
     "output_type": "execute_result"
    }
   ],
   "source": [
    "min([5, 4, 7, 5])"
   ]
  },
  {
   "cell_type": "code",
   "execution_count": 6,
   "id": "d88f9248",
   "metadata": {},
   "outputs": [
    {
     "data": {
      "text/plain": [
       "15"
      ]
     },
     "execution_count": 6,
     "metadata": {},
     "output_type": "execute_result"
    }
   ],
   "source": [
    "sum([1, 2, 3, 4, 5])"
   ]
  },
  {
   "cell_type": "code",
   "execution_count": 24,
   "id": "0939b008",
   "metadata": {},
   "outputs": [],
   "source": [
    "print = 10"
   ]
  },
  {
   "cell_type": "code",
   "execution_count": 25,
   "id": "d0f9b115",
   "metadata": {},
   "outputs": [
    {
     "ename": "TypeError",
     "evalue": "'int' object is not callable",
     "output_type": "error",
     "traceback": [
      "\u001b[1;31m---------------------------------------------------------------------------\u001b[0m",
      "\u001b[1;31mTypeError\u001b[0m                                 Traceback (most recent call last)",
      "Input \u001b[1;32mIn [25]\u001b[0m, in \u001b[0;36m<cell line: 1>\u001b[1;34m()\u001b[0m\n\u001b[1;32m----> 1\u001b[0m \u001b[38;5;28;43mprint\u001b[39;49m\u001b[43m(\u001b[49m\u001b[38;5;241;43m10\u001b[39;49m\u001b[43m)\u001b[49m\n",
      "\u001b[1;31mTypeError\u001b[0m: 'int' object is not callable"
     ]
    }
   ],
   "source": [
    "print(10)"
   ]
  },
  {
   "cell_type": "code",
   "execution_count": 1,
   "id": "992151c7",
   "metadata": {},
   "outputs": [
    {
     "name": "stdout",
     "output_type": "stream",
     "text": [
      "hello world!\n"
     ]
    }
   ],
   "source": [
    "print(\"hello world!\")"
   ]
  },
  {
   "cell_type": "code",
   "execution_count": 7,
   "id": "d9909c8e",
   "metadata": {},
   "outputs": [
    {
     "name": "stdout",
     "output_type": "stream",
     "text": [
      "['False', 'None', 'True', '__peg_parser__', 'and', 'as', 'assert', 'async', 'await', 'break', 'class', 'continue', 'def', 'del', 'elif', 'else', 'except', 'finally', 'for', 'from', 'global', 'if', 'import', 'in', 'is', 'lambda', 'nonlocal', 'not', 'or', 'pass', 'raise', 'return', 'try', 'while', 'with', 'yield']\n"
     ]
    }
   ],
   "source": [
    "from keyword import kwlist\n",
    "print(kwlist)"
   ]
  },
  {
   "cell_type": "code",
   "execution_count": 11,
   "id": "5e4bc74b",
   "metadata": {},
   "outputs": [
    {
     "name": "stdout",
     "output_type": "stream",
     "text": [
      "['ArithmeticError', 'AssertionError', 'AttributeError', 'BaseException', 'BlockingIOError', 'BrokenPipeError', 'BufferError', 'BytesWarning', 'ChildProcessError', 'ConnectionAbortedError', 'ConnectionError', 'ConnectionRefusedError', 'ConnectionResetError', 'DeprecationWarning', 'EOFError', 'Ellipsis', 'EnvironmentError', 'Exception', 'False', 'FileExistsError', 'FileNotFoundError', 'FloatingPointError', 'FutureWarning', 'GeneratorExit', 'IOError', 'ImportError', 'ImportWarning', 'IndentationError', 'IndexError', 'InterruptedError', 'IsADirectoryError', 'KeyError', 'KeyboardInterrupt', 'LookupError', 'MemoryError', 'ModuleNotFoundError', 'NameError', 'None', 'NotADirectoryError', 'NotImplemented', 'NotImplementedError', 'OSError', 'OverflowError', 'PendingDeprecationWarning', 'PermissionError', 'ProcessLookupError', 'RecursionError', 'ReferenceError', 'ResourceWarning', 'RuntimeError', 'RuntimeWarning', 'StopAsyncIteration', 'StopIteration', 'SyntaxError', 'SyntaxWarning', 'SystemError', 'SystemExit', 'TabError', 'TimeoutError', 'True', 'TypeError', 'UnboundLocalError', 'UnicodeDecodeError', 'UnicodeEncodeError', 'UnicodeError', 'UnicodeTranslateError', 'UnicodeWarning', 'UserWarning', 'ValueError', 'Warning', 'WindowsError', 'ZeroDivisionError', '__IPYTHON__', '__build_class__', '__debug__', '__doc__', '__import__', '__loader__', '__name__', '__package__', '__spec__', 'abs', 'all', 'any', 'ascii', 'bin', 'bool', 'breakpoint', 'bytearray', 'bytes', 'callable', 'chr', 'classmethod', 'compile', 'complex', 'copyright', 'credits', 'delattr', 'dict', 'dir', 'display', 'divmod', 'enumerate', 'eval', 'exec', 'execfile', 'filter', 'float', 'format', 'frozenset', 'get_ipython', 'getattr', 'globals', 'hasattr', 'hash', 'help', 'hex', 'id', 'input', 'int', 'isinstance', 'issubclass', 'iter', 'len', 'license', 'list', 'locals', 'map', 'max', 'memoryview', 'min', 'next', 'object', 'oct', 'open', 'ord', 'pow', 'print', 'property', 'range', 'repr', 'reversed', 'round', 'runfile', 'set', 'setattr', 'slice', 'sorted', 'staticmethod', 'str', 'sum', 'super', 'tuple', 'type', 'vars', 'zip']\n"
     ]
    }
   ],
   "source": [
    "import builtins\n",
    "print(dir(builtins))"
   ]
  },
  {
   "cell_type": "markdown",
   "id": "7a145b90",
   "metadata": {},
   "source": [
    "#### Rules of identifer\n",
    "\n",
    "    * identifer name should start with an alphabate [a-zA-Z_]\n",
    "    * it should only consists alphanumeric [a-zA-Z_0-9]\n",
    "    * identifier name should be meaning full\n",
    "    * do not use identifier name same built-in function name or keywords or any standard library name\n",
    "    "
   ]
  },
  {
   "cell_type": "code",
   "execution_count": 17,
   "id": "7ecd720f",
   "metadata": {},
   "outputs": [],
   "source": [
    "_var = \"don't put _ at begning untill you know what you are doing ?\""
   ]
  },
  {
   "cell_type": "markdown",
   "id": "200a39ac",
   "metadata": {},
   "source": [
    "    _ are used define special variable"
   ]
  },
  {
   "cell_type": "code",
   "execution_count": 19,
   "id": "92cc31e4",
   "metadata": {},
   "outputs": [
    {
     "name": "stdout",
     "output_type": "stream",
     "text": [
      "0\n"
     ]
    }
   ],
   "source": [
    "sum_ = 0\n",
    "print(sum_)"
   ]
  },
  {
   "cell_type": "code",
   "execution_count": 18,
   "id": "7078c13a",
   "metadata": {},
   "outputs": [
    {
     "name": "stdout",
     "output_type": "stream",
     "text": [
      "__main__\n"
     ]
    }
   ],
   "source": [
    "print(__name__)"
   ]
  },
  {
   "cell_type": "code",
   "execution_count": 16,
   "id": "f7c86abe",
   "metadata": {},
   "outputs": [
    {
     "name": "stdout",
     "output_type": "stream",
     "text": [
      "100\n"
     ]
    }
   ],
   "source": [
    "n_1 = 100\n",
    "print(n_1)"
   ]
  },
  {
   "cell_type": "code",
   "execution_count": 14,
   "id": "98e42b53",
   "metadata": {},
   "outputs": [
    {
     "ename": "SyntaxError",
     "evalue": "invalid decimal literal (3472826087.py, line 1)",
     "output_type": "error",
     "traceback": [
      "\u001b[1;36m  Input \u001b[1;32mIn [14]\u001b[1;36m\u001b[0m\n\u001b[1;33m    1_n = 100\u001b[0m\n\u001b[1;37m     ^\u001b[0m\n\u001b[1;31mSyntaxError\u001b[0m\u001b[1;31m:\u001b[0m invalid decimal literal\n"
     ]
    }
   ],
   "source": [
    "1_n = 100"
   ]
  },
  {
   "cell_type": "code",
   "execution_count": 13,
   "id": "5bd355cd",
   "metadata": {},
   "outputs": [],
   "source": [
    "first_name  = \"sachin\""
   ]
  },
  {
   "cell_type": "code",
   "execution_count": 12,
   "id": "b03d0e4a",
   "metadata": {},
   "outputs": [
    {
     "ename": "SyntaxError",
     "evalue": "invalid syntax (1180125660.py, line 1)",
     "output_type": "error",
     "traceback": [
      "\u001b[1;36m  Input \u001b[1;32mIn [12]\u001b[1;36m\u001b[0m\n\u001b[1;33m    first name = \"sachin\"\u001b[0m\n\u001b[1;37m          ^\u001b[0m\n\u001b[1;31mSyntaxError\u001b[0m\u001b[1;31m:\u001b[0m invalid syntax\n"
     ]
    }
   ],
   "source": [
    "first name = \"sachin\""
   ]
  },
  {
   "cell_type": "code",
   "execution_count": null,
   "id": "d058b879",
   "metadata": {},
   "outputs": [],
   "source": [
    "x = 5\n",
    "# x -> identifier /refrence"
   ]
  },
  {
   "cell_type": "code",
   "execution_count": 16,
   "id": "150068e0",
   "metadata": {},
   "outputs": [
    {
     "name": "stdout",
     "output_type": "stream",
     "text": [
      "True\n"
     ]
    }
   ],
   "source": [
    "s = \"aklsdfkdjfADAFDFट\"\n",
    "ans = s.isalpha() # [a-zA-Z] # encoding -> utf-8\n",
    "print(ans)"
   ]
  },
  {
   "cell_type": "code",
   "execution_count": 9,
   "id": "08470901",
   "metadata": {},
   "outputs": [
    {
     "name": "stdout",
     "output_type": "stream",
     "text": [
      "True\n"
     ]
    }
   ],
   "source": [
    "s = \"ksdjfk2347asdflkj\"\n",
    "ans = s.isalnum()\n",
    "print(ans)"
   ]
  },
  {
   "cell_type": "code",
   "execution_count": null,
   "id": "5bd4ebe1",
   "metadata": {},
   "outputs": [],
   "source": []
  },
  {
   "cell_type": "code",
   "execution_count": 17,
   "id": "e9d26238",
   "metadata": {},
   "outputs": [
    {
     "name": "stdout",
     "output_type": "stream",
     "text": [
      "True\n"
     ]
    }
   ],
   "source": [
    "n = \"123455\"\n",
    "ans = n.isdigit()\n",
    "print(ans)"
   ]
  },
  {
   "cell_type": "code",
   "execution_count": null,
   "id": "a885e857",
   "metadata": {},
   "outputs": [],
   "source": []
  },
  {
   "cell_type": "code",
   "execution_count": 20,
   "id": "29b6357c",
   "metadata": {},
   "outputs": [
    {
     "name": "stdout",
     "output_type": "stream",
     "text": [
      "False\n"
     ]
    }
   ],
   "source": [
    "ans = \"1n\".isidentifier()\n",
    "print(ans)"
   ]
  },
  {
   "cell_type": "markdown",
   "id": "763a1885",
   "metadata": {},
   "source": [
    "### Numbers\n",
    "\n",
    "    int, float, complex\n",
    "    \n",
    "        immutable / atomic\n",
    "        \n",
    "        arithmatic opertors - +, -, *, /, //, **\n",
    "    \n",
    "### Strings\n",
    "\n",
    "    collection of letters (utf-8)\n",
    "    immutable\n",
    "    ordered sequentially - indexing / slicing\n",
    "    \n",
    "    \n",
    "    methods\n",
    "    \n",
    "        split, join, replace, strip\n",
    "        \n",
    "        islower, isupper, isdigit, isalpha, isalnum, isnumeric, isspace, isidentfier\n",
    "        \n",
    "        center, ljust, rjust"
   ]
  },
  {
   "cell_type": "markdown",
   "id": "5b1b4266",
   "metadata": {},
   "source": [
    "    strip() -> both side\n",
    "    lstrip() -> left side\n",
    "    rstrip() -> right side"
   ]
  },
  {
   "cell_type": "code",
   "execution_count": 24,
   "id": "b38bab87",
   "metadata": {},
   "outputs": [
    {
     "name": "stdout",
     "output_type": "stream",
     "text": [
      "'Hello World!                  ' Left Justification\n",
      "'         Hello World!         ' Right Justification\n",
      "'                  Hello World!' Center Justification\n"
     ]
    }
   ],
   "source": [
    "msg = \"Hello World!\"\n",
    "width = 30\n",
    "# Formatting\n",
    "s1 = msg.ljust(width)\n",
    "print(repr(s1), \"Left Justification\")\n",
    "s2 = msg.center(width)\n",
    "print(repr(s2), \"Right Justification\")\n",
    "s3 = msg.rjust(width)\n",
    "print(repr(s3), \"Center Justification\")"
   ]
  },
  {
   "cell_type": "code",
   "execution_count": 26,
   "id": "ddf58893",
   "metadata": {},
   "outputs": [
    {
     "name": "stdout",
     "output_type": "stream",
     "text": [
      "Hello, Sachin                           \n",
      "                          Hey, What's up\n",
      "can we meet at 8pm today ?              \n",
      "      yeah! offcourse meet at at stadium\n"
     ]
    }
   ],
   "source": [
    "width = 40\n",
    "print(\"Hello, Sachin\".ljust(width))\n",
    "print(\"Hey, What's up\".rjust(width))\n",
    "print(\"can we meet at 8pm today ?\".ljust(width))\n",
    "print(\"yeah! offcourse meet at at stadium\".rjust(width))"
   ]
  },
  {
   "cell_type": "code",
   "execution_count": 27,
   "id": "483308ca",
   "metadata": {},
   "outputs": [],
   "source": [
    "temp = \"\"\"\n",
    "    okay! something will come here {}\n",
    "    and than {} and than {}\n",
    "\"\"\""
   ]
  },
  {
   "cell_type": "code",
   "execution_count": 29,
   "id": "54264a96",
   "metadata": {},
   "outputs": [
    {
     "name": "stdout",
     "output_type": "stream",
     "text": [
      "\n",
      "    okay! something will come here {}\n",
      "    and than {} and than {}\n",
      "\n"
     ]
    }
   ],
   "source": [
    "print(temp) # without formatting"
   ]
  },
  {
   "cell_type": "code",
   "execution_count": 31,
   "id": "0956797b",
   "metadata": {},
   "outputs": [
    {
     "name": "stdout",
     "output_type": "stream",
     "text": [
      "\n",
      "    okay! something will come here first is first\n",
      "    and than ha ha ha and than yepp!\n",
      "\n"
     ]
    }
   ],
   "source": [
    "ns = temp.format('first is first', 'ha ha ha', \"yepp!\")\n",
    "print(ns)"
   ]
  },
  {
   "cell_type": "code",
   "execution_count": null,
   "id": "f4abf7dd",
   "metadata": {},
   "outputs": [],
   "source": []
  },
  {
   "cell_type": "markdown",
   "id": "37824336",
   "metadata": {},
   "source": [
    "#### wrapping "
   ]
  },
  {
   "cell_type": "code",
   "execution_count": 32,
   "id": "9cdb52b4",
   "metadata": {},
   "outputs": [
    {
     "name": "stdout",
     "output_type": "stream",
     "text": [
      "person 1 name: sachin yadav\n",
      "person 2 name: ram\n",
      "Hello sachin yadav, Welcome to python world!\n",
      "Hello ram, Welcome to python world!\n"
     ]
    }
   ],
   "source": [
    "name1 = input(\"person 1 name: \")\n",
    "name2 = input(\"person 2 name: \")\n",
    "\n",
    "msg = \"Hello {}, Welcome to python world!\"\n",
    "\n",
    "print(msg.format(name1))\n",
    "print(msg.format(name2))"
   ]
  },
  {
   "cell_type": "markdown",
   "id": "e084e062",
   "metadata": {},
   "source": [
    "            :<20   -> str.ljust(20)\n",
    "            :>20   -> str.rjust(20)\n",
    "            :^20   -> str.center(20)"
   ]
  },
  {
   "cell_type": "code",
   "execution_count": 37,
   "id": "7d5cc372",
   "metadata": {},
   "outputs": [
    {
     "name": "stdout",
     "output_type": "stream",
     "text": [
      "x =  1123, y =    20\n"
     ]
    }
   ],
   "source": [
    "width = 5\n",
    "x = 1123\n",
    "y = 20\n",
    "\n",
    "print(f\"x = {x:>{width}}, y = {y:>{width}}\")"
   ]
  },
  {
   "cell_type": "code",
   "execution_count": null,
   "id": "618b41f1",
   "metadata": {},
   "outputs": [],
   "source": []
  },
  {
   "cell_type": "code",
   "execution_count": 35,
   "id": "2ce89a95",
   "metadata": {},
   "outputs": [
    {
     "name": "stdout",
     "output_type": "stream",
     "text": [
      "person 1 name: sachin\n",
      "person 2 name: ram\n",
      "Hello sachin    , Welcome to python world!\n",
      "Hello ram       , Welcome to python world!\n"
     ]
    }
   ],
   "source": [
    "name1 = input(\"person 1 name: \")\n",
    "name2 = input(\"person 2 name: \")\n",
    "W = 10\n",
    "msg = \"Hello {:<{width}}, Welcome to python world!\"\n",
    "print(msg.format(name1, width=W))\n",
    "print(msg.format(name2, width=W))"
   ]
  },
  {
   "cell_type": "markdown",
   "id": "6d53f3bd",
   "metadata": {},
   "source": [
    "#### any doubt ? "
   ]
  },
  {
   "cell_type": "markdown",
   "id": "e8d77ba2",
   "metadata": {},
   "source": [
    "#### Slicing / Indexing / List\n",
    "\n",
    "#### Dictionary "
   ]
  },
  {
   "cell_type": "code",
   "execution_count": null,
   "id": "754d659c",
   "metadata": {},
   "outputs": [],
   "source": []
  }
 ],
 "metadata": {
  "kernelspec": {
   "display_name": "Python 3 (ipykernel)",
   "language": "python",
   "name": "python3"
  },
  "language_info": {
   "codemirror_mode": {
    "name": "ipython",
    "version": 3
   },
   "file_extension": ".py",
   "mimetype": "text/x-python",
   "name": "python",
   "nbconvert_exporter": "python",
   "pygments_lexer": "ipython3",
   "version": "3.9.12"
  }
 },
 "nbformat": 4,
 "nbformat_minor": 5
}

{
 "cells": [
  {
   "cell_type": "code",
   "execution_count": 1,
   "id": "efc04d58",
   "metadata": {},
   "outputs": [
    {
     "name": "stdout",
     "output_type": "stream",
     "text": [
      "Hello World!\n"
     ]
    }
   ],
   "source": [
    "# code -> markdown\n",
    "print(\"Hello World!\")"
   ]
  },
  {
   "cell_type": "markdown",
   "id": "93da1356",
   "metadata": {},
   "source": [
    "# Built-In Data Type\n",
    "\n",
    "    1. Numbers - int, float, complex\n",
    "    2. Strings\n",
    "    3. List\n",
    "    4. Tuple\n",
    "    5. Dictionary\n",
    "    6. Set\n",
    "    7. FrozenSet\n",
    "    8. Boolean\n",
    "    9. None\n",
    "    \n",
    "    code -> markdown -> ESC + m\n",
    "    \n",
    "    markdown -> code -> ESC + y"
   ]
  },
  {
   "cell_type": "markdown",
   "id": "ed53a45b",
   "metadata": {},
   "source": [
    "![Alternate Text](https://hackernoon.com/images/B6I7WEwrKubf11jAWFL33iiMzR13-972831vv.jpeg)"
   ]
  },
  {
   "cell_type": "markdown",
   "id": "4464d206",
   "metadata": {},
   "source": [
    "![alt](data_type.jpg)"
   ]
  },
  {
   "cell_type": "code",
   "execution_count": 4,
   "id": "7b119619",
   "metadata": {},
   "outputs": [
    {
     "name": "stdout",
     "output_type": "stream",
     "text": [
      "The Zen of Python, by Tim Peters\n",
      "\n",
      "Beautiful is better than ugly.\n",
      "Explicit is better than implicit.\n",
      "Simple is better than complex.\n",
      "Complex is better than complicated.\n",
      "Flat is better than nested.\n",
      "Sparse is better than dense.\n",
      "Readability counts.\n",
      "Special cases aren't special enough to break the rules.\n",
      "Although practicality beats purity.\n",
      "Errors should never pass silently.\n",
      "Unless explicitly silenced.\n",
      "In the face of ambiguity, refuse the temptation to guess.\n",
      "There should be one-- and preferably only one --obvious way to do it.\n",
      "Although that way may not be obvious at first unless you're Dutch.\n",
      "Now is better than never.\n",
      "Although never is often better than *right* now.\n",
      "If the implementation is hard to explain, it's a bad idea.\n",
      "If the implementation is easy to explain, it may be a good idea.\n",
      "Namespaces are one honking great idea -- let's do more of those!\n"
     ]
    }
   ],
   "source": [
    "import this\n",
    "# Zen of Python / Design Priciple of Python"
   ]
  },
  {
   "cell_type": "code",
   "execution_count": 5,
   "id": "c80d1e99",
   "metadata": {},
   "outputs": [
    {
     "data": {
      "text/plain": [
       "6"
      ]
     },
     "execution_count": 5,
     "metadata": {},
     "output_type": "execute_result"
    }
   ],
   "source": [
    "len(\"sachin\") # str.__len__"
   ]
  },
  {
   "cell_type": "code",
   "execution_count": 6,
   "id": "331cd0cf",
   "metadata": {},
   "outputs": [
    {
     "data": {
      "text/plain": [
       "4"
      ]
     },
     "execution_count": 6,
     "metadata": {},
     "output_type": "execute_result"
    }
   ],
   "source": [
    "len([1, 2, 3, 4]) # list.__len__"
   ]
  },
  {
   "cell_type": "markdown",
   "id": "671da26f",
   "metadata": {},
   "source": [
    "`duck typing`\n",
    "\n",
    "    having methods name same across multiple classes "
   ]
  },
  {
   "cell_type": "code",
   "execution_count": 7,
   "id": "428e375d",
   "metadata": {},
   "outputs": [
    {
     "name": "stdout",
     "output_type": "stream",
     "text": [
      "5 <class 'int'>\n",
      "6.02 <class 'float'>\n",
      "hello <class 'str'>\n",
      "[1, 2, 3] <class 'list'>\n"
     ]
    }
   ],
   "source": [
    "a = 5 # overide\n",
    "print(a, type(a))\n",
    "a = 6.02\n",
    "print(a, type(a))\n",
    "a = \"hello\"\n",
    "print(a, type(a))\n",
    "a = [1, 2, 3]\n",
    "print(a, type(a))"
   ]
  },
  {
   "cell_type": "markdown",
   "id": "9a96fcb1",
   "metadata": {},
   "source": [
    "    + -> __add__"
   ]
  },
  {
   "cell_type": "markdown",
   "id": "baec9cca",
   "metadata": {},
   "source": [
    "![alt](1.class_diagram.png)"
   ]
  },
  {
   "cell_type": "code",
   "execution_count": 3,
   "id": "959b3f69",
   "metadata": {},
   "outputs": [
    {
     "name": "stdout",
     "output_type": "stream",
     "text": [
      "Hello World!\n"
     ]
    }
   ],
   "source": [
    "s = \"Hello \" + \"World!\"\n",
    "print(s)"
   ]
  },
  {
   "cell_type": "code",
   "execution_count": 14,
   "id": "5107c53f",
   "metadata": {},
   "outputs": [
    {
     "name": "stdout",
     "output_type": "stream",
     "text": [
      "140730015033264\n",
      "5\n",
      "<class 'int'>\n",
      "['__abs__', '__add__', '__and__', '__bool__', '__ceil__', '__class__', '__delattr__', '__dir__', '__divmod__', '__doc__', '__eq__', '__float__', '__floor__', '__floordiv__', '__format__', '__ge__', '__getattribute__', '__getnewargs__', '__gt__', '__hash__', '__index__', '__init__', '__init_subclass__', '__int__', '__invert__', '__le__', '__lshift__', '__lt__', '__mod__', '__mul__', '__ne__', '__neg__', '__new__', '__or__', '__pos__', '__pow__', '__radd__', '__rand__', '__rdivmod__', '__reduce__', '__reduce_ex__', '__repr__', '__rfloordiv__', '__rlshift__', '__rmod__', '__rmul__', '__ror__', '__round__', '__rpow__', '__rrshift__', '__rshift__', '__rsub__', '__rtruediv__', '__rxor__', '__setattr__', '__sizeof__', '__str__', '__sub__', '__subclasshook__', '__truediv__', '__trunc__', '__xor__', 'as_integer_ratio', 'bit_length', 'conjugate', 'denominator', 'from_bytes', 'imag', 'numerator', 'real', 'to_bytes']\n",
      "Help on built-in function bit_length:\n",
      "\n",
      "bit_length() method of builtins.int instance\n",
      "    Number of bits necessary to represent self in binary.\n",
      "    \n",
      "    >>> bin(37)\n",
      "    '0b100101'\n",
      "    >>> (37).bit_length()\n",
      "    6\n",
      "\n"
     ]
    }
   ],
   "source": [
    "s = 5\n",
    "print(id(s))\n",
    "print(s)\n",
    "print(type(s))\n",
    "print(dir(s))\n",
    "help(s.bit_length)"
   ]
  },
  {
   "cell_type": "code",
   "execution_count": 15,
   "id": "7ec123ff",
   "metadata": {},
   "outputs": [
    {
     "name": "stdout",
     "output_type": "stream",
     "text": [
      "['__add__', '__class__', '__contains__', '__delattr__', '__dir__', '__doc__', '__eq__', '__format__', '__ge__', '__getattribute__', '__getitem__', '__getnewargs__', '__gt__', '__hash__', '__init__', '__init_subclass__', '__iter__', '__le__', '__len__', '__lt__', '__mod__', '__mul__', '__ne__', '__new__', '__reduce__', '__reduce_ex__', '__repr__', '__rmod__', '__rmul__', '__setattr__', '__sizeof__', '__str__', '__subclasshook__', 'capitalize', 'casefold', 'center', 'count', 'encode', 'endswith', 'expandtabs', 'find', 'format', 'format_map', 'index', 'isalnum', 'isalpha', 'isascii', 'isdecimal', 'isdigit', 'isidentifier', 'islower', 'isnumeric', 'isprintable', 'isspace', 'istitle', 'isupper', 'join', 'ljust', 'lower', 'lstrip', 'maketrans', 'partition', 'replace', 'rfind', 'rindex', 'rjust', 'rpartition', 'rsplit', 'rstrip', 'split', 'splitlines', 'startswith', 'strip', 'swapcase', 'title', 'translate', 'upper', 'zfill']\n"
     ]
    }
   ],
   "source": [
    "print(dir(\"hello\"))"
   ]
  },
  {
   "cell_type": "markdown",
   "id": "3eeefe9f",
   "metadata": {},
   "source": [
    "    shell -> jupyter shell -> shell output\n",
    "\n",
    "    script -> print "
   ]
  },
  {
   "cell_type": "code",
   "execution_count": 17,
   "id": "61c368d8",
   "metadata": {},
   "outputs": [
    {
     "name": "stdout",
     "output_type": "stream",
     "text": [
      "1693580281712\n"
     ]
    }
   ],
   "source": [
    "print(id(\"hello\")) # standard output"
   ]
  },
  {
   "cell_type": "code",
   "execution_count": 16,
   "id": "549e997b",
   "metadata": {},
   "outputs": [
    {
     "data": {
      "text/plain": [
       "1693596618544"
      ]
     },
     "execution_count": 16,
     "metadata": {},
     "output_type": "execute_result"
    }
   ],
   "source": [
    "id(\"hello\") # shell output"
   ]
  },
  {
   "cell_type": "code",
   "execution_count": 12,
   "id": "50b7cf5c",
   "metadata": {},
   "outputs": [
    {
     "name": "stdout",
     "output_type": "stream",
     "text": [
      "1693597953520\n",
      "hello\n",
      "<class 'str'>\n",
      "['__add__', '__class__', '__contains__', '__delattr__', '__dir__', '__doc__', '__eq__', '__format__', '__ge__', '__getattribute__', '__getitem__', '__getnewargs__', '__gt__', '__hash__', '__init__', '__init_subclass__', '__iter__', '__le__', '__len__', '__lt__', '__mod__', '__mul__', '__ne__', '__new__', '__reduce__', '__reduce_ex__', '__repr__', '__rmod__', '__rmul__', '__setattr__', '__sizeof__', '__str__', '__subclasshook__', 'capitalize', 'casefold', 'center', 'count', 'encode', 'endswith', 'expandtabs', 'find', 'format', 'format_map', 'index', 'isalnum', 'isalpha', 'isascii', 'isdecimal', 'isdigit', 'isidentifier', 'islower', 'isnumeric', 'isprintable', 'isspace', 'istitle', 'isupper', 'join', 'ljust', 'lower', 'lstrip', 'maketrans', 'partition', 'replace', 'rfind', 'rindex', 'rjust', 'rpartition', 'rsplit', 'rstrip', 'split', 'splitlines', 'startswith', 'strip', 'swapcase', 'title', 'translate', 'upper', 'zfill']\n",
      "Help on built-in function strip:\n",
      "\n",
      "strip(chars=None, /) method of builtins.str instance\n",
      "    Return a copy of the string with leading and trailing whitespace removed.\n",
      "    \n",
      "    If chars is given and not None, remove characters in chars instead.\n",
      "\n"
     ]
    }
   ],
   "source": [
    "s = \"hello\"\n",
    "print(id(s))\n",
    "print(s)\n",
    "print(type(s))\n",
    "print(dir(s))\n",
    "help(s.strip)"
   ]
  },
  {
   "cell_type": "code",
   "execution_count": 22,
   "id": "68eb0f7f",
   "metadata": {},
   "outputs": [],
   "source": [
    "import matplotlib.pyplot as plt\n",
    "import random"
   ]
  },
  {
   "cell_type": "code",
   "execution_count": 33,
   "id": "31d01268",
   "metadata": {},
   "outputs": [],
   "source": [
    "#print(dir(plt))\n",
    "#help(plt.plot)"
   ]
  },
  {
   "cell_type": "code",
   "execution_count": 24,
   "id": "534dc86c",
   "metadata": {},
   "outputs": [],
   "source": [
    "x = [ 1, 2, 3, 4, 5, 6, 7, 8, 9, 10]\n",
    "y = [ random.randint(10, 30) for _ in range(10)]"
   ]
  },
  {
   "cell_type": "code",
   "execution_count": 25,
   "id": "5ffe239a",
   "metadata": {},
   "outputs": [
    {
     "name": "stdout",
     "output_type": "stream",
     "text": [
      "[1, 2, 3, 4, 5, 6, 7, 8, 9, 10]\n",
      "[26, 11, 13, 25, 13, 27, 10, 23, 15, 26]\n"
     ]
    }
   ],
   "source": [
    "\n",
    "print(x)\n",
    "print(y)"
   ]
  },
  {
   "cell_type": "code",
   "execution_count": 34,
   "id": "c369214d",
   "metadata": {},
   "outputs": [
    {
     "data": {
      "image/png": "[encoded data removed]",
      "text/plain": [
       "<Figure size 432x288 with 1 Axes>"
      ]
     },
     "metadata": {
      "needs_background": "light"
     },
     "output_type": "display_data"
    }
   ],
   "source": [
    "plt.plot(x, y, 'cD:')\n",
    "plt.show()"
   ]
  },
  {
   "cell_type": "markdown",
   "id": "103f8559",
   "metadata": {},
   "source": [
    "### `Numbers`"
   ]
  },
  {
   "cell_type": "code",
   "execution_count": 2,
   "id": "c16305bf",
   "metadata": {},
   "outputs": [],
   "source": [
    "import sys"
   ]
  },
  {
   "cell_type": "code",
   "execution_count": 9,
   "id": "75f4e6e7",
   "metadata": {},
   "outputs": [
    {
     "name": "stdout",
     "output_type": "stream",
     "text": [
      "255\n"
     ]
    }
   ],
   "source": [
    "x = 0xff\n",
    "print(x)"
   ]
  },
  {
   "cell_type": "code",
   "execution_count": 6,
   "id": "9df34937",
   "metadata": {},
   "outputs": [
    {
     "name": "stdout",
     "output_type": "stream",
     "text": [
      "11\n"
     ]
    }
   ],
   "source": [
    "x = 0b1011\n",
    "print(x)"
   ]
  },
  {
   "cell_type": "code",
   "execution_count": 10,
   "id": "4c14b9bc",
   "metadata": {},
   "outputs": [
    {
     "name": "stdout",
     "output_type": "stream",
     "text": [
      "45\n"
     ]
    }
   ],
   "source": [
    "x = 45\n",
    "print(x)"
   ]
  },
  {
   "cell_type": "code",
   "execution_count": 5,
   "id": "4d77faec",
   "metadata": {},
   "outputs": [
    {
     "name": "stdout",
     "output_type": "stream",
     "text": [
      "1\n"
     ]
    }
   ],
   "source": [
    "x = 1\n",
    "print(x)"
   ]
  },
  {
   "cell_type": "code",
   "execution_count": 4,
   "id": "1e60990b",
   "metadata": {},
   "outputs": [
    {
     "ename": "SyntaxError",
     "evalue": "leading zeros in decimal integer literals are not permitted; use an 0o prefix for octal integers (<ipython-input-4-6fe7c3686f69>, line 1)",
     "output_type": "error",
     "traceback": [
      "\u001b[1;36m  File \u001b[1;32m\"<ipython-input-4-6fe7c3686f69>\"\u001b[1;36m, line \u001b[1;32m1\u001b[0m\n\u001b[1;33m    x = 01\u001b[0m\n\u001b[1;37m         ^\u001b[0m\n\u001b[1;31mSyntaxError\u001b[0m\u001b[1;31m:\u001b[0m leading zeros in decimal integer literals are not permitted; use an 0o prefix for octal integers\n"
     ]
    }
   ],
   "source": [
    "x = 01\n",
    "print(x)"
   ]
  },
  {
   "cell_type": "code",
   "execution_count": 3,
   "id": "1aba94c7",
   "metadata": {},
   "outputs": [
    {
     "name": "stdout",
     "output_type": "stream",
     "text": [
      "999901004850843154764304477976514369139655131740633508461194231534839921730061928165918468524559784711035127337458000315861841709428648449965581720563036528559778975449288816486108390262378384273170489214859673210348574933590756152010150151328940519978842541428941575809198981648563222986501427953560053044625798093604122762079193632166451298745515082518566720858255910313691329603648838009949658744782958530043017504914393433729464748384929764551655116938062519252825189492597754483209164432338340725827672754454905076614553527220234774443152131030423470815523140235624156848995149000098999999 <class 'int'>\n",
      "288\n"
     ]
    }
   ],
   "source": [
    "x = 999999**99\n",
    "print(x, type(x))\n",
    "print(sys.getsizeof(x))"
   ]
  },
  {
   "cell_type": "markdown",
   "id": "85d00b3d",
   "metadata": {},
   "source": [
    "    4 * 8 -> 32 bit \n",
    "    \n",
    "    28 bit -> 4 bit "
   ]
  },
  {
   "cell_type": "code",
   "execution_count": 11,
   "id": "29186608",
   "metadata": {},
   "outputs": [
    {
     "name": "stdout",
     "output_type": "stream",
     "text": [
      "3.142857142857143\n"
     ]
    }
   ],
   "source": [
    "x = 22 / 7\n",
    "print(x)"
   ]
  },
  {
   "cell_type": "code",
   "execution_count": 12,
   "id": "8f2e04fb",
   "metadata": {},
   "outputs": [
    {
     "name": "stdout",
     "output_type": "stream",
     "text": [
      "384834.343577\n"
     ]
    }
   ],
   "source": [
    "x = 384834.343577\n",
    "print(x)"
   ]
  },
  {
   "cell_type": "markdown",
   "id": "1a8730f5",
   "metadata": {},
   "source": [
    "###### complex\n",
    "\n",
    "$\\sqrt{-1} = \\iota$\n",
    "\n",
    "\n",
    "$14+5\\sqrt{-1} -> 14+5\\iota$"
   ]
  },
  {
   "cell_type": "markdown",
   "id": "0cb59862",
   "metadata": {},
   "source": [
    "    j = iota"
   ]
  },
  {
   "cell_type": "code",
   "execution_count": 14,
   "id": "350f026c",
   "metadata": {},
   "outputs": [
    {
     "name": "stdout",
     "output_type": "stream",
     "text": [
      "<class 'complex'> (6.02+3.14j)\n"
     ]
    }
   ],
   "source": [
    "x = 6.02+3.14j\n",
    "print(type(x), x)"
   ]
  },
  {
   "cell_type": "markdown",
   "id": "c0f28c16",
   "metadata": {},
   "source": [
    "    int * int -> int \n",
    "    \n",
    "    int * float -> float\n",
    "\n",
    "    float * complex -> complex\n",
    "\n",
    "    int * complex -> complex"
   ]
  },
  {
   "cell_type": "code",
   "execution_count": null,
   "id": "bdf43ae3",
   "metadata": {},
   "outputs": [],
   "source": []
  },
  {
   "cell_type": "code",
   "execution_count": 16,
   "id": "7b39775b",
   "metadata": {},
   "outputs": [
    {
     "name": "stdout",
     "output_type": "stream",
     "text": [
      "['__abs__', '__add__', '__bool__', '__class__', '__delattr__', '__dir__', '__divmod__', '__doc__', '__eq__', '__float__', '__floordiv__', '__format__', '__ge__', '__getattribute__', '__getnewargs__', '__gt__', '__hash__', '__init__', '__init_subclass__', '__int__', '__le__', '__lt__', '__mod__', '__mul__', '__ne__', '__neg__', '__new__', '__pos__', '__pow__', '__radd__', '__rdivmod__', '__reduce__', '__reduce_ex__', '__repr__', '__rfloordiv__', '__rmod__', '__rmul__', '__rpow__', '__rsub__', '__rtruediv__', '__setattr__', '__sizeof__', '__str__', '__sub__', '__subclasshook__', '__truediv__', 'conjugate', 'imag', 'real']\n"
     ]
    }
   ],
   "source": [
    "print(dir(complex))"
   ]
  },
  {
   "cell_type": "code",
   "execution_count": 17,
   "id": "de8c8fde",
   "metadata": {},
   "outputs": [],
   "source": [
    "a = 3 + 4j"
   ]
  },
  {
   "cell_type": "code",
   "execution_count": 18,
   "id": "9125f938",
   "metadata": {},
   "outputs": [
    {
     "name": "stdout",
     "output_type": "stream",
     "text": [
      "3.0\n"
     ]
    }
   ],
   "source": [
    "print(a.real)"
   ]
  },
  {
   "cell_type": "code",
   "execution_count": 20,
   "id": "8c96e182",
   "metadata": {},
   "outputs": [
    {
     "name": "stdout",
     "output_type": "stream",
     "text": [
      "4.0\n"
     ]
    }
   ],
   "source": [
    "print(a.imag)"
   ]
  },
  {
   "cell_type": "code",
   "execution_count": 15,
   "id": "d93c2607",
   "metadata": {},
   "outputs": [
    {
     "name": "stdout",
     "output_type": "stream",
     "text": [
      "(25+0j)\n"
     ]
    }
   ],
   "source": [
    "a = (3+4j)\n",
    "b = (3-4j)\n",
    "c = a*b\n",
    "print(c)\n",
    "print()"
   ]
  },
  {
   "cell_type": "code",
   "execution_count": 34,
   "id": "cc388765",
   "metadata": {},
   "outputs": [
    {
     "ename": "TypeError",
     "evalue": "can't multiply sequence by non-int of type 'str'",
     "output_type": "error",
     "traceback": [
      "\u001b[1;31m---------------------------------------------------------------------------\u001b[0m",
      "\u001b[1;31mTypeError\u001b[0m                                 Traceback (most recent call last)",
      "\u001b[1;32m<ipython-input-34-20713748994f>\u001b[0m in \u001b[0;36m<module>\u001b[1;34m\u001b[0m\n\u001b[1;32m----> 1\u001b[1;33m \u001b[1;34m\"Hello \"\u001b[0m\u001b[1;33m*\u001b[0m\u001b[1;34m\"World!\"\u001b[0m\u001b[1;33m\u001b[0m\u001b[1;33m\u001b[0m\u001b[0m\n\u001b[0m",
      "\u001b[1;31mTypeError\u001b[0m: can't multiply sequence by non-int of type 'str'"
     ]
    }
   ],
   "source": [
    "\"Hello \"*\"World!\""
   ]
  },
  {
   "cell_type": "code",
   "execution_count": 38,
   "id": "ab6528a7",
   "metadata": {},
   "outputs": [
    {
     "name": "stdout",
     "output_type": "stream",
     "text": [
      "____________________\n"
     ]
    }
   ],
   "source": [
    "print(\"_\"*20)"
   ]
  },
  {
   "cell_type": "code",
   "execution_count": 35,
   "id": "38536fd6",
   "metadata": {},
   "outputs": [],
   "source": [
    "value = \"Sachin \"*108"
   ]
  },
  {
   "cell_type": "code",
   "execution_count": 36,
   "id": "aae141a0",
   "metadata": {},
   "outputs": [
    {
     "name": "stdout",
     "output_type": "stream",
     "text": [
      "Sachin Sachin Sachin Sachin Sachin Sachin Sachin Sachin Sachin Sachin Sachin Sachin Sachin Sachin Sachin Sachin Sachin Sachin Sachin Sachin Sachin Sachin Sachin Sachin Sachin Sachin Sachin Sachin Sachin Sachin Sachin Sachin Sachin Sachin Sachin Sachin Sachin Sachin Sachin Sachin Sachin Sachin Sachin Sachin Sachin Sachin Sachin Sachin Sachin Sachin Sachin Sachin Sachin Sachin Sachin Sachin Sachin Sachin Sachin Sachin Sachin Sachin Sachin Sachin Sachin Sachin Sachin Sachin Sachin Sachin Sachin Sachin Sachin Sachin Sachin Sachin Sachin Sachin Sachin Sachin Sachin Sachin Sachin Sachin Sachin Sachin Sachin Sachin Sachin Sachin Sachin Sachin Sachin Sachin Sachin Sachin Sachin Sachin Sachin Sachin Sachin Sachin Sachin Sachin Sachin Sachin Sachin Sachin \n"
     ]
    }
   ],
   "source": [
    "print(value)"
   ]
  },
  {
   "cell_type": "code",
   "execution_count": 33,
   "id": "2a8b74f7",
   "metadata": {},
   "outputs": [
    {
     "name": "stdout",
     "output_type": "stream",
     "text": [
      "['__add__', '__class__', '__contains__', '__delattr__', '__dir__', '__doc__', '__eq__', '__format__', '__ge__', '__getattribute__', '__getitem__', '__getnewargs__', '__gt__', '__hash__', '__init__', '__init_subclass__', '__iter__', '__le__', '__len__', '__lt__', '__mod__', '__mul__', '__ne__', '__new__', '__reduce__', '__reduce_ex__', '__repr__', '__rmod__', '__rmul__', '__setattr__', '__sizeof__', '__str__', '__subclasshook__', 'capitalize', 'casefold', 'center', 'count', 'encode', 'endswith', 'expandtabs', 'find', 'format', 'format_map', 'index', 'isalnum', 'isalpha', 'isascii', 'isdecimal', 'isdigit', 'isidentifier', 'islower', 'isnumeric', 'isprintable', 'isspace', 'istitle', 'isupper', 'join', 'ljust', 'lower', 'lstrip', 'maketrans', 'partition', 'replace', 'rfind', 'rindex', 'rjust', 'rpartition', 'rsplit', 'rstrip', 'split', 'splitlines', 'startswith', 'strip', 'swapcase', 'title', 'translate', 'upper', 'zfill']\n"
     ]
    }
   ],
   "source": [
    "print(dir(str))"
   ]
  },
  {
   "cell_type": "code",
   "execution_count": 32,
   "id": "d22b0532",
   "metadata": {},
   "outputs": [
    {
     "ename": "TypeError",
     "evalue": "unsupported operand type(s) for -: 'str' and 'str'",
     "output_type": "error",
     "traceback": [
      "\u001b[1;31m---------------------------------------------------------------------------\u001b[0m",
      "\u001b[1;31mTypeError\u001b[0m                                 Traceback (most recent call last)",
      "\u001b[1;32m<ipython-input-32-fe0732395be0>\u001b[0m in \u001b[0;36m<module>\u001b[1;34m\u001b[0m\n\u001b[1;32m----> 1\u001b[1;33m \u001b[1;34m\"Hello \"\u001b[0m \u001b[1;33m-\u001b[0m \u001b[1;34m\"World!\"\u001b[0m\u001b[1;33m\u001b[0m\u001b[1;33m\u001b[0m\u001b[0m\n\u001b[0m",
      "\u001b[1;31mTypeError\u001b[0m: unsupported operand type(s) for -: 'str' and 'str'"
     ]
    }
   ],
   "source": [
    "\"Hello \" - \"World!\" # __sub__"
   ]
  },
  {
   "cell_type": "code",
   "execution_count": null,
   "id": "4df9f57c",
   "metadata": {},
   "outputs": [],
   "source": []
  },
  {
   "cell_type": "code",
   "execution_count": 23,
   "id": "98747e89",
   "metadata": {},
   "outputs": [
    {
     "data": {
      "text/plain": [
       "10"
      ]
     },
     "execution_count": 23,
     "metadata": {},
     "output_type": "execute_result"
    }
   ],
   "source": [
    "5 + 5 # __add__"
   ]
  },
  {
   "cell_type": "code",
   "execution_count": 25,
   "id": "aabb2031",
   "metadata": {},
   "outputs": [
    {
     "data": {
      "text/plain": [
       "-0.23000000000000043"
      ]
     },
     "execution_count": 25,
     "metadata": {},
     "output_type": "execute_result"
    }
   ],
   "source": [
    "5 - 5.23 # __sub__"
   ]
  },
  {
   "cell_type": "code",
   "execution_count": 26,
   "id": "c1b854f8",
   "metadata": {},
   "outputs": [
    {
     "data": {
      "text/plain": [
       "(20+6j)"
      ]
     },
     "execution_count": 26,
     "metadata": {},
     "output_type": "execute_result"
    }
   ],
   "source": [
    "5 * 4+6j # __mul__"
   ]
  },
  {
   "cell_type": "code",
   "execution_count": 27,
   "id": "7031e4bf",
   "metadata": {},
   "outputs": [
    {
     "data": {
      "text/plain": [
       "0.8333333333333334"
      ]
     },
     "execution_count": 27,
     "metadata": {},
     "output_type": "execute_result"
    }
   ],
   "source": [
    "5 / 6 # __truediv__"
   ]
  },
  {
   "cell_type": "code",
   "execution_count": 29,
   "id": "b8c77d49",
   "metadata": {},
   "outputs": [
    {
     "data": {
      "text/plain": [
       "3"
      ]
     },
     "execution_count": 29,
     "metadata": {},
     "output_type": "execute_result"
    }
   ],
   "source": [
    "22 // 7 # __floordiv__"
   ]
  },
  {
   "cell_type": "code",
   "execution_count": 31,
   "id": "06e6568d",
   "metadata": {},
   "outputs": [
    {
     "data": {
      "text/plain": [
       "65536"
      ]
     },
     "execution_count": 31,
     "metadata": {},
     "output_type": "execute_result"
    }
   ],
   "source": [
    "2 ** 16 # __pow__"
   ]
  },
  {
   "cell_type": "code",
   "execution_count": 21,
   "id": "d751c5e2",
   "metadata": {},
   "outputs": [
    {
     "name": "stdout",
     "output_type": "stream",
     "text": [
      "['__abs__', '__add__', '__and__', '__bool__', '__ceil__', '__class__', '__delattr__', '__dir__', '__divmod__', '__doc__', '__eq__', '__float__', '__floor__', '__floordiv__', '__format__', '__ge__', '__getattribute__', '__getnewargs__', '__gt__', '__hash__', '__index__', '__init__', '__init_subclass__', '__int__', '__invert__', '__le__', '__lshift__', '__lt__', '__mod__', '__mul__', '__ne__', '__neg__', '__new__', '__or__', '__pos__', '__pow__', '__radd__', '__rand__', '__rdivmod__', '__reduce__', '__reduce_ex__', '__repr__', '__rfloordiv__', '__rlshift__', '__rmod__', '__rmul__', '__ror__', '__round__', '__rpow__', '__rrshift__', '__rshift__', '__rsub__', '__rtruediv__', '__rxor__', '__setattr__', '__sizeof__', '__str__', '__sub__', '__subclasshook__', '__truediv__', '__trunc__', '__xor__', 'as_integer_ratio', 'bit_length', 'conjugate', 'denominator', 'from_bytes', 'imag', 'numerator', 'real', 'to_bytes']\n"
     ]
    }
   ],
   "source": [
    "print(dir(int))"
   ]
  },
  {
   "cell_type": "code",
   "execution_count": 22,
   "id": "a2ae2960",
   "metadata": {},
   "outputs": [
    {
     "name": "stdout",
     "output_type": "stream",
     "text": [
      "['__abs__', '__add__', '__bool__', '__class__', '__delattr__', '__dir__', '__divmod__', '__doc__', '__eq__', '__float__', '__floordiv__', '__format__', '__ge__', '__getattribute__', '__getformat__', '__getnewargs__', '__gt__', '__hash__', '__init__', '__init_subclass__', '__int__', '__le__', '__lt__', '__mod__', '__mul__', '__ne__', '__neg__', '__new__', '__pos__', '__pow__', '__radd__', '__rdivmod__', '__reduce__', '__reduce_ex__', '__repr__', '__rfloordiv__', '__rmod__', '__rmul__', '__round__', '__rpow__', '__rsub__', '__rtruediv__', '__set_format__', '__setattr__', '__sizeof__', '__str__', '__sub__', '__subclasshook__', '__truediv__', '__trunc__', 'as_integer_ratio', 'conjugate', 'fromhex', 'hex', 'imag', 'is_integer', 'real']\n"
     ]
    }
   ],
   "source": [
    "print(dir(float))"
   ]
  },
  {
   "cell_type": "markdown",
   "id": "2456c306",
   "metadata": {},
   "source": [
    "    any query ? "
   ]
  },
  {
   "cell_type": "markdown",
   "id": "3dbe1c86",
   "metadata": {},
   "source": [
    "    order -> having fixed arrangment\n",
    "\n",
    "    rank order -> ascending / descending --> sorting"
   ]
  },
  {
   "cell_type": "code",
   "execution_count": 41,
   "id": "1cd76fc8",
   "metadata": {},
   "outputs": [
    {
     "name": "stdout",
     "output_type": "stream",
     "text": [
      "{'!', 'l', 'o', 'h', 'd', 'w', 'r', 'e', ' '}\n"
     ]
    }
   ],
   "source": [
    "s = set(\"hello world!\")\n",
    "print(s)"
   ]
  },
  {
   "cell_type": "code",
   "execution_count": 39,
   "id": "29301013",
   "metadata": {},
   "outputs": [
    {
     "name": "stdout",
     "output_type": "stream",
     "text": [
      "Hello\n"
     ]
    }
   ],
   "source": [
    "s = \"Hello\"\n",
    "#    01234 -> index\n",
    "print(s)"
   ]
  },
  {
   "cell_type": "markdown",
   "id": "6aa6cc02",
   "metadata": {},
   "source": [
    "    s is an identifier which pointing to an id which consists an object"
   ]
  },
  {
   "cell_type": "code",
   "execution_count": 45,
   "id": "ed5e0861",
   "metadata": {},
   "outputs": [
    {
     "name": "stdout",
     "output_type": "stream",
     "text": [
      "Help on built-in function upper:\n",
      "\n",
      "upper() method of builtins.str instance\n",
      "    Return a copy of the string converted to uppercase.\n",
      "\n"
     ]
    }
   ],
   "source": [
    "help(s.upper)"
   ]
  },
  {
   "cell_type": "code",
   "execution_count": 46,
   "id": "244ad44f",
   "metadata": {},
   "outputs": [
    {
     "name": "stdout",
     "output_type": "stream",
     "text": [
      "140730015033424\n",
      "2029573065968\n"
     ]
    }
   ],
   "source": [
    "x = 10\n",
    "print(id(x))\n",
    "x = \"hello\"\n",
    "print(id(x))"
   ]
  },
  {
   "cell_type": "code",
   "execution_count": null,
   "id": "0c74d0b4",
   "metadata": {},
   "outputs": [],
   "source": []
  },
  {
   "cell_type": "code",
   "execution_count": 47,
   "id": "a89e0ce4",
   "metadata": {},
   "outputs": [
    {
     "name": "stdout",
     "output_type": "stream",
     "text": [
      "2029573046960\n",
      "2029573048432\n",
      "HELLO\n"
     ]
    }
   ],
   "source": [
    "s = \"Hello\"\n",
    "print(id(s))\n",
    "s = s.upper()\n",
    "print(id(s))\n",
    "print(s)"
   ]
  },
  {
   "cell_type": "code",
   "execution_count": 49,
   "id": "199aebe3",
   "metadata": {},
   "outputs": [
    {
     "name": "stdout",
     "output_type": "stream",
     "text": [
      "hello world!\n",
      "HELLO WORLD!\n"
     ]
    }
   ],
   "source": [
    "s = \"hello world!\"\n",
    "ns = s.upper()\n",
    "\n",
    "print(s)\n",
    "print(ns)"
   ]
  },
  {
   "cell_type": "code",
   "execution_count": 51,
   "id": "bb586a72",
   "metadata": {},
   "outputs": [
    {
     "name": "stdout",
     "output_type": "stream",
     "text": [
      "HELLO WORLD!\n"
     ]
    }
   ],
   "source": [
    "ns = s.upper()\n",
    "print(ns)"
   ]
  },
  {
   "cell_type": "code",
   "execution_count": 52,
   "id": "a4a5f7f0",
   "metadata": {},
   "outputs": [
    {
     "name": "stdout",
     "output_type": "stream",
     "text": [
      "HELLO WORLD!\n"
     ]
    }
   ],
   "source": [
    "print(s.upper())"
   ]
  },
  {
   "cell_type": "code",
   "execution_count": 53,
   "id": "a13a38db",
   "metadata": {},
   "outputs": [],
   "source": [
    "var = s.upper()"
   ]
  },
  {
   "cell_type": "code",
   "execution_count": 50,
   "id": "5b42b1eb",
   "metadata": {},
   "outputs": [
    {
     "name": "stdout",
     "output_type": "stream",
     "text": [
      "hello world!\n"
     ]
    }
   ],
   "source": [
    "s = \"hello world!\"\n",
    "s.upper()# \"HELLO WORLD!\"\n",
    "print(s) # ? "
   ]
  },
  {
   "cell_type": "code",
   "execution_count": null,
   "id": "0cff52c5",
   "metadata": {},
   "outputs": [],
   "source": []
  },
  {
   "cell_type": "code",
   "execution_count": 54,
   "id": "316812b1",
   "metadata": {},
   "outputs": [
    {
     "name": "stdout",
     "output_type": "stream",
     "text": [
      "HELLO WORLD!\n"
     ]
    }
   ],
   "source": [
    "print(var)"
   ]
  },
  {
   "cell_type": "markdown",
   "id": "efafc6d3",
   "metadata": {},
   "source": [
    "## `Strings`\n",
    "\n",
    "    * collection of letters\n",
    "    * Ordered Sequetial Data Type\n",
    "    * Immutable -> not changable\n",
    "        always we will get a new object \n",
    "    * single / multi-line\n",
    "    "
   ]
  },
  {
   "cell_type": "code",
   "execution_count": 55,
   "id": "ba476504",
   "metadata": {},
   "outputs": [
    {
     "name": "stdout",
     "output_type": "stream",
     "text": [
      "<class 'str'> hello world!\n"
     ]
    }
   ],
   "source": [
    "s = 'hello world!'\n",
    "print(type(s), s)"
   ]
  },
  {
   "cell_type": "code",
   "execution_count": 56,
   "id": "12186011",
   "metadata": {},
   "outputs": [
    {
     "name": "stdout",
     "output_type": "stream",
     "text": [
      "<class 'str'> hello world!\n"
     ]
    }
   ],
   "source": [
    "s = \"hello world!\"\n",
    "print(type(s), s)"
   ]
  },
  {
   "cell_type": "markdown",
   "id": "5ee3f4b5",
   "metadata": {},
   "source": [
    "`single line string`\n",
    "\n",
    "    double and single quoted string are single line string"
   ]
  },
  {
   "cell_type": "code",
   "execution_count": 60,
   "id": "b34c504c",
   "metadata": {},
   "outputs": [
    {
     "name": "stdout",
     "output_type": "stream",
     "text": [
      "30\n"
     ]
    }
   ],
   "source": [
    "x = 10; y = 20\n",
    "print(x+y)"
   ]
  },
  {
   "cell_type": "code",
   "execution_count": 58,
   "id": "2f24a0ee",
   "metadata": {},
   "outputs": [
    {
     "name": "stdout",
     "output_type": "stream",
     "text": [
      "30\n"
     ]
    }
   ],
   "source": [
    "x = 10\n",
    "y = 20\n",
    "print(x+y)"
   ]
  },
  {
   "cell_type": "code",
   "execution_count": 61,
   "id": "87bc0c13",
   "metadata": {},
   "outputs": [
    {
     "ename": "SyntaxError",
     "evalue": "EOL while scanning string literal (<ipython-input-61-61640cdc32c9>, line 1)",
     "output_type": "error",
     "traceback": [
      "\u001b[1;36m  File \u001b[1;32m\"<ipython-input-61-61640cdc32c9>\"\u001b[1;36m, line \u001b[1;32m1\u001b[0m\n\u001b[1;33m    s = \"Hello World!\u001b[0m\n\u001b[1;37m                     ^\u001b[0m\n\u001b[1;31mSyntaxError\u001b[0m\u001b[1;31m:\u001b[0m EOL while scanning string literal\n"
     ]
    }
   ],
   "source": [
    "s = \"Hello World!\n",
    " This Awesome\""
   ]
  },
  {
   "cell_type": "code",
   "execution_count": 62,
   "id": "13ad6555",
   "metadata": {},
   "outputs": [],
   "source": [
    "s = \"Hello World!\\nThis is Awesome.\""
   ]
  },
  {
   "cell_type": "code",
   "execution_count": 63,
   "id": "cefdb5b2",
   "metadata": {},
   "outputs": [
    {
     "name": "stdout",
     "output_type": "stream",
     "text": [
      "Hello World!\n",
      "This is Awesome.\n"
     ]
    }
   ],
   "source": [
    "print(s)"
   ]
  },
  {
   "cell_type": "code",
   "execution_count": 64,
   "id": "4a6faf35",
   "metadata": {},
   "outputs": [],
   "source": [
    "para = \"\"\"\n",
    "To\n",
    "    The Manager\n",
    "    Some Company\n",
    "    \n",
    "Dear Sir/Ma'am\n",
    "\n",
    "    I won't be able to attend meeting today due to illness.\n",
    "    \n",
    "    Thank You\n",
    "\n",
    "Your Employee\n",
    "Sachin\n",
    "\"\"\""
   ]
  },
  {
   "cell_type": "code",
   "execution_count": 65,
   "id": "8fb789ed",
   "metadata": {},
   "outputs": [
    {
     "name": "stdout",
     "output_type": "stream",
     "text": [
      "\n",
      "To\n",
      "    The Manager\n",
      "    Some Company\n",
      "    \n",
      "Dear Sir/Ma'am\n",
      "\n",
      "    I won't be able to attend meeting today due to illness.\n",
      "    \n",
      "    Thank You\n",
      "\n",
      "Your Employee\n",
      "Sachin\n",
      "\n"
     ]
    }
   ],
   "source": [
    "print(para)"
   ]
  },
  {
   "cell_type": "markdown",
   "id": "76208369",
   "metadata": {},
   "source": [
    "    split, strip, join, lower, upper, swapcase, center, ljust, rjust, \n",
    "    replace, is_lower, is_digit, format, "
   ]
  },
  {
   "cell_type": "markdown",
   "id": "49a422aa",
   "metadata": {},
   "source": [
    "    List \n",
    "\n",
    "    Indexing and Slicing"
   ]
  },
  {
   "cell_type": "code",
   "execution_count": null,
   "id": "6bf8fda6",
   "metadata": {},
   "outputs": [],
   "source": []
  }
 ],
 "metadata": {
  "kernelspec": {
   "display_name": "Python 3 (ipykernel)",
   "language": "python",
   "name": "python3"
  },
  "language_info": {
   "codemirror_mode": {
    "name": "ipython",
    "version": 3
   },
   "file_extension": ".py",
   "mimetype": "text/x-python",
   "name": "python",
   "nbconvert_exporter": "python",
   "pygments_lexer": "ipython3",
   "version": "3.9.12"
  }
 },
 "nbformat": 4,
 "nbformat_minor": 5
}

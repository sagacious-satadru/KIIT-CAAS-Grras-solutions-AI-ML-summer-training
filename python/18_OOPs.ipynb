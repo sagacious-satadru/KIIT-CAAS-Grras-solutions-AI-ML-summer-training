{
 "cells": [
  {
   "cell_type": "markdown",
   "id": "e17c1aa6",
   "metadata": {},
   "source": [
    "    Functions\n",
    "    \n",
    "        basic function\n",
    "        basic of argument passing (*args, **kwargs)\n",
    "        basic scope\n",
    "        basic recursion\n",
    "        \n",
    "    lambda (inline functions)\n",
    "    map, reduce, filter\n",
    "    generators\n",
    "    closures\n",
    "    decorators"
   ]
  },
  {
   "cell_type": "markdown",
   "id": "d5a05700",
   "metadata": {},
   "source": [
    "    formal arguments -> at time of defination\n",
    "\n",
    "    actual arguments -> at time of calling"
   ]
  },
  {
   "cell_type": "markdown",
   "id": "3558421c",
   "metadata": {},
   "source": [
    "    immutable\n",
    "        \n",
    "        changes inside function will not effect global varaibles\n",
    "    \n",
    "    mutable\n",
    "    \n",
    "        changes inside function will effect global variables"
   ]
  },
  {
   "cell_type": "code",
   "execution_count": 9,
   "id": "10f5162d",
   "metadata": {},
   "outputs": [],
   "source": [
    "x = 10 # glboal variable x\n",
    "\n",
    "def func(x):\n",
    "    \"\"\"\n",
    "        local variable x\n",
    "    \"\"\"\n",
    "    x = x + 10\n",
    "    print('inside x:', x)"
   ]
  },
  {
   "cell_type": "code",
   "execution_count": 11,
   "id": "476d50b0",
   "metadata": {},
   "outputs": [
    {
     "name": "stdout",
     "output_type": "stream",
     "text": [
      "before x:  10\n",
      "inside x: 20\n",
      "after x:  10\n"
     ]
    }
   ],
   "source": [
    "print('before x: ', x)\n",
    "func(x)# immutable \n",
    "print('after x: ', x)"
   ]
  },
  {
   "cell_type": "code",
   "execution_count": null,
   "id": "cee4f4a2",
   "metadata": {},
   "outputs": [],
   "source": []
  },
  {
   "cell_type": "code",
   "execution_count": 12,
   "id": "2305add2",
   "metadata": {},
   "outputs": [
    {
     "name": "stdout",
     "output_type": "stream",
     "text": [
      "before list  [1, 2]\n",
      "inside list:  [1, 2, 10]\n",
      "after list [1, 2, 10]\n"
     ]
    }
   ],
   "source": [
    "def func(lst, item):\n",
    "    lst.append(item)\n",
    "    print('inside list: ', lst)\n",
    "    \n",
    "lst = [ 1, 2]\n",
    "print('before list ', lst)\n",
    "func(lst, 10) # mutable \n",
    "print('after list', lst)"
   ]
  },
  {
   "cell_type": "code",
   "execution_count": null,
   "id": "a34b65fb",
   "metadata": {},
   "outputs": [],
   "source": []
  },
  {
   "cell_type": "code",
   "execution_count": null,
   "id": "342739ef",
   "metadata": {},
   "outputs": [],
   "source": []
  },
  {
   "cell_type": "code",
   "execution_count": null,
   "id": "63d840a0",
   "metadata": {},
   "outputs": [],
   "source": []
  },
  {
   "cell_type": "markdown",
   "id": "8f00b6ea",
   "metadata": {},
   "source": [
    "    Call by refrence"
   ]
  },
  {
   "cell_type": "code",
   "execution_count": null,
   "id": "ab3d693e",
   "metadata": {},
   "outputs": [],
   "source": []
  },
  {
   "cell_type": "code",
   "execution_count": 1,
   "id": "51fe8c30",
   "metadata": {},
   "outputs": [],
   "source": [
    "def square(num: float)->float:\n",
    "    \"\"\"\n",
    "        returns square of a number\n",
    "    \"\"\"\n",
    "    return num**2\n"
   ]
  },
  {
   "cell_type": "code",
   "execution_count": 3,
   "id": "e6284c5b",
   "metadata": {},
   "outputs": [],
   "source": [
    "def add(a: float, b: float)->float:\n",
    "    \"\"\"\n",
    "        return a+b\n",
    "    \"\"\"\n",
    "    return a+b"
   ]
  },
  {
   "cell_type": "code",
   "execution_count": 13,
   "id": "c5a9b828",
   "metadata": {},
   "outputs": [],
   "source": [
    "a = 10\n",
    "b = 20\n",
    "\n",
    "# 100 + 400 -> 500"
   ]
  },
  {
   "cell_type": "code",
   "execution_count": 14,
   "id": "62683542",
   "metadata": {},
   "outputs": [
    {
     "name": "stdout",
     "output_type": "stream",
     "text": [
      "500\n"
     ]
    }
   ],
   "source": [
    "r = add(square(a), square(b))\n",
    "print(r)"
   ]
  },
  {
   "cell_type": "code",
   "execution_count": null,
   "id": "512d8902",
   "metadata": {},
   "outputs": [],
   "source": []
  },
  {
   "cell_type": "code",
   "execution_count": 6,
   "id": "dad2ad0c",
   "metadata": {},
   "outputs": [
    {
     "data": {
      "text/plain": [
       "'Hello World!'"
      ]
     },
     "execution_count": 6,
     "metadata": {},
     "output_type": "execute_result"
    }
   ],
   "source": [
    "add(\"Hello \", \"World!\")"
   ]
  },
  {
   "cell_type": "code",
   "execution_count": null,
   "id": "9e1b406c",
   "metadata": {},
   "outputs": [],
   "source": []
  },
  {
   "cell_type": "code",
   "execution_count": 4,
   "id": "84322feb",
   "metadata": {},
   "outputs": [
    {
     "data": {
      "text/plain": [
       "4.4"
      ]
     },
     "execution_count": 4,
     "metadata": {},
     "output_type": "execute_result"
    }
   ],
   "source": [
    "add(1.0, 3.4)"
   ]
  },
  {
   "cell_type": "code",
   "execution_count": 2,
   "id": "554bab28",
   "metadata": {},
   "outputs": [
    {
     "data": {
      "text/plain": [
       "5.289999999999999"
      ]
     },
     "execution_count": 2,
     "metadata": {},
     "output_type": "execute_result"
    }
   ],
   "source": [
    "square(2.3)"
   ]
  },
  {
   "cell_type": "markdown",
   "id": "ab23b954",
   "metadata": {},
   "source": [
    "### Decorators\n",
    "\n",
    "    to update existing function functionalities just like over-riding in oops\n",
    "    \n",
    "    special functions which takes argument as function, have function defination inside body and also returns a function"
   ]
  },
  {
   "cell_type": "code",
   "execution_count": 15,
   "id": "385c7a6c",
   "metadata": {},
   "outputs": [],
   "source": [
    "def add(x, y):\n",
    "    \"\"\"\n",
    "        it prints addition of two number\n",
    "    \"\"\"\n",
    "    print(f\"x = {x}\")\n",
    "    print(f\"y = {y}\")\n",
    "    print(f\"x + y = {x+y}\")"
   ]
  },
  {
   "cell_type": "code",
   "execution_count": 16,
   "id": "f5ac9324",
   "metadata": {},
   "outputs": [
    {
     "name": "stdout",
     "output_type": "stream",
     "text": [
      "x = 4\n",
      "y = 5\n",
      "x + y = 9\n"
     ]
    }
   ],
   "source": [
    "add(4, 5)"
   ]
  },
  {
   "cell_type": "code",
   "execution_count": 78,
   "id": "755d52b6",
   "metadata": {},
   "outputs": [],
   "source": [
    "def boundary(func):\n",
    "    def work(*args, width=20, **kwargs): # packing\n",
    "        print(\"*\"*width)\n",
    "        func(*args, **kwargs) # unpakcing\n",
    "        print(\"*\"*width)\n",
    "    return work "
   ]
  },
  {
   "cell_type": "code",
   "execution_count": 79,
   "id": "4c210b51",
   "metadata": {},
   "outputs": [],
   "source": [
    "@boundary\n",
    "@boundary\n",
    "def hello(name):\n",
    "    print(f\"Hello, {name} welcome to decorators.\")"
   ]
  },
  {
   "cell_type": "code",
   "execution_count": 35,
   "id": "1deaed3c",
   "metadata": {},
   "outputs": [
    {
     "name": "stdout",
     "output_type": "stream",
     "text": [
      "****************************************\n",
      "********************\n",
      "Hello, Sachin welcome to decorators.\n",
      "********************\n",
      "****************************************\n"
     ]
    }
   ],
   "source": [
    "hello(\"Sachin\", width=40)"
   ]
  },
  {
   "cell_type": "code",
   "execution_count": 37,
   "id": "fe64aaeb",
   "metadata": {},
   "outputs": [
    {
     "name": "stdout",
     "output_type": "stream",
     "text": [
      "hi hello bye good bye\n"
     ]
    }
   ],
   "source": [
    "print(\"hi\", \"hello\", 'bye', 'good bye')\n",
    "# multiple positional arguments -> *args"
   ]
  },
  {
   "cell_type": "code",
   "execution_count": 42,
   "id": "40e51784",
   "metadata": {},
   "outputs": [],
   "source": [
    "def add(*args):\n",
    "    \"\"\"\n",
    "        *args will hold all positional values passed to add function\n",
    "        in a tuple\n",
    "    \"\"\"\n",
    "    print(args)"
   ]
  },
  {
   "cell_type": "code",
   "execution_count": 45,
   "id": "98960838",
   "metadata": {},
   "outputs": [
    {
     "name": "stdout",
     "output_type": "stream",
     "text": [
      "(1, 4, 5, 6, 7, 3, 5, 6, 7)\n"
     ]
    }
   ],
   "source": [
    "add(1, 4, 5, 6, 7, 3, 5, 6, 7)"
   ]
  },
  {
   "cell_type": "code",
   "execution_count": 40,
   "id": "2fc50641",
   "metadata": {},
   "outputs": [
    {
     "ename": "TypeError",
     "evalue": "add() takes 2 positional arguments but 3 were given",
     "output_type": "error",
     "traceback": [
      "\u001b[1;31m---------------------------------------------------------------------------\u001b[0m",
      "\u001b[1;31mTypeError\u001b[0m                                 Traceback (most recent call last)",
      "\u001b[1;32m<ipython-input-40-a34a4e31fbc8>\u001b[0m in \u001b[0;36m<module>\u001b[1;34m\u001b[0m\n\u001b[1;32m----> 1\u001b[1;33m \u001b[0madd\u001b[0m\u001b[1;33m(\u001b[0m\u001b[1;36m4\u001b[0m\u001b[1;33m,\u001b[0m \u001b[1;36m5\u001b[0m\u001b[1;33m,\u001b[0m \u001b[1;36m5\u001b[0m\u001b[1;33m)\u001b[0m\u001b[1;33m\u001b[0m\u001b[1;33m\u001b[0m\u001b[0m\n\u001b[0m",
      "\u001b[1;31mTypeError\u001b[0m: add() takes 2 positional arguments but 3 were given"
     ]
    }
   ],
   "source": [
    "add(4, 5, 5)"
   ]
  },
  {
   "cell_type": "code",
   "execution_count": null,
   "id": "ad6e73d0",
   "metadata": {},
   "outputs": [],
   "source": []
  },
  {
   "cell_type": "code",
   "execution_count": 22,
   "id": "8aa25620",
   "metadata": {},
   "outputs": [],
   "source": [
    "new_add = boundary(add)"
   ]
  },
  {
   "cell_type": "code",
   "execution_count": 23,
   "id": "fc3c76ef",
   "metadata": {},
   "outputs": [
    {
     "name": "stdout",
     "output_type": "stream",
     "text": [
      "x = 4\n",
      "y = 5\n",
      "x + y = 9\n"
     ]
    }
   ],
   "source": [
    "add(4, 5)"
   ]
  },
  {
   "cell_type": "code",
   "execution_count": 24,
   "id": "404413d7",
   "metadata": {},
   "outputs": [
    {
     "name": "stdout",
     "output_type": "stream",
     "text": [
      "**********\n",
      "x = 4\n",
      "y = 5\n",
      "x + y = 9\n",
      "**********\n"
     ]
    }
   ],
   "source": [
    "new_add(4, 5)"
   ]
  },
  {
   "cell_type": "code",
   "execution_count": 46,
   "id": "24cdf732",
   "metadata": {},
   "outputs": [],
   "source": [
    "def add(*args):\n",
    "    \"\"\"\n",
    "        *args will hold all positional values passed to add function\n",
    "        in a tuple\n",
    "    \"\"\"\n",
    "    sum_ = 0\n",
    "    for num in args:\n",
    "        sum_ += num**2\n",
    "    return sum_"
   ]
  },
  {
   "cell_type": "code",
   "execution_count": 50,
   "id": "545c96b0",
   "metadata": {},
   "outputs": [
    {
     "data": {
      "text/plain": [
       "38"
      ]
     },
     "execution_count": 50,
     "metadata": {},
     "output_type": "execute_result"
    }
   ],
   "source": [
    "add(2, 3, 5)"
   ]
  },
  {
   "cell_type": "code",
   "execution_count": 51,
   "id": "b6c7dbcd",
   "metadata": {},
   "outputs": [
    {
     "data": {
      "text/plain": [
       "55"
      ]
     },
     "execution_count": 51,
     "metadata": {},
     "output_type": "execute_result"
    }
   ],
   "source": [
    "add(1, 2, 3, 4, 5)"
   ]
  },
  {
   "cell_type": "code",
   "execution_count": 54,
   "id": "4fb89c3b",
   "metadata": {},
   "outputs": [
    {
     "ename": "TypeError",
     "evalue": "add() got an unexpected keyword argument 'x'",
     "output_type": "error",
     "traceback": [
      "\u001b[1;31m---------------------------------------------------------------------------\u001b[0m",
      "\u001b[1;31mTypeError\u001b[0m                                 Traceback (most recent call last)",
      "\u001b[1;32m<ipython-input-54-ce282721847e>\u001b[0m in \u001b[0;36m<module>\u001b[1;34m\u001b[0m\n\u001b[1;32m----> 1\u001b[1;33m \u001b[0madd\u001b[0m\u001b[1;33m(\u001b[0m\u001b[0mx\u001b[0m\u001b[1;33m=\u001b[0m\u001b[1;36m100\u001b[0m\u001b[1;33m)\u001b[0m \u001b[1;31m# keyword\u001b[0m\u001b[1;33m\u001b[0m\u001b[1;33m\u001b[0m\u001b[0m\n\u001b[0m",
      "\u001b[1;31mTypeError\u001b[0m: add() got an unexpected keyword argument 'x'"
     ]
    }
   ],
   "source": [
    "add(x=100) # keyword"
   ]
  },
  {
   "cell_type": "code",
   "execution_count": 55,
   "id": "3f67e7b7",
   "metadata": {},
   "outputs": [],
   "source": [
    "def func(**kwargs):\n",
    "    print(kwargs)"
   ]
  },
  {
   "cell_type": "code",
   "execution_count": 58,
   "id": "00806f76",
   "metadata": {},
   "outputs": [
    {
     "name": "stdout",
     "output_type": "stream",
     "text": [
      "{'a': 10, 'name': 'sachin', 'age': 30}\n"
     ]
    }
   ],
   "source": [
    "func(a=10, name='sachin', age=30)"
   ]
  },
  {
   "cell_type": "code",
   "execution_count": 59,
   "id": "d9b60169",
   "metadata": {},
   "outputs": [],
   "source": [
    "a = {'x': 3, 'y': 5}"
   ]
  },
  {
   "cell_type": "code",
   "execution_count": 60,
   "id": "741878f8",
   "metadata": {},
   "outputs": [
    {
     "name": "stdout",
     "output_type": "stream",
     "text": [
      "{'x': 3, 'y': 5}\n"
     ]
    }
   ],
   "source": [
    "func(**a) # **dict -> to unpack your dictionary\n",
    "#func(x=3, y=5)\n"
   ]
  },
  {
   "cell_type": "code",
   "execution_count": 62,
   "id": "ef8e4d48",
   "metadata": {},
   "outputs": [],
   "source": [
    "def add(*args):\n",
    "    \"\"\"\n",
    "        *args will hold all positional values passed to add function\n",
    "        in a tuple\n",
    "    \"\"\"\n",
    "    sum_ = 0\n",
    "    for num in args:\n",
    "        sum_ += num**2\n",
    "    return sum_"
   ]
  },
  {
   "cell_type": "code",
   "execution_count": 63,
   "id": "716be476",
   "metadata": {},
   "outputs": [],
   "source": [
    "nums = [4, 8, 10]"
   ]
  },
  {
   "cell_type": "code",
   "execution_count": 64,
   "id": "47ab81fe",
   "metadata": {},
   "outputs": [
    {
     "data": {
      "text/plain": [
       "180"
      ]
     },
     "execution_count": 64,
     "metadata": {},
     "output_type": "execute_result"
    }
   ],
   "source": [
    "add(*nums)\n",
    "# add(4, 8, 10)"
   ]
  },
  {
   "cell_type": "markdown",
   "id": "2e6fd3e2",
   "metadata": {},
   "source": [
    "    *args, **kwargs in function defination they are used to pack values in either tuple or dictionary\n",
    "    \n",
    "    *iterable, **map in function calling ther are used to unpack values "
   ]
  },
  {
   "cell_type": "code",
   "execution_count": 65,
   "id": "b16e2890",
   "metadata": {},
   "outputs": [],
   "source": [
    "def add(x, y):\n",
    "    print(x+y)"
   ]
  },
  {
   "cell_type": "code",
   "execution_count": 66,
   "id": "3c56ce57",
   "metadata": {},
   "outputs": [],
   "source": [
    "d = {'x':10, 'y': 20}"
   ]
  },
  {
   "cell_type": "code",
   "execution_count": 67,
   "id": "16706ccf",
   "metadata": {},
   "outputs": [
    {
     "name": "stdout",
     "output_type": "stream",
     "text": [
      "30\n"
     ]
    }
   ],
   "source": [
    "add(**d) # add(x=10, y=20)"
   ]
  },
  {
   "cell_type": "code",
   "execution_count": 68,
   "id": "89950244",
   "metadata": {},
   "outputs": [],
   "source": [
    "def greatest(a, b, c):\n",
    "    if a>=b and a>=c:\n",
    "        print(f\"{a} is biggest.\")\n",
    "    elif b>=c:\n",
    "         print(f\"{b} is biggest.\")\n",
    "    else:\n",
    "         print(f\"{c} is biggest.\")"
   ]
  },
  {
   "cell_type": "code",
   "execution_count": 69,
   "id": "b64ad513",
   "metadata": {},
   "outputs": [
    {
     "name": "stdout",
     "output_type": "stream",
     "text": [
      "4 is biggest.\n"
     ]
    }
   ],
   "source": [
    "greatest(1, 4, 3)"
   ]
  },
  {
   "cell_type": "code",
   "execution_count": 70,
   "id": "abbdfe67",
   "metadata": {},
   "outputs": [],
   "source": [
    "nums = [ 10, 13, 12]"
   ]
  },
  {
   "cell_type": "code",
   "execution_count": 72,
   "id": "f6ecb7ae",
   "metadata": {},
   "outputs": [
    {
     "name": "stdout",
     "output_type": "stream",
     "text": [
      "13 is biggest.\n"
     ]
    }
   ],
   "source": [
    "greatest(*nums)"
   ]
  },
  {
   "cell_type": "code",
   "execution_count": 73,
   "id": "7d31e6c8",
   "metadata": {},
   "outputs": [],
   "source": [
    "def func(*args, **kwargs):\n",
    "    print(\"args: \", args)\n",
    "    print(\"kwargs: \", kwargs)"
   ]
  },
  {
   "cell_type": "code",
   "execution_count": 74,
   "id": "a3ea99cf",
   "metadata": {},
   "outputs": [
    {
     "name": "stdout",
     "output_type": "stream",
     "text": [
      "args:  ()\n",
      "kwargs:  {}\n"
     ]
    }
   ],
   "source": [
    "func()"
   ]
  },
  {
   "cell_type": "code",
   "execution_count": 75,
   "id": "00af5a77",
   "metadata": {},
   "outputs": [
    {
     "name": "stdout",
     "output_type": "stream",
     "text": [
      "args:  (1, 2, 3)\n",
      "kwargs:  {}\n"
     ]
    }
   ],
   "source": [
    "func(1, 2, 3)"
   ]
  },
  {
   "cell_type": "code",
   "execution_count": 76,
   "id": "3a3ae58d",
   "metadata": {},
   "outputs": [
    {
     "name": "stdout",
     "output_type": "stream",
     "text": [
      "args:  (1, 2, 3)\n",
      "kwargs:  {'x': 10, 'y': 20}\n"
     ]
    }
   ],
   "source": [
    "func(1, 2, 3, x=10, y=20)"
   ]
  },
  {
   "cell_type": "code",
   "execution_count": 77,
   "id": "dff17fc2",
   "metadata": {},
   "outputs": [
    {
     "name": "stdout",
     "output_type": "stream",
     "text": [
      "args:  ('h', 'e', 'l', 'l', 'o')\n",
      "kwargs:  {'a': 'b', 'c': 'd'}\n"
     ]
    }
   ],
   "source": [
    "func(*\"hello\", **{'a':'b', 'c':'d'})"
   ]
  },
  {
   "cell_type": "markdown",
   "id": "90050f93",
   "metadata": {},
   "source": [
    "##### Data Science and Deep Learning Things"
   ]
  },
  {
   "cell_type": "markdown",
   "id": "f24cdb8a",
   "metadata": {},
   "source": [
    "#### OOPs \n",
    "\n",
    "    some lectures on oops"
   ]
  },
  {
   "cell_type": "markdown",
   "id": "f097accb",
   "metadata": {},
   "source": [
    "https://www.youtube.com/channel/UC1xcu77hJx1ePapBbI0vuzw/videos  # basic python\n",
    "\n",
    "https://www.youtube.com/c/SachinYadav3496/videos  # database, git, (lambda, map, decorator), tkinter"
   ]
  },
  {
   "cell_type": "markdown",
   "id": "853e6494",
   "metadata": {},
   "source": [
    "    OOPs -> lectures"
   ]
  },
  {
   "cell_type": "markdown",
   "id": "534d78a6",
   "metadata": {},
   "source": [
    "    PPT, Notebook"
   ]
  },
  {
   "cell_type": "code",
   "execution_count": null,
   "id": "48e6ae63",
   "metadata": {},
   "outputs": [],
   "source": []
  }
 ],
 "metadata": {
  "kernelspec": {
   "display_name": "Python 3",
   "language": "python",
   "name": "python3"
  },
  "language_info": {
   "codemirror_mode": {
    "name": "ipython",
    "version": 3
   },
   "file_extension": ".py",
   "mimetype": "text/x-python",
   "name": "python",
   "nbconvert_exporter": "python",
   "pygments_lexer": "ipython3",
   "version": "3.8.8"
  }
 },
 "nbformat": 4,
 "nbformat_minor": 5
}

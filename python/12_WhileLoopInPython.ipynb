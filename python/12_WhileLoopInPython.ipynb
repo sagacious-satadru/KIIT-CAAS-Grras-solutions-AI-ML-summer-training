{
 "cells": [
  {
   "cell_type": "markdown",
   "id": "9c0b62d8",
   "metadata": {},
   "source": [
    "if you have any doubts till now let me know in chat session ? "
   ]
  },
  {
   "cell_type": "markdown",
   "id": "322445e6",
   "metadata": {},
   "source": [
    "### Loops in Python"
   ]
  },
  {
   "cell_type": "code",
   "execution_count": 6,
   "id": "05562853",
   "metadata": {},
   "outputs": [],
   "source": [
    "# que 3:\n",
    "data = {'suggestedFilters': {'header': 'Tap to show:',\n",
    "  'filters': [{'name': 'Open now', 'key': 'openNow'}]},\n",
    " 'warning': {'text': 'There aren\\'t a lot of results for \"coffee.\" Try something more general, reset your filters, or expand the search area.'},\n",
    " 'suggestedRadius': 5080,\n",
    " 'headerLocation': 'Jaipur',\n",
    " 'headerFullLocation': 'Jaipur',\n",
    " 'headerLocationGranularity': 'city',\n",
    " 'query': 'coffee',\n",
    " 'totalResults': 44,\n",
    " 'suggestedBounds': {'ne': {'lat': 26.916257025565272,\n",
    "   'lng': 75.78949419248843},\n",
    "  'sw': {'lat': 26.90351824282866, 'lng': 75.80267041297915}},\n",
    " 'groups': [{'type': 'Recommended Places',\n",
    "   'name': 'recommended',\n",
    "   'items': [{'reasons': {'count': 0,\n",
    "      'items': [{'summary': 'This spot is popular',\n",
    "        'type': 'general',\n",
    "        'reasonName': 'globalInteractionReason'}]},\n",
    "     'venue': {'id': '50081e28e4b05eac5b27a1e9',\n",
    "      'name': 'NIBS- The Chocolate Workshop',\n",
    "      'contact': {},\n",
    "      'location': {'lat': 26.915677989986335,\n",
    "       'lng': 75.79504340769059,\n",
    "       'labeledLatLngs': [{'label': 'display',\n",
    "         'lat': 26.915677989986335,\n",
    "         'lng': 75.79504340769059}],\n",
    "       'distance': 850,\n",
    "       'cc': 'IN',\n",
    "       'country': 'India',\n",
    "       'formattedAddress': ['India']},\n",
    "      'categories': [{'id': '4bf58dd8d48988d16d941735',\n",
    "        'name': 'Café',\n",
    "        'pluralName': 'Cafés',\n",
    "        'shortName': 'Café',\n",
    "        'icon': {'prefix': 'https://ss3.4sqi.net/img/categories_v2/food/cafe_',\n",
    "         'suffix': '.png'},\n",
    "        'primary': True}],\n",
    "      'verified': False,\n",
    "      'stats': {'tipCount': 0,\n",
    "       'usersCount': 0,\n",
    "       'checkinsCount': 0,\n",
    "       'visitsCount': 0},\n",
    "      'beenHere': {'count': 0,\n",
    "       'lastCheckinExpiredAt': 0,\n",
    "       'marked': False,\n",
    "       'unconfirmedCount': 0},\n",
    "      'photos': {'count': 0, 'groups': []},\n",
    "      'hereNow': {'count': 0, 'summary': 'Nobody here', 'groups': []}},\n",
    "     'referralId': 'e-0-50081e28e4b05eac5b27a1e9-0'},\n",
    "    {'reasons': {'count': 0,\n",
    "      'items': [{'summary': 'This spot is popular',\n",
    "        'type': 'general',\n",
    "        'reasonName': 'globalInteractionReason'}]},\n",
    "     'venue': {'id': '5623621e498e8ec2b86fc810',\n",
    "      'name': 'Curious Life Coffee Roasters',\n",
    "      'contact': {},\n",
    "      'location': {'address': 'P 25, Yudhisthir Marg,',\n",
    "       'crossStreet': 'C Scheme',\n",
    "       'lat': 26.904097278407598,\n",
    "       'lng': 75.79712119777699,\n",
    "       'labeledLatLngs': [{'label': 'display',\n",
    "         'lat': 26.904097278407598,\n",
    "         'lng': 75.79712119777699}],\n",
    "       'distance': 1343,\n",
    "       'cc': 'IN',\n",
    "       'city': 'Jaipur',\n",
    "       'state': 'Rājasthān',\n",
    "       'country': 'India',\n",
    "       'formattedAddress': ['P 25, Yudhisthir Marg, (C Scheme)',\n",
    "        'Jaipur',\n",
    "        'Rājasthān',\n",
    "        'India']},\n",
    "      'categories': [{'id': '4bf58dd8d48988d16d941735',\n",
    "        'name': 'Café',\n",
    "        'pluralName': 'Cafés',\n",
    "        'shortName': 'Café',\n",
    "        'icon': {'prefix': 'https://ss3.4sqi.net/img/categories_v2/food/cafe_',\n",
    "         'suffix': '.png'},\n",
    "        'primary': True}],\n",
    "      'verified': False,\n",
    "      'stats': {'tipCount': 0,\n",
    "       'usersCount': 0,\n",
    "       'checkinsCount': 0,\n",
    "       'visitsCount': 0},\n",
    "      'beenHere': {'count': 0,\n",
    "       'lastCheckinExpiredAt': 0,\n",
    "       'marked': False,\n",
    "       'unconfirmedCount': 0},\n",
    "      'photos': {'count': 0, 'groups': []},\n",
    "      'hereNow': {'count': 0, 'summary': 'Nobody here', 'groups': []}},\n",
    "     'referralId': 'e-0-5623621e498e8ec2b86fc810-1'}]}]}\n"
   ]
  },
  {
   "cell_type": "code",
   "execution_count": 7,
   "id": "21bfc7ba",
   "metadata": {},
   "outputs": [],
   "source": [
    "from pprint import pprint"
   ]
  },
  {
   "cell_type": "code",
   "execution_count": 19,
   "id": "ac9d5800",
   "metadata": {},
   "outputs": [
    {
     "name": "stdout",
     "output_type": "stream",
     "text": [
      "'This spot is popular'\n"
     ]
    }
   ],
   "source": [
    "pprint(data[\"groups\"][0][\"items\"][0][\"reasons\"][\"items\"][0][\"summary\"])"
   ]
  },
  {
   "cell_type": "code",
   "execution_count": 20,
   "id": "a95e0d4d",
   "metadata": {},
   "outputs": [],
   "source": [
    "value = data[\"groups\"][0][\"items\"][0][\"reasons\"][\"items\"][0][\"summary\"]"
   ]
  },
  {
   "cell_type": "code",
   "execution_count": 21,
   "id": "0501f55b",
   "metadata": {},
   "outputs": [
    {
     "name": "stdout",
     "output_type": "stream",
     "text": [
      "This spot is popular\n"
     ]
    }
   ],
   "source": [
    "print(value)"
   ]
  },
  {
   "cell_type": "markdown",
   "id": "9d8202b8",
   "metadata": {},
   "source": [
    "### What is Loop ? "
   ]
  },
  {
   "cell_type": "markdown",
   "id": "e078b69b",
   "metadata": {},
   "source": [
    "    loop is repeatation of a task "
   ]
  },
  {
   "cell_type": "code",
   "execution_count": null,
   "id": "3423acae",
   "metadata": {},
   "outputs": [],
   "source": [
    "x = 1\n",
    "while x<5:\n",
    "    print(x)# ESC+ II,  ctrl+c -> keyboard interrput"
   ]
  },
  {
   "cell_type": "code",
   "execution_count": 24,
   "id": "e8b0768b",
   "metadata": {},
   "outputs": [
    {
     "name": "stdout",
     "output_type": "stream",
     "text": [
      "1\n",
      "2\n",
      "4\n",
      "8\n",
      "16\n",
      "32\n",
      "64\n",
      "final  value of c  128\n"
     ]
    }
   ],
   "source": [
    "c = 1\n",
    "while c <= 100:\n",
    "    print(c)\n",
    "    c *= 2 # c = c * 2\n",
    "\n",
    "print(\"final  value of c \", c)"
   ]
  },
  {
   "cell_type": "markdown",
   "id": "efcb0949",
   "metadata": {},
   "source": [
    "    condition => True / False\n",
    "    \n",
    "    \n",
    "    any value in python can be True or False\n",
    "    \n",
    "    bool(value) -> True / False\n",
    "    \n",
    "    False -> 0, None, {}, [], \"\", any empty object"
   ]
  },
  {
   "cell_type": "code",
   "execution_count": 26,
   "id": "5c0a7ad9",
   "metadata": {},
   "outputs": [
    {
     "name": "stdout",
     "output_type": "stream",
     "text": [
      "Hello World! Time 10\n",
      "Hello World! Time 8\n",
      "Hello World! Time 6\n",
      "Hello World! Time 4\n",
      "Hello World! Time 2\n"
     ]
    }
   ],
   "source": [
    "c = 10\n",
    "while c:\n",
    "    print(f\"Hello World! Time {c}\")\n",
    "    c -= 2\n",
    "# ouput ? "
   ]
  },
  {
   "cell_type": "code",
   "execution_count": 29,
   "id": "252dd862",
   "metadata": {},
   "outputs": [
    {
     "data": {
      "text/plain": [
       "12"
      ]
     },
     "execution_count": 29,
     "metadata": {},
     "output_type": "execute_result"
    }
   ],
   "source": [
    "123 // 10 # floor division"
   ]
  },
  {
   "cell_type": "code",
   "execution_count": 28,
   "id": "9df0820b",
   "metadata": {},
   "outputs": [
    {
     "data": {
      "text/plain": [
       "12.3"
      ]
     },
     "execution_count": 28,
     "metadata": {},
     "output_type": "execute_result"
    }
   ],
   "source": [
    "123 / 10 # 12.3"
   ]
  },
  {
   "cell_type": "code",
   "execution_count": 27,
   "id": "5295f4e9",
   "metadata": {},
   "outputs": [
    {
     "data": {
      "text/plain": [
       "3"
      ]
     },
     "execution_count": 27,
     "metadata": {},
     "output_type": "execute_result"
    }
   ],
   "source": [
    "123 % 10 # % - modulas -> remainder\n"
   ]
  },
  {
   "cell_type": "code",
   "execution_count": 30,
   "id": "54b1f110",
   "metadata": {},
   "outputs": [
    {
     "name": "stdout",
     "output_type": "stream",
     "text": [
      "5\n",
      "4\n",
      "3\n",
      "2\n",
      "1\n"
     ]
    }
   ],
   "source": [
    "num = 12345\n",
    "while num:\n",
    "    print(num%10)\n",
    "    num = num // 10\n"
   ]
  },
  {
   "cell_type": "code",
   "execution_count": 31,
   "id": "92588f09",
   "metadata": {},
   "outputs": [
    {
     "name": "stdout",
     "output_type": "stream",
     "text": [
      "do you want to continue ?yes\n",
      "\n",
      "oh! this is loop i see ?\n",
      "\n",
      "do you want to continue ?yes\n",
      "\n",
      "oh! this is loop i see ?\n",
      "\n",
      "do you want to continue ?yes\n",
      "\n",
      "oh! this is loop i see ?\n",
      "\n",
      "do you want to continue ?yes\n",
      "\n",
      "oh! this is loop i see ?\n",
      "\n",
      "do you want to continue ?no\\\n"
     ]
    }
   ],
   "source": [
    "while input(\"do you want to continue ?\") == \"yes\":\n",
    "    print(\"\\noh! this is loop i see ?\\n\")\n",
    "    "
   ]
  },
  {
   "cell_type": "markdown",
   "id": "1e602d6d",
   "metadata": {},
   "source": [
    "#### syntax\n",
    "\n",
    "    while cond:\n",
    "        st-1\n",
    "        st-2\n",
    "        st-3\n",
    "        ...\n",
    "        st-n\n",
    "        "
   ]
  },
  {
   "cell_type": "markdown",
   "id": "3bff903f",
   "metadata": {},
   "source": [
    "#### Iteration "
   ]
  },
  {
   "cell_type": "code",
   "execution_count": 37,
   "id": "7278cf03",
   "metadata": {},
   "outputs": [
    {
     "name": "stdout",
     "output_type": "stream",
     "text": [
      "bahadur\n",
      "ravi\n",
      "yadvendra\n",
      "shivani\n",
      "simran\n",
      "rajat\n",
      "gaurav\n"
     ]
    }
   ],
   "source": [
    "names = [\"bahadur\", \"ravi\", \"yadvendra\", \"shivani\", \"simran\", \"rajat\", \"gaurav\"]\n",
    "#           0         1         2            3          4          5       6\n",
    "\n",
    "n = len(names)\n",
    "\n",
    "i = 0\n",
    "while i<n:\n",
    "    item = names[i]\n",
    "    print(item)\n",
    "    i += 1"
   ]
  },
  {
   "cell_type": "code",
   "execution_count": null,
   "id": "845af436",
   "metadata": {},
   "outputs": [],
   "source": []
  },
  {
   "cell_type": "code",
   "execution_count": null,
   "id": "4aaecd9b",
   "metadata": {},
   "outputs": [],
   "source": []
  },
  {
   "cell_type": "code",
   "execution_count": 35,
   "id": "2b2a9b5a",
   "metadata": {},
   "outputs": [
    {
     "name": "stdout",
     "output_type": "stream",
     "text": [
      "enter a name : sachin\n",
      "sachin is not in names\n"
     ]
    }
   ],
   "source": [
    "key = input(\"enter a name : \").strip().lower()\n",
    "\n",
    "if key in names:\n",
    "    print(f\"{key} is in names\")\n",
    "else:\n",
    "    print(f\"{key} is not in names\")"
   ]
  },
  {
   "cell_type": "markdown",
   "id": "1d4fa0f3",
   "metadata": {},
   "source": [
    "    names -> millions\n",
    "    \n",
    "        "
   ]
  },
  {
   "cell_type": "code",
   "execution_count": 40,
   "id": "3a06dee9",
   "metadata": {},
   "outputs": [
    {
     "name": "stdout",
     "output_type": "stream",
     "text": [
      "enter a name : ravi\n",
      "ravi has found in list\n"
     ]
    }
   ],
   "source": [
    "names = [\"bahadur\", \"ravi\", \"yadvendra\", \"shivani\", \"simran\", \"rajat\", \"gaurav\"]\n",
    "#           0         1         2            3          4          5       6\n",
    "\n",
    "key = input(\"enter a name : \").strip().lower()\n",
    "n = len(names)\n",
    "\n",
    "mila = False # flag / state\n",
    "i = 0\n",
    "while i<n:\n",
    "    item = names[i]\n",
    "    if item == key:\n",
    "        mila = True\n",
    "        break\n",
    "    i += 1\n",
    "    \n",
    "if mila == True:\n",
    "    print(f\"{key} has found in list\")\n",
    "else:\n",
    "    print(f\"{key} has not found in list\")"
   ]
  },
  {
   "cell_type": "code",
   "execution_count": 42,
   "id": "97f309cc",
   "metadata": {},
   "outputs": [],
   "source": [
    "c = 1\n",
    "while c <= 10:\n",
    "    break\n",
    "    print(f\"Hello World! Times {c}\")\n",
    "    c = c+1"
   ]
  },
  {
   "cell_type": "code",
   "execution_count": null,
   "id": "97427a73",
   "metadata": {},
   "outputs": [],
   "source": []
  },
  {
   "cell_type": "code",
   "execution_count": null,
   "id": "5e40fbb4",
   "metadata": {},
   "outputs": [],
   "source": []
  },
  {
   "cell_type": "code",
   "execution_count": 43,
   "id": "dd3453f4",
   "metadata": {},
   "outputs": [
    {
     "name": "stdout",
     "output_type": "stream",
     "text": [
      "hello World! Times 1\n",
      "hello World! Times 2\n",
      "hello World! Times 3\n",
      "hello World! Times 4\n"
     ]
    }
   ],
   "source": [
    "c = 1\n",
    "while c <= 10:\n",
    "    if c % 5 == 0:\n",
    "        break\n",
    "    print(f\"hello World! Times {c}\")\n",
    "    c += 1"
   ]
  },
  {
   "cell_type": "markdown",
   "id": "88a3b94e",
   "metadata": {},
   "source": [
    "\n",
    "\n",
    "    continue statement in loop\n",
    "    \n",
    "    else statement in loop in python\n",
    "    \n",
    "    \n",
    "    some stanard problems using loop \n",
    "    \n",
    "    finish loop ? "
   ]
  },
  {
   "cell_type": "code",
   "execution_count": null,
   "id": "9e6de4fe",
   "metadata": {},
   "outputs": [],
   "source": []
  },
  {
   "cell_type": "code",
   "execution_count": null,
   "id": "e3ae5cc0",
   "metadata": {},
   "outputs": [],
   "source": []
  },
  {
   "cell_type": "code",
   "execution_count": null,
   "id": "8032f7e1",
   "metadata": {},
   "outputs": [],
   "source": []
  },
  {
   "cell_type": "code",
   "execution_count": null,
   "id": "52178d31",
   "metadata": {},
   "outputs": [],
   "source": []
  }
 ],
 "metadata": {
  "kernelspec": {
   "display_name": "Python 3 (ipykernel)",
   "language": "python",
   "name": "python3"
  },
  "language_info": {
   "codemirror_mode": {
    "name": "ipython",
    "version": 3
   },
   "file_extension": ".py",
   "mimetype": "text/x-python",
   "name": "python",
   "nbconvert_exporter": "python",
   "pygments_lexer": "ipython3",
   "version": "3.9.12"
  }
 },
 "nbformat": 4,
 "nbformat_minor": 5
}

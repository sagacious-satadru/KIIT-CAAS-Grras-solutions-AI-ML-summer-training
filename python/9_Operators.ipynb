{
 "cells": [
  {
   "cell_type": "code",
   "execution_count": 2,
   "id": "2cb74473",
   "metadata": {},
   "outputs": [],
   "source": [
    "nums = [ 56, 98, 45, 67]\n",
    "#         0  1   2   3"
   ]
  },
  {
   "cell_type": "code",
   "execution_count": 3,
   "id": "f4d16fbd",
   "metadata": {},
   "outputs": [
    {
     "name": "stdout",
     "output_type": "stream",
     "text": [
      "45\n"
     ]
    }
   ],
   "source": [
    "item = nums[2]\n",
    "print(item)"
   ]
  },
  {
   "cell_type": "code",
   "execution_count": 11,
   "id": "59f33461",
   "metadata": {},
   "outputs": [
    {
     "data": {
      "text/plain": [
       "6418311750930369501"
      ]
     },
     "execution_count": 11,
     "metadata": {},
     "output_type": "execute_result"
    }
   ],
   "source": [
    "hash(\"lsdkfj\")"
   ]
  },
  {
   "cell_type": "code",
   "execution_count": 10,
   "id": "af6ee661",
   "metadata": {},
   "outputs": [
    {
     "data": {
      "text/plain": [
       "6418311750930369501"
      ]
     },
     "execution_count": 10,
     "metadata": {},
     "output_type": "execute_result"
    }
   ],
   "source": [
    "hash('lsdkfj')"
   ]
  },
  {
   "cell_type": "code",
   "execution_count": 12,
   "id": "de7f218b",
   "metadata": {},
   "outputs": [
    {
     "name": "stdout",
     "output_type": "stream",
     "text": [
      "2349464650854841367\n"
     ]
    }
   ],
   "source": [
    "a = (1, 2, \"hello\")\n",
    "print(hash(a))"
   ]
  },
  {
   "cell_type": "code",
   "execution_count": 13,
   "id": "eb93819a",
   "metadata": {},
   "outputs": [
    {
     "name": "stdout",
     "output_type": "stream",
     "text": [
      "2349464650854841367\n"
     ]
    }
   ],
   "source": [
    "b = (1, 2, \"hello\")\n",
    "print(hash(b))"
   ]
  },
  {
   "cell_type": "code",
   "execution_count": 14,
   "id": "eb038d72",
   "metadata": {},
   "outputs": [],
   "source": [
    "a = (1, [1, 2], 4)"
   ]
  },
  {
   "cell_type": "code",
   "execution_count": 15,
   "id": "d4108e56",
   "metadata": {},
   "outputs": [
    {
     "ename": "TypeError",
     "evalue": "unhashable type: 'list'",
     "output_type": "error",
     "traceback": [
      "\u001b[1;31m---------------------------------------------------------------------------\u001b[0m",
      "\u001b[1;31mTypeError\u001b[0m                                 Traceback (most recent call last)",
      "\u001b[1;32m<ipython-input-15-33a60f2d2faf>\u001b[0m in \u001b[0;36m<module>\u001b[1;34m\u001b[0m\n\u001b[1;32m----> 1\u001b[1;33m \u001b[0mprint\u001b[0m\u001b[1;33m(\u001b[0m\u001b[0mhash\u001b[0m\u001b[1;33m(\u001b[0m\u001b[0ma\u001b[0m\u001b[1;33m)\u001b[0m\u001b[1;33m)\u001b[0m\u001b[1;33m\u001b[0m\u001b[1;33m\u001b[0m\u001b[0m\n\u001b[0m",
      "\u001b[1;31mTypeError\u001b[0m: unhashable type: 'list'"
     ]
    }
   ],
   "source": [
    "print(hash(a))"
   ]
  },
  {
   "cell_type": "code",
   "execution_count": 16,
   "id": "793fac1d",
   "metadata": {},
   "outputs": [],
   "source": [
    "# every immutable object is not hashable\n",
    "a = (\n",
    "    [1, 2, 3, 4],\n",
    "    [4, 5, 6],\n",
    ")"
   ]
  },
  {
   "cell_type": "code",
   "execution_count": 17,
   "id": "99fa64e3",
   "metadata": {},
   "outputs": [
    {
     "name": "stdout",
     "output_type": "stream",
     "text": [
      "([1, 2, 3, 4], [4, 5, 6])\n"
     ]
    }
   ],
   "source": [
    "print(a)"
   ]
  },
  {
   "cell_type": "code",
   "execution_count": 18,
   "id": "a230d936",
   "metadata": {},
   "outputs": [
    {
     "data": {
      "text/plain": [
       "4"
      ]
     },
     "execution_count": 18,
     "metadata": {},
     "output_type": "execute_result"
    }
   ],
   "source": [
    "a[0].pop()"
   ]
  },
  {
   "cell_type": "code",
   "execution_count": 19,
   "id": "2f4415b3",
   "metadata": {},
   "outputs": [
    {
     "name": "stdout",
     "output_type": "stream",
     "text": [
      "([1, 2, 3], [4, 5, 6])\n"
     ]
    }
   ],
   "source": [
    "print(a)"
   ]
  },
  {
   "cell_type": "markdown",
   "id": "cf3fd625",
   "metadata": {},
   "source": [
    "    Immutable - numbers, boolean, null, tuple, strings, frozensets\n",
    "\n",
    "    mutable - list, dict, set\n"
   ]
  },
  {
   "cell_type": "markdown",
   "id": "b526f8f0",
   "metadata": {},
   "source": [
    "#### Dictionary\n",
    "\n",
    "    collection of key-value pairs\n",
    "    \n",
    "    map type object, unordered data type\n",
    "    \n",
    "    keys can be only immutable hashble objects\n",
    "    \n",
    "    values can be any valid python object\n",
    "    \n",
    "    dictionaries are known as objects in JSON\n",
    "    \n",
    "    mutable data type"
   ]
  },
  {
   "cell_type": "code",
   "execution_count": 20,
   "id": "d62a3b61",
   "metadata": {},
   "outputs": [],
   "source": [
    "info = {\n",
    "    \"name\": \"Python\",\n",
    "    \"company\": \"Python Software Foundation\",\n",
    "    \"website\": \"python.org\",\n",
    "}"
   ]
  },
  {
   "cell_type": "code",
   "execution_count": 21,
   "id": "9a9f06c9",
   "metadata": {},
   "outputs": [
    {
     "name": "stdout",
     "output_type": "stream",
     "text": [
      "{'name': 'Python', 'company': 'Python Software Foundation', 'website': 'python.org'}\n"
     ]
    }
   ],
   "source": [
    "print(info)"
   ]
  },
  {
   "cell_type": "code",
   "execution_count": 22,
   "id": "e46c3894",
   "metadata": {},
   "outputs": [
    {
     "name": "stdout",
     "output_type": "stream",
     "text": [
      "<class 'dict'>\n"
     ]
    }
   ],
   "source": [
    "print(type(info))"
   ]
  },
  {
   "cell_type": "code",
   "execution_count": 25,
   "id": "4a68758f",
   "metadata": {},
   "outputs": [
    {
     "name": "stdout",
     "output_type": "stream",
     "text": [
      "clear copy fromkeys get items keys pop popitem setdefault update values\n"
     ]
    }
   ],
   "source": [
    "print(*dir(info)[-11:])"
   ]
  },
  {
   "cell_type": "code",
   "execution_count": 26,
   "id": "dd791d29",
   "metadata": {},
   "outputs": [],
   "source": [
    "info = {\n",
    "    \"name\": \"Python\",\n",
    "    \"company\": \"Python Software Foundation\",\n",
    "    \"website\": \"python.org\",\n",
    "}"
   ]
  },
  {
   "cell_type": "code",
   "execution_count": 29,
   "id": "7e4142b3",
   "metadata": {},
   "outputs": [
    {
     "name": "stdout",
     "output_type": "stream",
     "text": [
      "Python\n"
     ]
    }
   ],
   "source": [
    "v = info[\"name\"]\n",
    "print(v)"
   ]
  },
  {
   "cell_type": "code",
   "execution_count": 33,
   "id": "2c5268da",
   "metadata": {},
   "outputs": [
    {
     "name": "stdout",
     "output_type": "stream",
     "text": [
      "Python Software Foundation\n"
     ]
    }
   ],
   "source": [
    "n = info[\"company\"] # acces\n",
    "print(n)"
   ]
  },
  {
   "cell_type": "code",
   "execution_count": 31,
   "id": "f17bce89",
   "metadata": {},
   "outputs": [],
   "source": [
    "info[\"name\"] = \"PYTHON\" # update"
   ]
  },
  {
   "cell_type": "code",
   "execution_count": 32,
   "id": "e6b6f4ec",
   "metadata": {},
   "outputs": [
    {
     "name": "stdout",
     "output_type": "stream",
     "text": [
      "{'name': 'PYTHON', 'company': 'Python Software Foundation', 'website': 'python.org'}\n"
     ]
    }
   ],
   "source": [
    "print(info)"
   ]
  },
  {
   "cell_type": "code",
   "execution_count": 34,
   "id": "6593ce3c",
   "metadata": {},
   "outputs": [],
   "source": [
    "info[\"father\"] = \"Guido Van Rossum\" # add"
   ]
  },
  {
   "cell_type": "code",
   "execution_count": 35,
   "id": "ce651dfd",
   "metadata": {},
   "outputs": [
    {
     "name": "stdout",
     "output_type": "stream",
     "text": [
      "{'name': 'PYTHON', 'company': 'Python Software Foundation', 'website': 'python.org', 'father': 'Guido Van Rossum'}\n"
     ]
    }
   ],
   "source": [
    "print(info)"
   ]
  },
  {
   "cell_type": "code",
   "execution_count": 36,
   "id": "38f26c8d",
   "metadata": {},
   "outputs": [
    {
     "name": "stdout",
     "output_type": "stream",
     "text": [
      "{'company': 'Python Software Foundation',\n",
      " 'father': 'Guido Van Rossum',\n",
      " 'name': 'PYTHON',\n",
      " 'website': 'python.org'}\n"
     ]
    }
   ],
   "source": [
    "from pprint import pprint\n",
    "pprint(info)"
   ]
  },
  {
   "cell_type": "code",
   "execution_count": 37,
   "id": "c9f0d7de",
   "metadata": {},
   "outputs": [],
   "source": [
    "del info[\"website\"]"
   ]
  },
  {
   "cell_type": "code",
   "execution_count": 38,
   "id": "5ce28cf4",
   "metadata": {},
   "outputs": [
    {
     "name": "stdout",
     "output_type": "stream",
     "text": [
      "{'name': 'PYTHON', 'company': 'Python Software Foundation', 'father': 'Guido Van Rossum'}\n"
     ]
    }
   ],
   "source": [
    "print(info)"
   ]
  },
  {
   "cell_type": "code",
   "execution_count": 40,
   "id": "01f8af09",
   "metadata": {},
   "outputs": [],
   "source": [
    "d = { 'name': 'sachin', 'age': 26, 'country': \"India\", \"name\":\"Rahul\"}"
   ]
  },
  {
   "cell_type": "code",
   "execution_count": 41,
   "id": "93f5d18d",
   "metadata": {},
   "outputs": [
    {
     "name": "stdout",
     "output_type": "stream",
     "text": [
      "{'name': 'Rahul', 'age': 26, 'country': 'India'}\n"
     ]
    }
   ],
   "source": [
    "print(d)"
   ]
  },
  {
   "cell_type": "markdown",
   "id": "f080a711",
   "metadata": {},
   "source": [
    "#### Direct methods to \n",
    "\n",
    "    access\n",
    "    add & update\n",
    "    delete\n",
    "    "
   ]
  },
  {
   "cell_type": "code",
   "execution_count": 43,
   "id": "7db2ee8d",
   "metadata": {},
   "outputs": [],
   "source": [
    "resume = {\n",
    "    \"name\":\"Sachin Yadav\",\n",
    "    \"email\": [\"sachin@grrassolutions.in\", \"sachinyadav3496@gmail.com\"],\n",
    "    \"education\": {\n",
    "        \"Metric\": {\n",
    "            \"board\": \"BSER\",\n",
    "            \"percentage\": 88,\n",
    "        },\n",
    "        \"High School\":{\n",
    "            \"major\": \"sci-math\",\n",
    "            \"board\": \"BSER\",\n",
    "            \"percentage\": 84\n",
    "            \n",
    "        },\n",
    "        \"Graudation\":{\n",
    "            \"degree\": \"B.Tech in Computer Science\",\n",
    "            \"board\": \"RTU\",\n",
    "            \"percentage\": 88\n",
    "        }\n",
    "    }\n",
    "}"
   ]
  },
  {
   "cell_type": "code",
   "execution_count": 45,
   "id": "f73e5dee",
   "metadata": {},
   "outputs": [
    {
     "name": "stdout",
     "output_type": "stream",
     "text": [
      "{'name': 'Sachin Yadav', 'email': ['sachin@grrassolutions.in', 'sachinyadav3496@gmail.com'], 'education': {'Metric': {'board': 'BSER', 'percentage': 88}, 'High School': {'major': 'sci-math', 'board': 'BSER', 'percentage': 84}, 'Graudation': {'degree': 'B.Tech in Computer Science', 'board': 'RTU', 'percentage': 88}}}\n"
     ]
    }
   ],
   "source": [
    "print(resume) # complex / nested "
   ]
  },
  {
   "cell_type": "code",
   "execution_count": 46,
   "id": "b2fba2c2",
   "metadata": {},
   "outputs": [
    {
     "name": "stdout",
     "output_type": "stream",
     "text": [
      "{'education': {'Graudation': {'board': 'RTU',\n",
      "                              'degree': 'B.Tech in Computer Science',\n",
      "                              'percentage': 88},\n",
      "               'High School': {'board': 'BSER',\n",
      "                               'major': 'sci-math',\n",
      "                               'percentage': 84},\n",
      "               'Metric': {'board': 'BSER', 'percentage': 88}},\n",
      " 'email': ['sachin@grrassolutions.in', 'sachinyadav3496@gmail.com'],\n",
      " 'name': 'Sachin Yadav'}\n"
     ]
    }
   ],
   "source": [
    "pprint(resume)"
   ]
  },
  {
   "cell_type": "code",
   "execution_count": 51,
   "id": "129de6c6",
   "metadata": {},
   "outputs": [
    {
     "name": "stdout",
     "output_type": "stream",
     "text": [
      "84\n"
     ]
    }
   ],
   "source": [
    "# High School ? \n",
    "hp = resume['education']['High School']['percentage']\n",
    "print(hp)"
   ]
  },
  {
   "cell_type": "markdown",
   "id": "89802ecf",
   "metadata": {},
   "source": [
    "#### bank application\n",
    "\n",
    "    data\n",
    "    \n",
    "        account number   first name    last name   balance  password\n",
    "        \n",
    "        AC1001             sachin        yadav     50000     asbadfd\n",
    "        AC1102             rajat         goyal     45000     laksjdg\n",
    "        ...                 ...           ...        ...       ...\n",
    "        "
   ]
  },
  {
   "cell_type": "code",
   "execution_count": 58,
   "id": "6f67e3fa",
   "metadata": {},
   "outputs": [],
   "source": [
    "bank = {\n",
    "    \"AC1001\": {\n",
    "        \"first_name\": \"sachin\",\n",
    "        \"last_name\": \"yadav\",\n",
    "        \"balance\": 50000,\n",
    "        \"password\": \"asbadfd\"\n",
    "    },\n",
    "    \"AC1002\":{\n",
    "        \"first_name\": \"rajat\",\n",
    "        \"last_name\": \"goyal\",\n",
    "        \"balance\": 45000,\n",
    "        \"password\": \"laksjdg\"\n",
    "    }\n",
    "}"
   ]
  },
  {
   "cell_type": "code",
   "execution_count": 62,
   "id": "8b9d88c0",
   "metadata": {},
   "outputs": [],
   "source": [
    "bank[\"AC1002\"][\"balance\"] += 15000"
   ]
  },
  {
   "cell_type": "code",
   "execution_count": 63,
   "id": "dda2a16b",
   "metadata": {},
   "outputs": [
    {
     "name": "stdout",
     "output_type": "stream",
     "text": [
      "{'AC1001': {'balance': 50000,\n",
      "            'first_name': 'sachin',\n",
      "            'last_name': 'yadav',\n",
      "            'password': 'asbadfd'},\n",
      " 'AC1002': {'balance': 60000,\n",
      "            'first_name': 'rajat',\n",
      "            'last_name': 'goyal',\n",
      "            'password': 'laksjdg'}}\n"
     ]
    }
   ],
   "source": [
    "pprint(bank)"
   ]
  },
  {
   "cell_type": "code",
   "execution_count": null,
   "id": "5d7a6db1",
   "metadata": {},
   "outputs": [],
   "source": []
  },
  {
   "cell_type": "code",
   "execution_count": 55,
   "id": "b70ba0b4",
   "metadata": {},
   "outputs": [],
   "source": [
    "bank = [\n",
    "    #  acc        first    second   bal     password\n",
    "    [\"AC1001\", \"sachin\", \"yadav\", 50000, \"asbadfd\"],\n",
    "    [\"AC1002\", \"rajat\", \"goyal\", 45000, \"laksjdg\"]\n",
    "]"
   ]
  },
  {
   "cell_type": "code",
   "execution_count": 57,
   "id": "e31ba79c",
   "metadata": {},
   "outputs": [
    {
     "name": "stdout",
     "output_type": "stream",
     "text": [
      "[['AC1001', 'sachin', 'yadav', 50000, 'asbadfd'],\n",
      " ['AC1002', 'rajat', 'goyal', 45000, 'laksjdg']]\n"
     ]
    }
   ],
   "source": [
    "pprint(bank)"
   ]
  },
  {
   "cell_type": "code",
   "execution_count": null,
   "id": "ae5347fb",
   "metadata": {},
   "outputs": [],
   "source": []
  },
  {
   "cell_type": "code",
   "execution_count": null,
   "id": "aa9b2657",
   "metadata": {},
   "outputs": [],
   "source": []
  },
  {
   "cell_type": "code",
   "execution_count": null,
   "id": "233f8edc",
   "metadata": {},
   "outputs": [],
   "source": []
  },
  {
   "cell_type": "code",
   "execution_count": 52,
   "id": "fd1fa5a4",
   "metadata": {},
   "outputs": [],
   "source": [
    "bank = {\n",
    "    \"account\": [\"AC1001\", \"AC1002\"],\n",
    "    \"first_name\": [\"sachin\", \"rajat\"],\n",
    "    \"last_name\": [\"yadav\", \"goyal\"],\n",
    "    \"balance\": [50000, 45000],\n",
    "    \"password\": [\"asbadfd\", \"laksjdg\"]\n",
    "}"
   ]
  },
  {
   "cell_type": "code",
   "execution_count": 54,
   "id": "0603dc00",
   "metadata": {},
   "outputs": [
    {
     "name": "stdout",
     "output_type": "stream",
     "text": [
      "['AC1001', 'AC1002']\n"
     ]
    }
   ],
   "source": [
    "print(bank['account']) # keys -> primary key"
   ]
  },
  {
   "cell_type": "markdown",
   "id": "1a4076cb",
   "metadata": {},
   "source": [
    "       if-else, operators"
   ]
  },
  {
   "cell_type": "markdown",
   "id": "83616b70",
   "metadata": {},
   "source": [
    "### Methods\n",
    "\n",
    "    dict.keys() -> returns a list of keys\n",
    "    dict.values() -> returns a list of values\n",
    "    dict.item() -> returns key value pairs ? "
   ]
  },
  {
   "cell_type": "code",
   "execution_count": 64,
   "id": "ad2b228a",
   "metadata": {},
   "outputs": [
    {
     "name": "stdout",
     "output_type": "stream",
     "text": [
      "{'name': 'PYTHON', 'company': 'Python Software Foundation', 'father': 'Guido Van Rossum'}\n"
     ]
    }
   ],
   "source": [
    "print(info)"
   ]
  },
  {
   "cell_type": "code",
   "execution_count": 65,
   "id": "fec7a78c",
   "metadata": {},
   "outputs": [
    {
     "name": "stdout",
     "output_type": "stream",
     "text": [
      "['name', 'company', 'father']\n"
     ]
    }
   ],
   "source": [
    "keys = list(info.keys())\n",
    "print(keys)"
   ]
  },
  {
   "cell_type": "code",
   "execution_count": 66,
   "id": "7483b02b",
   "metadata": {},
   "outputs": [
    {
     "name": "stdout",
     "output_type": "stream",
     "text": [
      "['PYTHON', 'Python Software Foundation', 'Guido Van Rossum']\n"
     ]
    }
   ],
   "source": [
    "values = list(info.values())\n",
    "print(values)"
   ]
  },
  {
   "cell_type": "code",
   "execution_count": 68,
   "id": "dfcbf895",
   "metadata": {},
   "outputs": [
    {
     "name": "stdout",
     "output_type": "stream",
     "text": [
      "[('name', 'PYTHON'), ('company', 'Python Software Foundation'), ('father', 'Guido Van Rossum')]\n"
     ]
    }
   ],
   "source": [
    "items = list(info.items())\n",
    "print(items)"
   ]
  },
  {
   "cell_type": "code",
   "execution_count": 69,
   "id": "86190509",
   "metadata": {},
   "outputs": [],
   "source": [
    "info['key'] = \"value\""
   ]
  },
  {
   "cell_type": "code",
   "execution_count": 70,
   "id": "56e49626",
   "metadata": {},
   "outputs": [
    {
     "name": "stdout",
     "output_type": "stream",
     "text": [
      "{'name': 'PYTHON', 'company': 'Python Software Foundation', 'father': 'Guido Van Rossum', 'key': 'value'}\n"
     ]
    }
   ],
   "source": [
    "print(info)"
   ]
  },
  {
   "cell_type": "markdown",
   "id": "ba0df1f6",
   "metadata": {},
   "source": [
    "    we continue tomorrow -> if-else, operators"
   ]
  },
  {
   "cell_type": "code",
   "execution_count": null,
   "id": "e8d28cc7",
   "metadata": {},
   "outputs": [],
   "source": []
  }
 ],
 "metadata": {
  "kernelspec": {
   "display_name": "Python 3",
   "language": "python",
   "name": "python3"
  },
  "language_info": {
   "codemirror_mode": {
    "name": "ipython",
    "version": 3
   },
   "file_extension": ".py",
   "mimetype": "text/x-python",
   "name": "python",
   "nbconvert_exporter": "python",
   "pygments_lexer": "ipython3",
   "version": "3.8.8"
  }
 },
 "nbformat": 4,
 "nbformat_minor": 5
}

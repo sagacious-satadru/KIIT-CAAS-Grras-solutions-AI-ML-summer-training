{
 "cells": [
  {
   "cell_type": "markdown",
   "id": "ebc3e8b8",
   "metadata": {},
   "source": [
    "    Data Types\n",
    "    \n",
    "        Set, FrozenSet, Booleans, None Type\n",
    "        \n",
    "    Operators\n",
    "        \n",
    "        "
   ]
  },
  {
   "cell_type": "markdown",
   "id": "556fb94f",
   "metadata": {},
   "source": [
    "### Conditional Statements\n",
    "\n",
    "### Selection Statements\n",
    "\n",
    "### Decision Statements\n",
    "\n",
    "\n"
   ]
  },
  {
   "cell_type": "markdown",
   "id": "d924c9ae",
   "metadata": {},
   "source": [
    "    Flow Chart\n",
    "\n",
    "    Psudeo Code\n",
    "\n",
    "    Algorithms"
   ]
  },
  {
   "cell_type": "markdown",
   "id": "893cd3a7",
   "metadata": {},
   "source": [
    "#### What is an algorithm ?\n",
    "\n",
    "    step by step solution to a problem\n",
    "    \n",
    "    finite solution to a problem\n",
    "    \n",
    "    well defined, correct solution\n",
    "    \n",
    "    language independent\n",
    "    \n",
    "    "
   ]
  },
  {
   "cell_type": "markdown",
   "id": "a110da6e",
   "metadata": {},
   "source": [
    "    c program \n",
    "    \n",
    "    #inlcude<sdio.h>\n",
    "\n",
    "    int main(){\n",
    "        # your code goes here\n",
    "        return(0);\n",
    "    }\n",
    "    \n",
    "    java langauge\n",
    "    \n",
    "    class Hello{\n",
    "        public static int main(String arr[]){\n",
    "            # your code here\n",
    "            return 0;\n",
    "        }\n",
    "    }\n",
    "    \n",
    "    if __name__ == \"__main__\":\n",
    "        #your code here\n",
    "        exit(0)# "
   ]
  },
  {
   "cell_type": "markdown",
   "id": "1d2c13cf",
   "metadata": {},
   "source": [
    "    Even Odd Number\n",
    "    \n",
    "    step-1: start\n",
    "    step-2: int num = input\n",
    "    step-3: IF num is divisble by 2\n",
    "            THAN\n",
    "                display \"Given number is even\"\n",
    "            OTHERWISE\n",
    "                display \"Given number is odd\"\n",
    "    step-4: stop"
   ]
  },
  {
   "cell_type": "markdown",
   "id": "a60e24f3",
   "metadata": {},
   "source": [
    "    Principle of Programming Langauge\n",
    "    \n",
    "        data structures\n",
    "        \n",
    "        operations\n",
    "        \n",
    "        conditional statements (if-else)\n",
    "        \n",
    "        loops (while)\n",
    "        \n",
    "        functions (builtin, library, udf)\n",
    "        \n",
    "        oops (classes, objects)\n",
    "        \n",
    "        exception handling\n",
    "        \n",
    "        file handling\n",
    "        \n",
    "        socket programming\n",
    "        \n",
    "        "
   ]
  },
  {
   "cell_type": "markdown",
   "id": "59ab8db2",
   "metadata": {},
   "source": [
    "### Pseudo Code ?\n",
    "\n",
    "    alogrithms written as common code langauge known pseudo code\n",
    "    \n",
    "    language independent\n",
    "    \n",
    "    "
   ]
  },
  {
   "cell_type": "markdown",
   "id": "b1cab2b1",
   "metadata": {},
   "source": [
    "    PRINT \n",
    "    INPUT\n",
    "\n",
    "    INT FLOAT STRING ARRAY MAP\n",
    "\n",
    "    IF-ELSE IF-ELSE\n",
    "\n",
    "    WHILE or FOR loop\n",
    "    \n",
    "    FUNCTION"
   ]
  },
  {
   "cell_type": "code",
   "execution_count": 4,
   "id": "b5bb10d0",
   "metadata": {},
   "outputs": [
    {
     "data": {
      "text/plain": [
       "0"
      ]
     },
     "execution_count": 4,
     "metadata": {},
     "output_type": "execute_result"
    }
   ],
   "source": [
    "12 % 4 # % -> remainder"
   ]
  },
  {
   "cell_type": "markdown",
   "id": "7ddf74f8",
   "metadata": {},
   "source": [
    "    indendation = \"Space\"\n",
    "    \n",
    "    To\n",
    "        The Director/ Principle\n",
    "        College name\n",
    "    Dear Sir,\n",
    "        "
   ]
  },
  {
   "cell_type": "markdown",
   "id": "52d2ede2",
   "metadata": {},
   "source": [
    "### Pseudo Code for even odd num\n",
    "\n",
    "    num = INT INPUT\n",
    "    IF num % 2 == 0\n",
    "    THAN\n",
    "        PRINT \"even number\"\n",
    "    ELSE\n",
    "        PRINT \"odd number\"\n",
    "    ENDIF\n"
   ]
  },
  {
   "cell_type": "code",
   "execution_count": 7,
   "id": "370bf767",
   "metadata": {},
   "outputs": [
    {
     "name": "stdout",
     "output_type": "stream",
     "text": [
      "Enter a number: 11\n",
      "Odd Number\n"
     ]
    }
   ],
   "source": [
    "num = int(input(\"Enter a number: \"))\n",
    "if (num%2) == 0:\n",
    "    print(\"Even Number\")\n",
    "else:\n",
    "    print(\"Odd Number\")"
   ]
  },
  {
   "cell_type": "markdown",
   "id": "f1fc04f7",
   "metadata": {},
   "source": [
    "#### Flow Chart ?\n",
    "\n",
    "    graphical representation of any pseudo code / algorithm is known flow chart "
   ]
  },
  {
   "cell_type": "markdown",
   "id": "7a2698a1",
   "metadata": {},
   "source": [
    "#### conditional statement\n",
    "\n",
    "    selection statement\n",
    "    \n",
    "    decision statement\n",
    "    \n",
    "    if-else"
   ]
  },
  {
   "cell_type": "markdown",
   "id": "efdd8ebc",
   "metadata": {},
   "source": [
    "    conditional statements if elif else"
   ]
  },
  {
   "cell_type": "markdown",
   "id": "3d1b48b9",
   "metadata": {},
   "source": [
    "Block / Scope\n",
    "\n",
    "    group of statements bind together in single unit"
   ]
  },
  {
   "cell_type": "markdown",
   "id": "674f6b3f",
   "metadata": {},
   "source": [
    "    if (true) {\n",
    "            st1;\n",
    "            st2;\n",
    "            st3;\n",
    "        }else{\n",
    "            st4;\n",
    "            st5;\n",
    "            st9;\n",
    "        }\n",
    "        "
   ]
  },
  {
   "cell_type": "raw",
   "id": "42a9a527",
   "metadata": {},
   "source": [
    "if True:\n",
    "    st-1\n",
    "    st-2\n",
    "    st-3\n",
    "else:\n",
    "    st-4\n",
    "    st-5\n",
    "    st-9"
   ]
  },
  {
   "cell_type": "code",
   "execution_count": 15,
   "id": "384b1fb0",
   "metadata": {},
   "outputs": [
    {
     "name": "stdout",
     "output_type": "stream",
     "text": [
      "True\n"
     ]
    }
   ],
   "source": [
    "a = bool(7)\n",
    "print(a)"
   ]
  },
  {
   "cell_type": "raw",
   "id": "e53986b8",
   "metadata": {},
   "source": [
    "boolean\n",
    "\n",
    "    True  -> 'yes'\n",
    "    \n",
    "    False -> 'no' Flase, 0, None, empty objects ({}, [], \"\", ...)"
   ]
  },
  {
   "cell_type": "markdown",
   "id": "3ab4cddc",
   "metadata": {},
   "source": [
    "     num % 2 == 0\n",
    "     it is a statement, it expression -> condtion\n",
    "     \n",
    "     CONDITION -> True / False"
   ]
  },
  {
   "cell_type": "code",
   "execution_count": 16,
   "id": "b060100a",
   "metadata": {},
   "outputs": [
    {
     "name": "stdout",
     "output_type": "stream",
     "text": [
      "line-1\n",
      "line-2\n",
      "line-3\n",
      "line-4\n",
      "line-5\n",
      "line-6\n"
     ]
    }
   ],
   "source": [
    "print(\"line-1\")\n",
    "print(\"line-2\")\n",
    "print(\"line-3\")\n",
    "if 0:\n",
    "    print(\"This part of code will not work\")\n",
    "    print(\"Because if Condition is False\")\n",
    "    print(\"So this block will not be selected\")\n",
    "    \n",
    "print(\"line-4\")\n",
    "print(\"line-5\")\n",
    "print(\"line-6\")\n",
    "    "
   ]
  },
  {
   "cell_type": "code",
   "execution_count": 17,
   "id": "79388eca",
   "metadata": {},
   "outputs": [
    {
     "name": "stdout",
     "output_type": "stream",
     "text": [
      "line-1\n",
      "line-2\n",
      "line-3\n",
      "This part of code will not work\n",
      "Because if Condition is False\n",
      "So this block will not be selected\n",
      "line-4\n",
      "line-5\n",
      "line-6\n"
     ]
    }
   ],
   "source": [
    "print(\"line-1\")\n",
    "print(\"line-2\")\n",
    "print(\"line-3\")\n",
    "if 1:\n",
    "    print(\"This part of code will not work\")\n",
    "    print(\"Because if Condition is False\")\n",
    "    print(\"So this block will not be selected\")\n",
    "    \n",
    "print(\"line-4\")\n",
    "print(\"line-5\")\n",
    "print(\"line-6\")\n",
    "    "
   ]
  },
  {
   "cell_type": "code",
   "execution_count": 19,
   "id": "30c8119f",
   "metadata": {},
   "outputs": [
    {
     "name": "stdout",
     "output_type": "stream",
     "text": [
      "Enter a number: -10\n",
      "you have given a negative number!!!\n",
      "square of -10 is 100\n"
     ]
    }
   ],
   "source": [
    "num = int(input(\"Enter a number: \"))\n",
    "\n",
    "if num < 0:\n",
    "    print(\"you have given a negative number!!!\")\n",
    "    \n",
    "print(f\"square of {num} is {num**2}\")\n",
    "\n",
    "# 1 -> 20   ? \n",
    "# 2 -> -10  ?"
   ]
  },
  {
   "cell_type": "code",
   "execution_count": 21,
   "id": "3559b1f0",
   "metadata": {},
   "outputs": [
    {
     "name": "stdout",
     "output_type": "stream",
     "text": [
      "Enter a number: 20\n",
      "hello! you are adult now! you can drive a car.\n"
     ]
    }
   ],
   "source": [
    "age = int(input(\"Enter a number: \"))\n",
    "\n",
    "if age >= 18:\n",
    "    print(\"hello! you are adult now! you can drive a car.\")\n",
    "else:\n",
    "    print(f\"Hey! you still need to wait {18-age} years inorder to drive a car.\")\n",
    "    \n",
    "# 10 -> else block \n",
    "# 20 -> if block"
   ]
  },
  {
   "cell_type": "markdown",
   "id": "21abc335",
   "metadata": {},
   "source": [
    "    1. chess game\n",
    "    2. cricket game\n",
    "    3. footable game"
   ]
  },
  {
   "cell_type": "code",
   "execution_count": 25,
   "id": "7a4953c3",
   "metadata": {},
   "outputs": [
    {
     "name": "stdout",
     "output_type": "stream",
     "text": [
      "\n",
      "    press 1 for chess game\n",
      "    press 2 for cricket game\n",
      "    press 3 for footable game\n",
      "\n",
      "your choice: 8324\n",
      "are you out of your mind ? wrong choice\n"
     ]
    }
   ],
   "source": [
    "menu = \"\"\"\n",
    "    press 1 for chess game\n",
    "    press 2 for cricket game\n",
    "    press 3 for footable game\n",
    "\"\"\"\n",
    "print(menu)\n",
    "\n",
    "ch = int(input(\"your choice: \"))\n",
    "if ch == 1:\n",
    "    print(\"get ready to twist your brain with chess game\")\n",
    "elif ch == 2:\n",
    "    print(\"collect your bat-ball and just rock and roll to play cricket\")\n",
    "elif ch == 3:\n",
    "    print(\"check your boots and get ready to run!\")\n",
    "else:\n",
    "    print(\"are you out of your mind ? wrong choice\")"
   ]
  },
  {
   "cell_type": "markdown",
   "id": "002db226",
   "metadata": {},
   "source": [
    "#### Bank Loan Program \n",
    "\n",
    "    what you do for living\n",
    "        \n",
    "        government servent\n",
    "        \n",
    "            what is your salary \n",
    "            \n",
    "                 if salary > 50k -> you are eligible for loan\n",
    "                 else you are not eligible for loan\n",
    "        \n",
    "        private job\n",
    "        \n",
    "            sorry you are not eligible  for loan\n",
    "        \n",
    "        business man\n",
    "        \n",
    "            what is your turn over\n",
    "            \n",
    "                if turn over > 2 million than you are eligible\n",
    "                otherwise you are not eligible\n",
    "         \n",
    "    "
   ]
  },
  {
   "cell_type": "markdown",
   "id": "0af83dde",
   "metadata": {},
   "source": []
  }
 ],
 "metadata": {
  "kernelspec": {
   "display_name": "Python 3",
   "language": "python",
   "name": "python3"
  },
  "language_info": {
   "codemirror_mode": {
    "name": "ipython",
    "version": 3
   },
   "file_extension": ".py",
   "mimetype": "text/x-python",
   "name": "python",
   "nbconvert_exporter": "python",
   "pygments_lexer": "ipython3",
   "version": "3.8.8"
  }
 },
 "nbformat": 4,
 "nbformat_minor": 5
}

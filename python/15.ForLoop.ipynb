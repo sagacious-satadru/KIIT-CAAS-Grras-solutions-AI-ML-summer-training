{
 "cells": [
  {
   "cell_type": "markdown",
   "id": "0ca54fe9",
   "metadata": {},
   "source": [
    "### Iteration of Dictionaries using For Loop"
   ]
  },
  {
   "cell_type": "code",
   "execution_count": 1,
   "id": "2b28dd73",
   "metadata": {},
   "outputs": [],
   "source": [
    "info = {\n",
    "    \"name\": \"python\",\n",
    "    \"type\": \"programming language\",\n",
    "    \"website\": \"www.python.org\",\n",
    "    \"father\": \"guido van rossum\",\n",
    "    \"versions\": [\"1.X\", \"2.X\", \"3.X\"]\n",
    "}"
   ]
  },
  {
   "cell_type": "code",
   "execution_count": 4,
   "id": "8586aa5e",
   "metadata": {},
   "outputs": [
    {
     "name": "stdout",
     "output_type": "stream",
     "text": [
      "                          name = python\n",
      "                          type = programming language\n",
      "                       website = www.python.org\n",
      "                        father = guido van rossum\n",
      "                      versions = ['1.X', '2.X', '3.X']\n"
     ]
    }
   ],
   "source": [
    "for key in info:\n",
    "    # key = \"name\", value = \"python\"\n",
    "    value = info.get(key) # info[key]\n",
    "    print(f\"{key:>30} = {value}\")"
   ]
  },
  {
   "cell_type": "markdown",
   "id": "8dd43e51",
   "metadata": {},
   "source": [
    "**tuple unpacking in python**"
   ]
  },
  {
   "cell_type": "code",
   "execution_count": 11,
   "id": "d542512e",
   "metadata": {},
   "outputs": [
    {
     "data": {
      "text/plain": [
       "(10, 20)"
      ]
     },
     "execution_count": 11,
     "metadata": {},
     "output_type": "execute_result"
    }
   ],
   "source": [
    "x = 10\n",
    "y = 20\n",
    "\n",
    "\n",
    "x, y"
   ]
  },
  {
   "cell_type": "code",
   "execution_count": 10,
   "id": "f6a2845f",
   "metadata": {},
   "outputs": [
    {
     "data": {
      "text/plain": [
       "(1, 2, 3, 4)"
      ]
     },
     "execution_count": 10,
     "metadata": {},
     "output_type": "execute_result"
    }
   ],
   "source": [
    "1, 2, 3, 4"
   ]
  },
  {
   "cell_type": "code",
   "execution_count": 9,
   "id": "23806d35",
   "metadata": {},
   "outputs": [
    {
     "name": "stdout",
     "output_type": "stream",
     "text": [
      "x = 6\n",
      "y = 5\n"
     ]
    }
   ],
   "source": [
    "x = 5\n",
    "y = 6\n",
    "\n",
    "x,y=y,x\n",
    "# x,y=(6, 5)\n",
    "# swap\n",
    "\n",
    "print(f\"x = {x}\")\n",
    "print(f\"y = {y}\")"
   ]
  },
  {
   "cell_type": "markdown",
   "id": "297ae85c",
   "metadata": {},
   "source": [
    "    tuple unpakcing\n",
    "    \n",
    "    tuple of varaibles = iterables"
   ]
  },
  {
   "cell_type": "code",
   "execution_count": 17,
   "id": "ec4ddba3",
   "metadata": {},
   "outputs": [
    {
     "data": {
      "text/plain": [
       "(1, 2)"
      ]
     },
     "execution_count": 17,
     "metadata": {},
     "output_type": "execute_result"
    }
   ],
   "source": [
    "1, 2"
   ]
  },
  {
   "cell_type": "code",
   "execution_count": 19,
   "id": "88aa63ff",
   "metadata": {},
   "outputs": [],
   "source": [
    "item = [ \"Sachin Yadav\", [45, 67, 89]]\n",
    "\n",
    "(name, marks)= item"
   ]
  },
  {
   "cell_type": "code",
   "execution_count": 20,
   "id": "f88bdf96",
   "metadata": {},
   "outputs": [
    {
     "name": "stdout",
     "output_type": "stream",
     "text": [
      "Sachin Yadav\n",
      "[45, 67, 89]\n"
     ]
    }
   ],
   "source": [
    "print(name)\n",
    "print(marks)"
   ]
  },
  {
   "cell_type": "markdown",
   "id": "a6b95b7d",
   "metadata": {},
   "source": [
    "### Tuple upacking"
   ]
  },
  {
   "cell_type": "markdown",
   "id": "72bcdafe",
   "metadata": {},
   "source": [
    "    seq = [ (1, 2), (3,4) ]\n",
    "       \n",
    "    var = (1, 2)\n",
    "\n",
    "    for var in seq:\n",
    "        print(var)"
   ]
  },
  {
   "cell_type": "code",
   "execution_count": 21,
   "id": "e9984a0f",
   "metadata": {},
   "outputs": [],
   "source": [
    "item = [ \"Sachin Yadav\", [45, 67, 89]]\n",
    "\n",
    "(name, (p, c, m)) = item"
   ]
  },
  {
   "cell_type": "code",
   "execution_count": 23,
   "id": "0e8e25da",
   "metadata": {},
   "outputs": [
    {
     "name": "stdout",
     "output_type": "stream",
     "text": [
      "Sachin Yadav\n",
      "physics:  45\n",
      "chemistry:  67\n",
      "maths:  89\n"
     ]
    }
   ],
   "source": [
    "print(name)\n",
    "print('physics: ', p)\n",
    "print('chemistry: ', c)\n",
    "print('maths: ', m)"
   ]
  },
  {
   "cell_type": "code",
   "execution_count": null,
   "id": "a7bf47c3",
   "metadata": {},
   "outputs": [],
   "source": []
  },
  {
   "cell_type": "code",
   "execution_count": 5,
   "id": "b96d6c57",
   "metadata": {},
   "outputs": [],
   "source": [
    "info = {\n",
    "    \"name\": \"python\",\n",
    "    \"type\": \"programming language\",\n",
    "    \"website\": \"www.python.org\",\n",
    "    \"father\": \"guido van rossum\",\n",
    "    \"versions\": [\"1.X\", \"2.X\", \"3.X\"]\n",
    "}"
   ]
  },
  {
   "cell_type": "code",
   "execution_count": 24,
   "id": "38b783c5",
   "metadata": {},
   "outputs": [
    {
     "name": "stdout",
     "output_type": "stream",
     "text": [
      "                name = python\n",
      "                type = programming language\n",
      "             website = www.python.org\n",
      "              father = guido van rossum\n",
      "            versions = ['1.X', '2.X', '3.X']\n"
     ]
    }
   ],
   "source": [
    "for (key, value) in info.items():\n",
    "    print(f\"{key:>20} = {value}\")"
   ]
  },
  {
   "cell_type": "code",
   "execution_count": 8,
   "id": "2bcd95eb",
   "metadata": {},
   "outputs": [
    {
     "name": "stdout",
     "output_type": "stream",
     "text": [
      "('name', 'python')\n",
      "('type', 'programming language')\n",
      "('website', 'www.python.org')\n",
      "('father', 'guido van rossum')\n",
      "('versions', ['1.X', '2.X', '3.X'])\n"
     ]
    }
   ],
   "source": [
    "for item in info.items(): # [(\"name\", \"python\"), (\"type\", \"programming language\"), ..]\n",
    "    print(item) # (\"name\", \"python\")"
   ]
  },
  {
   "cell_type": "markdown",
   "id": "caa8a2d5",
   "metadata": {},
   "source": [
    "    WAPP to print only values of dictionaries"
   ]
  },
  {
   "cell_type": "code",
   "execution_count": 7,
   "id": "0ffc57e6",
   "metadata": {},
   "outputs": [
    {
     "name": "stdout",
     "output_type": "stream",
     "text": [
      "name\n",
      "type\n",
      "website\n",
      "father\n",
      "versions\n"
     ]
    }
   ],
   "source": [
    "for key in info.keys():\n",
    "    print(key)"
   ]
  },
  {
   "cell_type": "code",
   "execution_count": 6,
   "id": "7ba60e57",
   "metadata": {},
   "outputs": [
    {
     "name": "stdout",
     "output_type": "stream",
     "text": [
      "python\n",
      "programming language\n",
      "www.python.org\n",
      "guido van rossum\n",
      "['1.X', '2.X', '3.X']\n"
     ]
    }
   ],
   "source": [
    "for value in info.values():\n",
    "    print(value)"
   ]
  },
  {
   "cell_type": "code",
   "execution_count": 26,
   "id": "570a880a",
   "metadata": {},
   "outputs": [
    {
     "name": "stdout",
     "output_type": "stream",
     "text": [
      "S T R I N G "
     ]
    }
   ],
   "source": [
    "for ch in \"string\":\n",
    "    print(ch.upper(), end=' ')"
   ]
  },
  {
   "cell_type": "code",
   "execution_count": 28,
   "id": "baeb3864",
   "metadata": {},
   "outputs": [],
   "source": [
    "from pprint import pprint"
   ]
  },
  {
   "cell_type": "code",
   "execution_count": 29,
   "id": "3a8885a5",
   "metadata": {},
   "outputs": [
    {
     "name": "stdout",
     "output_type": "stream",
     "text": [
      "{'father': 'guido van rossum',\n",
      " 'name': 'python',\n",
      " 'type': 'programming language',\n",
      " 'versions': ['1.X', '2.X', '3.X'],\n",
      " 'website': 'www.python.org'}\n"
     ]
    }
   ],
   "source": [
    "pprint(info)"
   ]
  },
  {
   "cell_type": "code",
   "execution_count": 34,
   "id": "fd0c987e",
   "metadata": {},
   "outputs": [
    {
     "data": {
      "text/plain": [
       "True"
      ]
     },
     "execution_count": 34,
     "metadata": {},
     "output_type": "execute_result"
    }
   ],
   "source": [
    "(\"name\", \"python\") in info.items()"
   ]
  },
  {
   "cell_type": "code",
   "execution_count": 32,
   "id": "93f45f0e",
   "metadata": {},
   "outputs": [
    {
     "data": {
      "text/plain": [
       "True"
      ]
     },
     "execution_count": 32,
     "metadata": {},
     "output_type": "execute_result"
    }
   ],
   "source": [
    "\"name\" in info.keys()"
   ]
  },
  {
   "cell_type": "code",
   "execution_count": 33,
   "id": "12c466e9",
   "metadata": {},
   "outputs": [
    {
     "data": {
      "text/plain": [
       "True"
      ]
     },
     "execution_count": 33,
     "metadata": {},
     "output_type": "execute_result"
    }
   ],
   "source": [
    "\"python\" in info.values()"
   ]
  },
  {
   "cell_type": "code",
   "execution_count": 30,
   "id": "a8650bbd",
   "metadata": {},
   "outputs": [
    {
     "data": {
      "text/plain": [
       "False"
      ]
     },
     "execution_count": 30,
     "metadata": {},
     "output_type": "execute_result"
    }
   ],
   "source": [
    "\"python\" in info # ? "
   ]
  },
  {
   "cell_type": "code",
   "execution_count": 31,
   "id": "8e89019a",
   "metadata": {},
   "outputs": [
    {
     "data": {
      "text/plain": [
       "True"
      ]
     },
     "execution_count": 31,
     "metadata": {},
     "output_type": "execute_result"
    }
   ],
   "source": [
    "\"name\" in info"
   ]
  },
  {
   "cell_type": "code",
   "execution_count": 36,
   "id": "0fc560ed",
   "metadata": {},
   "outputs": [
    {
     "name": "stdout",
     "output_type": "stream",
     "text": [
      "Enter a stirng: yepii i know how to use for \n",
      "Total number of vowels are 10.\n",
      "         a = 0\n",
      "         e = 2\n",
      "         i = 3\n",
      "         o = 4\n",
      "         u = 1\n"
     ]
    }
   ],
   "source": [
    "vowel = { \"a\": 0, \"e\": 0,\n",
    "    \"i\": 0, \"o\": 0, \"u\": 0 }\n",
    "count = 0\n",
    "s = input(\"Enter a stirng: \").strip().lower()\n",
    "\n",
    "for ch in s:\n",
    "    if ch in vowel.keys():\n",
    "        count += 1\n",
    "        vowel[ch] += 1\n",
    "else:\n",
    "    print(f\"Total number of vowels are {count}.\")\n",
    "    for k, v in vowel.items():\n",
    "        print(f\"{k:>10} = {v}\")"
   ]
  },
  {
   "cell_type": "markdown",
   "id": "1bd2aa89",
   "metadata": {},
   "source": [
    "### Built-in iterable objects "
   ]
  },
  {
   "cell_type": "markdown",
   "id": "62458993",
   "metadata": {},
   "source": [
    "### range\n",
    "\n",
    "    range is a built python function which can be used to generate\n",
    "    a numerical iterable object"
   ]
  },
  {
   "cell_type": "code",
   "execution_count": 39,
   "id": "f2b228be",
   "metadata": {},
   "outputs": [
    {
     "name": "stdout",
     "output_type": "stream",
     "text": [
      "range(0, 5)\n"
     ]
    }
   ],
   "source": [
    "a = range(5) # a is range object which will generate number seq from 0-4\n",
    "print(a)"
   ]
  },
  {
   "cell_type": "code",
   "execution_count": 40,
   "id": "f698a0f3",
   "metadata": {},
   "outputs": [
    {
     "name": "stdout",
     "output_type": "stream",
     "text": [
      "0 1 2 3 4\n"
     ]
    }
   ],
   "source": [
    "print(*a)"
   ]
  },
  {
   "cell_type": "code",
   "execution_count": 41,
   "id": "598c1bee",
   "metadata": {},
   "outputs": [
    {
     "name": "stdout",
     "output_type": "stream",
     "text": [
      "0 1 2 3 4\n"
     ]
    }
   ],
   "source": [
    "print(*range(5))"
   ]
  },
  {
   "cell_type": "code",
   "execution_count": 43,
   "id": "8cdd5bb7",
   "metadata": {},
   "outputs": [
    {
     "name": "stdout",
     "output_type": "stream",
     "text": [
      "0, 1, 2, 3, 4, 5, 6, 7, 8, 9, 10, 11, 12, 13, 14, 15, 16, 17, 18, 19\n"
     ]
    }
   ],
   "source": [
    "print(*range(20), sep=\", \")\n",
    "# ?"
   ]
  },
  {
   "cell_type": "code",
   "execution_count": 44,
   "id": "7b9900e6",
   "metadata": {},
   "outputs": [
    {
     "name": "stdout",
     "output_type": "stream",
     "text": [
      "11 12 13 14 15\n"
     ]
    }
   ],
   "source": [
    "print(*range(11, 16))"
   ]
  },
  {
   "cell_type": "markdown",
   "id": "b1dbbf10",
   "metadata": {},
   "source": [
    "    1-10 ?"
   ]
  },
  {
   "cell_type": "code",
   "execution_count": 45,
   "id": "b1d145c3",
   "metadata": {},
   "outputs": [
    {
     "name": "stdout",
     "output_type": "stream",
     "text": [
      "1 2 3 4 5 6 7 8 9 10\n"
     ]
    }
   ],
   "source": [
    "print(*range(1, 11))"
   ]
  },
  {
   "cell_type": "code",
   "execution_count": 46,
   "id": "efb4d656",
   "metadata": {},
   "outputs": [
    {
     "name": "stdout",
     "output_type": "stream",
     "text": [
      "91 94 97 100\n"
     ]
    }
   ],
   "source": [
    "print(*range(91, 101, 3))"
   ]
  },
  {
   "cell_type": "markdown",
   "id": "417cfa24",
   "metadata": {},
   "source": [
    "    write a single line of code in python to print table of a given number\n",
    "    "
   ]
  },
  {
   "cell_type": "code",
   "execution_count": 49,
   "id": "36e3ea0a",
   "metadata": {},
   "outputs": [
    {
     "name": "stdout",
     "output_type": "stream",
     "text": [
      "13\n",
      "13\n",
      "26\n",
      "39\n",
      "52\n",
      "65\n",
      "78\n",
      "91\n",
      "104\n",
      "117\n",
      "130\n"
     ]
    }
   ],
   "source": [
    "num = int(input())\n",
    "print(*range(num, num*10+1, num), sep=\"\\n\")\n",
    "# replace this line with your code to print table of given number"
   ]
  },
  {
   "cell_type": "markdown",
   "id": "0970a3bb",
   "metadata": {},
   "source": [
    "    10 8 6 4 2 0 ? "
   ]
  },
  {
   "cell_type": "code",
   "execution_count": 50,
   "id": "fcfed904",
   "metadata": {},
   "outputs": [
    {
     "name": "stdout",
     "output_type": "stream",
     "text": [
      "10 8 6 4 2 0\n"
     ]
    }
   ],
   "source": [
    "print(*range(10, -1, -2))"
   ]
  },
  {
   "cell_type": "code",
   "execution_count": 6,
   "id": "20b55d6d",
   "metadata": {},
   "outputs": [
    {
     "name": "stdout",
     "output_type": "stream",
     "text": [
      "Enter a number : 5\n",
      "\n",
      "1\n",
      "12\n",
      "123\n",
      "1234\n",
      "12345\n"
     ]
    }
   ],
   "source": [
    "# nrows = int(input(\"Enter number of rows: \"))\n",
    "# for n in range(1, nrows+1):\n",
    "#     s = [str(c) for c in range(1, n+1)]\n",
    "#     print(\"\".join(s)) # ?\n",
    "\n",
    "n = int(input(\"Enter a number : \"))\n",
    "for i in range(n+1):\n",
    "    s = [str(j) for j in range(1,i+1)]\n",
    "    print(\"\".join(s))\n",
    "    "
   ]
  },
  {
   "cell_type": "code",
   "execution_count": 58,
   "id": "f1c55e05",
   "metadata": {},
   "outputs": [
    {
     "name": "stdout",
     "output_type": "stream",
     "text": [
      "Enter number of rows: 9\n",
      "1\n",
      "22\n",
      "333\n",
      "4444\n",
      "55555\n",
      "666666\n",
      "7777777\n",
      "88888888\n",
      "999999999\n"
     ]
    }
   ],
   "source": [
    "nrows = int(input(\"Enter number of rows: \"))\n",
    "for n in range(1, nrows+1):\n",
    "    print(str(n)*n) # ?"
   ]
  },
  {
   "cell_type": "code",
   "execution_count": 56,
   "id": "c67f74e8",
   "metadata": {},
   "outputs": [
    {
     "name": "stdout",
     "output_type": "stream",
     "text": [
      "Enter number of rows: 10\n",
      "Fill character: ^\n",
      "^\n",
      "^^\n",
      "^^^\n",
      "^^^^\n",
      "^^^^^\n",
      "^^^^^^\n",
      "^^^^^^^\n",
      "^^^^^^^^\n",
      "^^^^^^^^^\n",
      "^^^^^^^^^^\n"
     ]
    }
   ],
   "source": [
    "nrows = int(input(\"Enter number of rows: \"))\n",
    "fillchar = input(\"Fill character: \")\n",
    "for n in range(1, nrows+1):\n",
    "    print(fillchar*n) # ?"
   ]
  },
  {
   "cell_type": "code",
   "execution_count": null,
   "id": "03fd993b",
   "metadata": {},
   "outputs": [],
   "source": []
  },
  {
   "cell_type": "code",
   "execution_count": null,
   "id": "4a11033b",
   "metadata": {},
   "outputs": [],
   "source": []
  },
  {
   "cell_type": "code",
   "execution_count": 62,
   "id": "8385307b",
   "metadata": {},
   "outputs": [
    {
     "name": "stdout",
     "output_type": "stream",
     "text": [
      "Rows: 10\n",
      "         *\n",
      "        **\n",
      "       ***\n",
      "      ****\n",
      "     *****\n",
      "    ******\n",
      "   *******\n",
      "  ********\n",
      " *********\n",
      "**********\n"
     ]
    }
   ],
   "source": [
    "nrows = int(input(\"Rows: \"))\n",
    "for n in range(1, nrows+1):\n",
    "    s = \"*\"*n\n",
    "    print(s.rjust(10))"
   ]
  },
  {
   "cell_type": "code",
   "execution_count": 68,
   "id": "11ed837b",
   "metadata": {},
   "outputs": [
    {
     "name": "stdout",
     "output_type": "stream",
     "text": [
      "Enter number of rows10\n",
      "---------*---------\n",
      "--------***--------\n",
      "-------*****-------\n",
      "------*******------\n",
      "-----*********-----\n",
      "----***********----\n",
      "---*************---\n",
      "--***************--\n",
      "-*****************-\n",
      "*******************\n"
     ]
    }
   ],
   "source": [
    "n = int(input(\"Enter number of rows\"))\n",
    "w = 2*n-1\n",
    "for i in range(1, w+1, 2):\n",
    "    s = \"*\"*i\n",
    "    print(s.center(w, '-'))"
   ]
  },
  {
   "cell_type": "code",
   "execution_count": 69,
   "id": "9d4ea185",
   "metadata": {},
   "outputs": [
    {
     "name": "stdout",
     "output_type": "stream",
     "text": [
      "1\n",
      "2\n",
      "3\n",
      "4\n",
      "5\n",
      "6\n",
      "7\n",
      "8\n",
      "9\n"
     ]
    }
   ],
   "source": [
    "for i in range(1, 10):\n",
    "    print(i)"
   ]
  },
  {
   "cell_type": "markdown",
   "id": "52946129",
   "metadata": {},
   "source": [
    "`enumerate(iterable)`\n",
    "\n",
    "\n",
    "    it will iterate iterable with numbering \n",
    "    "
   ]
  },
  {
   "cell_type": "code",
   "execution_count": 76,
   "id": "8173f2ce",
   "metadata": {},
   "outputs": [
    {
     "name": "stdout",
     "output_type": "stream",
     "text": [
      "(0, 'p') (1, 'y') (2, 't') (3, 'h') (4, 'o') (5, 'n')\n"
     ]
    }
   ],
   "source": [
    "print(*enumerate(\"python\"))"
   ]
  },
  {
   "cell_type": "code",
   "execution_count": 75,
   "id": "f813b283",
   "metadata": {},
   "outputs": [
    {
     "data": {
      "text/plain": [
       "<enumerate at 0x1e781700680>"
      ]
     },
     "execution_count": 75,
     "metadata": {},
     "output_type": "execute_result"
    }
   ],
   "source": [
    "enumerate(\"python\") # iterators / generators"
   ]
  },
  {
   "cell_type": "code",
   "execution_count": 70,
   "id": "821f3803",
   "metadata": {},
   "outputs": [],
   "source": [
    "names = [\"rajat\", \"nidhi\", \"gaurav\", \"akhilesh\", \"ravi\", \"shivani\", \"yadvendra\", \n",
    "        \"simran\", \"sachin\"]"
   ]
  },
  {
   "cell_type": "markdown",
   "id": "4c6cc7f5",
   "metadata": {},
   "source": [
    "    1. Rajat\n",
    "    2. Nidhi"
   ]
  },
  {
   "cell_type": "code",
   "execution_count": 74,
   "id": "7ad09b1e",
   "metadata": {},
   "outputs": [
    {
     "name": "stdout",
     "output_type": "stream",
     "text": [
      "1. rajat\n",
      "2. nidhi\n",
      "3. gaurav\n",
      "4. akhilesh\n",
      "5. ravi\n",
      "6. shivani\n",
      "7. yadvendra\n",
      "8. simran\n",
      "9. sachin\n"
     ]
    }
   ],
   "source": [
    "for i in range(len(names)):\n",
    "    print(f\"{i+1}. {names[i]}\")"
   ]
  },
  {
   "cell_type": "code",
   "execution_count": 73,
   "id": "764b8658",
   "metadata": {},
   "outputs": [
    {
     "name": "stdout",
     "output_type": "stream",
     "text": [
      "1. Rajat\n",
      "2. Nidhi\n",
      "3. Gaurav\n",
      "4. Akhilesh\n",
      "5. Ravi\n",
      "6. Shivani\n",
      "7. Yadvendra\n",
      "8. Simran\n",
      "9. Sachin\n"
     ]
    }
   ],
   "source": [
    "c = 1\n",
    "for name in names:\n",
    "    print(f\"{c}. {name.title()}\")\n",
    "    c +=1"
   ]
  },
  {
   "cell_type": "code",
   "execution_count": 77,
   "id": "e187bc4b",
   "metadata": {},
   "outputs": [
    {
     "name": "stdout",
     "output_type": "stream",
     "text": [
      "(0, 'H') (1, 'e') (2, 'l') (3, 'l') (4, 'o')\n"
     ]
    }
   ],
   "source": [
    "print(*enumerate(\"Hello\"))"
   ]
  },
  {
   "cell_type": "code",
   "execution_count": 82,
   "id": "5662334f",
   "metadata": {},
   "outputs": [
    {
     "name": "stdout",
     "output_type": "stream",
     "text": [
      "0 -> H\n",
      "1 -> e\n",
      "2 -> l\n",
      "3 -> l\n",
      "4 -> o\n",
      "5 ->  \n",
      "6 -> W\n",
      "7 -> o\n",
      "8 -> r\n",
      "9 -> l\n",
      "10 -> d\n",
      "11 -> !\n"
     ]
    }
   ],
   "source": [
    "s = \"Hello World!\"\n",
    "for i,c in enumerate(s):\n",
    "    print(f\"{i} -> {c}\")"
   ]
  },
  {
   "cell_type": "code",
   "execution_count": 79,
   "id": "cafe7e7a",
   "metadata": {},
   "outputs": [
    {
     "name": "stdout",
     "output_type": "stream",
     "text": [
      "['rajat', 'nidhi', 'gaurav', 'akhilesh', 'ravi', 'shivani', 'yadvendra', 'simran', 'sachin']\n"
     ]
    }
   ],
   "source": [
    "print(names)"
   ]
  },
  {
   "cell_type": "code",
   "execution_count": 83,
   "id": "eda9d47c",
   "metadata": {},
   "outputs": [
    {
     "name": "stdout",
     "output_type": "stream",
     "text": [
      "1. rajat\n",
      "2. nidhi\n",
      "3. gaurav\n",
      "4. akhilesh\n",
      "5. ravi\n",
      "6. shivani\n",
      "7. yadvendra\n",
      "8. simran\n",
      "9. sachin\n"
     ]
    }
   ],
   "source": [
    "for sno, name in enumerate(names, 1):\n",
    "    print(f\"{sno}. {name}\")"
   ]
  },
  {
   "cell_type": "code",
   "execution_count": 85,
   "id": "36e868c3",
   "metadata": {},
   "outputs": [
    {
     "name": "stdout",
     "output_type": "stream",
     "text": [
      "{'father': 'guido van rossum',\n",
      " 'name': 'python',\n",
      " 'type': 'programming language',\n",
      " 'versions': ['1.X', '2.X', '3.X'],\n",
      " 'website': 'www.python.org'}\n"
     ]
    }
   ],
   "source": [
    "pprint(info)"
   ]
  },
  {
   "cell_type": "code",
   "execution_count": 97,
   "id": "b3b0e5fe",
   "metadata": {},
   "outputs": [
    {
     "name": "stdout",
     "output_type": "stream",
     "text": [
      "------------------------------------------------------------------\n",
      "|    1     |         name        |             python            |\n",
      "------------------------------------------------------------------\n",
      "|    2     |         type        |      programming language     |\n",
      "------------------------------------------------------------------\n",
      "|    3     |       website       |         www.python.org        |\n",
      "------------------------------------------------------------------\n",
      "|    4     |        father       |        guido van rossum       |\n",
      "------------------------------------------------------------------\n",
      "|    5     |       versions      |     ['1.X', '2.X', '3.X']     |\n",
      "------------------------------------------------------------------\n"
     ]
    }
   ],
   "source": [
    "print(\"-\"*66)\n",
    "for (sno, (key, value)) in enumerate(info.items(), 1):\n",
    "    print(f\"|{str(sno):^10}| {str(key):^20}| {str(value):^30}|\")\n",
    "    print(\"-\"*66)"
   ]
  },
  {
   "cell_type": "markdown",
   "id": "7c214054",
   "metadata": {},
   "source": [
    "**zip**\n",
    "\n",
    "    how to use zip using for loop\n",
    "    \n",
    "    "
   ]
  },
  {
   "cell_type": "markdown",
   "id": "f81bf17a",
   "metadata": {},
   "source": [
    "### User Defined Functions in Python"
   ]
  },
  {
   "cell_type": "code",
   "execution_count": null,
   "id": "85945d22",
   "metadata": {},
   "outputs": [],
   "source": []
  }
 ],
 "metadata": {
  "kernelspec": {
   "display_name": "Python 3",
   "language": "python",
   "name": "python3"
  },
  "language_info": {
   "codemirror_mode": {
    "name": "ipython",
    "version": 3
   },
   "file_extension": ".py",
   "mimetype": "text/x-python",
   "name": "python",
   "nbconvert_exporter": "python",
   "pygments_lexer": "ipython3",
   "version": "3.8.8"
  }
 },
 "nbformat": 4,
 "nbformat_minor": 5
}

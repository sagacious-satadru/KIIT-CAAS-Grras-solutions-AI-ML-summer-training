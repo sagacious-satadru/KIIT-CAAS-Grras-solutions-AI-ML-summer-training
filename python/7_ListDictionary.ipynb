{
 "cells": [
  {
   "cell_type": "markdown",
   "id": "9d1fec4a",
   "metadata": {},
   "source": [
    "### List\n",
    "\n",
    "    collection of valid python objects  \n",
    "    iterable data type\n",
    "    mutable data type\n",
    "    ordered sequential type (indexing, slicing)\n",
    "    \n"
   ]
  },
  {
   "cell_type": "markdown",
   "id": "f88389fc",
   "metadata": {},
   "source": [
    "    if a list is homogenous (have same data types) than you can it is an array "
   ]
  },
  {
   "cell_type": "code",
   "execution_count": 2,
   "id": "f82cb341",
   "metadata": {},
   "outputs": [],
   "source": [
    "# array of strings \n",
    "#             -7     -6   -5     -4    -3         -2        -1\n",
    "language = [\"java\", \"c\", \"c++\", \"go\", \"python\", \"swift\", \"javascript\"]\n",
    "#              0      1    2      3       4        5          6"
   ]
  },
  {
   "cell_type": "code",
   "execution_count": 4,
   "id": "2bfac438",
   "metadata": {},
   "outputs": [
    {
     "name": "stdout",
     "output_type": "stream",
     "text": [
      "python is an awesome language!\n"
     ]
    }
   ],
   "source": [
    "name = language[-3]\n",
    "print(f\"{name} is an awesome language!\")"
   ]
  },
  {
   "cell_type": "code",
   "execution_count": 3,
   "id": "05ebe707",
   "metadata": {},
   "outputs": [
    {
     "name": "stdout",
     "output_type": "stream",
     "text": [
      "python is an awesome language!\n"
     ]
    }
   ],
   "source": [
    "name = language[4]\n",
    "print(f\"{name} is an awesome language!\")"
   ]
  },
  {
   "cell_type": "code",
   "execution_count": 5,
   "id": "49acf9ea",
   "metadata": {},
   "outputs": [],
   "source": [
    "# array of strings \n",
    "#             -7     -6   -5     -4    -3         -2        -1\n",
    "language = [\"java\", \"c\", \"c++\", \"go\", \"python\", \"swift\", \"javascript\"]\n",
    "#              0      1    2      3       4        5          6"
   ]
  },
  {
   "cell_type": "code",
   "execution_count": 6,
   "id": "dda81297",
   "metadata": {},
   "outputs": [
    {
     "name": "stdout",
     "output_type": "stream",
     "text": [
      "['java', 'c', 'c++']\n"
     ]
    }
   ],
   "source": [
    "print(language[:3])"
   ]
  },
  {
   "cell_type": "code",
   "execution_count": 7,
   "id": "ac5c0a48",
   "metadata": {},
   "outputs": [
    {
     "name": "stdout",
     "output_type": "stream",
     "text": [
      "['python', 'swift', 'javascript']\n"
     ]
    }
   ],
   "source": [
    "print(language[-3:])"
   ]
  },
  {
   "cell_type": "code",
   "execution_count": 8,
   "id": "71d691b8",
   "metadata": {},
   "outputs": [
    {
     "name": "stdout",
     "output_type": "stream",
     "text": [
      "['java', 'c', 'c++', 'go', 'python']\n"
     ]
    }
   ],
   "source": [
    "print(language[:-2])"
   ]
  },
  {
   "cell_type": "code",
   "execution_count": 9,
   "id": "5918c6f3",
   "metadata": {},
   "outputs": [
    {
     "name": "stdout",
     "output_type": "stream",
     "text": [
      "['__add__', '__class__', '__contains__', '__delattr__', '__delitem__', '__dir__', '__doc__', '__eq__', '__format__', '__ge__', '__getattribute__', '__getitem__', '__gt__', '__hash__', '__iadd__', '__imul__', '__init__', '__init_subclass__', '__iter__', '__le__', '__len__', '__lt__', '__mul__', '__ne__', '__new__', '__reduce__', '__reduce_ex__', '__repr__', '__reversed__', '__rmul__', '__setattr__', '__setitem__', '__sizeof__', '__str__', '__subclasshook__', 'append', 'clear', 'copy', 'count', 'extend', 'index', 'insert', 'pop', 'remove', 'reverse', 'sort']\n"
     ]
    }
   ],
   "source": [
    "print(dir(list))"
   ]
  },
  {
   "cell_type": "code",
   "execution_count": 10,
   "id": "a6321abf",
   "metadata": {},
   "outputs": [
    {
     "name": "stdout",
     "output_type": "stream",
     "text": [
      "['__add__', '__class__', '__contains__', '__delattr__', '__delitem__', '__dir__', '__doc__', '__eq__', '__format__', '__ge__', '__getattribute__', '__getitem__', '__gt__', '__hash__', '__iadd__', '__imul__', '__init__', '__init_subclass__', '__iter__', '__le__', '__len__', '__lt__', '__mul__', '__ne__', '__new__', '__reduce__', '__reduce_ex__', '__repr__', '__reversed__', '__rmul__', '__setattr__', '__setitem__', '__sizeof__', '__str__', '__subclasshook__', 'append', 'clear', 'copy', 'count', 'extend', 'index', 'insert', 'pop', 'remove', 'reverse', 'sort']\n"
     ]
    }
   ],
   "source": [
    "language = [\"java\", \"c\", \"c++\", \"go\", \"python\", \"swift\", \"javascript\"]\n",
    "print(dir(language))"
   ]
  },
  {
   "cell_type": "code",
   "execution_count": 11,
   "id": "14a9a9c9",
   "metadata": {},
   "outputs": [
    {
     "name": "stdout",
     "output_type": "stream",
     "text": [
      "Hello World!\n"
     ]
    }
   ],
   "source": [
    "s = \"Hello \" + \"World!\"\n",
    "# concatenation\n",
    "print(s)"
   ]
  },
  {
   "cell_type": "code",
   "execution_count": 12,
   "id": "674715f4",
   "metadata": {},
   "outputs": [
    {
     "name": "stdout",
     "output_type": "stream",
     "text": [
      "Ram Ram Ram Ram Ram Ram Ram Ram Ram Ram Ram Ram Ram Ram Ram Ram Ram Ram Ram Ram Ram Ram Ram Ram Ram Ram Ram Ram Ram Ram Ram Ram Ram Ram Ram Ram Ram Ram Ram Ram Ram Ram Ram Ram Ram Ram Ram Ram Ram Ram Ram Ram Ram Ram Ram Ram Ram Ram Ram Ram Ram Ram Ram Ram Ram Ram Ram Ram Ram Ram Ram Ram Ram Ram Ram Ram Ram Ram Ram Ram Ram Ram Ram Ram Ram Ram Ram Ram Ram Ram Ram Ram Ram Ram Ram Ram Ram Ram Ram Ram Ram Ram Ram Ram Ram Ram Ram Ram \n"
     ]
    }
   ],
   "source": [
    "s = \"Ram \" * 108\n",
    "# replication\n",
    "print(s)"
   ]
  },
  {
   "cell_type": "code",
   "execution_count": 13,
   "id": "37d58555",
   "metadata": {},
   "outputs": [],
   "source": [
    "lst1 = [\"sachin\", \"rajat\", \"nidhi\"]\n",
    "lst2 = [\"ravi\", \"simran\", \"mayank\"]"
   ]
  },
  {
   "cell_type": "code",
   "execution_count": 14,
   "id": "7ffa5ecf",
   "metadata": {},
   "outputs": [
    {
     "name": "stdout",
     "output_type": "stream",
     "text": [
      "['sachin', 'rajat', 'nidhi', 'ravi', 'simran', 'mayank']\n"
     ]
    }
   ],
   "source": [
    "comb = lst1 + lst2\n",
    "# merge\n",
    "print(comb)"
   ]
  },
  {
   "cell_type": "code",
   "execution_count": 16,
   "id": "5aa2ed21",
   "metadata": {},
   "outputs": [
    {
     "name": "stdout",
     "output_type": "stream",
     "text": [
      "['python', 'c', 'c++', 'python', 'c', 'c++']\n"
     ]
    }
   ],
   "source": [
    "lang = [ \"python\", \"c\", \"c++\" ] * 2\n",
    "# replication\n",
    "print(lang)"
   ]
  },
  {
   "cell_type": "markdown",
   "id": "b3be5ab3",
   "metadata": {},
   "source": [
    "    len(iterable) -> no of members in iterable\n",
    "    \n",
    "    len(iterable) --> class.__len__(object)"
   ]
  },
  {
   "cell_type": "code",
   "execution_count": 18,
   "id": "dcd21342",
   "metadata": {},
   "outputs": [
    {
     "name": "stdout",
     "output_type": "stream",
     "text": [
      "I have 44 no of letters in my string.\n"
     ]
    }
   ],
   "source": [
    "s = \"can you count no of letters in this string ?\" # include space\n",
    "c = len(s)\n",
    "print(f\"I have {c} no of letters in my string.\")\n",
    "# method by which you can count spaces\n",
    "# try to remove remove spaces and than cont no of letters"
   ]
  },
  {
   "cell_type": "code",
   "execution_count": 20,
   "id": "e5d5431b",
   "metadata": {},
   "outputs": [],
   "source": [
    "language = [\"java\", \"c\", \"c++\", \"go\", \"python\", \"swift\", \"javascript\"]\n",
    "n = len(language)"
   ]
  },
  {
   "cell_type": "code",
   "execution_count": 22,
   "id": "d8e59ab0",
   "metadata": {},
   "outputs": [
    {
     "name": "stdout",
     "output_type": "stream",
     "text": [
      "7\n"
     ]
    }
   ],
   "source": [
    "print(n) # ? \n",
    "# 0 - 6"
   ]
  },
  {
   "cell_type": "markdown",
   "id": "cbc15474",
   "metadata": {},
   "source": [
    "#### Regular methods of List"
   ]
  },
  {
   "cell_type": "code",
   "execution_count": 23,
   "id": "23fca7d5",
   "metadata": {},
   "outputs": [
    {
     "name": "stdout",
     "output_type": "stream",
     "text": [
      "['__add__', '__class__', '__contains__', '__delattr__', '__delitem__', '__dir__', '__doc__', '__eq__', '__format__', '__ge__', '__getattribute__', '__getitem__', '__gt__', '__hash__', '__iadd__', '__imul__', '__init__', '__init_subclass__', '__iter__', '__le__', '__len__', '__lt__', '__mul__', '__ne__', '__new__', '__reduce__', '__reduce_ex__', '__repr__', '__reversed__', '__rmul__', '__setattr__', '__setitem__', '__sizeof__', '__str__', '__subclasshook__', 'append', 'clear', 'copy', 'count', 'extend', 'index', 'insert', 'pop', 'remove', 'reverse', 'sort']\n"
     ]
    }
   ],
   "source": [
    "print(dir(list)) # ? "
   ]
  },
  {
   "cell_type": "code",
   "execution_count": 30,
   "id": "18939fb8",
   "metadata": {},
   "outputs": [
    {
     "name": "stdout",
     "output_type": "stream",
     "text": [
      "Hello\n",
      "World!\n"
     ]
    }
   ],
   "source": [
    "print(\"Hello\", \"World!\", sep=\"\\n\") # single object"
   ]
  },
  {
   "cell_type": "markdown",
   "id": "742fb4f7",
   "metadata": {},
   "source": [
    "    \"H\"  \"e\" \"l\" \"l\", \"l\" \"o\""
   ]
  },
  {
   "cell_type": "code",
   "execution_count": 36,
   "id": "2ae34e21",
   "metadata": {},
   "outputs": [
    {
     "name": "stdout",
     "output_type": "stream",
     "text": [
      "Hello\n",
      "H e l l o\n",
      "H e l l o\n"
     ]
    }
   ],
   "source": [
    "s = \"Hello\"\n",
    "print(s) # single object\n",
    "print(*s) # * iterate string\n",
    "print(\"H\", \"e\", \"l\", \"l\", \"o\")"
   ]
  },
  {
   "cell_type": "code",
   "execution_count": 39,
   "id": "9cbbdec2",
   "metadata": {},
   "outputs": [
    {
     "name": "stdout",
     "output_type": "stream",
     "text": [
      "hello\n",
      "HELLO\n"
     ]
    }
   ],
   "source": [
    "s = \"hello\"\n",
    "s1 = s.upper()\n",
    "print(s)\n",
    "print(s1)"
   ]
  },
  {
   "cell_type": "markdown",
   "id": "e71f5ece",
   "metadata": {},
   "source": [
    "    immutable and mutable"
   ]
  },
  {
   "cell_type": "code",
   "execution_count": 42,
   "id": "a3725332",
   "metadata": {},
   "outputs": [
    {
     "name": "stdout",
     "output_type": "stream",
     "text": [
      "hello world!\n",
      "None\n",
      "ha ha ha\n"
     ]
    }
   ],
   "source": [
    "value = print(\"hello world!\")\n",
    "# print does not return anything [nothing->None]\n",
    "print(value)\n",
    "print('ha ha ha')"
   ]
  },
  {
   "cell_type": "code",
   "execution_count": 46,
   "id": "43399874",
   "metadata": {},
   "outputs": [
    {
     "name": "stdout",
     "output_type": "stream",
     "text": [
      "enter your name ? rahul\n",
      "ohh where is my data ? \n",
      "rahul\n"
     ]
    }
   ],
   "source": [
    "name = input(\"enter your name ? \")\n",
    "print('ohh where is my data ? ')\n",
    "print(name)"
   ]
  },
  {
   "cell_type": "code",
   "execution_count": 47,
   "id": "0b0b6e5d",
   "metadata": {},
   "outputs": [
    {
     "name": "stdout",
     "output_type": "stream",
     "text": [
      "hello\n",
      "HELLO\n"
     ]
    }
   ],
   "source": [
    "s = 'hello'\n",
    "ns = s.upper()\n",
    "print(s)\n",
    "print(ns)"
   ]
  },
  {
   "cell_type": "code",
   "execution_count": 48,
   "id": "0a7130f2",
   "metadata": {},
   "outputs": [
    {
     "name": "stdout",
     "output_type": "stream",
     "text": [
      "HELLO\n"
     ]
    }
   ],
   "source": [
    "s = 'hello'\n",
    "s = s.upper()\n",
    "print(s)"
   ]
  },
  {
   "cell_type": "code",
   "execution_count": 49,
   "id": "db02f15d",
   "metadata": {},
   "outputs": [],
   "source": [
    "one = [1, 2, 3]\n",
    "two = one.append(4) \n",
    "#one = [ 1, 2, 3, 4]\n",
    "#two = None"
   ]
  },
  {
   "cell_type": "code",
   "execution_count": 50,
   "id": "4fe66fb6",
   "metadata": {},
   "outputs": [
    {
     "name": "stdout",
     "output_type": "stream",
     "text": [
      "[1, 2, 3, 4]\n",
      "None\n"
     ]
    }
   ],
   "source": [
    "print(one) # ? \n",
    "print(two) # ? "
   ]
  },
  {
   "cell_type": "code",
   "execution_count": 51,
   "id": "4bf8ae14",
   "metadata": {},
   "outputs": [
    {
     "name": "stdout",
     "output_type": "stream",
     "text": [
      "None\n"
     ]
    }
   ],
   "source": [
    "one = [1, 2, 3]\n",
    "one = one.append(4) \n",
    "print(one)"
   ]
  },
  {
   "cell_type": "markdown",
   "id": "e91dec5a",
   "metadata": {},
   "source": [
    "    one = two -> id-> 1234 -> list -> object -> [1, 2, 3, 4]"
   ]
  },
  {
   "cell_type": "code",
   "execution_count": 52,
   "id": "a55b3e50",
   "metadata": {},
   "outputs": [
    {
     "name": "stdout",
     "output_type": "stream",
     "text": [
      "[1, 2, 3, 4]\n"
     ]
    }
   ],
   "source": [
    "one = [1, 2, 3]\n",
    "one.append(4) \n",
    "print(one)"
   ]
  },
  {
   "cell_type": "code",
   "execution_count": 53,
   "id": "a5256bb6",
   "metadata": {},
   "outputs": [
    {
     "name": "stdout",
     "output_type": "stream",
     "text": [
      "[1, 2, 3, 4]\n"
     ]
    }
   ],
   "source": [
    "one = [1, 2 , 3]\n",
    "one.append(4)\n",
    "print(one)"
   ]
  },
  {
   "cell_type": "code",
   "execution_count": null,
   "id": "64735fea",
   "metadata": {},
   "outputs": [],
   "source": []
  },
  {
   "cell_type": "code",
   "execution_count": 38,
   "id": "fdb079c6",
   "metadata": {},
   "outputs": [
    {
     "name": "stdout",
     "output_type": "stream",
     "text": [
      "append\n",
      "clear\n",
      "copy\n",
      "count\n",
      "extend\n",
      "index\n",
      "insert\n",
      "pop\n",
      "remove\n",
      "reverse\n",
      "sort\n"
     ]
    }
   ],
   "source": [
    "print(*dir(list)[-11:], sep='\\n')\n",
    "# statement ?"
   ]
  },
  {
   "cell_type": "code",
   "execution_count": 54,
   "id": "6d59f71a",
   "metadata": {},
   "outputs": [],
   "source": [
    "names = [\"bahadur\", \"ravi\", \"rajat\", \"gaurav\", 'nidhi']"
   ]
  },
  {
   "cell_type": "code",
   "execution_count": 55,
   "id": "dacfa955",
   "metadata": {},
   "outputs": [
    {
     "name": "stdout",
     "output_type": "stream",
     "text": [
      "['bahadur', 'ravi', 'sachin', 'rajat', 'gaurav', 'nidhi']\n"
     ]
    }
   ],
   "source": [
    "names.insert(2, \"sachin\")\n",
    "print(names)"
   ]
  },
  {
   "cell_type": "code",
   "execution_count": 56,
   "id": "94762fd8",
   "metadata": {},
   "outputs": [
    {
     "name": "stdout",
     "output_type": "stream",
     "text": [
      "Help on method_descriptor:\n",
      "\n",
      "extend(self, iterable, /)\n",
      "    Extend list by appending elements from the iterable.\n",
      "\n"
     ]
    }
   ],
   "source": [
    "help(list.extend)"
   ]
  },
  {
   "cell_type": "markdown",
   "id": "87662d00",
   "metadata": {},
   "source": [
    "##### Methods to add new items to list\n",
    "\n",
    "    list.append(item)      -> add item at the end of list\n",
    "    list.insert(loc, item) -> add item at index loc into list\n",
    "    list.extend(iterable)  -> it will add each item sequentially from iterable at the of list one by one "
   ]
  },
  {
   "cell_type": "code",
   "execution_count": 62,
   "id": "b2644a32",
   "metadata": {},
   "outputs": [
    {
     "name": "stdout",
     "output_type": "stream",
     "text": [
      "1635647640896\n"
     ]
    }
   ],
   "source": [
    "lang = [ \"c\", \"c++\", \"python\"]\n",
    "more = [\"ruby\", \"perl\", \"go\"]\n",
    "print(id(lang))"
   ]
  },
  {
   "cell_type": "code",
   "execution_count": 63,
   "id": "a10d8881",
   "metadata": {},
   "outputs": [],
   "source": [
    "more = [\"ruby\", \"perl\", \"go\"]\n",
    "lang.extend(more)"
   ]
  },
  {
   "cell_type": "code",
   "execution_count": 64,
   "id": "4f1bef7a",
   "metadata": {},
   "outputs": [
    {
     "name": "stdout",
     "output_type": "stream",
     "text": [
      "1635647640896\n"
     ]
    }
   ],
   "source": [
    "print(id(lang))"
   ]
  },
  {
   "cell_type": "code",
   "execution_count": 65,
   "id": "18ec1dab",
   "metadata": {},
   "outputs": [
    {
     "name": "stdout",
     "output_type": "stream",
     "text": [
      "['c', 'c++', 'python', 'ruby', 'perl', 'go']\n"
     ]
    }
   ],
   "source": [
    "print(lang)"
   ]
  },
  {
   "cell_type": "code",
   "execution_count": 70,
   "id": "bc73bc0d",
   "metadata": {},
   "outputs": [
    {
     "name": "stdout",
     "output_type": "stream",
     "text": [
      "1635647849408\n"
     ]
    }
   ],
   "source": [
    "lang = [ \"c\", \"c++\", \"python\"]\n",
    "more = [\"ruby\", \"perl\", \"go\"]\n",
    "print(id(lang))\n",
    "nl = lang + more"
   ]
  },
  {
   "cell_type": "code",
   "execution_count": 71,
   "id": "b817c3c0",
   "metadata": {},
   "outputs": [
    {
     "name": "stdout",
     "output_type": "stream",
     "text": [
      "1635648211904\n"
     ]
    }
   ],
   "source": [
    "print(id(nl))"
   ]
  },
  {
   "cell_type": "code",
   "execution_count": 68,
   "id": "2d3ff8c3",
   "metadata": {},
   "outputs": [
    {
     "name": "stdout",
     "output_type": "stream",
     "text": [
      "['c', 'c++', 'python', 'ruby', 'perl', 'go', 'ruby', 'perl', 'go']\n"
     ]
    }
   ],
   "source": [
    "print(nl)"
   ]
  },
  {
   "cell_type": "markdown",
   "id": "ef7490b8",
   "metadata": {},
   "source": [
    "#### Methods to delete item from a list\n",
    "\n",
    "    item = list.pop() -> by default it will last item from list\n",
    "    item = list.pop(loc) -> delete item from index loc\n",
    "    \n",
    "    list.remove(item) -> search and delete first occurence of item from list\n",
    "    "
   ]
  },
  {
   "cell_type": "code",
   "execution_count": 74,
   "id": "8fc2b04d",
   "metadata": {},
   "outputs": [
    {
     "name": "stdout",
     "output_type": "stream",
     "text": [
      "7\n"
     ]
    }
   ],
   "source": [
    "one = [ 1, 2, 3, 4, 5, 6, 7, ]\n",
    "\n",
    "item = one.pop()\n",
    "print(item)"
   ]
  },
  {
   "cell_type": "code",
   "execution_count": 75,
   "id": "8a731be3",
   "metadata": {},
   "outputs": [
    {
     "name": "stdout",
     "output_type": "stream",
     "text": [
      "[1, 2, 3, 4, 5, 6]\n"
     ]
    }
   ],
   "source": [
    "print(one)"
   ]
  },
  {
   "cell_type": "code",
   "execution_count": 76,
   "id": "0f0b890f",
   "metadata": {},
   "outputs": [
    {
     "name": "stdout",
     "output_type": "stream",
     "text": [
      "3\n"
     ]
    }
   ],
   "source": [
    "i = one.pop(2)\n",
    "print(i)"
   ]
  },
  {
   "cell_type": "code",
   "execution_count": 77,
   "id": "edcd9824",
   "metadata": {},
   "outputs": [
    {
     "name": "stdout",
     "output_type": "stream",
     "text": [
      "[1, 2, 4, 5, 6]\n"
     ]
    }
   ],
   "source": [
    "print(one)"
   ]
  },
  {
   "cell_type": "code",
   "execution_count": 78,
   "id": "57ed7cb7",
   "metadata": {},
   "outputs": [],
   "source": [
    "name = [ \"sachin\", \"rajat\", \"nidhi\", \"rajat\", \"sachin\", \"sachin\"]"
   ]
  },
  {
   "cell_type": "code",
   "execution_count": 79,
   "id": "d0d8daf1",
   "metadata": {},
   "outputs": [],
   "source": [
    "name.remove(\"sachin\")"
   ]
  },
  {
   "cell_type": "code",
   "execution_count": 80,
   "id": "e9f46897",
   "metadata": {},
   "outputs": [
    {
     "name": "stdout",
     "output_type": "stream",
     "text": [
      "['rajat', 'nidhi', 'rajat', 'sachin', 'sachin']\n"
     ]
    }
   ],
   "source": [
    "print(name)"
   ]
  },
  {
   "cell_type": "markdown",
   "id": "a2c6ff2d",
   "metadata": {},
   "source": [
    "#### Tomorrow / Dictionary ?"
   ]
  },
  {
   "cell_type": "code",
   "execution_count": 73,
   "id": "31548728",
   "metadata": {},
   "outputs": [
    {
     "ename": "ValueError",
     "evalue": "list.remove(x): x not in list",
     "output_type": "error",
     "traceback": [
      "\u001b[1;31m---------------------------------------------------------------------------\u001b[0m",
      "\u001b[1;31mValueError\u001b[0m                                Traceback (most recent call last)",
      "\u001b[1;32m<ipython-input-73-d5622e56d54e>\u001b[0m in \u001b[0;36m<module>\u001b[1;34m\u001b[0m\n\u001b[0;32m      1\u001b[0m \u001b[0mone\u001b[0m \u001b[1;33m=\u001b[0m \u001b[1;33m[\u001b[0m \u001b[1;34m\"hey\"\u001b[0m\u001b[1;33m,\u001b[0m \u001b[1;34m\"hi\"\u001b[0m\u001b[1;33m,\u001b[0m \u001b[1;34m\"hello\"\u001b[0m\u001b[1;33m]\u001b[0m\u001b[1;33m\u001b[0m\u001b[1;33m\u001b[0m\u001b[0m\n\u001b[1;32m----> 2\u001b[1;33m \u001b[0mone\u001b[0m\u001b[1;33m.\u001b[0m\u001b[0mremove\u001b[0m\u001b[1;33m(\u001b[0m\u001b[1;34m\"bye\"\u001b[0m\u001b[1;33m)\u001b[0m\u001b[1;33m\u001b[0m\u001b[1;33m\u001b[0m\u001b[0m\n\u001b[0m",
      "\u001b[1;31mValueError\u001b[0m: list.remove(x): x not in list"
     ]
    }
   ],
   "source": [
    "one = [ \"hey\", \"hi\", \"hello\"]\n",
    "one.remove(\"bye\")"
   ]
  },
  {
   "cell_type": "code",
   "execution_count": 72,
   "id": "8ae26711",
   "metadata": {},
   "outputs": [
    {
     "ename": "IndexError",
     "evalue": "pop from empty list",
     "output_type": "error",
     "traceback": [
      "\u001b[1;31m---------------------------------------------------------------------------\u001b[0m",
      "\u001b[1;31mIndexError\u001b[0m                                Traceback (most recent call last)",
      "\u001b[1;32m<ipython-input-72-ff605cc791d5>\u001b[0m in \u001b[0;36m<module>\u001b[1;34m\u001b[0m\n\u001b[0;32m      1\u001b[0m \u001b[0mone\u001b[0m \u001b[1;33m=\u001b[0m \u001b[1;33m[\u001b[0m\u001b[1;33m]\u001b[0m\u001b[1;33m\u001b[0m\u001b[1;33m\u001b[0m\u001b[0m\n\u001b[1;32m----> 2\u001b[1;33m \u001b[0mone\u001b[0m\u001b[1;33m.\u001b[0m\u001b[0mpop\u001b[0m\u001b[1;33m(\u001b[0m\u001b[1;33m)\u001b[0m\u001b[1;33m\u001b[0m\u001b[1;33m\u001b[0m\u001b[0m\n\u001b[0m",
      "\u001b[1;31mIndexError\u001b[0m: pop from empty list"
     ]
    }
   ],
   "source": [
    "one = []\n",
    "one.pop()\n"
   ]
  },
  {
   "cell_type": "code",
   "execution_count": null,
   "id": "a1a3c331",
   "metadata": {},
   "outputs": [],
   "source": []
  }
 ],
 "metadata": {
  "kernelspec": {
   "display_name": "Python 3",
   "language": "python",
   "name": "python3"
  },
  "language_info": {
   "codemirror_mode": {
    "name": "ipython",
    "version": 3
   },
   "file_extension": ".py",
   "mimetype": "text/x-python",
   "name": "python",
   "nbconvert_exporter": "python",
   "pygments_lexer": "ipython3",
   "version": "3.8.8"
  }
 },
 "nbformat": 4,
 "nbformat_minor": 5
}

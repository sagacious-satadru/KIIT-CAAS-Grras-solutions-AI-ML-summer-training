{
 "cells": [
  {
   "cell_type": "markdown",
   "id": "b148c823",
   "metadata": {},
   "source": [
    "Write a Python Script which take input as product price, discount percentage as float, and prints Discounted Price of the product, final price of the product after adding 28% GST tax.\n",
    "\n",
    "\n",
    "Input Format:\n",
    "\n",
    " First line of input is Product Price\n",
    "\n",
    " Second Line of Input is Discount on product (b/w 0-1)\n",
    "\n",
    "Output Format:\n",
    "\n",
    " Discounted Price of Product in First Line\n",
    "\n",
    " Final Bill Amount in Second Line\n",
    "\n",
    "Example: \n",
    "\n",
    " Input:\n",
    "\n",
    "Price of Product: 2000\n",
    "\n",
    " Discount % : 0.5\n",
    "\n",
    " Output:\n",
    "\n",
    "Discount Price is 1000 rupees\n",
    "\n",
    " Total Bill Amount is 1280 rupees\n",
    "\n",
    " Explanation:\n",
    "\n",
    "Product price is 2000 and discount is 0.5 means 50%\n",
    "\n",
    "So after discount applied the price of product will become 1000 rupees hence first line of output will be 1000, and now if we add 28 % GST on discounted price that will be equal to 280 rupees (280 is 28% of 1000) so the final price will be 1000+280 hence second line output will be 1280."
   ]
  },
  {
   "cell_type": "code",
   "execution_count": 1,
   "id": "de37a372",
   "metadata": {},
   "outputs": [
    {
     "data": {
      "text/plain": [
       "400.0"
      ]
     },
     "execution_count": 1,
     "metadata": {},
     "output_type": "execute_result"
    }
   ],
   "source": [
    "(2000 * 0.2)"
   ]
  },
  {
   "cell_type": "code",
   "execution_count": 4,
   "id": "88ff7e5f",
   "metadata": {},
   "outputs": [],
   "source": [
    "f = 3.1498374374374832"
   ]
  },
  {
   "cell_type": "code",
   "execution_count": 6,
   "id": "16c98ecd",
   "metadata": {},
   "outputs": [
    {
     "name": "stdout",
     "output_type": "stream",
     "text": [
      "x = 3.15\n"
     ]
    }
   ],
   "source": [
    "print(f\"x = {f:.2f}\")"
   ]
  },
  {
   "cell_type": "code",
   "execution_count": null,
   "id": "8bce4c32",
   "metadata": {},
   "outputs": [],
   "source": [
    "128 -> 100 + 28%"
   ]
  },
  {
   "cell_type": "code",
   "execution_count": 11,
   "id": "0f8186b6",
   "metadata": {},
   "outputs": [
    {
     "data": {
      "text/plain": [
       "128.0"
      ]
     },
     "execution_count": 11,
     "metadata": {},
     "output_type": "execute_result"
    }
   ],
   "source": [
    "100 * 1.28"
   ]
  },
  {
   "cell_type": "code",
   "execution_count": 27,
   "id": "56a683f6",
   "metadata": {},
   "outputs": [
    {
     "name": "stdout",
     "output_type": "stream",
     "text": [
      "Hello        sachin       , how are you ?\n",
      "Hello yadvendra singh     , how are you ?\n",
      "Hello yadvendra kumar singh ajmera, how are you ?\n"
     ]
    }
   ],
   "source": [
    "name = \"sachin\"\n",
    "\n",
    "print(f\"Hello {name:^20}, how are you ?\")\n",
    "name = \"yadvendra singh\"\n",
    "print(f\"Hello {name:20}, how are you ?\")\n",
    "\n",
    "name = \"yadvendra kumar singh ajmera\"\n",
    "print(f\"Hello {name:20}, how are you ?\")"
   ]
  },
  {
   "cell_type": "code",
   "execution_count": 18,
   "id": "5ab53ee5",
   "metadata": {},
   "outputs": [
    {
     "name": "stdout",
     "output_type": "stream",
     "text": [
      "123.1298988 = 123.13\n"
     ]
    }
   ],
   "source": [
    "x = 123.1298988\n",
    "\n",
    "print(f\"{x} = {x:.2f}\")"
   ]
  },
  {
   "cell_type": "code",
   "execution_count": null,
   "id": "96b6d700",
   "metadata": {},
   "outputs": [],
   "source": []
  },
  {
   "cell_type": "code",
   "execution_count": null,
   "id": "09077998",
   "metadata": {},
   "outputs": [],
   "source": [
    "variables:properties"
   ]
  },
  {
   "cell_type": "code",
   "execution_count": 13,
   "id": "25ee5888",
   "metadata": {},
   "outputs": [
    {
     "name": "stdout",
     "output_type": "stream",
     "text": [
      "Enter Price :2000\n",
      "Discount % [0-1]: 0.50\n",
      "Discounted Price: 1000.00 ₹\n",
      "Total Amount: 1280.00 ₹\n"
     ]
    }
   ],
   "source": [
    "price = float(input(\"Enter Price :\"))\n",
    "dis_per = float(input(\"Discount % [0-1]: \"))\n",
    "\n",
    "discount = price * dis_per\n",
    "dis_price = price - discount\n",
    "\n",
    "total_bill = dis_price*1.28\n",
    "\n",
    "print(f\"Discounted Price: {dis_price:.2f} \\u20B9\")\n",
    "print(f\"Total Amount: {total_bill:.2f} \\u20B9\")"
   ]
  },
  {
   "cell_type": "code",
   "execution_count": 29,
   "id": "8311c7b4",
   "metadata": {},
   "outputs": [
    {
     "name": "stdout",
     "output_type": "stream",
     "text": [
      "10\n"
     ]
    }
   ],
   "source": [
    "x = 10;\n",
    "print(x)"
   ]
  },
  {
   "cell_type": "markdown",
   "id": "7301fed0",
   "metadata": {},
   "source": [
    "    variable and object "
   ]
  },
  {
   "cell_type": "code",
   "execution_count": 30,
   "id": "b8dc6546",
   "metadata": {},
   "outputs": [
    {
     "name": "stdout",
     "output_type": "stream",
     "text": [
      "x = 10\n"
     ]
    }
   ],
   "source": [
    "x = 10; # x is refrence of an integer instance\n",
    "\n",
    "print(f\"x = {x}\")"
   ]
  },
  {
   "cell_type": "markdown",
   "id": "f3941e21",
   "metadata": {},
   "source": [
    "    int x,y,z;\n",
    "\n",
    "    x = 4.5;\n",
    "    \n",
    "    arr = [ ]\n",
    "    \n",
    "    \n",
    "    struct ? -> module -> dieffrent types \n",
    "    \n",
    "    "
   ]
  },
  {
   "cell_type": "markdown",
   "id": "344594fa",
   "metadata": {},
   "source": [
    "### Everything is object in Python!"
   ]
  },
  {
   "cell_type": "code",
   "execution_count": 31,
   "id": "b5153eff",
   "metadata": {},
   "outputs": [],
   "source": [
    "a = [ 1, 2, 3, 4]"
   ]
  },
  {
   "cell_type": "markdown",
   "id": "447669e6",
   "metadata": {},
   "source": [
    "                            screen\n",
    "    \n",
    "    laptop -> object ->      keyboard\n",
    "    \n",
    "                             portability\n",
    "                             \n",
    "                             ?\n",
    "    "
   ]
  },
  {
   "cell_type": "code",
   "execution_count": null,
   "id": "087f3f8b",
   "metadata": {},
   "outputs": [],
   "source": []
  },
  {
   "cell_type": "markdown",
   "id": "0fc7dbe7",
   "metadata": {},
   "source": [
    "    class\n",
    "    \n",
    "        class tells us about the category of an object\n",
    "        collection of data members (objects) and member functions (behaviour of an object)\n",
    "        \n",
    "    object\n",
    "    \n",
    "        collection of attributes which can define a real time entity\n",
    "        \n",
    "        objects are also known as data members"
   ]
  },
  {
   "cell_type": "markdown",
   "id": "b28a5539",
   "metadata": {},
   "source": [
    "    data -> object\n",
    "\n",
    "    process data -> methods -> class"
   ]
  },
  {
   "cell_type": "markdown",
   "id": "82dde036",
   "metadata": {},
   "source": [
    "    class\n",
    "        \n",
    "        collection of methods (functions)\n",
    "        \n",
    "    object\n",
    "    \n",
    "        collection of attributes"
   ]
  },
  {
   "cell_type": "markdown",
   "id": "64b956e1",
   "metadata": {},
   "source": [
    "    classes are used to create secondary data types"
   ]
  },
  {
   "cell_type": "code",
   "execution_count": 32,
   "id": "4895c863",
   "metadata": {},
   "outputs": [],
   "source": [
    "arr = [ 1, 2, 3 , 4]\n",
    "\n",
    "#    \"  1    2     3     4                       \""
   ]
  },
  {
   "cell_type": "markdown",
   "id": "96730bc9",
   "metadata": {},
   "source": [
    "    \n",
    "                    O(1)   Array\n",
    "    \n",
    "    random access    [10, 50, 60, 30, 70, 30, 80]\n",
    "    \n",
    "                    O(n)   Linked List\n",
    "    "
   ]
  },
  {
   "cell_type": "markdown",
   "id": "745ed76b",
   "metadata": {},
   "source": [
    "### Data Type \n",
    "\n",
    "       It tells us how data is going to be stored and processed inside a computer memory\n",
    "       \n",
    "       1. Representation in Memory / Structure - (size)\n",
    "       \n",
    "           how information is going to be stored in computer memory\n",
    "           \n",
    "       2. Operations on data\n",
    "           \n",
    "           access, update, delete, insert, sort, replace, search\n",
    "           "
   ]
  },
  {
   "cell_type": "markdown",
   "id": "e7c85c57",
   "metadata": {},
   "source": [
    "    Every Data Type in Python is an instance of Data Class"
   ]
  },
  {
   "cell_type": "code",
   "execution_count": 33,
   "id": "e045ced1",
   "metadata": {},
   "outputs": [],
   "source": [
    "x = 10\n",
    "# x is a refrence to an integer object"
   ]
  },
  {
   "cell_type": "markdown",
   "id": "26fb46cf",
   "metadata": {},
   "source": [
    "#### Built-in Data Types in Python\n",
    "\n",
    "    1. Numbers\n",
    "    \n",
    "        int, float, complex\n",
    "        \n",
    "    2. String\n",
    "    \n",
    "        single or multiline strings\n",
    "        \n",
    "    3. List\n",
    "    \n",
    "        collections of items - homogenous or hetrgenous\n",
    "        \n",
    "    4. Tuple\n",
    "    \n",
    "        immutable list\n",
    "        \n",
    "    5. Dictionaries\n",
    "    \n",
    "        map-type, collecgiton key-value pairs\n",
    "        \n",
    "    6. Set\n",
    "    \n",
    "        map-type, collection unique immutable values\n",
    "        \n",
    "    7. Frozen Set\n",
    "        \n",
    "        imuutable set\n",
    "        \n",
    "    8. None Types\n",
    "        \n",
    "        use to represent nothing / null in python\n",
    "        \n",
    "    9. Boolean Types\n",
    "    \n",
    "        False, True"
   ]
  },
  {
   "cell_type": "markdown",
   "id": "65a10b62",
   "metadata": {},
   "source": [
    "#### Numbers"
   ]
  },
  {
   "cell_type": "code",
   "execution_count": 40,
   "id": "a88bd05f",
   "metadata": {},
   "outputs": [
    {
     "name": "stdout",
     "output_type": "stream",
     "text": [
      "5\n",
      "5\n",
      "\n"
     ]
    }
   ],
   "source": [
    "print(5)\n",
    "print(int.__str__(5)+\"\\n\")"
   ]
  },
  {
   "cell_type": "code",
   "execution_count": 37,
   "id": "ce201684",
   "metadata": {},
   "outputs": [
    {
     "name": "stdout",
     "output_type": "stream",
     "text": [
      "45\n",
      "45\n"
     ]
    }
   ],
   "source": [
    "x = \"4\" + \"5\"\n",
    "print(x)\n",
    "\n",
    "x = str.__add__(\"4\", \"5\")\n",
    "print(x)"
   ]
  },
  {
   "cell_type": "code",
   "execution_count": 35,
   "id": "73e783b5",
   "metadata": {},
   "outputs": [
    {
     "name": "stdout",
     "output_type": "stream",
     "text": [
      "9\n",
      "9\n"
     ]
    }
   ],
   "source": [
    "x = 4 + 5\n",
    "print(x)\n",
    "\n",
    "x = int.__add__(4, 5)\n",
    "print(x)"
   ]
  },
  {
   "cell_type": "code",
   "execution_count": 45,
   "id": "1e6db20f",
   "metadata": {},
   "outputs": [
    {
     "name": "stdout",
     "output_type": "stream",
     "text": [
      "6\n",
      "6\n"
     ]
    }
   ],
   "source": [
    "s = len(\"sachin\")\n",
    "print(s)\n",
    "\n",
    "n = str.__len__(\"sachin\")\n",
    "print(n)"
   ]
  },
  {
   "cell_type": "code",
   "execution_count": 47,
   "id": "9e3d9ff5",
   "metadata": {},
   "outputs": [
    {
     "name": "stdout",
     "output_type": "stream",
     "text": [
      "3\n",
      "3\n"
     ]
    }
   ],
   "source": [
    "ls = len([1, 2, 3])\n",
    "print(ls)\n",
    "\n",
    "n = list.__len__([1, 2, 3])\n",
    "print(n)"
   ]
  },
  {
   "cell_type": "code",
   "execution_count": 48,
   "id": "cd5d7799",
   "metadata": {},
   "outputs": [],
   "source": [
    "class My:\n",
    "    def __str__(self):\n",
    "        return \"I am god\"\n",
    "    def __add__(self, other):\n",
    "        return \"shock laga!\""
   ]
  },
  {
   "cell_type": "code",
   "execution_count": 49,
   "id": "3dead72a",
   "metadata": {},
   "outputs": [],
   "source": [
    "a = My()\n",
    "b = My()"
   ]
  },
  {
   "cell_type": "code",
   "execution_count": 53,
   "id": "2e45e210",
   "metadata": {},
   "outputs": [
    {
     "data": {
      "text/plain": [
       "'shock laga!'"
      ]
     },
     "execution_count": 53,
     "metadata": {},
     "output_type": "execute_result"
    }
   ],
   "source": [
    "My.__add__(a, b)"
   ]
  },
  {
   "cell_type": "code",
   "execution_count": 50,
   "id": "b6f3b719",
   "metadata": {},
   "outputs": [
    {
     "data": {
      "text/plain": [
       "'shock laga!'"
      ]
     },
     "execution_count": 50,
     "metadata": {},
     "output_type": "execute_result"
    }
   ],
   "source": [
    "a + b # "
   ]
  },
  {
   "cell_type": "code",
   "execution_count": 52,
   "id": "000b78d3",
   "metadata": {},
   "outputs": [
    {
     "name": "stdout",
     "output_type": "stream",
     "text": [
      "I am god\n",
      "I am god\n"
     ]
    }
   ],
   "source": [
    "print(a) # My.__str__(a)\n",
    "print(b)"
   ]
  },
  {
   "cell_type": "markdown",
   "id": "932da0c3",
   "metadata": {},
   "source": [
    "    everyhing is object!"
   ]
  },
  {
   "cell_type": "markdown",
   "id": "27bec7dc",
   "metadata": {},
   "source": [
    "    constructors -> magic methods"
   ]
  },
  {
   "cell_type": "code",
   "execution_count": 54,
   "id": "0abe030a",
   "metadata": {},
   "outputs": [
    {
     "name": "stdout",
     "output_type": "stream",
     "text": [
      "15\n"
     ]
    }
   ],
   "source": [
    "a = 5\n",
    "print(a+10)"
   ]
  },
  {
   "cell_type": "markdown",
   "id": "5854b219",
   "metadata": {},
   "source": [
    "    class int:\n",
    "    \n",
    "        magic methods / dunder methods / operators / short-hand notation / built-in function\n",
    "    \n",
    "        \n",
    "        "
   ]
  }
 ],
 "metadata": {
  "kernelspec": {
   "display_name": "Python 3",
   "language": "python",
   "name": "python3"
  },
  "language_info": {
   "codemirror_mode": {
    "name": "ipython",
    "version": 3
   },
   "file_extension": ".py",
   "mimetype": "text/x-python",
   "name": "python",
   "nbconvert_exporter": "python",
   "pygments_lexer": "ipython3",
   "version": "3.8.8"
  }
 },
 "nbformat": 4,
 "nbformat_minor": 5
}

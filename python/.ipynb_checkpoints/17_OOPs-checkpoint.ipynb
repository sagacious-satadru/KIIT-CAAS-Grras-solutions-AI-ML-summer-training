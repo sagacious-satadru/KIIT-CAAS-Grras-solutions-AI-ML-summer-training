{
 "cells": [
  {
   "cell_type": "markdown",
   "id": "1f65c8e7",
   "metadata": {},
   "source": [
    "any doubt till now ?"
   ]
  },
  {
   "cell_type": "markdown",
   "id": "c3499da2",
   "metadata": {},
   "source": [
    "#### Data Science \n",
    "\n",
    "    Stats ??"
   ]
  },
  {
   "cell_type": "markdown",
   "id": "b30dac47",
   "metadata": {},
   "source": [
    "#### Recursion"
   ]
  },
  {
   "cell_type": "code",
   "execution_count": 2,
   "id": "c3577cc5",
   "metadata": {},
   "outputs": [
    {
     "name": "stdout",
     "output_type": "stream",
     "text": [
      "Recursion Limit: 3000\n",
      "Recursion Limit: 100\n"
     ]
    }
   ],
   "source": [
    "import sys\n",
    "\n",
    "print(f\"Recursion Limit: {sys.getrecursionlimit()}\")\n",
    "sys.setrecursionlimit(100)\n",
    "print(f\"Recursion Limit: {sys.getrecursionlimit()}\")"
   ]
  },
  {
   "cell_type": "code",
   "execution_count": 6,
   "id": "525ac285",
   "metadata": {},
   "outputs": [],
   "source": [
    "def hello():\n",
    "    \"\"\"\n",
    "        when a function calls itself is known as recursion\n",
    "    \"\"\"\n",
    "    #print(\"Hello World!\")\n",
    "    hello()"
   ]
  },
  {
   "cell_type": "code",
   "execution_count": 7,
   "id": "0ded8d43",
   "metadata": {},
   "outputs": [
    {
     "name": "stdout",
     "output_type": "stream",
     "text": [
      "Python 3.9.12\n"
     ]
    }
   ],
   "source": [
    "!python --version"
   ]
  },
  {
   "cell_type": "code",
   "execution_count": 8,
   "id": "5dd5a88c",
   "metadata": {},
   "outputs": [
    {
     "name": "stdout",
     "output_type": "stream",
     "text": [
      "Unexpected exception formatting exception. Falling back to standard exception\n"
     ]
    },
    {
     "name": "stderr",
     "output_type": "stream",
     "text": [
      "Traceback (most recent call last):\n",
      "  File \"C:\\Anaconda3\\lib\\site-packages\\IPython\\core\\interactiveshell.py\", line 3369, in run_code\n",
      "    exec(code_obj, self.user_global_ns, self.user_ns)\n",
      "  File \"C:\\Users\\sachin\\AppData\\Local\\Temp\\ipykernel_9104\\2413766729.py\", line 1, in <cell line: 1>\n",
      "    hello() # ?\n",
      "  File \"C:\\Users\\sachin\\AppData\\Local\\Temp\\ipykernel_9104\\2743532329.py\", line 6, in hello\n",
      "    hello()\n",
      "  File \"C:\\Users\\sachin\\AppData\\Local\\Temp\\ipykernel_9104\\2743532329.py\", line 6, in hello\n",
      "    hello()\n",
      "  File \"C:\\Users\\sachin\\AppData\\Local\\Temp\\ipykernel_9104\\2743532329.py\", line 6, in hello\n",
      "    hello()\n",
      "  [Previous line repeated 70 more times]\n",
      "RecursionError: maximum recursion depth exceeded\n",
      "\n",
      "During handling of the above exception, another exception occurred:\n",
      "\n",
      "Traceback (most recent call last):\n",
      "  File \"C:\\Anaconda3\\lib\\site-packages\\pygments\\lexer.py\", line 495, in _process_state\n",
      "    rex = cls._process_regex(tdef[0], rflags, state)\n",
      "  File \"C:\\Anaconda3\\lib\\site-packages\\pygments\\lexer.py\", line 423, in _process_regex\n",
      "    regex = regex.get()\n",
      "  File \"C:\\Anaconda3\\lib\\site-packages\\pygments\\lexer.py\", line 411, in get\n",
      "    return regex_opt(self.words, prefix=self.prefix, suffix=self.suffix)\n",
      "  File \"C:\\Anaconda3\\lib\\site-packages\\pygments\\regexopt.py\", line 91, in regex_opt\n",
      "    return prefix + regex_opt_inner(strings, '(') + suffix\n",
      "  File \"C:\\Anaconda3\\lib\\site-packages\\pygments\\regexopt.py\", line 77, in regex_opt_inner\n",
      "    '|'.join(regex_opt_inner(list(group[1]), '')\n",
      "  File \"C:\\Anaconda3\\lib\\site-packages\\pygments\\regexopt.py\", line 77, in <genexpr>\n",
      "    '|'.join(regex_opt_inner(list(group[1]), '')\n",
      "  File \"C:\\Anaconda3\\lib\\site-packages\\pygments\\regexopt.py\", line 77, in regex_opt_inner\n",
      "    '|'.join(regex_opt_inner(list(group[1]), '')\n",
      "  File \"C:\\Anaconda3\\lib\\site-packages\\pygments\\regexopt.py\", line 77, in <genexpr>\n",
      "    '|'.join(regex_opt_inner(list(group[1]), '')\n",
      "  File \"C:\\Anaconda3\\lib\\site-packages\\pygments\\regexopt.py\", line 77, in regex_opt_inner\n",
      "    '|'.join(regex_opt_inner(list(group[1]), '')\n",
      "  File \"C:\\Anaconda3\\lib\\site-packages\\pygments\\regexopt.py\", line 77, in <genexpr>\n",
      "    '|'.join(regex_opt_inner(list(group[1]), '')\n",
      "  File \"C:\\Anaconda3\\lib\\site-packages\\pygments\\regexopt.py\", line 77, in regex_opt_inner\n",
      "    '|'.join(regex_opt_inner(list(group[1]), '')\n",
      "  File \"C:\\Anaconda3\\lib\\site-packages\\pygments\\regexopt.py\", line 77, in <genexpr>\n",
      "    '|'.join(regex_opt_inner(list(group[1]), '')\n",
      "  File \"C:\\Anaconda3\\lib\\site-packages\\pygments\\regexopt.py\", line 77, in regex_opt_inner\n",
      "    '|'.join(regex_opt_inner(list(group[1]), '')\n",
      "  File \"C:\\Anaconda3\\lib\\site-packages\\pygments\\regexopt.py\", line 77, in <genexpr>\n",
      "    '|'.join(regex_opt_inner(list(group[1]), '')\n",
      "  File \"C:\\Anaconda3\\lib\\site-packages\\pygments\\regexopt.py\", line 77, in regex_opt_inner\n",
      "    '|'.join(regex_opt_inner(list(group[1]), '')\n",
      "  File \"C:\\Anaconda3\\lib\\site-packages\\pygments\\regexopt.py\", line 77, in <genexpr>\n",
      "    '|'.join(regex_opt_inner(list(group[1]), '')\n",
      "  File \"C:\\Anaconda3\\lib\\site-packages\\pygments\\regexopt.py\", line 77, in regex_opt_inner\n",
      "    '|'.join(regex_opt_inner(list(group[1]), '')\n",
      "  File \"C:\\Anaconda3\\lib\\site-packages\\pygments\\regexopt.py\", line 77, in <genexpr>\n",
      "    '|'.join(regex_opt_inner(list(group[1]), '')\n",
      "  File \"C:\\Anaconda3\\lib\\site-packages\\pygments\\regexopt.py\", line 77, in regex_opt_inner\n",
      "    '|'.join(regex_opt_inner(list(group[1]), '')\n",
      "  File \"C:\\Anaconda3\\lib\\site-packages\\pygments\\regexopt.py\", line 77, in <genexpr>\n",
      "    '|'.join(regex_opt_inner(list(group[1]), '')\n",
      "  File \"C:\\Anaconda3\\lib\\site-packages\\pygments\\regexopt.py\", line 77, in regex_opt_inner\n",
      "    '|'.join(regex_opt_inner(list(group[1]), '')\n",
      "  File \"C:\\Anaconda3\\lib\\site-packages\\pygments\\regexopt.py\", line 77, in <genexpr>\n",
      "    '|'.join(regex_opt_inner(list(group[1]), '')\n",
      "  File \"C:\\Anaconda3\\lib\\site-packages\\pygments\\regexopt.py\", line 77, in regex_opt_inner\n",
      "    '|'.join(regex_opt_inner(list(group[1]), '')\n",
      "  File \"C:\\Anaconda3\\lib\\site-packages\\pygments\\regexopt.py\", line 77, in <genexpr>\n",
      "    '|'.join(regex_opt_inner(list(group[1]), '')\n",
      "  File \"C:\\Anaconda3\\lib\\site-packages\\pygments\\regexopt.py\", line 77, in regex_opt_inner\n",
      "    '|'.join(regex_opt_inner(list(group[1]), '')\n",
      "  File \"C:\\Anaconda3\\lib\\site-packages\\pygments\\regexopt.py\", line 77, in <genexpr>\n",
      "    '|'.join(regex_opt_inner(list(group[1]), '')\n",
      "  File \"C:\\Anaconda3\\lib\\site-packages\\pygments\\regexopt.py\", line 77, in regex_opt_inner\n",
      "    '|'.join(regex_opt_inner(list(group[1]), '')\n",
      "  File \"C:\\Anaconda3\\lib\\site-packages\\pygments\\regexopt.py\", line 77, in <genexpr>\n",
      "    '|'.join(regex_opt_inner(list(group[1]), '')\n",
      "  File \"C:\\Anaconda3\\lib\\site-packages\\pygments\\regexopt.py\", line 77, in regex_opt_inner\n",
      "    '|'.join(regex_opt_inner(list(group[1]), '')\n",
      "  File \"C:\\Anaconda3\\lib\\site-packages\\pygments\\regexopt.py\", line 77, in <genexpr>\n",
      "    '|'.join(regex_opt_inner(list(group[1]), '')\n",
      "  File \"C:\\Anaconda3\\lib\\site-packages\\pygments\\regexopt.py\", line 77, in regex_opt_inner\n",
      "    '|'.join(regex_opt_inner(list(group[1]), '')\n",
      "  File \"C:\\Anaconda3\\lib\\site-packages\\pygments\\regexopt.py\", line 77, in <genexpr>\n",
      "    '|'.join(regex_opt_inner(list(group[1]), '')\n",
      "  File \"C:\\Anaconda3\\lib\\site-packages\\pygments\\regexopt.py\", line 63, in regex_opt_inner\n",
      "    + regex_opt_inner([s[plen:] for s in strings], '(?:') \\\n",
      "  File \"C:\\Anaconda3\\lib\\site-packages\\pygments\\regexopt.py\", line 77, in regex_opt_inner\n",
      "    '|'.join(regex_opt_inner(list(group[1]), '')\n",
      "  File \"C:\\Anaconda3\\lib\\site-packages\\pygments\\regexopt.py\", line 77, in <genexpr>\n",
      "    '|'.join(regex_opt_inner(list(group[1]), '')\n",
      "  File \"C:\\Anaconda3\\lib\\site-packages\\pygments\\regexopt.py\", line 77, in regex_opt_inner\n",
      "    '|'.join(regex_opt_inner(list(group[1]), '')\n",
      "  File \"C:\\Anaconda3\\lib\\site-packages\\pygments\\regexopt.py\", line 77, in <genexpr>\n",
      "    '|'.join(regex_opt_inner(list(group[1]), '')\n",
      "  File \"C:\\Anaconda3\\lib\\site-packages\\pygments\\regexopt.py\", line 77, in regex_opt_inner\n",
      "    '|'.join(regex_opt_inner(list(group[1]), '')\n",
      "  File \"C:\\Anaconda3\\lib\\site-packages\\pygments\\regexopt.py\", line 77, in <genexpr>\n",
      "    '|'.join(regex_opt_inner(list(group[1]), '')\n",
      "  File \"C:\\Anaconda3\\lib\\site-packages\\pygments\\regexopt.py\", line 36, in regex_opt_inner\n",
      "    return open_paren + escape(first) + close_paren\n",
      "  File \"C:\\Anaconda3\\lib\\re.py\", line 274, in escape\n",
      "    if isinstance(pattern, str):\n",
      "RecursionError: maximum recursion depth exceeded while calling a Python object\n",
      "\n",
      "The above exception was the direct cause of the following exception:\n",
      "\n",
      "Traceback (most recent call last):\n",
      "  File \"C:\\Anaconda3\\lib\\site-packages\\IPython\\core\\interactiveshell.py\", line 1982, in showtraceback\n",
      "    stb = self.InteractiveTB.structured_traceback(\n",
      "  File \"C:\\Anaconda3\\lib\\site-packages\\IPython\\core\\ultratb.py\", line 1118, in structured_traceback\n",
      "    return FormattedTB.structured_traceback(\n",
      "  File \"C:\\Anaconda3\\lib\\site-packages\\IPython\\core\\ultratb.py\", line 1012, in structured_traceback\n",
      "    return VerboseTB.structured_traceback(\n",
      "  File \"C:\\Anaconda3\\lib\\site-packages\\IPython\\core\\ultratb.py\", line 865, in structured_traceback\n",
      "    formatted_exception = self.format_exception_as_a_whole(etype, evalue, etb, number_of_lines_of_context,\n",
      "  File \"C:\\Anaconda3\\lib\\site-packages\\IPython\\core\\ultratb.py\", line 818, in format_exception_as_a_whole\n",
      "    frames.append(self.format_record(r))\n",
      "  File \"C:\\Anaconda3\\lib\\site-packages\\IPython\\core\\ultratb.py\", line 736, in format_record\n",
      "    result += ''.join(_format_traceback_lines(frame_info.lines, Colors, self.has_colors, lvals))\n",
      "  File \"C:\\Anaconda3\\lib\\site-packages\\IPython\\core\\ultratb.py\", line 155, in _format_traceback_lines\n",
      "    line = stack_line.render(pygmented=has_colors).rstrip('\\n') + '\\n'\n",
      "  File \"C:\\Anaconda3\\lib\\site-packages\\stack_data\\core.py\", line 360, in render\n",
      "    start_line, lines = self.frame_info._pygmented_scope_lines\n",
      "  File \"C:\\Anaconda3\\lib\\site-packages\\stack_data\\utils.py\", line 145, in cached_property_wrapper\n",
      "    value = obj.__dict__[self.func.__name__] = self.func(obj)\n",
      "  File \"C:\\Anaconda3\\lib\\site-packages\\stack_data\\core.py\", line 780, in _pygmented_scope_lines\n",
      "    lines = _pygmented_with_ranges(formatter, code, ranges)\n",
      "  File \"C:\\Anaconda3\\lib\\site-packages\\stack_data\\utils.py\", line 155, in _pygmented_with_ranges\n",
      "    class MyLexer(type(get_lexer_by_name(\"python3\"))):\n",
      "  File \"C:\\Anaconda3\\lib\\site-packages\\pygments\\lexers\\__init__.py\", line 113, in get_lexer_by_name\n",
      "    return _lexer_cache[name](**options)\n",
      "  File \"C:\\Anaconda3\\lib\\site-packages\\pygments\\lexer.py\", line 577, in __call__\n",
      "    cls._tokens = cls.process_tokendef('', cls.get_tokendefs())\n",
      "  File \"C:\\Anaconda3\\lib\\site-packages\\pygments\\lexer.py\", line 516, in process_tokendef\n",
      "    cls._process_state(tokendefs, processed, state)\n",
      "  File \"C:\\Anaconda3\\lib\\site-packages\\pygments\\lexer.py\", line 479, in _process_state\n",
      "    tokens.extend(cls._process_state(unprocessed, processed,\n",
      "  File \"C:\\Anaconda3\\lib\\site-packages\\pygments\\lexer.py\", line 479, in _process_state\n",
      "    tokens.extend(cls._process_state(unprocessed, processed,\n",
      "  File \"C:\\Anaconda3\\lib\\site-packages\\pygments\\lexer.py\", line 497, in _process_state\n",
      "    raise ValueError(\"uncompilable regex %r in state %r of %r: %s\" %\n",
      "ValueError: uncompilable regex <pygments.lexer.words object at 0x000001E069C43B20> in state 'builtins' of <class 'pygments.lexers.python.PythonLexer'>: maximum recursion depth exceeded while calling a Python object\n"
     ]
    }
   ],
   "source": [
    "hello() # ? "
   ]
  },
  {
   "cell_type": "code",
   "execution_count": 9,
   "id": "1cdaae0b",
   "metadata": {},
   "outputs": [],
   "source": [
    "def func(value):\n",
    "    if value >= 0:\n",
    "        func(value-1)\n",
    "        print(value)"
   ]
  },
  {
   "cell_type": "code",
   "execution_count": 10,
   "id": "8829a2c2",
   "metadata": {},
   "outputs": [
    {
     "name": "stdout",
     "output_type": "stream",
     "text": [
      "0\n",
      "1\n",
      "2\n",
      "3\n",
      "4\n",
      "5\n"
     ]
    }
   ],
   "source": [
    "func(5)"
   ]
  },
  {
   "cell_type": "code",
   "execution_count": null,
   "id": "911061ce",
   "metadata": {},
   "outputs": [],
   "source": []
  },
  {
   "cell_type": "code",
   "execution_count": 11,
   "id": "d66d25bd",
   "metadata": {},
   "outputs": [],
   "source": [
    "def func(value):\n",
    "    if value!=0:\n",
    "        return value+func(value-1)\n",
    "    return 0"
   ]
  },
  {
   "cell_type": "code",
   "execution_count": 12,
   "id": "44fdf3e4",
   "metadata": {},
   "outputs": [
    {
     "name": "stdout",
     "output_type": "stream",
     "text": [
      "15\n"
     ]
    }
   ],
   "source": [
    "ans = func(5)\n",
    "print(ans)"
   ]
  },
  {
   "cell_type": "code",
   "execution_count": null,
   "id": "242a334a",
   "metadata": {},
   "outputs": [],
   "source": []
  },
  {
   "cell_type": "code",
   "execution_count": 1,
   "id": "195d7f11",
   "metadata": {},
   "outputs": [
    {
     "name": "stdout",
     "output_type": "stream",
     "text": [
      "14\n"
     ]
    }
   ],
   "source": [
    "def square_sum(listNums: list)->float:\n",
    "    \"\"\"\n",
    "        will return square sum of all numbers given in listNums\n",
    "    \n",
    "    >>>square_sum([1, 2, 3])\n",
    "    14\n",
    "    \"\"\"\n",
    "    sum_ = 0\n",
    "    for num in listNums:\n",
    "        sum_ += num**2\n",
    "    return sum_\n",
    "\n",
    "ans = square_sum([1, 2, 3])\n",
    "print(ans)"
   ]
  },
  {
   "cell_type": "code",
   "execution_count": 2,
   "id": "565fb7a8",
   "metadata": {},
   "outputs": [
    {
     "name": "stdout",
     "output_type": "stream",
     "text": [
      "55\n"
     ]
    }
   ],
   "source": [
    "nums = [1, 2, 3, 4, 5]\n",
    "sq_sum = square_sum(nums)\n",
    "print(sq_sum)"
   ]
  },
  {
   "cell_type": "markdown",
   "id": "d21b606b",
   "metadata": {},
   "source": [
    "### what is oops ? "
   ]
  },
  {
   "cell_type": "markdown",
   "id": "12950999",
   "metadata": {},
   "source": [
    "    Object Oriented Programming"
   ]
  },
  {
   "cell_type": "markdown",
   "id": "2239b140",
   "metadata": {},
   "source": [
    "WHY WE CALL IT OBJECT ORIENTED NOT CLASS ORIENTED"
   ]
  },
  {
   "cell_type": "markdown",
   "id": "a095b8fa",
   "metadata": {},
   "source": [
    "    Built-in Class\n",
    "\n",
    "    class list\n",
    "    \n",
    "        append  pop       sort       count   copy\n",
    "        insert  remove    reverse    index   clear\n",
    "        extend"
   ]
  },
  {
   "cell_type": "markdown",
   "id": "8fea8a99",
   "metadata": {},
   "source": [
    "    class method vs instance method vs static methods in python ?"
   ]
  },
  {
   "cell_type": "code",
   "execution_count": null,
   "id": "cd59e7fb",
   "metadata": {},
   "outputs": [],
   "source": []
  },
  {
   "cell_type": "code",
   "execution_count": 23,
   "id": "02a31917",
   "metadata": {},
   "outputs": [
    {
     "name": "stdout",
     "output_type": "stream",
     "text": [
      "[]\n",
      "[10]\n",
      "[10, 20]\n"
     ]
    }
   ],
   "source": [
    "a = list() # instantiation\n",
    "print(a) # __str__ -> to represent object in string format\n",
    "list.append(a, 10) # calling a method using class, you need to pass object seprataly\n",
    "print(a)\n",
    "a.append(20) # using instance itself calling method\n",
    "print(a)"
   ]
  },
  {
   "cell_type": "code",
   "execution_count": null,
   "id": "5c5465c3",
   "metadata": {},
   "outputs": [],
   "source": []
  },
  {
   "cell_type": "code",
   "execution_count": 21,
   "id": "b4d27b4e",
   "metadata": {},
   "outputs": [
    {
     "data": {
      "text/plain": [
       "['a', 'b', 'c', 'd']"
      ]
     },
     "execution_count": 21,
     "metadata": {},
     "output_type": "execute_result"
    }
   ],
   "source": [
    "list('abcd')"
   ]
  },
  {
   "cell_type": "code",
   "execution_count": 20,
   "id": "8fb7b2f7",
   "metadata": {},
   "outputs": [
    {
     "data": {
      "text/plain": [
       "()"
      ]
     },
     "execution_count": 20,
     "metadata": {},
     "output_type": "execute_result"
    }
   ],
   "source": [
    "tuple()"
   ]
  },
  {
   "cell_type": "code",
   "execution_count": 19,
   "id": "13ccba33",
   "metadata": {},
   "outputs": [
    {
     "data": {
      "text/plain": [
       "set()"
      ]
     },
     "execution_count": 19,
     "metadata": {},
     "output_type": "execute_result"
    }
   ],
   "source": [
    "set()"
   ]
  },
  {
   "cell_type": "code",
   "execution_count": 18,
   "id": "fb61b536",
   "metadata": {},
   "outputs": [
    {
     "data": {
      "text/plain": [
       "{}"
      ]
     },
     "execution_count": 18,
     "metadata": {},
     "output_type": "execute_result"
    }
   ],
   "source": [
    "dict()"
   ]
  },
  {
   "cell_type": "code",
   "execution_count": 17,
   "id": "a53d9735",
   "metadata": {},
   "outputs": [
    {
     "data": {
      "text/plain": [
       "[]"
      ]
     },
     "execution_count": 17,
     "metadata": {},
     "output_type": "execute_result"
    }
   ],
   "source": [
    "list()"
   ]
  },
  {
   "cell_type": "code",
   "execution_count": 14,
   "id": "9ab21f31",
   "metadata": {},
   "outputs": [
    {
     "data": {
      "text/plain": [
       "0.0"
      ]
     },
     "execution_count": 14,
     "metadata": {},
     "output_type": "execute_result"
    }
   ],
   "source": [
    "float()"
   ]
  },
  {
   "cell_type": "code",
   "execution_count": 15,
   "id": "fc5ed702",
   "metadata": {},
   "outputs": [
    {
     "data": {
      "text/plain": [
       "0j"
      ]
     },
     "execution_count": 15,
     "metadata": {},
     "output_type": "execute_result"
    }
   ],
   "source": [
    "complex()"
   ]
  },
  {
   "cell_type": "code",
   "execution_count": 16,
   "id": "f4c0dbf3",
   "metadata": {},
   "outputs": [
    {
     "data": {
      "text/plain": [
       "''"
      ]
     },
     "execution_count": 16,
     "metadata": {},
     "output_type": "execute_result"
    }
   ],
   "source": [
    "str()"
   ]
  },
  {
   "cell_type": "code",
   "execution_count": 13,
   "id": "e19105c7",
   "metadata": {},
   "outputs": [
    {
     "data": {
      "text/plain": [
       "0"
      ]
     },
     "execution_count": 13,
     "metadata": {},
     "output_type": "execute_result"
    }
   ],
   "source": [
    "int()  # class() -> object / instance"
   ]
  },
  {
   "cell_type": "code",
   "execution_count": 24,
   "id": "4ab59680",
   "metadata": {},
   "outputs": [],
   "source": [
    "x = list([])\n",
    "\n"
   ]
  },
  {
   "cell_type": "markdown",
   "id": "e5b02c83",
   "metadata": {},
   "source": [
    "    class is a blueprint of an object ? \n",
    "    \n",
    "    we can not even define a class without understanding object ? \n",
    "\n",
    "    "
   ]
  },
  {
   "cell_type": "markdown",
   "id": "969b4958",
   "metadata": {},
   "source": [
    "    what is an object ? "
   ]
  },
  {
   "cell_type": "markdown",
   "id": "6bf885c4",
   "metadata": {},
   "source": [
    "    object is real time entity which you need to store in your computer program\n",
    "    \n",
    "        every entity is defined by it's properties or characterstics \n",
    "        \n",
    "        \n",
    "    an object is just collection of data (properties/characterstics)\n",
    " "
   ]
  },
  {
   "cell_type": "code",
   "execution_count": null,
   "id": "d58983f8",
   "metadata": {},
   "outputs": [],
   "source": [
    "[]"
   ]
  },
  {
   "cell_type": "code",
   "execution_count": null,
   "id": "66801c29",
   "metadata": {},
   "outputs": [],
   "source": []
  },
  {
   "cell_type": "markdown",
   "id": "c00c3802",
   "metadata": {},
   "source": [
    "    class Student\n",
    "        behaviour of object / operations of an object\n",
    "        \n",
    "        get_result(self)\n",
    "        get_ph(self, name)\n",
    "    \n",
    "\n",
    "    student object\n",
    "    \n",
    "        properties\n",
    "        \n",
    "            roll no\n",
    "            name \n",
    "            father name\n",
    "            mother name\n",
    "            graduation \n",
    "            branch\n",
    "            semster\n",
    "            admission date\n",
    "            fees status\n",
    "            \n",
    "            \n",
    "            \n",
    "            \n",
    "            "
   ]
  },
  {
   "cell_type": "markdown",
   "id": "c2368c37",
   "metadata": {},
   "source": [
    "    __add__ --> \"+\""
   ]
  },
  {
   "cell_type": "markdown",
   "id": "27155833",
   "metadata": {},
   "source": [
    "syntax:\n",
    "\n",
    "    class class_name(parent-1, parent-2, ...):\n",
    "        def method1(self):\n",
    "            pass\n",
    "        def method2(self):\n",
    "            pass\n",
    "        def __add__(self, other):\n",
    "            pass\n",
    "            \n",
    "    obj = class_name(...)\n",
    "    \n",
    "    obj.method1() # class_name.method1(obj)"
   ]
  },
  {
   "cell_type": "code",
   "execution_count": 25,
   "id": "d4986ab7",
   "metadata": {},
   "outputs": [],
   "source": [
    "class A:\n",
    "    def hello(self):\n",
    "        print(\"Awesome this is a method of class A\")"
   ]
  },
  {
   "cell_type": "code",
   "execution_count": 26,
   "id": "b6744762",
   "metadata": {},
   "outputs": [],
   "source": [
    "a = A()"
   ]
  },
  {
   "cell_type": "code",
   "execution_count": 27,
   "id": "73b8cbb1",
   "metadata": {},
   "outputs": [
    {
     "name": "stdout",
     "output_type": "stream",
     "text": [
      "Awesome this is a method of class A\n"
     ]
    }
   ],
   "source": [
    "a.hello()"
   ]
  },
  {
   "cell_type": "code",
   "execution_count": 28,
   "id": "51a2e323",
   "metadata": {},
   "outputs": [
    {
     "name": "stdout",
     "output_type": "stream",
     "text": [
      "<__main__.A object at 0x000001E06E1B0C70>\n"
     ]
    }
   ],
   "source": [
    "print(a) # __str__"
   ]
  },
  {
   "cell_type": "code",
   "execution_count": 31,
   "id": "ac17b545",
   "metadata": {},
   "outputs": [],
   "source": [
    "class A:\n",
    "    def __str__(self):\n",
    "        return \"this is how print works!\"\n",
    "    def __add__(self, other):\n",
    "        print(\"operator overloading!\")\n",
    "    def laugh(self):\n",
    "        print(\"ha ha hah ahahhahahahaha\")\n",
    "    def cry(self):\n",
    "        print(\"uhhuuhuhuuhu huuhuhuhuhhu\")"
   ]
  },
  {
   "cell_type": "code",
   "execution_count": 32,
   "id": "6261458d",
   "metadata": {},
   "outputs": [],
   "source": [
    "a = A()\n",
    "b = A()"
   ]
  },
  {
   "cell_type": "code",
   "execution_count": 33,
   "id": "bcecbfb2",
   "metadata": {},
   "outputs": [
    {
     "name": "stdout",
     "output_type": "stream",
     "text": [
      "this is how print works!\n",
      "this is how print works!\n"
     ]
    }
   ],
   "source": [
    "print(a)\n",
    "print(b)"
   ]
  },
  {
   "cell_type": "code",
   "execution_count": 34,
   "id": "ff443708",
   "metadata": {},
   "outputs": [
    {
     "name": "stdout",
     "output_type": "stream",
     "text": [
      "operator overloading!\n"
     ]
    }
   ],
   "source": [
    "a + b"
   ]
  },
  {
   "cell_type": "code",
   "execution_count": 35,
   "id": "9daed05c",
   "metadata": {},
   "outputs": [
    {
     "name": "stdout",
     "output_type": "stream",
     "text": [
      "ha ha hah ahahhahahahaha\n"
     ]
    }
   ],
   "source": [
    "a.laugh()"
   ]
  },
  {
   "cell_type": "code",
   "execution_count": 36,
   "id": "ebaf59d1",
   "metadata": {},
   "outputs": [
    {
     "name": "stdout",
     "output_type": "stream",
     "text": [
      "uhhuuhuhuuhu huuhuhuhuhhu\n"
     ]
    }
   ],
   "source": [
    "a.cry()"
   ]
  },
  {
   "cell_type": "code",
   "execution_count": 37,
   "id": "5980acce",
   "metadata": {},
   "outputs": [
    {
     "name": "stdout",
     "output_type": "stream",
     "text": [
      "ha ha hah ahahhahahahaha\n"
     ]
    }
   ],
   "source": [
    "b.laugh()"
   ]
  },
  {
   "cell_type": "code",
   "execution_count": 38,
   "id": "1fb60d71",
   "metadata": {},
   "outputs": [
    {
     "name": "stdout",
     "output_type": "stream",
     "text": [
      "uhhuuhuhuuhu huuhuhuhuhhu\n"
     ]
    }
   ],
   "source": [
    "b.cry()"
   ]
  },
  {
   "cell_type": "code",
   "execution_count": null,
   "id": "a2951c8d",
   "metadata": {},
   "outputs": [],
   "source": []
  }
 ],
 "metadata": {
  "kernelspec": {
   "display_name": "Python 3 (ipykernel)",
   "language": "python",
   "name": "python3"
  },
  "language_info": {
   "codemirror_mode": {
    "name": "ipython",
    "version": 3
   },
   "file_extension": ".py",
   "mimetype": "text/x-python",
   "name": "python",
   "nbconvert_exporter": "python",
   "pygments_lexer": "ipython3",
   "version": "3.9.12"
  }
 },
 "nbformat": 4,
 "nbformat_minor": 5
}

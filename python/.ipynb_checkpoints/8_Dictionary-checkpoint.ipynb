{
 "cells": [
  {
   "cell_type": "code",
   "execution_count": 1,
   "id": "36bd17c9",
   "metadata": {},
   "outputs": [
    {
     "name": "stdout",
     "output_type": "stream",
     "text": [
      "Help on method_descriptor:\n",
      "\n",
      "pop(self, index=-1, /)\n",
      "    Remove and return item at index (default last).\n",
      "    \n",
      "    Raises IndexError if list is empty or index is out of range.\n",
      "\n"
     ]
    }
   ],
   "source": [
    "help(list.pop)"
   ]
  },
  {
   "cell_type": "markdown",
   "id": "e67441e3",
   "metadata": {},
   "source": [
    "### methods of list\n",
    "\n",
    "    list.append(item) -> add item at the end of list\n",
    "    list.insert(loc, item) -> add item at index loc into list\n",
    "    list.extend(iterable) -> it will add each item sequentially from iterable to the end of list\n",
    "    \n",
    "    list.remove(item) -> search and first occurence of item\n",
    "    \n",
    "    item = list.pop(index=-1) -> by default last item or index item will be deleted"
   ]
  },
  {
   "cell_type": "code",
   "execution_count": 2,
   "id": "4cd33553",
   "metadata": {},
   "outputs": [
    {
     "name": "stdout",
     "output_type": "stream",
     "text": [
      "append clear copy count extend index insert pop remove reverse sort\n"
     ]
    }
   ],
   "source": [
    "print(*dir(list)[-11:])"
   ]
  },
  {
   "cell_type": "code",
   "execution_count": 3,
   "id": "ca0bfeba",
   "metadata": {},
   "outputs": [
    {
     "name": "stdout",
     "output_type": "stream",
     "text": [
      "['ha ha', 'one', 'four', 1, 2]\n",
      "['ha ha', 'hi', 1, 2, ['java', 'c', 'c++'], 'p', 'y', 't', 'h', 'o', 'n']\n"
     ]
    }
   ],
   "source": [
    "mylist = [ 'one', 1, 2]\n",
    "mylist.append('three')\n",
    "mylist.insert(1, 'four')\n",
    "mylist.insert(0, 'ha ha')\n",
    "mylist.pop()\n",
    "print(mylist) # 1\n",
    "mylist.append(['java', 'c', 'c++'])\n",
    "mylist.insert(2, 'hi')\n",
    "mylist.pop(1)\n",
    "mylist.pop(2)\n",
    "mylist.extend('python') \n",
    "print(mylist)# 2"
   ]
  },
  {
   "cell_type": "code",
   "execution_count": 4,
   "id": "c0fd99c6",
   "metadata": {},
   "outputs": [],
   "source": [
    "lst = []"
   ]
  },
  {
   "cell_type": "code",
   "execution_count": 5,
   "id": "264dca36",
   "metadata": {},
   "outputs": [],
   "source": [
    "lst.extend([1, 2, 3, 4])"
   ]
  },
  {
   "cell_type": "code",
   "execution_count": 6,
   "id": "5e8d0b8e",
   "metadata": {},
   "outputs": [
    {
     "name": "stdout",
     "output_type": "stream",
     "text": [
      "[1, 2, 3, 4]\n"
     ]
    }
   ],
   "source": [
    "print(lst)"
   ]
  },
  {
   "cell_type": "code",
   "execution_count": 7,
   "id": "33f84fa7",
   "metadata": {},
   "outputs": [],
   "source": [
    "lst.extend('python')"
   ]
  },
  {
   "cell_type": "code",
   "execution_count": 8,
   "id": "c7f2f40e",
   "metadata": {},
   "outputs": [
    {
     "name": "stdout",
     "output_type": "stream",
     "text": [
      "[1, 2, 3, 4, 'p', 'y', 't', 'h', 'o', 'n']\n"
     ]
    }
   ],
   "source": [
    "print(lst)"
   ]
  },
  {
   "cell_type": "code",
   "execution_count": 9,
   "id": "705640e6",
   "metadata": {},
   "outputs": [],
   "source": [
    "lst.extend(['hi', 'hello', 'world!'])"
   ]
  },
  {
   "cell_type": "code",
   "execution_count": 10,
   "id": "44de5e93",
   "metadata": {},
   "outputs": [],
   "source": [
    "lst = []"
   ]
  },
  {
   "cell_type": "code",
   "execution_count": 11,
   "id": "fa1aea80",
   "metadata": {},
   "outputs": [],
   "source": [
    "lst.extend([\n",
    "    ['one', 'two', 'three'],\n",
    "    ['four', 'five', 'six']\n",
    "])"
   ]
  },
  {
   "cell_type": "code",
   "execution_count": 12,
   "id": "b17f1a3a",
   "metadata": {},
   "outputs": [
    {
     "name": "stdout",
     "output_type": "stream",
     "text": [
      "[['one', 'two', 'three'], ['four', 'five', 'six']]\n"
     ]
    }
   ],
   "source": [
    "print(lst)"
   ]
  },
  {
   "cell_type": "code",
   "execution_count": 13,
   "id": "ca7eb963",
   "metadata": {},
   "outputs": [],
   "source": [
    "lst = []"
   ]
  },
  {
   "cell_type": "code",
   "execution_count": 14,
   "id": "1a49f13e",
   "metadata": {},
   "outputs": [],
   "source": [
    "lst.append([1, 2])"
   ]
  },
  {
   "cell_type": "code",
   "execution_count": 15,
   "id": "8ee8d4c0",
   "metadata": {},
   "outputs": [
    {
     "name": "stdout",
     "output_type": "stream",
     "text": [
      "[[1, 2]]\n"
     ]
    }
   ],
   "source": [
    "print(lst)"
   ]
  },
  {
   "cell_type": "code",
   "execution_count": 16,
   "id": "a11ac5b5",
   "metadata": {},
   "outputs": [],
   "source": [
    "lst.append([['java', 'c'], ['c', 'c++']])"
   ]
  },
  {
   "cell_type": "code",
   "execution_count": 17,
   "id": "9acf5ede",
   "metadata": {},
   "outputs": [
    {
     "name": "stdout",
     "output_type": "stream",
     "text": [
      "[[1, 2], [['java', 'c'], ['c', 'c++']]]\n"
     ]
    }
   ],
   "source": [
    "print(lst)"
   ]
  },
  {
   "cell_type": "code",
   "execution_count": 19,
   "id": "099a6a85",
   "metadata": {},
   "outputs": [],
   "source": [
    "lst.clear()\n",
    "# it will all items from your list"
   ]
  },
  {
   "cell_type": "code",
   "execution_count": 21,
   "id": "0e0b71f0",
   "metadata": {},
   "outputs": [
    {
     "name": "stdout",
     "output_type": "stream",
     "text": [
      "[]\n"
     ]
    }
   ],
   "source": [
    "print(lst)"
   ]
  },
  {
   "cell_type": "code",
   "execution_count": 25,
   "id": "871b8918",
   "metadata": {},
   "outputs": [
    {
     "name": "stdout",
     "output_type": "stream",
     "text": [
      "1735621772864 1735621772864\n",
      "True\n"
     ]
    }
   ],
   "source": [
    "a = [1, 2, 3, 4]\n",
    "b = a\n",
    "\n",
    "print(id(a), id(b))\n",
    "print(a is b)\n",
    "a.clear()"
   ]
  },
  {
   "cell_type": "code",
   "execution_count": 26,
   "id": "f2a1f0a8",
   "metadata": {},
   "outputs": [
    {
     "name": "stdout",
     "output_type": "stream",
     "text": [
      "a =  []\n",
      "b =  []\n"
     ]
    }
   ],
   "source": [
    "print(\"a = \", a)\n",
    "print(\"b = \", b)"
   ]
  },
  {
   "cell_type": "markdown",
   "id": "f4d9be02",
   "metadata": {},
   "source": [
    "    copy = lst.copy() -> a shallow copy of list"
   ]
  },
  {
   "cell_type": "code",
   "execution_count": null,
   "id": "5644111b",
   "metadata": {},
   "outputs": [],
   "source": [
    "for var in a[:]:\n",
    "    # he is changing a\n",
    "    print(var)"
   ]
  },
  {
   "cell_type": "code",
   "execution_count": 30,
   "id": "418ffecc",
   "metadata": {},
   "outputs": [],
   "source": [
    "import copy"
   ]
  },
  {
   "cell_type": "code",
   "execution_count": 31,
   "id": "c1efaf55",
   "metadata": {},
   "outputs": [],
   "source": [
    "a = [ 1, 2, 3, 4]\n",
    "\n",
    "b = copy.copy(a) # shallow copy it is same a.copy(), a[:]\n",
    "c = copy.deepcopy(a) # deep copy"
   ]
  },
  {
   "cell_type": "code",
   "execution_count": null,
   "id": "73b10a73",
   "metadata": {},
   "outputs": [],
   "source": []
  },
  {
   "cell_type": "code",
   "execution_count": null,
   "id": "6d3f2727",
   "metadata": {},
   "outputs": [],
   "source": []
  },
  {
   "cell_type": "code",
   "execution_count": 27,
   "id": "d5dfbb8a",
   "metadata": {},
   "outputs": [
    {
     "name": "stdout",
     "output_type": "stream",
     "text": [
      "1735621768768 1735621768384\n",
      "False\n"
     ]
    }
   ],
   "source": [
    "a = [1, 2, 3, 4]\n",
    "b = a.copy()\n",
    "c = a[:] # a[:]\n",
    "\n",
    "print(id(a), id(b))\n",
    "print(a is b)\n",
    "a.clear()"
   ]
  },
  {
   "cell_type": "code",
   "execution_count": 28,
   "id": "ec3c9a4a",
   "metadata": {},
   "outputs": [
    {
     "name": "stdout",
     "output_type": "stream",
     "text": [
      "[]\n"
     ]
    }
   ],
   "source": [
    "print(a)"
   ]
  },
  {
   "cell_type": "code",
   "execution_count": 29,
   "id": "18406b01",
   "metadata": {},
   "outputs": [
    {
     "name": "stdout",
     "output_type": "stream",
     "text": [
      "[1, 2, 3, 4]\n"
     ]
    }
   ],
   "source": [
    "print(b)"
   ]
  },
  {
   "cell_type": "markdown",
   "id": "1d8d465d",
   "metadata": {},
   "source": [
    "#### List\n",
    "\n",
    "    "
   ]
  },
  {
   "cell_type": "code",
   "execution_count": 32,
   "id": "70f0047b",
   "metadata": {},
   "outputs": [],
   "source": [
    "names = [ \n",
    "    'sachin', 'rajat', 'nidhi', \n",
    "    'kushal', 'yadvendra', 'mayank', \n",
    "    'arpit', 'simran', 'shivani',\n",
    "    'tanvi', 'sam', 'vijay',\n",
    "]"
   ]
  },
  {
   "cell_type": "code",
   "execution_count": 36,
   "id": "4caf1776",
   "metadata": {},
   "outputs": [
    {
     "name": "stdout",
     "output_type": "stream",
     "text": [
      "4\n"
     ]
    }
   ],
   "source": [
    "i = names.index(\"yadvendra\")\n",
    "print(i)"
   ]
  },
  {
   "cell_type": "markdown",
   "id": "975d5544",
   "metadata": {},
   "source": [
    "    no name will repeated in list\n",
    "    \n",
    "    input will always exists in names"
   ]
  },
  {
   "cell_type": "code",
   "execution_count": 41,
   "id": "115a5092",
   "metadata": {},
   "outputs": [
    {
     "name": "stdout",
     "output_type": "stream",
     "text": [
      "Enter Name: kushal\n",
      "kushal has got 74.00% marks.\n"
     ]
    }
   ],
   "source": [
    "#            0         1       2         3\n",
    "names = [ 'sachin', 'rajat', 'nidhi', 'kushal']\n",
    "marks = [    400,     450,     350,     370]\n",
    "# 500 marks\n",
    "\n",
    "# write a python code which take name as input and print percentage of that person \n",
    "\n",
    "nm = input(\"Enter Name: \").strip().lower()\n",
    "i = names.index(nm)\n",
    "per = (marks[i]/500)*100\n",
    "\n",
    "print(f\"{nm} has got {per:.2f}% marks.\")"
   ]
  },
  {
   "cell_type": "code",
   "execution_count": 42,
   "id": "7d3266cd",
   "metadata": {},
   "outputs": [],
   "source": [
    "names = [ 1, 2, 1, 1,2 ,3 ,4 , 1,2, 1, 1, 1, 1, 1,1, 3, 4, 2, 4, 5, 6, 1, 2, 4]"
   ]
  },
  {
   "cell_type": "code",
   "execution_count": 46,
   "id": "00474c52",
   "metadata": {},
   "outputs": [
    {
     "name": "stdout",
     "output_type": "stream",
     "text": [
      "4\n"
     ]
    }
   ],
   "source": [
    "c = names.count(4)\n",
    "print(c)"
   ]
  },
  {
   "cell_type": "markdown",
   "id": "bfb06182",
   "metadata": {},
   "source": [
    "    append, insert, extend, pop, remove, clear, copy, index, count\n",
    "    \n",
    "        sort, reverse, "
   ]
  },
  {
   "cell_type": "code",
   "execution_count": 47,
   "id": "81e5c474",
   "metadata": {},
   "outputs": [],
   "source": [
    "nums = [ 14, 56, 78, 56, 45, 34, 56, 78, 54, 89, 45, 23]"
   ]
  },
  {
   "cell_type": "code",
   "execution_count": 48,
   "id": "f1f1ea47",
   "metadata": {},
   "outputs": [],
   "source": [
    "# sort method only works on homogenous list\n",
    "nums.sort() # reverse=True"
   ]
  },
  {
   "cell_type": "code",
   "execution_count": 49,
   "id": "70e89c32",
   "metadata": {},
   "outputs": [
    {
     "name": "stdout",
     "output_type": "stream",
     "text": [
      "[14, 23, 34, 45, 45, 54, 56, 56, 56, 78, 78, 89]\n"
     ]
    }
   ],
   "source": [
    "print(nums)"
   ]
  },
  {
   "cell_type": "code",
   "execution_count": 50,
   "id": "b46ec5e7",
   "metadata": {},
   "outputs": [
    {
     "name": "stdout",
     "output_type": "stream",
     "text": [
      "[89, 78, 78, 56, 56, 56, 54, 45, 45, 34, 23, 14]\n"
     ]
    }
   ],
   "source": [
    "nums = [ 14, 56, 78, 56, 45, 34, 56, 78, 54, 89, 45, 23]\n",
    "nums.sort(reverse=True)\n",
    "\n",
    "print(nums)"
   ]
  },
  {
   "cell_type": "code",
   "execution_count": 51,
   "id": "1e0603f4",
   "metadata": {},
   "outputs": [],
   "source": [
    "a = [ 1, 'hi', 2]"
   ]
  },
  {
   "cell_type": "code",
   "execution_count": 52,
   "id": "bd2e55e6",
   "metadata": {},
   "outputs": [
    {
     "ename": "TypeError",
     "evalue": "'<' not supported between instances of 'str' and 'int'",
     "output_type": "error",
     "traceback": [
      "\u001b[1;31m---------------------------------------------------------------------------\u001b[0m",
      "\u001b[1;31mTypeError\u001b[0m                                 Traceback (most recent call last)",
      "\u001b[1;32m<ipython-input-52-2ed0d7de6146>\u001b[0m in \u001b[0;36m<module>\u001b[1;34m\u001b[0m\n\u001b[1;32m----> 1\u001b[1;33m \u001b[0ma\u001b[0m\u001b[1;33m.\u001b[0m\u001b[0msort\u001b[0m\u001b[1;33m(\u001b[0m\u001b[1;33m)\u001b[0m\u001b[1;33m\u001b[0m\u001b[1;33m\u001b[0m\u001b[0m\n\u001b[0m",
      "\u001b[1;31mTypeError\u001b[0m: '<' not supported between instances of 'str' and 'int'"
     ]
    }
   ],
   "source": [
    "a.sort()"
   ]
  },
  {
   "cell_type": "code",
   "execution_count": 53,
   "id": "2060f533",
   "metadata": {},
   "outputs": [],
   "source": [
    "a = [ 1, '2', 3, 4, 5, 6]"
   ]
  },
  {
   "cell_type": "code",
   "execution_count": 54,
   "id": "27ac6878",
   "metadata": {},
   "outputs": [
    {
     "ename": "TypeError",
     "evalue": "'<' not supported between instances of 'str' and 'int'",
     "output_type": "error",
     "traceback": [
      "\u001b[1;31m---------------------------------------------------------------------------\u001b[0m",
      "\u001b[1;31mTypeError\u001b[0m                                 Traceback (most recent call last)",
      "\u001b[1;32m<ipython-input-54-0472aed9bb6a>\u001b[0m in \u001b[0;36m<module>\u001b[1;34m\u001b[0m\n\u001b[1;32m----> 1\u001b[1;33m \u001b[0ma\u001b[0m\u001b[1;33m.\u001b[0m\u001b[0msort\u001b[0m\u001b[1;33m(\u001b[0m\u001b[0mreverse\u001b[0m\u001b[1;33m=\u001b[0m\u001b[1;32mTrue\u001b[0m\u001b[1;33m)\u001b[0m\u001b[1;33m\u001b[0m\u001b[1;33m\u001b[0m\u001b[0m\n\u001b[0m",
      "\u001b[1;31mTypeError\u001b[0m: '<' not supported between instances of 'str' and 'int'"
     ]
    }
   ],
   "source": [
    "a.sort(reverse=True)"
   ]
  },
  {
   "cell_type": "code",
   "execution_count": 55,
   "id": "9272f60a",
   "metadata": {},
   "outputs": [
    {
     "name": "stdout",
     "output_type": "stream",
     "text": [
      "[1, 2, 1, 1, 2, 3, 4, 1, 2, 1, 1, 1, 1, 1, 1, 3, 4, 2, 4, 5, 6, 1, 2, 4]\n"
     ]
    }
   ],
   "source": [
    "print(names)"
   ]
  },
  {
   "cell_type": "code",
   "execution_count": 56,
   "id": "4594a869",
   "metadata": {},
   "outputs": [],
   "source": [
    "names = [ \n",
    "    'sachin', 'rajat', 'nidhi', \n",
    "    'kushal', 'yadvendra', 'mayank', \n",
    "    'arpit', 'simran', 'shivani',\n",
    "    'tanvi', 'sam', 'vijay',\n",
    "]"
   ]
  },
  {
   "cell_type": "code",
   "execution_count": 57,
   "id": "239df4a5",
   "metadata": {},
   "outputs": [
    {
     "name": "stdout",
     "output_type": "stream",
     "text": [
      "['arpit', 'kushal', 'mayank', 'nidhi', 'rajat', 'sachin', 'sam', 'shivani', 'simran', 'tanvi', 'vijay', 'yadvendra']\n"
     ]
    }
   ],
   "source": [
    "names.sort() # ? \n",
    "print(names)"
   ]
  },
  {
   "cell_type": "code",
   "execution_count": 58,
   "id": "4a74b265",
   "metadata": {},
   "outputs": [],
   "source": [
    "info = [\n",
    "    #             math, chem, physics\n",
    "    [\"deepratan\", 67, 89, 90],\n",
    "    [\"surbhi\", 67, 87, 89],\n",
    "    [\"deepak\", 78, 65, 98],\n",
    "    [\"shiya\", 65, 88, 55]\n",
    "]"
   ]
  },
  {
   "cell_type": "code",
   "execution_count": 59,
   "id": "65be2edf",
   "metadata": {},
   "outputs": [
    {
     "name": "stdout",
     "output_type": "stream",
     "text": [
      "[['deepak', 78, 65, 98], ['deepratan', 67, 89, 90], ['shiya', 65, 88, 55], ['surbhi', 67, 87, 89]]\n"
     ]
    }
   ],
   "source": [
    "info.sort() # ? \n",
    "\n",
    "print(info)"
   ]
  },
  {
   "cell_type": "code",
   "execution_count": 60,
   "id": "44af3ea8",
   "metadata": {},
   "outputs": [],
   "source": [
    "from operator import itemgetter"
   ]
  },
  {
   "cell_type": "code",
   "execution_count": 61,
   "id": "d6c53942",
   "metadata": {},
   "outputs": [],
   "source": [
    "func = itemgetter(2)"
   ]
  },
  {
   "cell_type": "code",
   "execution_count": 62,
   "id": "fa810972",
   "metadata": {},
   "outputs": [
    {
     "data": {
      "text/plain": [
       "'l'"
      ]
     },
     "execution_count": 62,
     "metadata": {},
     "output_type": "execute_result"
    }
   ],
   "source": [
    "func(\"hello\")"
   ]
  },
  {
   "cell_type": "code",
   "execution_count": 63,
   "id": "63ae5a39",
   "metadata": {},
   "outputs": [
    {
     "data": {
      "text/plain": [
       "'awesome'"
      ]
     },
     "execution_count": 63,
     "metadata": {},
     "output_type": "execute_result"
    }
   ],
   "source": [
    "func(['hi', 'hello', 'awesome', 'things', 'python'])"
   ]
  },
  {
   "cell_type": "code",
   "execution_count": 64,
   "id": "beaa6a96",
   "metadata": {},
   "outputs": [],
   "source": [
    "info = [\n",
    "    #             math, chem, physics\n",
    "    [\"deepratan\", 67, 89, 90],\n",
    "    [\"surbhi\", 67, 87, 89],\n",
    "    [\"deepak\", 78, 65, 98],\n",
    "    [\"shiya\", 65, 88, 55]\n",
    "]"
   ]
  },
  {
   "cell_type": "code",
   "execution_count": 65,
   "id": "e2538ba2",
   "metadata": {},
   "outputs": [],
   "source": [
    "info.sort(reverse=True, key=itemgetter(3))"
   ]
  },
  {
   "cell_type": "code",
   "execution_count": 68,
   "id": "54de94bc",
   "metadata": {},
   "outputs": [],
   "source": [
    "from pprint import pprint\n",
    "# pretty print"
   ]
  },
  {
   "cell_type": "code",
   "execution_count": 69,
   "id": "a8b5ff6f",
   "metadata": {},
   "outputs": [
    {
     "name": "stdout",
     "output_type": "stream",
     "text": [
      "[['deepak', 78, 65, 98],\n",
      " ['deepratan', 67, 89, 90],\n",
      " ['surbhi', 67, 87, 89],\n",
      " ['shiya', 65, 88, 55]]\n"
     ]
    }
   ],
   "source": [
    "pprint(info)"
   ]
  },
  {
   "cell_type": "code",
   "execution_count": 70,
   "id": "dabec192",
   "metadata": {},
   "outputs": [],
   "source": [
    "names = [ 'one', 'two', 'three', 'four']"
   ]
  },
  {
   "cell_type": "code",
   "execution_count": 71,
   "id": "898d4cc6",
   "metadata": {},
   "outputs": [],
   "source": [
    "names.reverse() # names[::-1]"
   ]
  },
  {
   "cell_type": "code",
   "execution_count": 72,
   "id": "3149eb51",
   "metadata": {},
   "outputs": [
    {
     "name": "stdout",
     "output_type": "stream",
     "text": [
      "['four', 'three', 'two', 'one']\n"
     ]
    }
   ],
   "source": [
    "print(names)"
   ]
  },
  {
   "cell_type": "code",
   "execution_count": 73,
   "id": "487dc697",
   "metadata": {},
   "outputs": [],
   "source": [
    "nums = [ 10, 50, 20, 30, 40]"
   ]
  },
  {
   "cell_type": "code",
   "execution_count": 74,
   "id": "b473dac5",
   "metadata": {},
   "outputs": [],
   "source": [
    "nums[1] = 15"
   ]
  },
  {
   "cell_type": "code",
   "execution_count": 75,
   "id": "c2c11032",
   "metadata": {},
   "outputs": [
    {
     "name": "stdout",
     "output_type": "stream",
     "text": [
      "[10, 15, 20, 30, 40]\n"
     ]
    }
   ],
   "source": [
    "print(nums)"
   ]
  },
  {
   "cell_type": "markdown",
   "id": "1a8617d4",
   "metadata": {},
   "source": [
    "#### Tuple\n",
    "\n",
    "    immutable list"
   ]
  },
  {
   "cell_type": "code",
   "execution_count": 77,
   "id": "84996eb6",
   "metadata": {},
   "outputs": [],
   "source": [
    "a = (1, 2, 3) # constant"
   ]
  },
  {
   "cell_type": "code",
   "execution_count": 78,
   "id": "8fcbedec",
   "metadata": {},
   "outputs": [
    {
     "name": "stdout",
     "output_type": "stream",
     "text": [
      "['__add__', '__class__', '__contains__', '__delattr__', '__dir__', '__doc__', '__eq__', '__format__', '__ge__', '__getattribute__', '__getitem__', '__getnewargs__', '__gt__', '__hash__', '__init__', '__init_subclass__', '__iter__', '__le__', '__len__', '__lt__', '__mul__', '__ne__', '__new__', '__reduce__', '__reduce_ex__', '__repr__', '__rmul__', '__setattr__', '__sizeof__', '__str__', '__subclasshook__', 'count', 'index']\n"
     ]
    }
   ],
   "source": [
    "print(dir(tuple))"
   ]
  },
  {
   "cell_type": "code",
   "execution_count": 79,
   "id": "6586e189",
   "metadata": {},
   "outputs": [
    {
     "name": "stdout",
     "output_type": "stream",
     "text": [
      "(1, 2, 3)\n"
     ]
    }
   ],
   "source": [
    "print(a)"
   ]
  },
  {
   "cell_type": "code",
   "execution_count": 80,
   "id": "f0b8120e",
   "metadata": {},
   "outputs": [
    {
     "data": {
      "text/plain": [
       "2"
      ]
     },
     "execution_count": 80,
     "metadata": {},
     "output_type": "execute_result"
    }
   ],
   "source": [
    "a[1]"
   ]
  },
  {
   "cell_type": "code",
   "execution_count": 81,
   "id": "d5d82c75",
   "metadata": {},
   "outputs": [
    {
     "ename": "TypeError",
     "evalue": "'tuple' object does not support item assignment",
     "output_type": "error",
     "traceback": [
      "\u001b[1;31m---------------------------------------------------------------------------\u001b[0m",
      "\u001b[1;31mTypeError\u001b[0m                                 Traceback (most recent call last)",
      "\u001b[1;32m<ipython-input-81-79a5167f023c>\u001b[0m in \u001b[0;36m<module>\u001b[1;34m\u001b[0m\n\u001b[1;32m----> 1\u001b[1;33m \u001b[0ma\u001b[0m\u001b[1;33m[\u001b[0m\u001b[1;36m1\u001b[0m\u001b[1;33m]\u001b[0m \u001b[1;33m=\u001b[0m \u001b[1;36m34\u001b[0m\u001b[1;33m\u001b[0m\u001b[1;33m\u001b[0m\u001b[0m\n\u001b[0m",
      "\u001b[1;31mTypeError\u001b[0m: 'tuple' object does not support item assignment"
     ]
    }
   ],
   "source": [
    "a[1] = 34"
   ]
  },
  {
   "cell_type": "markdown",
   "id": "6c4c9635",
   "metadata": {},
   "source": [
    "#### Monday \n",
    "\n",
    "      Tuesday \n",
    "      \n",
    "      # share you recordings hindi / english -> till data type\n",
    "      \n",
    "      # dictonary, set, frozenset, bool, None\n",
    "      \n",
    "      # Data Types \n",
    "      \n",
    "      # Operators \n",
    "      \n",
    "      Tuesday if-else"
   ]
  },
  {
   "cell_type": "code",
   "execution_count": null,
   "id": "8c038b3e",
   "metadata": {},
   "outputs": [],
   "source": []
  }
 ],
 "metadata": {
  "kernelspec": {
   "display_name": "Python 3",
   "language": "python",
   "name": "python3"
  },
  "language_info": {
   "codemirror_mode": {
    "name": "ipython",
    "version": 3
   },
   "file_extension": ".py",
   "mimetype": "text/x-python",
   "name": "python",
   "nbconvert_exporter": "python",
   "pygments_lexer": "ipython3",
   "version": "3.8.8"
  }
 },
 "nbformat": 4,
 "nbformat_minor": 5
}

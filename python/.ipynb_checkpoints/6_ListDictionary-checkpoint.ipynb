{
 "cells": [
  {
   "cell_type": "markdown",
   "id": "15f8100f",
   "metadata": {},
   "source": [
    "### Strings\n",
    "\n",
    "    Ordered Sequential \n",
    "    \n",
    "            indexing / slicing"
   ]
  },
  {
   "cell_type": "markdown",
   "id": "b887b4e8",
   "metadata": {},
   "source": [
    "### Indexing\n",
    "\n",
    "    accessing a single member / item from an iterable / collection type\n",
    "    \n",
    "    index is a value which denotes position of item in sequence"
   ]
  },
  {
   "cell_type": "code",
   "execution_count": 2,
   "id": "f6a282ac",
   "metadata": {},
   "outputs": [],
   "source": [
    "s = \"Hello World!\""
   ]
  },
  {
   "cell_type": "code",
   "execution_count": 4,
   "id": "d30a9962",
   "metadata": {},
   "outputs": [
    {
     "name": "stdout",
     "output_type": "stream",
     "text": [
      "o\n",
      "l\n",
      "o\n",
      "!\n"
     ]
    }
   ],
   "source": [
    "a1 = s[4]\n",
    "print(a1) # 1 \"o\"\n",
    "a2 = s[9]\n",
    "print(a2) # 2 \"l\"\n",
    "a3 = s[-8]\n",
    "print(a3) # 3 \"o\"\n",
    "a4 = s[-1]\n",
    "print(a4) # 4 \"!\""
   ]
  },
  {
   "cell_type": "code",
   "execution_count": 6,
   "id": "53b7055a",
   "metadata": {},
   "outputs": [
    {
     "name": "stdout",
     "output_type": "stream",
     "text": [
      "'lo Worl'\n"
     ]
    }
   ],
   "source": [
    "s = \"Hello World!\"\n",
    "ns = s[3:10:1]\n",
    "print(repr(ns))"
   ]
  },
  {
   "cell_type": "code",
   "execution_count": 7,
   "id": "7b7b30b7",
   "metadata": {},
   "outputs": [
    {
     "name": "stdout",
     "output_type": "stream",
     "text": [
      "'lo Worl'\n"
     ]
    }
   ],
   "source": [
    "s = \"Hello World!\"\n",
    "ns = s[3:10]\n",
    "print(repr(ns))"
   ]
  },
  {
   "cell_type": "markdown",
   "id": "81849f97",
   "metadata": {},
   "source": [
    "##### Slicing \n",
    "\n",
    "    taking a sub sequence out of sequence\n",
    "    \n",
    "        by default step value is 1\n",
    "    \n",
    "    seq[start:end:step] or seq[start:end] "
   ]
  },
  {
   "cell_type": "code",
   "execution_count": null,
   "id": "a73fc51b",
   "metadata": {},
   "outputs": [],
   "source": []
  },
  {
   "cell_type": "markdown",
   "id": "5d9bc0e7",
   "metadata": {},
   "source": [
    "`seq[:n]` create a sub-seq taking first n values from seq"
   ]
  },
  {
   "cell_type": "code",
   "execution_count": 9,
   "id": "56f43fd1",
   "metadata": {},
   "outputs": [
    {
     "name": "stdout",
     "output_type": "stream",
     "text": [
      "Hello\n"
     ]
    }
   ],
   "source": [
    "print(s[:5])"
   ]
  },
  {
   "cell_type": "code",
   "execution_count": 10,
   "id": "db584e7a",
   "metadata": {},
   "outputs": [
    {
     "name": "stdout",
     "output_type": "stream",
     "text": [
      "World\n"
     ]
    }
   ],
   "source": [
    "print(s[6:11]) # step=1"
   ]
  },
  {
   "cell_type": "code",
   "execution_count": 12,
   "id": "1a41653f",
   "metadata": {},
   "outputs": [
    {
     "name": "stdout",
     "output_type": "stream",
     "text": [
      "''\n"
     ]
    }
   ],
   "source": [
    "s = \"Hello World!\"\n",
    "ns = s[-8:-12]\n",
    "print(repr(ns))"
   ]
  },
  {
   "cell_type": "code",
   "execution_count": 14,
   "id": "e405d06b",
   "metadata": {},
   "outputs": [
    {
     "name": "stdout",
     "output_type": "stream",
     "text": [
      "'Worl'\n"
     ]
    }
   ],
   "source": [
    "s = \"Hello World!\"\n",
    "ns = s[-6:-2]\n",
    "print(repr(ns))"
   ]
  },
  {
   "cell_type": "code",
   "execution_count": 15,
   "id": "1dae4019",
   "metadata": {},
   "outputs": [
    {
     "name": "stdout",
     "output_type": "stream",
     "text": [
      "'Hello World'\n"
     ]
    }
   ],
   "source": [
    "s = \"Hello World!\"\n",
    "ns = s[:-1]\n",
    "print(repr(ns))"
   ]
  },
  {
   "cell_type": "code",
   "execution_count": 16,
   "id": "db3c1f1d",
   "metadata": {},
   "outputs": [
    {
     "name": "stdout",
     "output_type": "stream",
     "text": [
      "'Hello'\n"
     ]
    }
   ],
   "source": [
    "s = \"Hello World!\"\n",
    "ns = s[:-7]\n",
    "print(repr(ns))"
   ]
  },
  {
   "cell_type": "markdown",
   "id": "7b459d81",
   "metadata": {},
   "source": [
    "`seq[:-n]` create a sub seq excluding last n members / items from seq"
   ]
  },
  {
   "cell_type": "code",
   "execution_count": 17,
   "id": "d47b869d",
   "metadata": {},
   "outputs": [],
   "source": [
    "s = \"hello world da da\""
   ]
  },
  {
   "cell_type": "code",
   "execution_count": 18,
   "id": "86b41f11",
   "metadata": {},
   "outputs": [
    {
     "name": "stdout",
     "output_type": "stream",
     "text": [
      "hello world\n"
     ]
    }
   ],
   "source": [
    "ns = s[:-6]\n",
    "print(ns)"
   ]
  },
  {
   "cell_type": "code",
   "execution_count": 20,
   "id": "b35bdd1c",
   "metadata": {},
   "outputs": [
    {
     "name": "stdout",
     "output_type": "stream",
     "text": [
      "'hello I am a line\\n'\n",
      "'hello I am a line'\n"
     ]
    }
   ],
   "source": [
    "line = \"hello I am a line\\n\"\n",
    "\n",
    "new_line = line[:-1]\n",
    "\n",
    "print(repr(line))\n",
    "print(repr(new_line))"
   ]
  },
  {
   "cell_type": "code",
   "execution_count": 21,
   "id": "daffaf0b",
   "metadata": {},
   "outputs": [
    {
     "name": "stdout",
     "output_type": "stream",
     "text": [
      "'World!'\n"
     ]
    }
   ],
   "source": [
    "s = \"Hello World!\"\n",
    "ns = s[-6:]\n",
    "print(repr(ns))"
   ]
  },
  {
   "cell_type": "code",
   "execution_count": 22,
   "id": "f7827ce5",
   "metadata": {},
   "outputs": [
    {
     "name": "stdout",
     "output_type": "stream",
     "text": [
      "'orld!'\n"
     ]
    }
   ],
   "source": [
    "s = \"Hello World!\"\n",
    "ns = s[-5:]\n",
    "print(repr(ns))"
   ]
  },
  {
   "cell_type": "markdown",
   "id": "349c6475",
   "metadata": {},
   "source": [
    "`seq[-n:]` - create a sub seq by reading last n members/items from seq "
   ]
  },
  {
   "cell_type": "code",
   "execution_count": 23,
   "id": "696802d2",
   "metadata": {},
   "outputs": [
    {
     "name": "stdout",
     "output_type": "stream",
     "text": [
      "'o Worl'\n"
     ]
    }
   ],
   "source": [
    "s = \"Hello World!\"\n",
    "ns = s[-8:-2]\n",
    "print(repr(ns))"
   ]
  },
  {
   "cell_type": "markdown",
   "id": "42630cec",
   "metadata": {},
   "source": [
    "    slicing is possible or not\n",
    "    \n",
    "        if it is not possible return blank string\n",
    "        \n",
    "        if it is possbile it starts create sub-sequence"
   ]
  },
  {
   "cell_type": "markdown",
   "id": "7e8010f7",
   "metadata": {},
   "source": [
    "-8 -12\n",
    "\n",
    "\n",
    "          __________________________\n",
    "    \n",
    "    \n",
    "    -inf           0                +inf"
   ]
  },
  {
   "cell_type": "code",
   "execution_count": 25,
   "id": "15c0df9b",
   "metadata": {},
   "outputs": [],
   "source": [
    "# Abstraction\n",
    "def my_slice(seq, start, end, step):\n",
    "    if step >= 1:\n",
    "        # Left to Right\n",
    "        if end >= start:\n",
    "            # posible\n",
    "            return seq[start:end:step]\n",
    "        else:\n",
    "            # not possible\n",
    "            return \"\"\n",
    "    else:\n",
    "        # Right to Left\n",
    "        pass"
   ]
  },
  {
   "cell_type": "code",
   "execution_count": 26,
   "id": "0f96b945",
   "metadata": {},
   "outputs": [],
   "source": [
    "s = \"hello\""
   ]
  },
  {
   "cell_type": "code",
   "execution_count": 29,
   "id": "dc00eff3",
   "metadata": {},
   "outputs": [
    {
     "name": "stdout",
     "output_type": "stream",
     "text": [
      "''\n"
     ]
    }
   ],
   "source": [
    "ns = s[1000:20000]\n",
    "print(repr(ns))"
   ]
  },
  {
   "cell_type": "code",
   "execution_count": 30,
   "id": "719b0398",
   "metadata": {},
   "outputs": [
    {
     "name": "stdout",
     "output_type": "stream",
     "text": [
      "'loWr'\n"
     ]
    }
   ],
   "source": [
    "s = \"Hello World!\"\n",
    "ns = s[2:10:2]\n",
    "print(repr(ns))"
   ]
  },
  {
   "cell_type": "code",
   "execution_count": 31,
   "id": "16293813",
   "metadata": {},
   "outputs": [
    {
     "name": "stdout",
     "output_type": "stream",
     "text": [
      "'HloWrd'\n"
     ]
    }
   ],
   "source": [
    "s = \"Hello World!\"\n",
    "ns = s[::2]\n",
    "print(repr(ns))"
   ]
  },
  {
   "cell_type": "code",
   "execution_count": 33,
   "id": "8a9301e9",
   "metadata": {},
   "outputs": [
    {
     "name": "stdout",
     "output_type": "stream",
     "text": [
      "'dlroW '\n"
     ]
    }
   ],
   "source": [
    "s = \"Hello World!\"\n",
    "ns = s[10:4:-1]\n",
    "print(repr(ns))"
   ]
  },
  {
   "cell_type": "code",
   "execution_count": 34,
   "id": "a61ddc93",
   "metadata": {},
   "outputs": [
    {
     "name": "stdout",
     "output_type": "stream",
     "text": [
      "'!dlroW olleH'\n"
     ]
    }
   ],
   "source": [
    "s = \"Hello World!\"\n",
    "ns = s[::-1]\n",
    "print(repr(ns))"
   ]
  },
  {
   "cell_type": "markdown",
   "id": "329373a5",
   "metadata": {},
   "source": [
    "#### Slicing is Important"
   ]
  },
  {
   "cell_type": "markdown",
   "id": "66415d4a",
   "metadata": {},
   "source": [
    "### List Data Type\n",
    "\n",
    "    collection of valid python object\n",
    "    \n",
    "    multable \n",
    "    \n",
    "    ordered sequential\n",
    "    \n",
    "    homogenous (array) or hetrogenous\n",
    "    \n",
    "    \n",
    "    \n",
    "    "
   ]
  },
  {
   "cell_type": "code",
   "execution_count": 38,
   "id": "7f6fb2c9",
   "metadata": {},
   "outputs": [],
   "source": [
    "# array of string\n",
    "# homogenous list \n",
    "#           -7      -6      -5        -4        -3       -2         -1\n",
    "names = [\"vijay\", \"sam\", \"neeraj\", \"rupali\", \"sakshi\", \"tanvi\", \"sarthak\"]\n",
    "#           0        1        2       3         4         5         6"
   ]
  },
  {
   "cell_type": "code",
   "execution_count": 39,
   "id": "4ce05052",
   "metadata": {},
   "outputs": [
    {
     "name": "stdout",
     "output_type": "stream",
     "text": [
      "rupali\n"
     ]
    }
   ],
   "source": [
    "n = names[3]\n",
    "print(n) # ? string -> \"rupali\""
   ]
  },
  {
   "cell_type": "code",
   "execution_count": 40,
   "id": "dc0ee6ca",
   "metadata": {},
   "outputs": [
    {
     "name": "stdout",
     "output_type": "stream",
     "text": [
      "['vijay', 'neeraj', 'sakshi', 'sarthak']\n"
     ]
    }
   ],
   "source": [
    "n = names[::2] # ?  \n",
    "print(n) # [\"vijay\", \"neeraj\", \"sakshi\", \"sarthak\"]"
   ]
  },
  {
   "cell_type": "code",
   "execution_count": 41,
   "id": "d28a99c7",
   "metadata": {},
   "outputs": [
    {
     "name": "stdout",
     "output_type": "stream",
     "text": [
      "['vijay', 'sam', 'neeraj', 'rupali', 'sakshi', 'tanvi', 'sarthak']\n"
     ]
    }
   ],
   "source": [
    "print(names)"
   ]
  },
  {
   "cell_type": "code",
   "execution_count": 42,
   "id": "27ed6d62",
   "metadata": {},
   "outputs": [],
   "source": [
    "new_names = names[::-1]"
   ]
  },
  {
   "cell_type": "code",
   "execution_count": 43,
   "id": "3a3f7760",
   "metadata": {},
   "outputs": [
    {
     "name": "stdout",
     "output_type": "stream",
     "text": [
      "['sarthak', 'tanvi', 'sakshi', 'rupali', 'neeraj', 'sam', 'vijay']\n"
     ]
    }
   ],
   "source": [
    "print(new_names)"
   ]
  },
  {
   "cell_type": "code",
   "execution_count": 44,
   "id": "39ca8c3d",
   "metadata": {},
   "outputs": [
    {
     "name": "stdout",
     "output_type": "stream",
     "text": [
      "['vijay', 'sam', 'neeraj', 'rupali', 'sakshi', 'tanvi', 'sarthak']\n"
     ]
    }
   ],
   "source": [
    "print(names)"
   ]
  },
  {
   "cell_type": "code",
   "execution_count": 45,
   "id": "af03aa46",
   "metadata": {},
   "outputs": [
    {
     "name": "stdout",
     "output_type": "stream",
     "text": [
      "['vijay', 'sam', 'neeraj']\n"
     ]
    }
   ],
   "source": [
    "first_3 = names[:3]\n",
    "print(first_3)"
   ]
  },
  {
   "cell_type": "code",
   "execution_count": 46,
   "id": "9e540ff9",
   "metadata": {},
   "outputs": [
    {
     "name": "stdout",
     "output_type": "stream",
     "text": [
      "['sakshi', 'tanvi', 'sarthak']\n"
     ]
    }
   ],
   "source": [
    "last_3 = names[-3:]\n",
    "print(last_3)"
   ]
  },
  {
   "cell_type": "markdown",
   "id": "5d46591a",
   "metadata": {},
   "source": [
    "### List & Dictionary"
   ]
  },
  {
   "cell_type": "code",
   "execution_count": null,
   "id": "536ce079",
   "metadata": {},
   "outputs": [],
   "source": []
  }
 ],
 "metadata": {
  "kernelspec": {
   "display_name": "Python 3 (ipykernel)",
   "language": "python",
   "name": "python3"
  },
  "language_info": {
   "codemirror_mode": {
    "name": "ipython",
    "version": 3
   },
   "file_extension": ".py",
   "mimetype": "text/x-python",
   "name": "python",
   "nbconvert_exporter": "python",
   "pygments_lexer": "ipython3",
   "version": "3.9.12"
  }
 },
 "nbformat": 4,
 "nbformat_minor": 5
}

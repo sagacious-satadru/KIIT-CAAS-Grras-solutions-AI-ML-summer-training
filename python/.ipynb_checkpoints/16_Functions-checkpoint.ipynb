{
 "cells": [
  {
   "cell_type": "markdown",
   "id": "e3d83e7f",
   "metadata": {},
   "source": [
    "    POC (Proof Of Concept)\n",
    "    \n",
    "        Structure of Code -> System Design, Programming Models\n",
    "        \n",
    "        1-2 month\n",
    "        "
   ]
  },
  {
   "cell_type": "markdown",
   "id": "354c4eb6",
   "metadata": {},
   "source": [
    "    Bank Application\n",
    "    \n",
    "        Signup\n",
    "                                Debit, Credit, Update Password, Credit Card, Block Cards, ... \n",
    "        Cutomer Login\n",
    "        \n",
    "        Admin Login\n",
    "        "
   ]
  },
  {
   "cell_type": "code",
   "execution_count": null,
   "id": "0d937798",
   "metadata": {},
   "outputs": [],
   "source": []
  },
  {
   "cell_type": "markdown",
   "id": "a749fafe",
   "metadata": {},
   "source": [
    "    Built-in Function print, input, sum, min, max, any, all, list, int, ...\n",
    "    \n",
    "        define function -> storing group of statement for later use\n",
    "        \n",
    "        calling function -> whenever we need to execute a function\n",
    "        "
   ]
  },
  {
   "cell_type": "markdown",
   "id": "807d7943",
   "metadata": {},
   "source": [
    "In order to make a function really resulable do not use any `print` or `input` function inside function define"
   ]
  },
  {
   "cell_type": "markdown",
   "id": "5dd557e9",
   "metadata": {},
   "source": [
    "    print -> return value from function\n",
    "    \n",
    "    input -> pass data using argument in function"
   ]
  },
  {
   "cell_type": "code",
   "execution_count": 2,
   "id": "e50897ca",
   "metadata": {},
   "outputs": [],
   "source": [
    "def prime(num):\n",
    "    \"\"\"\n",
    "        print whether num is prime or not\n",
    "    \"\"\"\n",
    "    if num <= 1:\n",
    "        print(f\"{num} is not prime!\")\n",
    "    elif num <= 3:\n",
    "        print(f\"{num} is prime!\")\n",
    "    elif num % 2 == 0:\n",
    "        print(f\"{num} is not prime!\")\n",
    "    else:\n",
    "        for check in range(3, num//2, 2):\n",
    "            if num % check == 0:\n",
    "                print(f\"{num} is not prime!\")\n",
    "                break\n",
    "        else:\n",
    "            print(f\"{num} is prime!\")"
   ]
  },
  {
   "cell_type": "code",
   "execution_count": 3,
   "id": "e20690fb",
   "metadata": {},
   "outputs": [
    {
     "name": "stdout",
     "output_type": "stream",
     "text": [
      "121 is not prime!\n"
     ]
    }
   ],
   "source": [
    "prime(121)"
   ]
  },
  {
   "cell_type": "code",
   "execution_count": 4,
   "id": "63900bc7",
   "metadata": {},
   "outputs": [
    {
     "name": "stdout",
     "output_type": "stream",
     "text": [
      "127 is prime!\n"
     ]
    }
   ],
   "source": [
    "prime(127)"
   ]
  },
  {
   "cell_type": "code",
   "execution_count": 11,
   "id": "12f5c56c",
   "metadata": {},
   "outputs": [
    {
     "name": "stdout",
     "output_type": "stream",
     "text": [
      "47\n"
     ]
    }
   ],
   "source": [
    "import random\n",
    "print(random.randint(1, 50))"
   ]
  },
  {
   "cell_type": "markdown",
   "id": "42f3208a",
   "metadata": {},
   "source": [
    "`List Comprenshions`"
   ]
  },
  {
   "cell_type": "code",
   "execution_count": 17,
   "id": "d7ea2a3c",
   "metadata": {},
   "outputs": [
    {
     "name": "stdout",
     "output_type": "stream",
     "text": [
      "[30, 42, 21, 34, 13, 6, 21, 45, 13, 3]\n",
      "30 is not prime!\n",
      "42 is not prime!\n",
      "21 is not prime!\n",
      "34 is not prime!\n",
      "13 is prime!\n",
      "6 is not prime!\n",
      "21 is not prime!\n",
      "45 is not prime!\n",
      "13 is prime!\n",
      "3 is prime!\n"
     ]
    }
   ],
   "source": [
    "num = [random.randint(1, 50) for _ in range(10)]\n",
    "print(num)\n",
    "for n in num:\n",
    "    prime(n)"
   ]
  },
  {
   "cell_type": "code",
   "execution_count": 16,
   "id": "421b0ce5",
   "metadata": {},
   "outputs": [
    {
     "name": "stdout",
     "output_type": "stream",
     "text": [
      "4 is not prime!\n",
      "32 is not prime!\n",
      "10 is not prime!\n",
      "33 is not prime!\n",
      "9 is not prime!\n",
      "44 is not prime!\n",
      "22 is not prime!\n",
      "45 is not prime!\n",
      "48 is not prime!\n",
      "24 is not prime!\n"
     ]
    }
   ],
   "source": []
  },
  {
   "cell_type": "markdown",
   "id": "a37ce64d",
   "metadata": {},
   "source": [
    "Syntax of function\n",
    "\n",
    "    function defination \n",
    "        # arguments/parameters used in function defination are known as formal arguments\n",
    "        def func_name(arg1, arg2, ...):\n",
    "            \"\"\"\n",
    "                documentation of function\n",
    "            \"\"\"\n",
    "            st-1\n",
    "            st-2\n",
    "            st-3\n",
    "            ...\n",
    "            st-n\n",
    "            return value\n",
    "            \n",
    "    function calling \n",
    "    \n",
    "        # argumetns/parameters we use during function calling are known as actual arguments\n",
    "        result = func_name(para-1, para-2, ...)"
   ]
  },
  {
   "cell_type": "code",
   "execution_count": 20,
   "id": "85bd3d93",
   "metadata": {},
   "outputs": [],
   "source": [
    "def hello(name):\n",
    "    \"\"\"\n",
    "        greets user with a welcome message\n",
    "    \"\"\"\n",
    "    print(f\"Hello user {name}, Welcome to the world of functions.\")"
   ]
  },
  {
   "cell_type": "code",
   "execution_count": 21,
   "id": "94aeed2f",
   "metadata": {},
   "outputs": [
    {
     "name": "stdout",
     "output_type": "stream",
     "text": [
      "Hello user sachin, Welcome to the world of functions.\n"
     ]
    }
   ],
   "source": [
    "hello('sachin')"
   ]
  },
  {
   "cell_type": "code",
   "execution_count": 22,
   "id": "71aa814d",
   "metadata": {},
   "outputs": [
    {
     "name": "stdout",
     "output_type": "stream",
     "text": [
      "Hello user python, Welcome to the world of functions.\n"
     ]
    }
   ],
   "source": [
    "hello('python')"
   ]
  },
  {
   "cell_type": "code",
   "execution_count": 23,
   "id": "adbfd72a",
   "metadata": {},
   "outputs": [
    {
     "name": "stdout",
     "output_type": "stream",
     "text": [
      "name:rajat goyal\n",
      "Hello user rajat goyal, Welcome to the world of functions.\n"
     ]
    }
   ],
   "source": [
    "hello(input('name:'))"
   ]
  },
  {
   "cell_type": "code",
   "execution_count": null,
   "id": "ccc8722b",
   "metadata": {},
   "outputs": [],
   "source": []
  },
  {
   "cell_type": "markdown",
   "id": "1925ccb7",
   "metadata": {},
   "source": [
    "`What is a function ?`\n"
   ]
  },
  {
   "cell_type": "markdown",
   "id": "f7162e6a",
   "metadata": {},
   "source": [
    "    function is group of statements to perform a specific task\n",
    "    \n",
    "    function is smallest independent part of a program "
   ]
  },
  {
   "cell_type": "markdown",
   "id": "4056997f",
   "metadata": {},
   "source": [
    "`why one should use functions?`\n",
    "\n",
    "`write down some properties of functions?`\n",
    "\n",
    "`what are the benifits of using functions?`"
   ]
  },
  {
   "cell_type": "markdown",
   "id": "24ca2548",
   "metadata": {},
   "source": [
    "Benifits of Using Functions\n",
    "\n",
    "    function provides abstraction\n",
    "    \n",
    "    1. Code Reusability\n",
    "    2. Improve Code Readablity\n",
    "    3. Easy Code Debugging\n",
    "    4. Modular Programming\n",
    "    5. Scoping and Recursion\n",
    "    "
   ]
  },
  {
   "cell_type": "code",
   "execution_count": 24,
   "id": "8a52e89f",
   "metadata": {},
   "outputs": [],
   "source": [
    "x = [ 1, 2, 3, 4, 5, 6]\n",
    "y = [ 6, 7, 5, 8, 3, 9]"
   ]
  },
  {
   "cell_type": "markdown",
   "id": "1b15f06b",
   "metadata": {},
   "source": [
    "    find library -> plots -> matplotlib, seaborn, plotly, dash"
   ]
  },
  {
   "cell_type": "code",
   "execution_count": null,
   "id": "0d41fd91",
   "metadata": {},
   "outputs": [],
   "source": [
    "import random # standard lib\n",
    "import time\n",
    "import datetime\n",
    "import math\n",
    "import turtle\n",
    "# ..."
   ]
  },
  {
   "cell_type": "code",
   "execution_count": null,
   "id": "174b9f2c",
   "metadata": {},
   "outputs": [],
   "source": []
  },
  {
   "cell_type": "markdown",
   "id": "73440dfd",
   "metadata": {},
   "source": [
    "    Standard Library          it is included with language\n",
    "\n",
    "    Third Party Library       developed by open source developer / compaines, we need to install them\n",
    "    \n",
    "                              pypi.org -> python package index\n",
    "                              \n",
    "                              Python Package Installer\n",
    "                              \n",
    "                              pip install package_name"
   ]
  },
  {
   "cell_type": "code",
   "execution_count": 26,
   "id": "e45b8ebf",
   "metadata": {
    "collapsed": true
   },
   "outputs": [
    {
     "name": "stdout",
     "output_type": "stream",
     "text": [
      "Defaulting to user installation because normal site-packages is not writeable\n",
      "Requirement already satisfied: matplotlib in c:\\users\\sachin\\appdata\\roaming\\python\\python39\\site-packages (3.5.2)\n",
      "Requirement already satisfied: pillow>=6.2.0 in c:\\anaconda3\\lib\\site-packages (from matplotlib) (9.0.1)\n",
      "Requirement already satisfied: fonttools>=4.22.0 in c:\\anaconda3\\lib\\site-packages (from matplotlib) (4.25.0)\n",
      "Requirement already satisfied: packaging>=20.0 in c:\\anaconda3\\lib\\site-packages (from matplotlib) (21.3)\n",
      "Requirement already satisfied: cycler>=0.10 in c:\\anaconda3\\lib\\site-packages (from matplotlib) (0.11.0)\n",
      "Requirement already satisfied: python-dateutil>=2.7 in c:\\anaconda3\\lib\\site-packages (from matplotlib) (2.8.2)\n",
      "Requirement already satisfied: numpy>=1.17 in c:\\anaconda3\\lib\\site-packages (from matplotlib) (1.21.5)\n",
      "Requirement already satisfied: pyparsing>=2.2.1 in c:\\anaconda3\\lib\\site-packages (from matplotlib) (3.0.4)\n",
      "Requirement already satisfied: kiwisolver>=1.0.1 in c:\\anaconda3\\lib\\site-packages (from matplotlib) (1.3.2)\n",
      "Requirement already satisfied: six>=1.5 in c:\\anaconda3\\lib\\site-packages (from python-dateutil>=2.7->matplotlib) (1.16.0)\n",
      "Note: you may need to restart the kernel to use updated packages.\n"
     ]
    }
   ],
   "source": [
    "pip install matplotlib --upgrade"
   ]
  },
  {
   "cell_type": "markdown",
   "id": "a1547b6b",
   "metadata": {},
   "source": []
  },
  {
   "cell_type": "code",
   "execution_count": 27,
   "id": "d18ec34a",
   "metadata": {},
   "outputs": [],
   "source": [
    "x = [ 1, 2, 3, 4, 5, 6]\n",
    "y = [ 6, 7, 5, 8, 3, 9]"
   ]
  },
  {
   "cell_type": "code",
   "execution_count": 28,
   "id": "1cee80dc",
   "metadata": {},
   "outputs": [],
   "source": [
    "import matplotlib.pyplot as plt"
   ]
  },
  {
   "cell_type": "code",
   "execution_count": 29,
   "id": "8307f5d2",
   "metadata": {},
   "outputs": [
    {
     "data": {
      "image/png": "[encoded data removed]",
      "text/plain": [
       "<Figure size 432x288 with 1 Axes>"
      ]
     },
     "metadata": {
      "needs_background": "light"
     },
     "output_type": "display_data"
    }
   ],
   "source": [
    "plt.plot(x, y, 'r--s')\n",
    "plt.show()"
   ]
  },
  {
   "cell_type": "code",
   "execution_count": 30,
   "id": "74f156a5",
   "metadata": {},
   "outputs": [],
   "source": [
    "import builtins"
   ]
  },
  {
   "cell_type": "code",
   "execution_count": 34,
   "id": "e852e9ee",
   "metadata": {},
   "outputs": [
    {
     "name": "stdout",
     "output_type": "stream",
     "text": [
      "abs, all, any, ascii, bin, bool, breakpoint, bytearray, bytes, callable, chr, classmethod, compile, complex, copyright, credits, delattr, dict, dir, display, divmod, enumerate, eval, exec, execfile, filter, float, format, frozenset, get_ipython, getattr, globals, hasattr, hash, help, hex, id, input, int, isinstance, issubclass, iter, len, license, list, locals, map, max, memoryview, min, next, object, oct, open, ord, pow, print, property, range, repr, reversed, round, runfile, set, setattr, slice, sorted, staticmethod, str, sum, super, tuple, type, vars, zip\n"
     ]
    }
   ],
   "source": [
    "print(*[f for f in dir(builtins) if f[0].islower()], sep=\", \")"
   ]
  },
  {
   "cell_type": "markdown",
   "id": "f9d41530",
   "metadata": {},
   "source": [
    "    Built-in Function\n",
    "    \n",
    "        print, input, sum, min, max, any, all, ...\n",
    "        \n",
    "    Moudule / Library Functions\n",
    "    \n",
    "        random.randint, plt.plot, time.sleep\n",
    "        \n",
    "    User Defined Functions\n",
    "    \n",
    "        user can create a function according to his needs"
   ]
  },
  {
   "cell_type": "code",
   "execution_count": 35,
   "id": "b33b7ed1",
   "metadata": {},
   "outputs": [],
   "source": [
    "def func():\n",
    "    print(\"function is function\")"
   ]
  },
  {
   "cell_type": "code",
   "execution_count": 36,
   "id": "16e6539b",
   "metadata": {},
   "outputs": [
    {
     "name": "stdout",
     "output_type": "stream",
     "text": [
      "function is function\n"
     ]
    }
   ],
   "source": [
    "func()"
   ]
  },
  {
   "cell_type": "markdown",
   "id": "8b0b1f33",
   "metadata": {},
   "source": [
    "    On the basis of Implementation 4 types of UDFs"
   ]
  },
  {
   "cell_type": "markdown",
   "id": "e9daee62",
   "metadata": {},
   "source": [
    "    argument -> input\n",
    "    return -> output"
   ]
  },
  {
   "cell_type": "markdown",
   "id": "8c4b899b",
   "metadata": {},
   "source": [
    "    1. without argument without return type\n",
    "    2. without argument with return type\n",
    "    3. with argument without return type\n",
    "    4. with argument with return type"
   ]
  },
  {
   "cell_type": "code",
   "execution_count": 37,
   "id": "6bbeaa55",
   "metadata": {},
   "outputs": [],
   "source": [
    "def author():\n",
    "    \"\"\"\n",
    "        type-1 - no argument no return value\n",
    "    \"\"\"\n",
    "    print(\"Name: Sachin Yadav\")\n",
    "    print(\"Email: sachinyadav3496@gmail.com\")\n",
    "    "
   ]
  },
  {
   "cell_type": "code",
   "execution_count": 38,
   "id": "3fb85181",
   "metadata": {},
   "outputs": [
    {
     "name": "stdout",
     "output_type": "stream",
     "text": [
      "Name: Sachin Yadav\n",
      "Email: sachinyadav3496@gmail.com\n"
     ]
    }
   ],
   "source": [
    "author()"
   ]
  },
  {
   "cell_type": "code",
   "execution_count": 39,
   "id": "f53edce6",
   "metadata": {},
   "outputs": [
    {
     "name": "stdout",
     "output_type": "stream",
     "text": [
      "Name: Sachin Yadav\n",
      "Email: sachinyadav3496@gmail.com\n"
     ]
    }
   ],
   "source": [
    "data = author()"
   ]
  },
  {
   "cell_type": "code",
   "execution_count": 40,
   "id": "7269baaa",
   "metadata": {},
   "outputs": [
    {
     "name": "stdout",
     "output_type": "stream",
     "text": [
      "None\n"
     ]
    }
   ],
   "source": [
    "print(data)"
   ]
  },
  {
   "cell_type": "code",
   "execution_count": 41,
   "id": "0794db93",
   "metadata": {},
   "outputs": [
    {
     "name": "stdout",
     "output_type": "stream",
     "text": [
      "Name: Sachin Yadav\n",
      "Email: sachinyadav3496@gmail.com\n"
     ]
    }
   ],
   "source": [
    "author()"
   ]
  },
  {
   "cell_type": "code",
   "execution_count": 42,
   "id": "1c91bcc5",
   "metadata": {},
   "outputs": [],
   "source": [
    "def pi():\n",
    "    \"\"\"\n",
    "        type-2 witout argument with return type\n",
    "        returns pi value\n",
    "    \"\"\"\n",
    "    return 22/7"
   ]
  },
  {
   "cell_type": "code",
   "execution_count": 43,
   "id": "4e8c981c",
   "metadata": {},
   "outputs": [
    {
     "name": "stdout",
     "output_type": "stream",
     "text": [
      "3.142857142857143\n"
     ]
    }
   ],
   "source": [
    "a = pi()\n",
    "print(a)"
   ]
  },
  {
   "cell_type": "code",
   "execution_count": 45,
   "id": "a88f4bd8",
   "metadata": {},
   "outputs": [],
   "source": [
    "from getpass import getpass"
   ]
  },
  {
   "cell_type": "code",
   "execution_count": 46,
   "id": "81e0e8e8",
   "metadata": {},
   "outputs": [
    {
     "name": "stdout",
     "output_type": "stream",
     "text": [
      "password: ········\n",
      "lkasjdfjslkdjfsdfijsldjf\n"
     ]
    }
   ],
   "source": [
    "pas = getpass(\"password: \")\n",
    "print(pas)"
   ]
  },
  {
   "cell_type": "code",
   "execution_count": 51,
   "id": "63d7a7c8",
   "metadata": {},
   "outputs": [],
   "source": [
    "from getpass import getpass\n",
    "def confirm_password():\n",
    "    \"\"\"\n",
    "        this function can be used to take password input and confirms it\n",
    "    \"\"\"\n",
    "    while True:\n",
    "        print(\"\\n\\n\")\n",
    "        password_1 = getpass(\"password: \")\n",
    "        password_2 = getpass(\"confirm password: \")\n",
    "        if password_1 == password_2:\n",
    "            break\n",
    "        else:\n",
    "            print(\"Warning: confirm password is not same as password, please try again\\n\")\n",
    "    return password_1"
   ]
  },
  {
   "cell_type": "code",
   "execution_count": 52,
   "id": "4cc43231",
   "metadata": {},
   "outputs": [
    {
     "name": "stdout",
     "output_type": "stream",
     "text": [
      "\n",
      "\n",
      "\n",
      "password: ········\n",
      "confirm password: ········\n",
      "Warning: confirm password is not same as password, please try again\n",
      "\n",
      "\n",
      "\n",
      "\n",
      "password: ········\n",
      "confirm password: ········\n"
     ]
    }
   ],
   "source": [
    "ps = confirm_password()"
   ]
  },
  {
   "cell_type": "code",
   "execution_count": 53,
   "id": "246a672f",
   "metadata": {},
   "outputs": [
    {
     "name": "stdout",
     "output_type": "stream",
     "text": [
      "abc\n"
     ]
    }
   ],
   "source": [
    "print(ps)"
   ]
  },
  {
   "cell_type": "markdown",
   "id": "b04eb852",
   "metadata": {},
   "source": [
    "### Type-3 functions\n",
    "\n",
    "    function with arugment but without return type"
   ]
  },
  {
   "cell_type": "code",
   "execution_count": 54,
   "id": "8ff33db6",
   "metadata": {},
   "outputs": [],
   "source": [
    "def hello(name):\n",
    "    \"\"\"\n",
    "        with argument and without return type\n",
    "    \"\"\"\n",
    "    print(f\"Hello {name}, you are awesome!\")"
   ]
  },
  {
   "cell_type": "code",
   "execution_count": 55,
   "id": "c8270610",
   "metadata": {},
   "outputs": [
    {
     "name": "stdout",
     "output_type": "stream",
     "text": [
      "Hello Ram, you are awesome!\n"
     ]
    }
   ],
   "source": [
    "hello(\"Ram\")"
   ]
  },
  {
   "cell_type": "code",
   "execution_count": 56,
   "id": "d55904a9",
   "metadata": {},
   "outputs": [
    {
     "name": "stdout",
     "output_type": "stream",
     "text": [
      "Hello shyam, you are awesome!\n"
     ]
    }
   ],
   "source": [
    "a = hello(\"shyam\")"
   ]
  },
  {
   "cell_type": "code",
   "execution_count": 57,
   "id": "837ff31d",
   "metadata": {},
   "outputs": [
    {
     "name": "stdout",
     "output_type": "stream",
     "text": [
      "None\n"
     ]
    }
   ],
   "source": [
    "print(a)"
   ]
  },
  {
   "cell_type": "code",
   "execution_count": 58,
   "id": "a4227502",
   "metadata": {},
   "outputs": [],
   "source": [
    "def add(x, y):\n",
    "    result = f\"\"\"\n",
    "        x  = {x}\n",
    "        y  = {y}\n",
    "     x + y = {x+y}   \n",
    "    \"\"\"\n",
    "    print(result)"
   ]
  },
  {
   "cell_type": "code",
   "execution_count": 59,
   "id": "ad2c769d",
   "metadata": {},
   "outputs": [
    {
     "name": "stdout",
     "output_type": "stream",
     "text": [
      "\n",
      "        x  = 1\n",
      "        y  = 2\n",
      "     x + y = 3   \n",
      "    \n"
     ]
    }
   ],
   "source": [
    "add(1, 2)"
   ]
  },
  {
   "cell_type": "code",
   "execution_count": 60,
   "id": "e0ee80b2",
   "metadata": {},
   "outputs": [
    {
     "name": "stdout",
     "output_type": "stream",
     "text": [
      "\n",
      "        x  = Hello \n",
      "        y  = World!\n",
      "     x + y = Hello World!   \n",
      "    \n"
     ]
    }
   ],
   "source": [
    "add(\"Hello \", \"World!\")"
   ]
  },
  {
   "cell_type": "markdown",
   "id": "0e689c8c",
   "metadata": {},
   "source": [
    "Type-4: \n",
    "    \n",
    "    With Arugemnt With Return Type"
   ]
  },
  {
   "cell_type": "code",
   "execution_count": 61,
   "id": "b9282558",
   "metadata": {},
   "outputs": [],
   "source": [
    "def sq_add(x, y):\n",
    "    return x**2+y**2"
   ]
  },
  {
   "cell_type": "code",
   "execution_count": 62,
   "id": "89f9d075",
   "metadata": {},
   "outputs": [
    {
     "name": "stdout",
     "output_type": "stream",
     "text": [
      "5\n"
     ]
    }
   ],
   "source": [
    "r = sq_add(1, 2)\n",
    "print(r)"
   ]
  },
  {
   "cell_type": "code",
   "execution_count": 63,
   "id": "87e4cc36",
   "metadata": {},
   "outputs": [],
   "source": [
    "a = [ 1, 2, 3, 4, 5]\n",
    "b = [ 3, 2, 4, 1, 5]"
   ]
  },
  {
   "cell_type": "code",
   "execution_count": 67,
   "id": "d9cc9ffc",
   "metadata": {},
   "outputs": [],
   "source": [
    "c = [  sq_add(i1, i2) for i1, i2 in zip(a, b) ]"
   ]
  },
  {
   "cell_type": "code",
   "execution_count": 68,
   "id": "d31a444a",
   "metadata": {},
   "outputs": [
    {
     "name": "stdout",
     "output_type": "stream",
     "text": [
      "[10, 8, 25, 17, 50]\n"
     ]
    }
   ],
   "source": [
    "print(c)"
   ]
  },
  {
   "cell_type": "code",
   "execution_count": 71,
   "id": "31c2d16f",
   "metadata": {},
   "outputs": [],
   "source": [
    "def is_prime(num: int)->int:\n",
    "    \"\"\"\n",
    "        return True if num is prime else False\n",
    "    \n",
    "    >>>prime(121)\n",
    "    False\n",
    "    >>>prime(127)\n",
    "    True\n",
    "    \"\"\"\n",
    "    if num <= 1:\n",
    "        return False\n",
    "    elif num <= 3:\n",
    "        return True\n",
    "    elif num % 2 == 0:\n",
    "        return False\n",
    "    else:\n",
    "        for c in range(3, num//2, 2):\n",
    "            if num % c == 0:\n",
    "                return False\n",
    "    return True\n",
    "    "
   ]
  },
  {
   "cell_type": "code",
   "execution_count": 72,
   "id": "0ddfab54",
   "metadata": {},
   "outputs": [
    {
     "name": "stdout",
     "output_type": "stream",
     "text": [
      "Help on function is_prime in module __main__:\n",
      "\n",
      "is_prime(num: int) -> int\n",
      "        return True if num is prime else False\n",
      "    \n",
      "    >>>prime(121)\n",
      "    False\n",
      "    >>>prime(127)\n",
      "    True\n",
      "\n"
     ]
    }
   ],
   "source": [
    "help(is_prime)"
   ]
  },
  {
   "cell_type": "code",
   "execution_count": 74,
   "id": "56628f4d",
   "metadata": {},
   "outputs": [
    {
     "name": "stdout",
     "output_type": "stream",
     "text": [
      "number: 127\n",
      "Given number 127 is prime.\n"
     ]
    }
   ],
   "source": [
    "num = int(input(\"number: \"))\n",
    "\n",
    "if is_prime(num):\n",
    "    print(f\"Given number {num} is prime.\")\n",
    "else:\n",
    "    print(f\"Given number {num} is not prime.\")"
   ]
  },
  {
   "cell_type": "code",
   "execution_count": 75,
   "id": "554a62b4",
   "metadata": {},
   "outputs": [],
   "source": [
    "def prime_range(start, end):\n",
    "    count = 0\n",
    "    for num in range(start, end+1):\n",
    "        if is_prime(num):\n",
    "            count+=1\n",
    "            print(num, end=', ')\n",
    "    print(f\"\\nTotal number of primes in ragne({start} , {end}): {count}\")"
   ]
  },
  {
   "cell_type": "code",
   "execution_count": 78,
   "id": "32cd4f11",
   "metadata": {},
   "outputs": [
    {
     "name": "stdout",
     "output_type": "stream",
     "text": [
      "2, 3, 5, 7, 11, 13, 17, 19, 23, 29, 31, 37, 41, 43, 47, 53, 59, 61, 67, 71, 73, 79, 83, 89, 97, 101, 103, 107, 109, 113, 127, 131, 137, 139, 149, 151, 157, 163, 167, 173, 179, 181, 191, 193, 197, 199, 211, 223, 227, 229, 233, 239, 241, 251, 257, 263, 269, 271, 277, 281, 283, 293, 307, 311, 313, 317, 331, 337, 347, 349, 353, 359, 367, 373, 379, 383, 389, 397, 401, 409, 419, 421, 431, 433, 439, 443, 449, 457, 461, 463, 467, 479, 487, 491, 499, 503, 509, 521, 523, 541, 547, 557, 563, 569, 571, 577, 587, 593, 599, 601, 607, 613, 617, 619, 631, 641, 643, 647, 653, 659, 661, 673, 677, 683, 691, 701, 709, 719, 727, 733, 739, 743, 751, 757, 761, 769, 773, 787, 797, 809, 811, 821, 823, 827, 829, 839, 853, 857, 859, 863, 877, 881, 883, 887, 907, 911, 919, 929, 937, 941, 947, 953, 967, 971, 977, 983, 991, 997, \n",
      "Total number of primes in ragne(1 , 1000): 168\n"
     ]
    }
   ],
   "source": [
    "prime_range(1, 1000)"
   ]
  },
  {
   "cell_type": "code",
   "execution_count": null,
   "id": "3d01d428",
   "metadata": {},
   "outputs": [],
   "source": []
  }
 ],
 "metadata": {
  "kernelspec": {
   "display_name": "Python 3 (ipykernel)",
   "language": "python",
   "name": "python3"
  },
  "language_info": {
   "codemirror_mode": {
    "name": "ipython",
    "version": 3
   },
   "file_extension": ".py",
   "mimetype": "text/x-python",
   "name": "python",
   "nbconvert_exporter": "python",
   "pygments_lexer": "ipython3",
   "version": "3.9.12"
  }
 },
 "nbformat": 4,
 "nbformat_minor": 5
}

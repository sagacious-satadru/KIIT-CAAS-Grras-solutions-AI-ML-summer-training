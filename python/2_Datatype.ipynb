{
 "cells": [
  {
   "cell_type": "markdown",
   "id": "a62a9509",
   "metadata": {},
   "source": [
    "Write a Python Script which take input as product price, discount percentage as float, and prints Discounted Price of the product, final price of the product after adding 28% GST tax.\n",
    "\n",
    "\n",
    "Input Format:\n",
    "\n",
    " First line of input is Product Price\n",
    "\n",
    " Second Line of Input is Discount on product (b/w 0-1)\n",
    "\n",
    "Output Format:\n",
    "\n",
    " Discounted Price of Product in First Line\n",
    "\n",
    " Final Bill Amount in Second Line\n",
    "\n",
    "Example: \n",
    "\n",
    " Input:\n",
    "\n",
    "Price of Product: 2000\n",
    "\n",
    " Discount % : 0.5\n",
    "\n",
    " Output:\n",
    "\n",
    "Discount Price is 1000 rupees\n",
    "\n",
    " Total Bill Amount is 1280 rupees\n",
    "\n",
    " Explanation:\n",
    "\n",
    "Product price is 2000 and discount is 0.5 means 50%\n",
    "\n",
    "So after discount applied the price of product will become 1000 rupees hence first line of output will be 1000, and now if we add 28 % GST on discounted price that will be equal to 280 rupees (280 is 28% of 1000) so the final price will be 1000+280 hence second line output will be 1280."
   ]
  },
  {
   "cell_type": "code",
   "execution_count": 1,
   "id": "113bd98f",
   "metadata": {},
   "outputs": [
    {
     "data": {
      "text/plain": [
       "400.0"
      ]
     },
     "execution_count": 1,
     "metadata": {},
     "output_type": "execute_result"
    }
   ],
   "source": [
    "(2000 * 0.2)"
   ]
  },
  {
   "cell_type": "code",
   "execution_count": 4,
   "id": "5beff5ed",
   "metadata": {},
   "outputs": [],
   "source": [
    "f = 3.1498374374374832"
   ]
  },
  {
   "cell_type": "code",
   "execution_count": 6,
   "id": "f8405d6b",
   "metadata": {},
   "outputs": [
    {
     "name": "stdout",
     "output_type": "stream",
     "text": [
      "x = 3.15\n"
     ]
    }
   ],
   "source": [
    "print(f\"x = {f:.2f}\")"
   ]
  },
  {
   "cell_type": "code",
   "execution_count": null,
   "id": "f3fb4816",
   "metadata": {},
   "outputs": [],
   "source": [
    "128 -> 100 + 28%"
   ]
  },
  {
   "cell_type": "code",
   "execution_count": 11,
   "id": "b2b86e00",
   "metadata": {},
   "outputs": [
    {
     "data": {
      "text/plain": [
       "128.0"
      ]
     },
     "execution_count": 11,
     "metadata": {},
     "output_type": "execute_result"
    }
   ],
   "source": [
    "100 * 1.28"
   ]
  },
  {
   "cell_type": "code",
   "execution_count": 27,
   "id": "9abf1831",
   "metadata": {},
   "outputs": [
    {
     "name": "stdout",
     "output_type": "stream",
     "text": [
      "Hello        sachin       , how are you ?\n",
      "Hello yadvendra singh     , how are you ?\n",
      "Hello yadvendra kumar singh ajmera, how are you ?\n"
     ]
    }
   ],
   "source": [
    "name = \"sachin\"\n",
    "\n",
    "print(f\"Hello {name:^20}, how are you ?\")\n",
    "name = \"yadvendra singh\"\n",
    "print(f\"Hello {name:20}, how are you ?\")\n",
    "\n",
    "name = \"yadvendra kumar singh ajmera\"\n",
    "print(f\"Hello {name:20}, how are you ?\")"
   ]
  },
  {
   "cell_type": "code",
   "execution_count": 18,
   "id": "cc4f1700",
   "metadata": {},
   "outputs": [
    {
     "name": "stdout",
     "output_type": "stream",
     "text": [
      "123.1298988 = 123.13\n"
     ]
    }
   ],
   "source": [
    "x = 123.1298988\n",
    "\n",
    "print(f\"{x} = {x:.2f}\")"
   ]
  },
  {
   "cell_type": "code",
   "execution_count": null,
   "id": "e701f249",
   "metadata": {},
   "outputs": [],
   "source": []
  },
  {
   "cell_type": "code",
   "execution_count": null,
   "id": "11d20158",
   "metadata": {},
   "outputs": [],
   "source": [
    "variables:properties"
   ]
  },
  {
   "cell_type": "code",
   "execution_count": 13,
   "id": "7140c14d",
   "metadata": {},
   "outputs": [
    {
     "name": "stdout",
     "output_type": "stream",
     "text": [
      "Enter Price :2000\n",
      "Discount % [0-1]: 0.50\n",
      "Discounted Price: 1000.00 ₹\n",
      "Total Amount: 1280.00 ₹\n"
     ]
    }
   ],
   "source": [
    "price = float(input(\"Enter Price :\"))\n",
    "dis_per = float(input(\"Discount % [0-1]: \"))\n",
    "\n",
    "discount = price * dis_per\n",
    "dis_price = price - discount\n",
    "\n",
    "total_bill = dis_price*1.28\n",
    "\n",
    "print(f\"Discounted Price: {dis_price:.2f} \\u20B9\")\n",
    "print(f\"Total Amount: {total_bill:.2f} \\u20B9\")"
   ]
  },
  {
   "cell_type": "code",
   "execution_count": 29,
   "id": "a7666b4d",
   "metadata": {},
   "outputs": [
    {
     "name": "stdout",
     "output_type": "stream",
     "text": [
      "10\n"
     ]
    }
   ],
   "source": [
    "x = 10;\n",
    "print(x)"
   ]
  },
  {
   "cell_type": "markdown",
   "id": "e823a6b1",
   "metadata": {},
   "source": [
    "    variable and object "
   ]
  },
  {
   "cell_type": "code",
   "execution_count": 30,
   "id": "cf7443ef",
   "metadata": {},
   "outputs": [
    {
     "name": "stdout",
     "output_type": "stream",
     "text": [
      "x = 10\n"
     ]
    }
   ],
   "source": [
    "x = 10; # x is refrence of an integer instance\n",
    "\n",
    "print(f\"x = {x}\")"
   ]
  },
  {
   "cell_type": "markdown",
   "id": "76fcf3d9",
   "metadata": {},
   "source": [
    "    int x,y,z;\n",
    "\n",
    "    x = 4.5;\n",
    "    \n",
    "    arr = [ ]\n",
    "    \n",
    "    \n",
    "    struct ? -> module -> dieffrent types \n",
    "    \n",
    "    "
   ]
  },
  {
   "cell_type": "markdown",
   "id": "d59e1b15",
   "metadata": {},
   "source": [
    "### Everything is object in Python!"
   ]
  },
  {
   "cell_type": "code",
   "execution_count": 31,
   "id": "cdadf491",
   "metadata": {},
   "outputs": [],
   "source": [
    "a = [ 1, 2, 3, 4]"
   ]
  },
  {
   "cell_type": "markdown",
   "id": "d37c1a5f",
   "metadata": {},
   "source": [
    "                            screen\n",
    "    \n",
    "    laptop -> object ->      keyboard\n",
    "    \n",
    "                             portability\n",
    "                             \n",
    "                             ?\n",
    "    "
   ]
  },
  {
   "cell_type": "code",
   "execution_count": null,
   "id": "931e213c",
   "metadata": {},
   "outputs": [],
   "source": []
  },
  {
   "cell_type": "markdown",
   "id": "71e7f49c",
   "metadata": {},
   "source": [
    "    class\n",
    "    \n",
    "        class tells us about the category of an object\n",
    "        collection of data members (objects) and member functions (behaviour of an object)\n",
    "        \n",
    "    object\n",
    "    \n",
    "        collection of attributes which can define a real time entity\n",
    "        \n",
    "        objects are also known as data members"
   ]
  },
  {
   "cell_type": "markdown",
   "id": "88ea3021",
   "metadata": {},
   "source": [
    "    data -> object\n",
    "\n",
    "    process data -> methods -> class"
   ]
  },
  {
   "cell_type": "markdown",
   "id": "9d35c796",
   "metadata": {},
   "source": [
    "    class\n",
    "        \n",
    "        collection of methods (functions)\n",
    "        \n",
    "    object\n",
    "    \n",
    "        collection of attributes"
   ]
  },
  {
   "cell_type": "markdown",
   "id": "c65be8cf",
   "metadata": {},
   "source": [
    "    classes are used to create secondary data types"
   ]
  },
  {
   "cell_type": "code",
   "execution_count": 32,
   "id": "8cce1771",
   "metadata": {},
   "outputs": [],
   "source": [
    "arr = [ 1, 2, 3 , 4]\n",
    "\n",
    "#    \"  1    2     3     4                       \""
   ]
  },
  {
   "cell_type": "markdown",
   "id": "20157c04",
   "metadata": {},
   "source": [
    "    \n",
    "                    O(1)   Array\n",
    "    \n",
    "    random access    [10, 50, 60, 30, 70, 30, 80]\n",
    "    \n",
    "                    O(n)   Linked List\n",
    "    "
   ]
  },
  {
   "cell_type": "markdown",
   "id": "ee75f3fc",
   "metadata": {},
   "source": [
    "### Data Type \n",
    "\n",
    "       It tells us how data is going to be stored and processed inside a computer memory\n",
    "       \n",
    "       1. Representation in Memory / Structure - (size)\n",
    "       \n",
    "           how information is going to be stored in computer memory\n",
    "           \n",
    "       2. Operations on data\n",
    "           \n",
    "           access, update, delete, insert, sort, replace, search\n",
    "           "
   ]
  },
  {
   "cell_type": "markdown",
   "id": "742d1970",
   "metadata": {},
   "source": [
    "    Every Data Type in Python is an instance of Data Class"
   ]
  },
  {
   "cell_type": "code",
   "execution_count": 33,
   "id": "8e313984",
   "metadata": {},
   "outputs": [],
   "source": [
    "x = 10\n",
    "# x is a refrence to an integer object"
   ]
  },
  {
   "cell_type": "markdown",
   "id": "cc127985",
   "metadata": {},
   "source": [
    "#### Built-in Data Types in Python\n",
    "\n",
    "    1. Numbers\n",
    "    \n",
    "        int, float, complex\n",
    "        \n",
    "    2. String\n",
    "    \n",
    "        single or multiline strings\n",
    "        \n",
    "    3. List\n",
    "    \n",
    "        collections of items - homogenous or hetrgenous\n",
    "        \n",
    "    4. Tuple\n",
    "    \n",
    "        immutable list\n",
    "        \n",
    "    5. Dictionaries\n",
    "    \n",
    "        map-type, collecgiton key-value pairs\n",
    "        \n",
    "    6. Set\n",
    "    \n",
    "        map-type, collection unique immutable values\n",
    "        \n",
    "    7. Frozen Set\n",
    "        \n",
    "        imuutable set\n",
    "        \n",
    "    8. None Types\n",
    "        \n",
    "        use to represent nothing / null in python\n",
    "        \n",
    "    9. Boolean Types\n",
    "    \n",
    "        False, True"
   ]
  },
  {
   "cell_type": "markdown",
   "id": "7c6beb6c",
   "metadata": {},
   "source": [
    "#### Numbers"
   ]
  },
  {
   "cell_type": "code",
   "execution_count": 40,
   "id": "2e69b2cf",
   "metadata": {},
   "outputs": [
    {
     "name": "stdout",
     "output_type": "stream",
     "text": [
      "5\n",
      "5\n",
      "\n"
     ]
    }
   ],
   "source": [
    "print(5)\n",
    "print(int.__str__(5)+\"\\n\")"
   ]
  },
  {
   "cell_type": "code",
   "execution_count": 37,
   "id": "7963e19e",
   "metadata": {},
   "outputs": [
    {
     "name": "stdout",
     "output_type": "stream",
     "text": [
      "45\n",
      "45\n"
     ]
    }
   ],
   "source": [
    "x = \"4\" + \"5\"\n",
    "print(x)\n",
    "\n",
    "x = str.__add__(\"4\", \"5\")\n",
    "print(x)"
   ]
  },
  {
   "cell_type": "code",
   "execution_count": 35,
   "id": "f3999a92",
   "metadata": {},
   "outputs": [
    {
     "name": "stdout",
     "output_type": "stream",
     "text": [
      "9\n",
      "9\n"
     ]
    }
   ],
   "source": [
    "x = 4 + 5\n",
    "print(x)\n",
    "\n",
    "x = int.__add__(4, 5)\n",
    "print(x)"
   ]
  },
  {
   "cell_type": "code",
   "execution_count": 45,
   "id": "bf2017e1",
   "metadata": {},
   "outputs": [
    {
     "name": "stdout",
     "output_type": "stream",
     "text": [
      "6\n",
      "6\n"
     ]
    }
   ],
   "source": [
    "s = len(\"sachin\")\n",
    "print(s)\n",
    "\n",
    "n = str.__len__(\"sachin\")\n",
    "print(n)"
   ]
  },
  {
   "cell_type": "code",
   "execution_count": 47,
   "id": "4cd8acaa",
   "metadata": {},
   "outputs": [
    {
     "name": "stdout",
     "output_type": "stream",
     "text": [
      "3\n",
      "3\n"
     ]
    }
   ],
   "source": [
    "ls = len([1, 2, 3])\n",
    "print(ls)\n",
    "\n",
    "n = list.__len__([1, 2, 3])\n",
    "print(n)"
   ]
  },
  {
   "cell_type": "code",
   "execution_count": 48,
   "id": "819dcc16",
   "metadata": {},
   "outputs": [],
   "source": [
    "class My:\n",
    "    def __str__(self):\n",
    "        return \"I am god\"\n",
    "    def __add__(self, other):\n",
    "        return \"shock laga!\""
   ]
  },
  {
   "cell_type": "code",
   "execution_count": 49,
   "id": "7f19f6a3",
   "metadata": {},
   "outputs": [],
   "source": [
    "a = My()\n",
    "b = My()"
   ]
  },
  {
   "cell_type": "code",
   "execution_count": 53,
   "id": "0a81e5df",
   "metadata": {},
   "outputs": [
    {
     "data": {
      "text/plain": [
       "'shock laga!'"
      ]
     },
     "execution_count": 53,
     "metadata": {},
     "output_type": "execute_result"
    }
   ],
   "source": [
    "My.__add__(a, b)"
   ]
  },
  {
   "cell_type": "code",
   "execution_count": 50,
   "id": "e0a3d5ae",
   "metadata": {},
   "outputs": [
    {
     "data": {
      "text/plain": [
       "'shock laga!'"
      ]
     },
     "execution_count": 50,
     "metadata": {},
     "output_type": "execute_result"
    }
   ],
   "source": [
    "a + b # "
   ]
  },
  {
   "cell_type": "code",
   "execution_count": 52,
   "id": "105b07e1",
   "metadata": {},
   "outputs": [
    {
     "name": "stdout",
     "output_type": "stream",
     "text": [
      "I am god\n",
      "I am god\n"
     ]
    }
   ],
   "source": [
    "print(a) # My.__str__(a)\n",
    "print(b)"
   ]
  },
  {
   "cell_type": "markdown",
   "id": "51907ab7",
   "metadata": {},
   "source": [
    "    everyhing is object!"
   ]
  },
  {
   "cell_type": "markdown",
   "id": "6883b323",
   "metadata": {},
   "source": [
    "    constructors -> magic methods"
   ]
  },
  {
   "cell_type": "markdown",
   "id": "36742c07",
   "metadata": {},
   "source": [
    "    Abstraction"
   ]
  },
  {
   "cell_type": "code",
   "execution_count": 55,
   "id": "c1310b15",
   "metadata": {},
   "outputs": [
    {
     "data": {
      "text/plain": [
       "11"
      ]
     },
     "execution_count": 55,
     "metadata": {},
     "output_type": "execute_result"
    }
   ],
   "source": [
    "int.__add__(5, 6)"
   ]
  },
  {
   "cell_type": "code",
   "execution_count": 56,
   "id": "1cefa95a",
   "metadata": {},
   "outputs": [
    {
     "data": {
      "text/plain": [
       "11"
      ]
     },
     "execution_count": 56,
     "metadata": {},
     "output_type": "execute_result"
    }
   ],
   "source": [
    "5 + 6"
   ]
  },
  {
   "cell_type": "code",
   "execution_count": 57,
   "id": "29cc2f05",
   "metadata": {},
   "outputs": [
    {
     "data": {
      "text/plain": [
       "4"
      ]
     },
     "execution_count": 57,
     "metadata": {},
     "output_type": "execute_result"
    }
   ],
   "source": [
    "len(\"asdf\")# __len__"
   ]
  },
  {
   "cell_type": "code",
   "execution_count": 58,
   "id": "f7858389",
   "metadata": {},
   "outputs": [
    {
     "data": {
      "text/plain": [
       "1"
      ]
     },
     "execution_count": 58,
     "metadata": {},
     "output_type": "execute_result"
    }
   ],
   "source": [
    "len({'a': 'bcd'})"
   ]
  },
  {
   "cell_type": "code",
   "execution_count": 54,
   "id": "8a81f56a",
   "metadata": {},
   "outputs": [
    {
     "name": "stdout",
     "output_type": "stream",
     "text": [
      "15\n"
     ]
    }
   ],
   "source": [
    "a = 5\n",
    "print(a+10)"
   ]
  },
  {
   "cell_type": "markdown",
   "id": "2771b1da",
   "metadata": {},
   "source": [
    "    class Type\n",
    "    \n",
    "        magic methods / dunder methods / operators / short-hand notation / built-in function\n",
    "    \n",
    "        regular methods\n",
    "        "
   ]
  },
  {
   "cell_type": "code",
   "execution_count": 59,
   "id": "b32c4d4a",
   "metadata": {},
   "outputs": [],
   "source": [
    "a = 5\n",
    "# a is refrence/identifier to int instance (object)"
   ]
  },
  {
   "cell_type": "code",
   "execution_count": 60,
   "id": "7ae3df3d",
   "metadata": {},
   "outputs": [
    {
     "name": "stdout",
     "output_type": "stream",
     "text": [
      "<class 'int'>\n"
     ]
    }
   ],
   "source": [
    "print(type(a))"
   ]
  },
  {
   "cell_type": "code",
   "execution_count": 61,
   "id": "8e9ffd9b",
   "metadata": {},
   "outputs": [
    {
     "name": "stdout",
     "output_type": "stream",
     "text": [
      "['__abs__', '__add__', '__and__', '__bool__', '__ceil__', '__class__', '__delattr__', '__dir__', '__divmod__', '__doc__', '__eq__', '__float__', '__floor__', '__floordiv__', '__format__', '__ge__', '__getattribute__', '__getnewargs__', '__gt__', '__hash__', '__index__', '__init__', '__init_subclass__', '__int__', '__invert__', '__le__', '__lshift__', '__lt__', '__mod__', '__mul__', '__ne__', '__neg__', '__new__', '__or__', '__pos__', '__pow__', '__radd__', '__rand__', '__rdivmod__', '__reduce__', '__reduce_ex__', '__repr__', '__rfloordiv__', '__rlshift__', '__rmod__', '__rmul__', '__ror__', '__round__', '__rpow__', '__rrshift__', '__rshift__', '__rsub__', '__rtruediv__', '__rxor__', '__setattr__', '__sizeof__', '__str__', '__sub__', '__subclasshook__', '__truediv__', '__trunc__', '__xor__', 'as_integer_ratio', 'bit_length', 'conjugate', 'denominator', 'from_bytes', 'imag', 'numerator', 'real', 'to_bytes']\n"
     ]
    }
   ],
   "source": [
    "# methods ? \n",
    "print(dir(a))"
   ]
  },
  {
   "cell_type": "code",
   "execution_count": 64,
   "id": "9f6d822e",
   "metadata": {},
   "outputs": [
    {
     "data": {
      "text/plain": [
       "15"
      ]
     },
     "execution_count": 64,
     "metadata": {},
     "output_type": "execute_result"
    }
   ],
   "source": [
    "a = 10\n",
    "a.__add__(5)"
   ]
  },
  {
   "cell_type": "code",
   "execution_count": 70,
   "id": "6579b291",
   "metadata": {},
   "outputs": [
    {
     "data": {
      "text/plain": [
       "65536"
      ]
     },
     "execution_count": 70,
     "metadata": {},
     "output_type": "execute_result"
    }
   ],
   "source": [
    "2**16"
   ]
  },
  {
   "cell_type": "code",
   "execution_count": 71,
   "id": "59e033b2",
   "metadata": {},
   "outputs": [
    {
     "name": "stdout",
     "output_type": "stream",
     "text": [
      "binary value of 65535 is 1111111111111111\n",
      "16\n"
     ]
    }
   ],
   "source": [
    "# unsiged int -> 2 bytes -> 16 -> ?\n",
    "a = 65535\n",
    "value = a.bit_length()\n",
    "print(f\"binary value of {a} is {a:b}\")\n",
    "print(value)"
   ]
  },
  {
   "cell_type": "code",
   "execution_count": 72,
   "id": "e45445c3",
   "metadata": {},
   "outputs": [
    {
     "name": "stdout",
     "output_type": "stream",
     "text": [
      "<class 'str'>\n"
     ]
    }
   ],
   "source": [
    "s = \"hello world\"\n",
    "print(type(s))"
   ]
  },
  {
   "cell_type": "code",
   "execution_count": 73,
   "id": "5a87051f",
   "metadata": {},
   "outputs": [
    {
     "name": "stdout",
     "output_type": "stream",
     "text": [
      "['__add__', '__class__', '__contains__', '__delattr__', '__dir__', '__doc__', '__eq__', '__format__', '__ge__', '__getattribute__', '__getitem__', '__getnewargs__', '__gt__', '__hash__', '__init__', '__init_subclass__', '__iter__', '__le__', '__len__', '__lt__', '__mod__', '__mul__', '__ne__', '__new__', '__reduce__', '__reduce_ex__', '__repr__', '__rmod__', '__rmul__', '__setattr__', '__sizeof__', '__str__', '__subclasshook__', 'capitalize', 'casefold', 'center', 'count', 'encode', 'endswith', 'expandtabs', 'find', 'format', 'format_map', 'index', 'isalnum', 'isalpha', 'isascii', 'isdecimal', 'isdigit', 'isidentifier', 'islower', 'isnumeric', 'isprintable', 'isspace', 'istitle', 'isupper', 'join', 'ljust', 'lower', 'lstrip', 'maketrans', 'partition', 'replace', 'rfind', 'rindex', 'rjust', 'rpartition', 'rsplit', 'rstrip', 'split', 'splitlines', 'startswith', 'strip', 'swapcase', 'title', 'translate', 'upper', 'zfill']\n"
     ]
    }
   ],
   "source": [
    "print(dir(s))"
   ]
  },
  {
   "cell_type": "code",
   "execution_count": 74,
   "id": "ddd7dbb2",
   "metadata": {},
   "outputs": [
    {
     "name": "stdout",
     "output_type": "stream",
     "text": [
      "Help on built-in function lower:\n",
      "\n",
      "lower() method of builtins.str instance\n",
      "    Return a copy of the string converted to lowercase.\n",
      "\n"
     ]
    }
   ],
   "source": [
    "help(s.lower)"
   ]
  },
  {
   "cell_type": "code",
   "execution_count": 75,
   "id": "c8783df4",
   "metadata": {},
   "outputs": [
    {
     "name": "stdout",
     "output_type": "stream",
     "text": [
      "HeLLO WOrlD!\n",
      "hello world!\n"
     ]
    }
   ],
   "source": [
    "s = \"HeLLO WOrlD!\"\n",
    "ns = s.lower()\n",
    "\n",
    "print(s)\n",
    "print(ns)"
   ]
  },
  {
   "cell_type": "code",
   "execution_count": 77,
   "id": "661781bb",
   "metadata": {},
   "outputs": [
    {
     "name": "stdout",
     "output_type": "stream",
     "text": [
      "x = 1010\n"
     ]
    }
   ],
   "source": [
    "x = 10\n",
    "s = f\"x = {x:b}\"\n",
    "print(s)"
   ]
  },
  {
   "cell_type": "markdown",
   "id": "31bf57eb",
   "metadata": {},
   "source": [
    "    abstraction is way by which we can background details by showing only essential information"
   ]
  },
  {
   "cell_type": "markdown",
   "id": "9e3d8af8",
   "metadata": {},
   "source": [
    "    hexadecimal  x\n",
    "\n",
    "    binary       b\n",
    "\n",
    "    octal        o\n",
    "\n",
    "    float        f"
   ]
  },
  {
   "cell_type": "code",
   "execution_count": 80,
   "id": "b63f0606",
   "metadata": {},
   "outputs": [
    {
     "name": "stdout",
     "output_type": "stream",
     "text": [
      "hello world\n"
     ]
    }
   ],
   "source": [
    "s = \"hello \" + \"world\"\n",
    "print(s)"
   ]
  },
  {
   "cell_type": "code",
   "execution_count": 81,
   "id": "e73a8596",
   "metadata": {},
   "outputs": [
    {
     "name": "stdout",
     "output_type": "stream",
     "text": [
      "Hello\n"
     ]
    }
   ],
   "source": [
    "print(\"Hello\")"
   ]
  },
  {
   "cell_type": "code",
   "execution_count": 85,
   "id": "be8dd0b4",
   "metadata": {},
   "outputs": [
    {
     "name": "stdout",
     "output_type": "stream",
     "text": [
      "Hello World!\n"
     ]
    }
   ],
   "source": [
    "print(\"Hello World!\")"
   ]
  },
  {
   "cell_type": "code",
   "execution_count": 84,
   "id": "9573cee8",
   "metadata": {},
   "outputs": [
    {
     "name": "stdout",
     "output_type": "stream",
     "text": [
      "Hello World!\n"
     ]
    }
   ],
   "source": [
    "import sys\n",
    "\n",
    "sys.stdout.write(\"Hello World!\\n\")"
   ]
  },
  {
   "cell_type": "code",
   "execution_count": 79,
   "id": "25e3fb4b",
   "metadata": {},
   "outputs": [
    {
     "name": "stdout",
     "output_type": "stream",
     "text": [
      "x = 10\n",
      "y = 20\n",
      "10 + 20 = 30\n"
     ]
    }
   ],
   "source": [
    "x = 10\n",
    "y = 20\n",
    "\n",
    "r = x + y\n",
    "\n",
    "print(f\"x = {x}\")\n",
    "print(f\"y = {y}\")\n",
    "print(f\"{x} + {y} = {r}\")"
   ]
  },
  {
   "cell_type": "code",
   "execution_count": 86,
   "id": "9c5aa8e4",
   "metadata": {},
   "outputs": [
    {
     "name": "stdout",
     "output_type": "stream",
     "text": [
      "['__add__', '__class__', '__contains__', '__delattr__', '__dir__', '__doc__', '__eq__', '__format__', '__ge__', '__getattribute__', '__getitem__', '__getnewargs__', '__gt__', '__hash__', '__init__', '__init_subclass__', '__iter__', '__le__', '__len__', '__lt__', '__mod__', '__mul__', '__ne__', '__new__', '__reduce__', '__reduce_ex__', '__repr__', '__rmod__', '__rmul__', '__setattr__', '__sizeof__', '__str__', '__subclasshook__', 'capitalize', 'casefold', 'center', 'count', 'encode', 'endswith', 'expandtabs', 'find', 'format', 'format_map', 'index', 'isalnum', 'isalpha', 'isascii', 'isdecimal', 'isdigit', 'isidentifier', 'islower', 'isnumeric', 'isprintable', 'isspace', 'istitle', 'isupper', 'join', 'ljust', 'lower', 'lstrip', 'maketrans', 'partition', 'replace', 'rfind', 'rindex', 'rjust', 'rpartition', 'rsplit', 'rstrip', 'split', 'splitlines', 'startswith', 'strip', 'swapcase', 'title', 'translate', 'upper', 'zfill']\n"
     ]
    }
   ],
   "source": [
    "print(dir(str))"
   ]
  },
  {
   "cell_type": "code",
   "execution_count": null,
   "id": "9ac021b0",
   "metadata": {},
   "outputs": [],
   "source": []
  }
 ],
 "metadata": {
  "kernelspec": {
   "display_name": "Python 3 (ipykernel)",
   "language": "python",
   "name": "python3"
  },
  "language_info": {
   "codemirror_mode": {
    "name": "ipython",
    "version": 3
   },
   "file_extension": ".py",
   "mimetype": "text/x-python",
   "name": "python",
   "nbconvert_exporter": "python",
   "pygments_lexer": "ipython3",
   "version": "3.9.12"
  }
 },
 "nbformat": 4,
 "nbformat_minor": 5
}
